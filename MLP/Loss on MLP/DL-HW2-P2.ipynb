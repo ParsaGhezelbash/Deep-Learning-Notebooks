{
 "cells": [
  {
   "cell_type": "markdown",
   "metadata": {},
   "source": [
    "# **Deep Learning Course**\n",
    "\n",
    "## **Loss Functions and Multilayer Perceptrons (MLP)**\n",
    "\n",
    "---\n",
    "\n",
    "### **Student Information:**\n",
    "\n",
    "- **Name:** *Parsa Ghezelbash*\n",
    "- **Student Number:** *401110437*\n",
    "\n",
    "---\n",
    "\n",
    "### **Assignment Overview**\n",
    "\n",
    "In this notebook, we will explore various loss functions used in neural networks, with a specific focus on their role in training **Multilayer Perceptrons (MLPs)**. By the end of this notebook, you will have a deeper understanding of:\n",
    "- Types of loss functions\n",
    "- How loss functions affect the training process\n",
    "- The relationship between loss functions and model optimization in MLPs\n",
    "\n",
    "---\n",
    "\n",
    "### **Table of Contents**\n",
    "\n",
    "1. Introduction to Loss Functions\n",
    "2. Types of Loss Functions\n",
    "3. Multilayer Perceptrons (MLP)\n",
    "4. Implementing Loss Functions in MLP\n",
    "5. Conclusion\n",
    "\n",
    "---\n",
    "\n"
   ]
  },
  {
   "cell_type": "markdown",
   "metadata": {},
   "source": [
    "# 1.Introduction to Loss Functions \n",
    "\n",
    "In deep learning, **loss functions** play a crucial role in training models by quantifying the difference between the predicted outputs and the actual targets. Selecting the appropriate loss function is essential for the success of your model. In this assay, we will explore various loss functions available in PyTorch, understand their theoretical backgrounds, and provide you with a scaffolded class to experiment with these loss functions.\n",
    "\n",
    "Before begining, let's train a simle MLP model using the **L1Loss** function. We'll return to this model later to experiment with different loss functions. We'll start by importing the necessary libraries and defining the model architecture.\n",
    "\n",
    "First things first, let's talk about **L1Loss**.\n",
    "\n",
    "### 1. L1Loss (`torch.nn.L1Loss`)\n",
    "- **Description:** Also known as Mean Absolute Error (MAE), L1Loss computes the average absolute difference between the predicted values and the target values.\n",
    "- **Use Case:** Suitable for regression tasks where robustness to outliers is desired.\n",
    "\n",
    "Here is the mathematical formulation of L1Loss:\n",
    "\\begin{equation}\n",
    "\\text{L1Loss} = \\frac{1}{n} \\sum_{i=1}^{n} |y_{\\text{pred}_i} - y_{\\text{true}_i}|\n",
    "\\end{equation}\n",
    "\n",
    "Let's implement a simple MLP model using the L1Loss function."
   ]
  },
  {
   "cell_type": "code",
   "execution_count": 2,
   "metadata": {},
   "outputs": [],
   "source": [
    "import torch\n",
    "import torch.nn as nn\n",
    "import torch.optim as optim\n",
    "import pandas as pd\n",
    "from torch.utils.data import TensorDataset, DataLoader\n",
    "from sklearn.model_selection import train_test_split\n",
    "from torch.optim import Adam\n",
    "# Don't be courious about Adam, it's just a fancy name for a fancy optimization algorithm"
   ]
  },
  {
   "cell_type": "markdown",
   "metadata": {},
   "source": [
    "Here, we'll define a class called `SimpleMLP` that inherits from `nn.Module`. This class can have multiple layers, and we'll use the `nn.Sequential` module to define the layers of the model. The model will have the following architecture:"
   ]
  },
  {
   "cell_type": "code",
   "execution_count": 3,
   "metadata": {},
   "outputs": [],
   "source": [
    "class SimpleMLP(nn.Module):\n",
    "    def __init__(self, input_dim, hidden_dim, output_dim, num_hidden_layers=1, last_layer_activation_fn=nn.ReLU):\n",
    "        super(SimpleMLP, self).__init__()\n",
    "        # TODO: Define the layers of the MLP\n",
    "        self.input_dim = input_dim\n",
    "        self.hidden_dim = hidden_dim\n",
    "        self.output_dim = output_dim\n",
    "        self.num_hidden_layers = num_hidden_layers\n",
    "        self.last_layer_activation_fn = last_layer_activation_fn()\n",
    "\n",
    "        self.W0 = nn.Parameter(torch.randn(input_dim, hidden_dim))\n",
    "        self.b0 = nn.Parameter(torch.randn(hidden_dim))\n",
    "\n",
    "        if num_hidden_layers > 0:\n",
    "            self.Wh = nn.Parameter(torch.randn(num_hidden_layers-1, hidden_dim, hidden_dim))\n",
    "            self.bh = nn.Parameter(torch.randn(num_hidden_layers-1, hidden_dim))\n",
    "\n",
    "        self.wo = nn.Parameter(torch.randn(hidden_dim, output_dim))\n",
    "        self.bo = nn.Parameter(torch.randn(output_dim))\n",
    "\n",
    "    def forward(self, x):\n",
    "        out = x @ self.W0 + self.b0\n",
    "        out = nn.ReLU()(out)\n",
    "\n",
    "        for i in range(self.num_hidden_layers-1):\n",
    "            out = out @ self.Wh[i] + self.bh[i]\n",
    "            out = nn.ReLU()(out)\n",
    "\n",
    "        out = out @ self.wo + self.bo\n",
    "        out = self.last_layer_activation_fn(out)\n",
    "        \n",
    "        return out"
   ]
  },
  {
   "cell_type": "markdown",
   "metadata": {},
   "source": [
    "Now, let's define a class called `SimpleMLP_Loss` that has the following architecture:"
   ]
  },
  {
   "cell_type": "code",
   "execution_count": 4,
   "metadata": {},
   "outputs": [],
   "source": [
    "from tqdm import tqdm\n",
    "\n",
    "class SimpleMLPTrainer:\n",
    "    def __init__(self, model, criterion, optimizer, device='cpu'):\n",
    "        self.model = model\n",
    "        self.criterion = criterion\n",
    "        self.optimizer = optimizer\n",
    "        self.device = device\n",
    "\n",
    "    def train(self, train_loader, num_epochs, log=False):\n",
    "        #TODO: Implement the training loop\n",
    "        #Note: You should also print the training loss at each epoch, use tqdm for progress bar\n",
    "        #Note: You should return the training loss at each epoch\n",
    "        losses = []\n",
    "        for epoch in tqdm(range(num_epochs)):\n",
    "            self.model.train()\n",
    "            epoch_losses = []\n",
    "            batch_losss = 0\n",
    "\n",
    "            for X_train, y_train in train_loader:\n",
    "                X_train, y_train = X_train.to(self.device), y_train.to(self.device)\n",
    "\n",
    "                y_pred = self.model(X_train).squeeze()\n",
    "                \n",
    "                if isinstance(self.criterion, (nn.MSELoss, nn.L1Loss, nn.CrossEntropyLoss, nn.KLDivLoss)):\n",
    "                    y_train = y_train.float()\n",
    "                    \n",
    "                loss = self.criterion(y_pred, y_train)\n",
    "\n",
    "                epoch_losses.append(loss.item())\n",
    "                \n",
    "                self.optimizer.zero_grad()\n",
    "\n",
    "                loss.backward()\n",
    "\n",
    "                self.optimizer.step()\n",
    "\n",
    "                batch_losss += loss.item() * y_train.shape[0]\n",
    "\n",
    "            losses.append(batch_losss / len(train_loader.dataset))\n",
    "            if log:\n",
    "                print(f\"Epoch {epoch + 1}/{num_epochs}, Training Loss: {losses[-1]:.4f}\")\n",
    "\n",
    "        return losses\n",
    "\n",
    "    def evaluate(self, val_loader, log=False):\n",
    "        #TODO: Implement the evaluation loop\n",
    "        #Note: You should return the validation loss and accuracy\n",
    "        losses = []\n",
    "        accuracies = []\n",
    "\n",
    "        losses = 0\n",
    "        correct = 0\n",
    "        total = 0\n",
    "\n",
    "        self.model.eval()\n",
    "\n",
    "        with torch.no_grad():\n",
    "            for X_val, y_val in val_loader:\n",
    "\n",
    "                X_val, y_val = X_val.to(self.device), y_val.to(self.device)\n",
    "\n",
    "                y_pred = self.model(X_val).squeeze()\n",
    "\n",
    "                if isinstance(self.criterion, (nn.MSELoss, nn.L1Loss, nn.CrossEntropyLoss)):\n",
    "                    y_val = y_val.float()\n",
    "\n",
    "                loss = self.criterion(y_pred, y_val)\n",
    "\n",
    "                y_pred = (y_pred > 0.5).float().squeeze()\n",
    "                \n",
    "                losses += loss.item() * y_val.shape[0]\n",
    "\n",
    "                correct += (y_pred == y_val).sum().item()\n",
    "\n",
    "        avg_loss = losses / len(val_loader.dataset)\n",
    "        accuracy = correct / len(val_loader.dataset)\n",
    "\n",
    "        if log:\n",
    "            print(f\"Validation Loss: {avg_loss:.4f}, Accuracy: {accuracy:.4f}\")\n",
    "        \n",
    "        return avg_loss, accuracy"
   ]
  },
  {
   "cell_type": "markdown",
   "metadata": {},
   "source": [
    "Next, lets test our model using the L1Loss function. You'll use <span style=\"color:red\">*Titanic Dataset*</span> to train the model.\n"
   ]
  },
  {
   "cell_type": "code",
   "execution_count": 5,
   "metadata": {},
   "outputs": [],
   "source": [
    "# Load dataset\n",
    "train_url = \"https://raw.githubusercontent.com/datasciencedojo/datasets/master/titanic.csv\"\n",
    "data = pd.read_csv(train_url)\n",
    "\n",
    "# Preprocessing (simple example)\n",
    "data = data[['Pclass', 'Sex', 'Age', 'Fare', 'Survived']].dropna()\n",
    "data['Sex'] = data['Sex'].map({'male': 0, 'female': 1})\n",
    "\n",
    "X = torch.tensor(data[['Pclass', 'Sex', 'Age', 'Fare']].values, dtype=torch.float)\n",
    "y = torch.tensor(data['Survived'].values, dtype=torch.long)\n",
    "\n",
    "# # TODO: Convert the data to PyTorch tensors and create a DataLoader\n",
    "dataset = TensorDataset(X, y)\n",
    "\n",
    "# # TODO: Split the data into training and validation sets\n",
    "train_data, test_data = train_test_split(dataset, test_size=0.2, random_state=13)\n",
    "train_loader = DataLoader(train_data, batch_size=32, shuffle=True)\n",
    "test_loader = DataLoader(test_data, batch_size=32, shuffle=False)\n",
    "\n",
    "# TODO: Define the model, criterion, and optimizer\n",
    "num_epochs = 30\n",
    "input_dim=4\n",
    "hidden_dim=16\n",
    "num_hidden_layers=2\n",
    "output_dim=1"
   ]
  },
  {
   "cell_type": "markdown",
   "metadata": {},
   "source": [
    "<div style=\"text-align: center;\"> <span style=\"color:red; font-size: 26px; font-weight: bold;\">Let's train!</span> </div>"
   ]
  },
  {
   "cell_type": "code",
   "execution_count": 6,
   "metadata": {},
   "outputs": [
    {
     "name": "stderr",
     "output_type": "stream",
     "text": [
      "100%|██████████| 30/30 [00:00<00:00, 170.67it/s]\n"
     ]
    }
   ],
   "source": [
    "from torch.nn import L1Loss\n",
    "\n",
    "device = 'cuda' if torch.cuda.is_available() else 'cpu'\n",
    "\n",
    "mlp_model = SimpleMLP(input_dim=input_dim, hidden_dim=hidden_dim, output_dim=output_dim, num_hidden_layers=num_hidden_layers)\n",
    "optimizer = Adam(mlp_model.parameters(), lr=1e-4)\n",
    "criterion = L1Loss()\n",
    "L1_trainer = SimpleMLPTrainer(mlp_model, criterion, optimizer)\n",
    "\n",
    "mlp_model.to(device)\n",
    "L1_trainer.train(train_loader, num_epochs)\n",
    "\n",
    "L1_val_loss, L1_val_accuracy = L1_trainer.evaluate(test_loader)"
   ]
  },
  {
   "cell_type": "markdown",
   "metadata": {},
   "source": [
    "---\n",
    "# 2. Types of Loss Functions\n",
    "\n",
    "PyTorch offers a variety of built-in loss functions tailored for different types of problems, such as regression, classification, and more. Below, we discuss several commonly used loss functions, their theoretical foundations, and typical use cases.\n",
    "\n",
    "### 2. MSELoss (`torch.nn.MSELoss`)\n",
    "- **Description:** Mean Squared Error (MSE) calculates the average of the squares of the differences between predicted and target values.\n",
    "- **Use Case:** Commonly used in regression problems where larger errors are significantly penalized.\n",
    "\n",
    "Here is boring math stuff for MSE:\n",
    "\\begin{equation}\n",
    "\\text{MSE} = \\frac{1}{n} \\sum_{i=1}^{n} (y_{i} - \\hat{y}_{i})^{2}\n",
    "\\end{equation}\n",
    "\n",
    "<span style=\"color:red; font-size: 18px; font-weight: bold;\">Warning:</span> Don't forget to reinitialize the model before experimenting with different loss functions."
   ]
  },
  {
   "cell_type": "code",
   "execution_count": 7,
   "metadata": {},
   "outputs": [
    {
     "name": "stderr",
     "output_type": "stream",
     "text": [
      "100%|██████████| 30/30 [00:00<00:00, 208.05it/s]\n"
     ]
    }
   ],
   "source": [
    "from torch.nn import MSELoss\n",
    "\n",
    "mlp_model = SimpleMLP(input_dim=input_dim, hidden_dim=hidden_dim, output_dim=output_dim, num_hidden_layers=num_hidden_layers)\n",
    "optimizer = Adam(mlp_model.parameters(), lr=1e-4)\n",
    "criterion = MSELoss()\n",
    "MSE_trainer = SimpleMLPTrainer(mlp_model, criterion, optimizer)\n",
    "\n",
    "mlp_model.to(device)\n",
    "MSE_trainer.train(train_loader, num_epochs)\n",
    "\n",
    "MSE_val_loss, MSE_val_accuracy = MSE_trainer.evaluate(test_loader)"
   ]
  },
  {
   "cell_type": "markdown",
   "metadata": {},
   "source": [
    "### 3. NLLLoss (`torch.nn.NLLLoss`)\n",
    "- **Description:** Negative Log-Likelihood Loss measures the likelihood of the target class under the predicted probability distribution.\n",
    "- **Use Case:** Typically used in multi-class classification tasks, especially when combined with `log_softmax` activation.\n",
    "\n",
    "Here is the mathematical formulation of NLLLoss:\n",
    "\\begin{equation}\n",
    "\\text{NLLLoss} = -\\frac{1}{n} \\sum_{i=1}^{n} \\log(y_{i})\n",
    "\\end{equation}\n",
    "\n",
    "I hope you note the logarithm in the formula. It's important! \n",
    "\n",
    "Why?\n",
    "\n",
    "In this part, run your training with Relu at last layer. <span style=\"color:red; font-weight: bold;\">Discuss </span> and explain the difference between the results of the two models. Find a proper solution to the problem.\n"
   ]
  },
  {
   "cell_type": "code",
   "execution_count": 8,
   "metadata": {},
   "outputs": [
    {
     "name": "stderr",
     "output_type": "stream",
     "text": [
      "100%|██████████| 30/30 [00:00<00:00, 213.63it/s]\n"
     ]
    }
   ],
   "source": [
    "# Run with relu activation function\n",
    "from torch.nn import NLLLoss\n",
    "\n",
    "mlp_model = SimpleMLP(input_dim=input_dim, hidden_dim=hidden_dim, output_dim=output_dim, num_hidden_layers=num_hidden_layers)\n",
    "optimizer = Adam(mlp_model.parameters(), lr=1e-4)\n",
    "criterion = NLLLoss()\n",
    "NLL_trainer = SimpleMLPTrainer(mlp_model, criterion, optimizer)\n",
    "\n",
    "mlp_model.to(device)\n",
    "NLL_trainer.train(train_loader, num_epochs)\n",
    "\n",
    "# TODO: Evaluate the model\n",
    "NLL_val_loss, NLL_val_accuracy = NLL_trainer.evaluate(test_loader)"
   ]
  },
  {
   "cell_type": "code",
   "execution_count": 9,
   "metadata": {},
   "outputs": [
    {
     "name": "stderr",
     "output_type": "stream",
     "text": [
      "100%|██████████| 30/30 [00:00<00:00, 208.31it/s]\n"
     ]
    }
   ],
   "source": [
    "# Run with --- activation function\n",
    "from torch.nn import NLLLoss\n",
    "\n",
    "mlp_model = SimpleMLP(input_dim=input_dim, hidden_dim=hidden_dim, output_dim=output_dim, num_hidden_layers=num_hidden_layers, last_layer_activation_fn=nn.Sigmoid)\n",
    "optimizer = Adam(mlp_model.parameters(), lr=1e-4)\n",
    "criterion = NLLLoss()\n",
    "NLL_trainer = SimpleMLPTrainer(mlp_model, criterion, optimizer)\n",
    "\n",
    "mlp_model.to(device)\n",
    "NLL_trainer.train(train_loader, num_epochs)\n",
    "\n",
    "# TODO: Evaluate the model\n",
    "NLL_val_loss, NLL_val_accuracy = NLL_trainer.evaluate(test_loader)"
   ]
  },
  {
   "cell_type": "markdown",
   "metadata": {},
   "source": [
    "Your reason for your choice:\n",
    "\n",
    "<div>\n",
    "**Your answer here**\n",
    "</div>"
   ]
  },
  {
   "cell_type": "markdown",
   "metadata": {},
   "source": [
    "\n",
    "### 4. CrossEntropyLoss (`torch.nn.CrossEntropyLoss`)\n",
    "- **Description:** Combines `LogSoftmax` and `NLLLoss` in one single class. It computes the cross-entropy loss between the target and the output logits.\n",
    "- **Use Case:** Widely used for multi-class classification problems.\n",
    "\n",
    "The mathematical formulation of CrossEntropyLoss is as follows:\n",
    "\\begin{equation}\n",
    "  \\text{CrossEntropy}(y, \\hat{y}) = - \\sum_{i=1}^{C} y_i \\log\\left(\\frac{e^{\\hat{y}_i}}{\\sum_{j=1}^{C} e^{\\hat{y}_j}}\\right)\n",
    "\\end{equation}\n",
    "  where:\n",
    "  - \\( C \\) is the number of classes,\n",
    "  - \\( y_i \\) is a one-hot encoded target vector (or a scalar class label),\n",
    "  - \\( \\hat{y}_i \\) represents the logits (unnormalized model outputs) for each class.\n",
    "  \n",
    "  In practice, `torch.nn.CrossEntropyLoss` expects raw logits as input and internally applies the softmax function to convert the logits into probabilities, followed by the negative log-likelihood computation.\n",
    "\n",
    "- **Background:** Cross-entropy measures the difference between the true distribution \\( y \\) and the predicted distribution \\( \\hat{y} \\). The function minimizes the negative log-probability assigned to the correct class, effectively penalizing predictions that deviate from the true class, making it a standard choice for classification tasks in deep learning.\n",
    "\n",
    "Now, let's implement a class called `SimpleMLP_Loss` that has the following architecture:\n"
   ]
  },
  {
   "cell_type": "code",
   "execution_count": 10,
   "metadata": {},
   "outputs": [
    {
     "name": "stderr",
     "output_type": "stream",
     "text": [
      "100%|██████████| 30/30 [00:00<00:00, 200.33it/s]\n"
     ]
    }
   ],
   "source": [
    "from torch.nn import CrossEntropyLoss\n",
    "\n",
    "mlp_model = SimpleMLP(input_dim=input_dim, hidden_dim=hidden_dim, output_dim=output_dim, num_hidden_layers=num_hidden_layers)\n",
    "optimizer = Adam(mlp_model.parameters(), lr=1e-4)\n",
    "criterion = CrossEntropyLoss()\n",
    "CE_trainer = SimpleMLPTrainer(mlp_model, criterion, optimizer)\n",
    "\n",
    "# mlp_model.to(device)\n",
    "CE_trainer.train(train_loader, num_epochs)\n",
    "\n",
    "# TODO: Evaluate the model\n",
    "CE_val_loss, CE_val_accuracy = CE_trainer.evaluate(test_loader)"
   ]
  },
  {
   "cell_type": "markdown",
   "metadata": {},
   "source": [
    "\n",
    "### 5. KLDivLoss (`torch.nn.KLDivLoss`)\n",
    "- **Description:** Kullback-Leibler Divergence Loss measures how one probability distribution diverges from a second, reference distribution. Unlike other loss functions that focus on classification, KL divergence specifically compares the relative entropy between two distributions. It quantifies the information loss when using the predicted distribution to approximate the true distribution. \n",
    "\n",
    "- **Mathematical Function:**\n",
    "\\begin{equation}\n",
    "  \\text{KL}(P \\parallel Q) = \\sum_{i=1}^{C} P(i) \\left( \\log P(i) - \\log Q(i) \\right)\n",
    "\\end{equation}\n",
    "  where:\n",
    "  - \\( P \\) is the target (true) probability distribution,\n",
    "  - \\( Q \\) is the predicted distribution (often the output of `log_softmax`),\n",
    "  - \\( C \\) is the number of classes.\n",
    "\n",
    "  KL divergence is always non-negative, and it equals zero if the two distributions are identical. The loss function expects the model's output to be in the form of log-probabilities (using `log_softmax`) and compares this against a target probability distribution, which is typically a normalized distribution (using softmax).\n",
    "\n",
    "- **Use Case:** KLDivLoss is frequently used in:\n",
    "  - **Variational Autoencoders (VAEs):** In VAEs, KL divergence is used to measure how much the learned latent space distribution deviates from a prior distribution (often Gaussian).\n",
    "  - **Knowledge Distillation:** In teacher-student models, KL divergence is used to transfer the \"soft\" knowledge from a teacher model to a student model by comparing their output probability distributions.\n",
    "  - **Reinforcement Learning:** It can be used to update policies while minimizing the divergence from a previous policy.\n",
    "\n",
    "- **Background:** Kullback-Leibler divergence, a core concept in information theory, measures the inefficiency of assuming the predicted distribution \\( Q \\) when the true distribution is \\( P \\). It is asymmetric, meaning that \\( KL(P \\parallel Q) \\neq KL(Q \\parallel P) \\), so the direction of the comparison matters.\n",
    "\n",
    "Again, in this part, run your training with Relu at last layer. <span style=\"color:red; font-weight: bold;\">Discuss </span> and explain the difference between the results of the two models. Find a proper solution to the problem.\n"
   ]
  },
  {
   "cell_type": "code",
   "execution_count": 11,
   "metadata": {},
   "outputs": [],
   "source": [
    "# # Run with relu activation function\n",
    "# from torch.nn import KLDivLoss\n",
    "\n",
    "# mlp_model = SimpleMLP(input_dim=input_dim, hidden_dim=hidden_dim, output_dim=output_dim, num_hidden_layers=num_hidden_layers, last_layer_activation_fn=nn.Sigmoid)\n",
    "# optimizer = Adam(mlp_model.parameters(), lr=1e-4)\n",
    "# criterion = KLDivLoss()\n",
    "# KL_trainer = SimpleMLPTrainer(mlp_model, criterion, optimizer)\n",
    "\n",
    "# # mlp_model.to(device)\n",
    "# KL_trainer.train(train_loader, num_epochs)\n",
    "\n",
    "# # TODO: Evaluate the model\n",
    "# KL_val_loss, KL_val_accuracy = KL_trainer.evaluate(test_loader)"
   ]
  },
  {
   "cell_type": "code",
   "execution_count": 12,
   "metadata": {},
   "outputs": [],
   "source": [
    "# # Run with --- activation function\n",
    "# from torch.nn import KLDivLoss\n",
    "\n",
    "# num_epochs = 30\n",
    "# input_dim=4\n",
    "# hidden_dim=16\n",
    "# num_hidden_layers=2\n",
    "# output_dim=1\n",
    "\n",
    "\n",
    "# mlp_model = SimpleMLP(input_dim=input_dim, hidden_dim=hidden_dim, output_dim=output_dim, num_hidden_layers=num_hidden_layers, last_layer_activation_fn=nn.ReLU)\n",
    "# optimizer = Adam(mlp_model.parameters(), lr=1e-4)\n",
    "# criterion = KLDivLoss()\n",
    "# KL_trainer = SimpleMLPTrainer(mlp_model, criterion, optimizer)\n",
    "\n",
    "# # mlp_model.to(device)\n",
    "# KL_trainer.train(train_loader, num_epochs)\n",
    "\n",
    "# # TODO: Evaluate the model\n",
    "# KL_val_loss, KL_val_accuracy = KL_trainer.evaluate(test_loader)"
   ]
  },
  {
   "cell_type": "markdown",
   "metadata": {},
   "source": [
    "Your reason for your choice:\n",
    "\n",
    "<div>\n",
    "**Your answer here**\n",
    "</div>"
   ]
  },
  {
   "cell_type": "markdown",
   "metadata": {},
   "source": [
    "### 6. CosineEmbeddingLoss (`torch.nn.CosineEmbeddingLoss`)\n",
    "- **Description:** Measures the cosine similarity between two input tensors, `x1` and `x2`, and computes the loss based on a label `y` that indicates whether the tensors should be similar (`y = 1`) or dissimilar (`y = -1`). Cosine similarity focuses on the angle between vectors, disregarding their magnitude.\n",
    "\n",
    "- **Mathematical Function:** \n",
    "\\begin{equation}\n",
    "  \\text{CosineEmbeddingLoss}(x1, x2, y) = \n",
    "  \\begin{cases} \n",
    "  1 - \\cos(x_1, x_2), & \\text{if } y = 1 \\\\\n",
    "  \\max(0, \\cos(x_1, x_2) - \\text{margin}), & \\text{if } y = -1\n",
    "  \\end{cases}\n",
    "\\end{equation}\n",
    "  where $ \\cos(x_1, x_2) $ is the cosine similarity between the two vectors, and `margin` is a threshold that determines how dissimilar the vectors should be.\n",
    "\n",
    "- **Use Case:** Commonly used in tasks like face verification, image similarity, and other scenarios where the relative orientation of vectors (angle) is more important than their length, such as in embeddings and metric learning.\n",
    "\n",
    "- **Background:** Cosine similarity compares the directional alignment of vectors, making it ideal for high-dimensional data where the magnitude may not be as informative. This loss is particularly useful when training models to learn meaningful embeddings that capture semantic similarity.\n",
    "\n",
    "You'll become more fimiliar with this loss function in future.\n",
    "\n",
    "---"
   ]
  },
  {
   "cell_type": "code",
   "execution_count": 13,
   "metadata": {},
   "outputs": [],
   "source": [
    "# # Run with --- activation function\n",
    "# from torch.nn import CosineEmbeddingLoss\n",
    "\n",
    "# num_epochs = 30\n",
    "# input_dim=4\n",
    "# hidden_dim=16\n",
    "# num_hidden_layers=2\n",
    "# output_dim=1\n",
    "\n",
    "\n",
    "# mlp_model = SimpleMLP(input_dim=input_dim, hidden_dim=hidden_dim, output_dim=output_dim, num_hidden_layers=num_hidden_layers, last_layer_activation_fn=nn.Sigmoid)\n",
    "# optimizer = Adam(mlp_model.parameters(), lr=1e-4)\n",
    "# criterion = CosineEmbeddingLoss()\n",
    "# CoEm_trainer = SimpleMLPTrainer(mlp_model, criterion, optimizer)\n",
    "\n",
    "# # mlp_model.to(device)\n",
    "# CoEm_trainer.train(train_loader, num_epochs)\n",
    "\n",
    "# # TODO: Evaluate the model\n",
    "# CoEm_val_loss, CoEm_val_accuracy = CoEm_trainer.evaluate(test_loader)"
   ]
  },
  {
   "cell_type": "markdown",
   "metadata": {},
   "source": [
    "# Regularization in Machine Learning\n",
    "\n",
    "## Introduction\n",
    "\n",
    "Regularization is a fundamental technique in machine learning that helps prevent overfitting by adding a penalty to the loss function. This penalty discourages the model from becoming too complex, ensuring better generalization to unseen data. In this notebook, you will explore the concepts of regularization, understand different types of regularization techniques, and apply them using Python's popular libraries.\n",
    "\n",
    "## What is Regularization?\n",
    "\n",
    "Regularization involves adding a regularization term to the loss function used to train machine learning models. This term imposes a constraint on the model's coefficients, effectively reducing their magnitude. By doing so, regularization helps in:\n",
    "\n",
    "- **Preventing Overfitting:** Ensures the model does not become too tailored to the training data.\n",
    "- **Improving Generalization:** Enhances the model's performance on new, unseen data.\n",
    "- **Feature Selection:** Especially in L1 regularization, it can drive some coefficients to zero, effectively selecting important features.\n",
    "\n",
    "## Types of Regularization\n",
    "\n",
    "There are several types of regularization techniques, each imposing different constraints on the model's parameters:\n",
    "\n",
    "### 1. L1 Regularization (Lasso)\n",
    "\n",
    "L1 regularization adds the absolute value of the magnitude of coefficients as a penalty term to the loss function. It can lead to sparse models where some feature coefficients are exactly zero.\n",
    "\n",
    "### 2. L2 Regularization (Ridge)\n",
    "\n",
    "L2 regularization adds the squared magnitude of coefficients as a penalty term to the loss function. It tends to shrink the coefficients evenly but does not set them to zero.\n",
    "\n",
    "### 3. Elastic Net\n",
    "\n",
    "Elastic Net combines both L1 and L2 regularization penalties. It balances the benefits of both Lasso and Ridge methods, allowing for feature selection and coefficient shrinkage."
   ]
  },
  {
   "cell_type": "markdown",
   "metadata": {},
   "source": [
    "## Homework Time!\n",
    "Import Iris dataset from sklearn.datasets and apply ridge regression with different alpha values. Then, create a gif that shows the changes of the classification boundary with respect to alpha values."
   ]
  },
  {
   "cell_type": "markdown",
   "metadata": {},
   "source": [
    "Import the libs that you need and start coding!"
   ]
  },
  {
   "cell_type": "code",
   "execution_count": 14,
   "metadata": {},
   "outputs": [],
   "source": [
    "import numpy as np\n",
    "import matplotlib.pyplot as plt\n",
    "from sklearn.datasets import load_iris\n",
    "from sklearn.preprocessing import StandardScaler\n",
    "from sklearn.model_selection import train_test_split\n",
    "from PIL import Image\n",
    "from io import BytesIO\n",
    "import imageio\n",
    "import warnings\n",
    "\n",
    "\n",
    "# Suppress warnings for cleaner output\n",
    "warnings.filterwarnings(\"ignore\")"
   ]
  },
  {
   "cell_type": "markdown",
   "metadata": {},
   "source": [
    "Load the Iris dataset and select Setosa and Versicolor classes"
   ]
  },
  {
   "cell_type": "code",
   "execution_count": 15,
   "metadata": {},
   "outputs": [],
   "source": [
    "# 1. Load and Prepare the Iris Dataset\n",
    "data = load_iris()\n",
    "df = pd.DataFrame(data=data.data, columns=data.feature_names)\n",
    "df['target'] = data['target']\n",
    "# Select only two classes for binary classification (Setosa and Versicolor)\n",
    "df = df[df['target'].isin([0, 1])]\n",
    "# Select two features for 2D visualization (Sepal Length and Petal Length)\n",
    "features = ['sepal length (cm)', 'petal length (cm)']\n",
    "# Split into training and testing sets\n",
    "X = df[features]\n",
    "y = df['target']\n",
    "\n",
    "X_train, X_test, y_train, y_test = train_test_split(X, y, test_size=0.2, random_state=13)\n",
    "\n",
    "# Standardize the features\n",
    "scaler = StandardScaler()\n",
    "X_train = scaler.fit_transform(X_train)\n",
    "X_test = scaler.transform(X_test)"
   ]
  },
  {
   "cell_type": "markdown",
   "metadata": {},
   "source": [
    "Define Function to Plot Decision Boundary"
   ]
  },
  {
   "cell_type": "code",
   "execution_count": 16,
   "metadata": {},
   "outputs": [],
   "source": [
    "def plot_decision_boundary(model, X, y, alpha):\n",
    "    # Define the grid (use meshgrid)\n",
    "    x_min, x_max = X[:, 0].min() - 1, X[:, 0].max() + 1\n",
    "    y_min, y_max = X[:, 1].min() - 1, X[:, 1].max() + 1\n",
    "    xx, yy = np.meshgrid(np.arange(x_min, x_max, 0.1),\n",
    "                            np.arange(y_min, y_max, 0.1))\n",
    "\n",
    "    # Predict over the grid\n",
    "    grid = np.c_[xx.ravel(), yy.ravel()]\n",
    "\n",
    "    grid_tensor = torch.tensor(grid, dtype=torch.float32)\n",
    "\n",
    "    outputs = model(grid_tensor)\n",
    "    predictions = (outputs > 0.5).float().numpy()\n",
    "\n",
    "    Z = predictions.reshape(xx.shape)\n",
    "\n",
    "    # Create a figure\n",
    "    fig, ax = plt.subplots(figsize=(6, 5))\n",
    "\n",
    "    # Plot the decision boundary\n",
    "    ax.contourf(xx, yy, Z, alpha=0.3, levels=[-0.1, 0.1, 1.1], colors=['blue', 'red'])\n",
    "\n",
    "    # Scatter plot of the training data\n",
    "    scatter = ax.scatter(\n",
    "        X[:, 0], X[:, 1], c=y, cmap='bwr', edgecolor='k', s=50\n",
    "    )\n",
    "\n",
    "    # Title and labels\n",
    "    ax.set_title(f'MLP Decision Boundary (alpha={alpha})')\n",
    "    ax.set_xlabel('Sepal Length (standardized)')\n",
    "    ax.set_ylabel('Petal Length (standardized)')\n",
    "\n",
    "    # Remove axes for clarity\n",
    "    ax.set_xticks([])\n",
    "    ax.set_yticks([])\n",
    "\n",
    "    # Tight layout\n",
    "    plt.tight_layout()\n",
    "\n",
    "    # Save the plot to a BytesIO object\n",
    "    buf = BytesIO()\n",
    "    plt.savefig(buf, format='png')\n",
    "    plt.close(fig)\n",
    "    buf.seek(0)\n",
    "    return Image.open(buf)"
   ]
  },
  {
   "cell_type": "markdown",
   "metadata": {},
   "source": [
    "Train MLP with Varying Alpha Values and Collect Images"
   ]
  },
  {
   "cell_type": "code",
   "execution_count": 17,
   "metadata": {},
   "outputs": [],
   "source": [
    "def create_decision_boundary_gif(alpha_values, X_train, y_train, n_neurons):\n",
    "\n",
    "    # List to store images\n",
    "    images = []\n",
    "\n",
    "    X_train_tensor = torch.tensor(X_train, dtype=torch.float32)\n",
    "    y_train_tensor = torch.tensor(y_train.to_numpy(), dtype=torch.float32)\n",
    "\n",
    "    train_dataset = TensorDataset(X_train_tensor, y_train_tensor)\n",
    "    train_loader = DataLoader(train_dataset, batch_size=32, shuffle=True)\n",
    "\n",
    "    for idx, alpha in enumerate(alpha_values):\n",
    "        print(f\"Processing alpha={alpha:.4f} ({idx + 1}/{len(alpha_values)})\")\n",
    "\n",
    "        # Create and train the MLP\n",
    "        mlp = SimpleMLP(X_train.shape[1], hidden_dim=1, output_dim=1, num_hidden_layers=0, last_layer_activation_fn=nn.Sigmoid)\n",
    "        optimizer = Adam(mlp.parameters(), lr=alpha, weight_decay=1e-4)\n",
    "        criterion = nn.L1Loss()\n",
    "        mlp_trainer = SimpleMLPTrainer(mlp, criterion=criterion, optimizer=optimizer)\n",
    "        \n",
    "        mlp_trainer.train(train_loader, num_epochs=100)\n",
    "\n",
    "        # Plot decision boundary and get the image\n",
    "        img = plot_decision_boundary(mlp, X_train, y_train, alpha)\n",
    "        images.append(img)\n",
    "\n",
    "    # Save the images as a GIF\n",
    "    gif_filename = 'mlp_classification_boundaries.gif'\n",
    "    images[0].save(\n",
    "        gif_filename,\n",
    "        save_all=True,\n",
    "        append_images=images[1:],\n",
    "        duration=500,\n",
    "        loop=0\n",
    "    )\n",
    "\n",
    "    print(f\"GIF saved as '{gif_filename}'\")\n",
    "\n",
    "    # return the gif\n",
    "    return gif_filename"
   ]
  },
  {
   "cell_type": "markdown",
   "metadata": {},
   "source": [
    "## RUN"
   ]
  },
  {
   "cell_type": "code",
   "execution_count": 18,
   "metadata": {},
   "outputs": [
    {
     "name": "stdout",
     "output_type": "stream",
     "text": [
      "Processing alpha=0.0100 (1/20)\n"
     ]
    },
    {
     "name": "stderr",
     "output_type": "stream",
     "text": [
      "100%|██████████| 100/100 [00:00<00:00, 1581.53it/s]\n"
     ]
    },
    {
     "name": "stdout",
     "output_type": "stream",
     "text": [
      "Processing alpha=0.0183 (2/20)\n"
     ]
    },
    {
     "name": "stderr",
     "output_type": "stream",
     "text": [
      "100%|██████████| 100/100 [00:00<00:00, 805.06it/s]\n"
     ]
    },
    {
     "name": "stdout",
     "output_type": "stream",
     "text": [
      "Processing alpha=0.0336 (3/20)\n"
     ]
    },
    {
     "name": "stderr",
     "output_type": "stream",
     "text": [
      "100%|██████████| 100/100 [00:00<00:00, 1122.15it/s]\n"
     ]
    },
    {
     "name": "stdout",
     "output_type": "stream",
     "text": [
      "Processing alpha=0.0616 (4/20)\n"
     ]
    },
    {
     "name": "stderr",
     "output_type": "stream",
     "text": [
      "100%|██████████| 100/100 [00:00<00:00, 1581.35it/s]\n"
     ]
    },
    {
     "name": "stdout",
     "output_type": "stream",
     "text": [
      "Processing alpha=0.1129 (5/20)\n"
     ]
    },
    {
     "name": "stderr",
     "output_type": "stream",
     "text": [
      "100%|██████████| 100/100 [00:00<00:00, 1607.36it/s]\n"
     ]
    },
    {
     "name": "stdout",
     "output_type": "stream",
     "text": [
      "Processing alpha=0.2069 (6/20)\n"
     ]
    },
    {
     "name": "stderr",
     "output_type": "stream",
     "text": [
      "100%|██████████| 100/100 [00:00<00:00, 1494.57it/s]\n"
     ]
    },
    {
     "name": "stdout",
     "output_type": "stream",
     "text": [
      "Processing alpha=0.3793 (7/20)\n"
     ]
    },
    {
     "name": "stderr",
     "output_type": "stream",
     "text": [
      "100%|██████████| 100/100 [00:00<00:00, 1460.47it/s]\n"
     ]
    },
    {
     "name": "stdout",
     "output_type": "stream",
     "text": [
      "Processing alpha=0.6952 (8/20)\n"
     ]
    },
    {
     "name": "stderr",
     "output_type": "stream",
     "text": [
      "100%|██████████| 100/100 [00:00<00:00, 1487.43it/s]\n"
     ]
    },
    {
     "name": "stdout",
     "output_type": "stream",
     "text": [
      "Processing alpha=1.2743 (9/20)\n"
     ]
    },
    {
     "name": "stderr",
     "output_type": "stream",
     "text": [
      "100%|██████████| 100/100 [00:00<00:00, 1438.02it/s]\n"
     ]
    },
    {
     "name": "stdout",
     "output_type": "stream",
     "text": [
      "Processing alpha=2.3357 (10/20)\n"
     ]
    },
    {
     "name": "stderr",
     "output_type": "stream",
     "text": [
      "100%|██████████| 100/100 [00:00<00:00, 1527.65it/s]"
     ]
    },
    {
     "name": "stdout",
     "output_type": "stream",
     "text": [
      "Processing alpha=4.2813 (11/20)\n"
     ]
    },
    {
     "name": "stderr",
     "output_type": "stream",
     "text": [
      "\n",
      "100%|██████████| 100/100 [00:00<00:00, 1461.92it/s]\n"
     ]
    },
    {
     "name": "stdout",
     "output_type": "stream",
     "text": [
      "Processing alpha=7.8476 (12/20)\n"
     ]
    },
    {
     "name": "stderr",
     "output_type": "stream",
     "text": [
      "100%|██████████| 100/100 [00:00<00:00, 1241.02it/s]\n"
     ]
    },
    {
     "name": "stdout",
     "output_type": "stream",
     "text": [
      "Processing alpha=14.3845 (13/20)\n"
     ]
    },
    {
     "name": "stderr",
     "output_type": "stream",
     "text": [
      "100%|██████████| 100/100 [00:00<00:00, 1488.42it/s]\n"
     ]
    },
    {
     "name": "stdout",
     "output_type": "stream",
     "text": [
      "Processing alpha=26.3665 (14/20)\n"
     ]
    },
    {
     "name": "stderr",
     "output_type": "stream",
     "text": [
      "100%|██████████| 100/100 [00:00<00:00, 1441.90it/s]\n"
     ]
    },
    {
     "name": "stdout",
     "output_type": "stream",
     "text": [
      "Processing alpha=48.3293 (15/20)\n"
     ]
    },
    {
     "name": "stderr",
     "output_type": "stream",
     "text": [
      "100%|██████████| 100/100 [00:00<00:00, 1459.83it/s]\n"
     ]
    },
    {
     "name": "stdout",
     "output_type": "stream",
     "text": [
      "Processing alpha=88.5867 (16/20)\n"
     ]
    },
    {
     "name": "stderr",
     "output_type": "stream",
     "text": [
      "100%|██████████| 100/100 [00:00<00:00, 1418.69it/s]\n"
     ]
    },
    {
     "name": "stdout",
     "output_type": "stream",
     "text": [
      "Processing alpha=162.3777 (17/20)\n"
     ]
    },
    {
     "name": "stderr",
     "output_type": "stream",
     "text": [
      "100%|██████████| 100/100 [00:00<00:00, 1514.51it/s]\n"
     ]
    },
    {
     "name": "stdout",
     "output_type": "stream",
     "text": [
      "Processing alpha=297.6351 (18/20)\n"
     ]
    },
    {
     "name": "stderr",
     "output_type": "stream",
     "text": [
      "100%|██████████| 100/100 [00:00<00:00, 1458.49it/s]\n"
     ]
    },
    {
     "name": "stdout",
     "output_type": "stream",
     "text": [
      "Processing alpha=545.5595 (19/20)\n"
     ]
    },
    {
     "name": "stderr",
     "output_type": "stream",
     "text": [
      "100%|██████████| 100/100 [00:00<00:00, 1508.25it/s]\n"
     ]
    },
    {
     "name": "stdout",
     "output_type": "stream",
     "text": [
      "Processing alpha=1000.0000 (20/20)\n"
     ]
    },
    {
     "name": "stderr",
     "output_type": "stream",
     "text": [
      "100%|██████████| 100/100 [00:00<00:00, 1501.10it/s]\n"
     ]
    },
    {
     "name": "stdout",
     "output_type": "stream",
     "text": [
      "GIF saved as 'mlp_classification_boundaries.gif'\n"
     ]
    }
   ],
   "source": [
    "\n",
    "# Use np.logspace to generate alpha values, with at least 20 values\n",
    "alpha_values = np.logspace(-2, 3, num=20)\n",
    "# alpha_values = [0.001]\n",
    "# Define the number of neurons in the hidden layer\n",
    "n_neurons = 32\n",
    "alpha_values\n",
    "# Create the decision boundary GIF\n",
    "gif_dir = create_decision_boundary_gif(alpha_values, X_train, y_train, n_neurons)"
   ]
  },
  {
   "cell_type": "markdown",
   "metadata": {},
   "source": [
    "Your gif should look like this:"
   ]
  },
  {
   "cell_type": "markdown",
   "metadata": {},
   "source": [
    "<div style=\"text-align: center;\">\n",
    "\n",
    "### **Multilayer Perceptron Classification Boundaries**\n",
    "\n",
    "![Classification Boundaries](mlp_classification_boundaries_example.gif)\n",
    "\n",
    "*Figure 1: Demonstration of classification boundaries created by a Multilayer Perceptron (MLP) model.*\n",
    "\n",
    "</div>\n",
    "\n"
   ]
  }
 ],
 "metadata": {
  "colab": {
   "provenance": []
  },
  "kernelspec": {
   "display_name": "Python 3",
   "name": "python3"
  },
  "language_info": {
   "codemirror_mode": {
    "name": "ipython",
    "version": 3
   },
   "file_extension": ".py",
   "mimetype": "text/x-python",
   "name": "python",
   "nbconvert_exporter": "python",
   "pygments_lexer": "ipython3",
   "version": "3.11.9"
  }
 },
 "nbformat": 4,
 "nbformat_minor": 0
}
