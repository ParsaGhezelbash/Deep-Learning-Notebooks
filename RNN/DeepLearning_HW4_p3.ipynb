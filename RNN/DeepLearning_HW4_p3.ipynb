{
 "cells": [
  {
   "cell_type": "markdown",
   "metadata": {},
   "source": [
    "\n",
    "<br>\n",
    "<font>\n",
    "<div dir=ltr align=center>\n",
    "<font color=0F5298 size=10>\n",
    "    Deep Learning - HW4 <br>\n",
    "<font color=2565AE size=5>\n",
    "    Electrical Engineering Department <br>\n",
    "    winter 2024<br>\n",
    "<font color=3C99D size=5>\n",
    "    Practical Assignment 3 <br>\n",
    "<font color=696880 size=4>\n",
    "    Amirabbas Afzali \n",
    "\n",
    "____"
   ]
  },
  {
   "cell_type": "markdown",
   "metadata": {},
   "source": [
    "# Personal Data"
   ]
  },
  {
   "cell_type": "code",
   "execution_count": 2,
   "metadata": {
    "execution": {
     "iopub.execute_input": "2024-12-26T00:14:59.623698Z",
     "iopub.status.busy": "2024-12-26T00:14:59.623421Z",
     "iopub.status.idle": "2024-12-26T00:14:59.641677Z",
     "shell.execute_reply": "2024-12-26T00:14:59.640880Z",
     "shell.execute_reply.started": "2024-12-26T00:14:59.623678Z"
    },
    "trusted": true
   },
   "outputs": [],
   "source": [
    "# Set your student number\n",
    "student_number = '401110437'\n",
    "Name = 'Parsa'\n",
    "Last_Name = 'Ghezelbash'"
   ]
  },
  {
   "cell_type": "markdown",
   "metadata": {},
   "source": [
    "# Rules\n",
    "- Make sure that all of your cells can be run perfectly. \n",
    "- Try to minimize your use of ChatGPT (or any other AI assistant) as much as possible.\n",
    "- You must create a report for this task in PDF format and explain the main results."
   ]
  },
  {
   "cell_type": "markdown",
   "metadata": {},
   "source": [
    "---"
   ]
  },
  {
   "cell_type": "markdown",
   "metadata": {},
   "source": [
    "## **Introduction**"
   ]
  },
  {
   "cell_type": "markdown",
   "metadata": {},
   "source": [
    "Large Language Models (LLMs) are a class of deep learning models designed for processing and generating natural language. These models are trained using large amounts of textual data and utilize architectures based on transformers. Some of the applications of these models include text generation, machine translation, text summarization, question answering, and text classification."
   ]
  },
  {
   "cell_type": "markdown",
   "metadata": {},
   "source": [
    "### *Encoder-Decoder LLMs*\n",
    "\n",
    "One of the common architectures in large language models is the Encoder-Decoder architecture. In this architecture, the encoder processes an input sequence and maps it to a latent space. Then, the decoder uses this latent space to generate an output sequence. Models like T5 [1] (Text-to-Text Transfer Transformer) use this architecture to perform various tasks. In T5, all tasks are expressed in a \"text-to-text\" format, meaning both input and output are text. This model has capabilities such as translation, summarization, and text classification. One of the advantages of the Encoder-Decoder architecture is that it allows the encoder to utilize information from both before and after a word to gain a more comprehensive understanding of the text."
   ]
  },
  {
   "cell_type": "markdown",
   "metadata": {},
   "source": [
    "### *Decoder-only LLMs*\n",
    "\n",
    "Decoder-only models, such as GPT-2, GPT-3, and LLaMA [2], unlike the Encoder-Decoder architecture, only use the decoder part. These models use an autoregressive mode, meaning they predict the next token based on previous tokens. These models are highly efficient for text generation and have found widespread applications today.\n",
    "\n",
    "Advantages of Decoder-only Models\n",
    "\n",
    "- Efficiency: Decoder-only models are more efficient than Encoder-Decoder models due to the absence of an independent encoder. This makes them require fewer computational and memory resources.\n",
    "- Simplicity: Due to their autoregressive nature, these models can easily generate sequences in order.\n",
    "- Scalability: Due to their simpler architecture, these models can be scaled to much larger sizes.\n",
    "\n",
    "\n",
    "However, one of the drawbacks of these models is that they can only utilize information from tokens before the current token and cannot use tokens that come after for prediction. This limitation is significant in tasks like classification or translation, where a full understanding of the sequence is needed.\n",
    "\n"
   ]
  },
  {
   "cell_type": "markdown",
   "metadata": {},
   "source": [
    "## **Objective of the Exercise**\n"
   ]
  },
  {
   "cell_type": "markdown",
   "metadata": {},
   "source": [
    "In this exercise, the goal is to convert a generative Decoder-only language model into an encoder and evaluate its performance on a binary sentiment classification task. The main aim is to modify the Decoder-only model so that it can function as an encoder and better handle tasks requiring bidirectional understanding."
   ]
  },
  {
   "cell_type": "markdown",
   "metadata": {},
   "source": [
    "## **In this exercise, you should:**\n"
   ]
  },
  {
   "cell_type": "markdown",
   "metadata": {},
   "source": [
    "### In this exercise, you should:\n",
    "\n",
    "1. **Import a Decoder-only model** and load the weights of a pre-trained version of the model.\n",
    "2. **Generate several outputs from the model**, and include at most 10 sample outputs in your report for different inputs.  \n",
    "   You should also briefly explain the effects of key configurations in text generation, including:  \n",
    "   - `Temperature`\n",
    "   - `top_k`\n",
    "   - `top_p`\n",
    "   - `repetition_penalty`\n",
    "   - `num_beams`\n",
    "   - `no_repeat_ngram_size`\n",
    "3. **Load the SST-2 dataset**, which is part of the GLUE benchmark for sentiment classification.  \n",
    "   - Note that the model’s output depends on the number of input tokens. \n",
    "   - Apply necessary padding to the dataset after loading it to allow for parallel execution of the model.\n",
    "4. **Remove the model’s final layer**, which outputs to the size of the model’s dictionary.  \n",
    "   - Use the embedding vector of the first token (CLS token) for classification.\n",
    "5. As observed in the previous step, sometimes the embedding vector of the first token does not provide a good representation of the entire input text.  \n",
    "   - **Add a linear layer** with the same input and output dimensions on top of the encoder's output, and use the output of this linear layer (corresponding to the CLS token) for classification.  \n",
    "   - This step aggregates information of different tokens to get a comprehensive understanding of the input text.\n",
    "6. **Instead of the linear layer** in the previous section, use a **bidirectional attention layer** with a custom number of heads (preferably 12).\n",
    "7. **Repeat step 6** using **left-to-right unidirectional attention** and **right-to-left unidirectional attention**.\n",
    "8. **Load a pre-trained decoder** (preferably BERT-base) and report its **zero-shot performance** (i.e., without needing to train the model) on the test data."
   ]
  },
  {
   "cell_type": "markdown",
   "metadata": {},
   "source": [
    "## **Evaluation:**\n",
    "\n",
    "In this exercise, for each of sections 4, 5, 6, 7, and 8, you need to plot the confusion matrix corresponding to the model's performance on the test data. Additionally, you should plot two separate graphs showing the training loss and the accuracy of the trained models, and compare them with each other, providing an appropriate analysis of your results. Also, note that high accuracy is not expected for sections 4 and 5, but the correctness of your code will be checked. However, for sections 6 and 7, higher accuracy (around 90%) is expected.\n",
    "\n",
    "\n",
    "\n",
    "\n",
    "\n",
    "\n",
    "\n",
    "\n",
    "\n",
    "\n",
    "\n"
   ]
  },
  {
   "cell_type": "markdown",
   "metadata": {},
   "source": [
    "## **Let's go:**\n"
   ]
  },
  {
   "cell_type": "markdown",
   "metadata": {},
   "source": [
    "Load `gpt2` model:"
   ]
  },
  {
   "cell_type": "code",
   "execution_count": null,
   "metadata": {
    "execution": {
     "iopub.execute_input": "2024-12-26T00:15:18.654920Z",
     "iopub.status.busy": "2024-12-26T00:15:18.654621Z",
     "iopub.status.idle": "2024-12-26T00:15:28.884160Z",
     "shell.execute_reply": "2024-12-26T00:15:28.883424Z",
     "shell.execute_reply.started": "2024-12-26T00:15:18.654897Z"
    },
    "trusted": true
   },
   "outputs": [],
   "source": [
    "from transformers import GPT2Tokenizer, GPT2LMHeadModel, GPT2Model, GenerationConfig\n",
    "import torch\n",
    "from torch import nn\n",
    "\n",
    "\n",
    "tokenizer = GPT2Tokenizer.from_pretrained(\"gpt2\")\n",
    "model = GPT2LMHeadModel.from_pretrained(\"gpt2\").to(\"cuda\")"
   ]
  },
  {
   "cell_type": "markdown",
   "metadata": {},
   "source": [
    "Load `sst-2` dataset:"
   ]
  },
  {
   "cell_type": "code",
   "execution_count": null,
   "metadata": {
    "execution": {
     "iopub.execute_input": "2024-12-26T00:16:24.670776Z",
     "iopub.status.busy": "2024-12-26T00:16:24.670329Z",
     "iopub.status.idle": "2024-12-26T00:16:31.162435Z",
     "shell.execute_reply": "2024-12-26T00:16:31.161615Z",
     "shell.execute_reply.started": "2024-12-26T00:16:24.670745Z"
    },
    "trusted": true
   },
   "outputs": [],
   "source": [
    "from datasets import load_dataset\n",
    "\n",
    "# Load the SST-2 dataset from Hugging Face \n",
    "dataset = load_dataset(\"glue\", \"sst2\")"
   ]
  },
  {
   "cell_type": "markdown",
   "metadata": {},
   "source": [
    "go ahead:"
   ]
  },
  {
   "cell_type": "markdown",
   "metadata": {},
   "source": [
    "## 2)"
   ]
  },
  {
   "cell_type": "code",
   "execution_count": null,
   "metadata": {},
   "outputs": [],
   "source": [
    "device = torch.device(\"cuda\" if torch.cuda.is_available() else \"cpu\")\n",
    "print(device)"
   ]
  },
  {
   "cell_type": "code",
   "execution_count": null,
   "metadata": {},
   "outputs": [],
   "source": [
    "tokenizer.add_special_tokens({\"cls_token\": \"<|CLS|>\"})\n",
    "model.resize_token_embeddings(len(tokenizer))\n",
    "model.to(device).eval()"
   ]
  },
  {
   "cell_type": "code",
   "execution_count": null,
   "metadata": {
    "execution": {
     "iopub.execute_input": "2024-12-26T00:28:51.650055Z",
     "iopub.status.busy": "2024-12-26T00:28:51.649706Z",
     "iopub.status.idle": "2024-12-26T00:28:53.067431Z",
     "shell.execute_reply": "2024-12-26T00:28:53.066754Z",
     "shell.execute_reply.started": "2024-12-26T00:28:51.650027Z"
    },
    "trusted": true
   },
   "outputs": [],
   "source": [
    "prompts = [\n",
    "    \"Once upon a time\",\n",
    "    \"Deep learning is all about\",\n",
    "    \"In a shocking finding today, scientists discovered\",\n",
    "    \"The meaning of life is\",\n",
    "    \"The best way to learn is\",\n",
    "    \"The most important thing in the world is\",\n",
    "    \"The most beautiful thing in the world is\",\n",
    "    \"The most dangerous thing in the world is\",\n",
    "    \"The most exciting thing in the world is\",\n",
    "    \"The most boring thing in the world is\",\n",
    "]\n",
    "\n",
    "generation_configs = [\n",
    "    GenerationConfig(\n",
    "        max_new_tokens=30,\n",
    "        temperature=0.7,\n",
    "        top_k=50,\n",
    "        top_p=0.95,\n",
    "        repetition_penalty=1.2,\n",
    "        num_beams=1,\n",
    "        no_repeat_ngram_size=2,\n",
    "        do_sample=True\n",
    "    ),\n",
    "]\n",
    "\n",
    "for i, prompt in enumerate(prompts[:10]):\n",
    "    input_ids = tokenizer.encode(prompt, return_tensors=\"pt\").to(device)\n",
    "    print(f\"\\nPrompt {i+1}: {prompt}\\n{'-'*40}\")\n",
    "\n",
    "    for j, gen_cfg in enumerate(generation_configs):\n",
    "        output_ids = model.generate(\n",
    "            input_ids,\n",
    "            generation_config=gen_cfg\n",
    "        )\n",
    "        generated_text = tokenizer.decode(output_ids[0], skip_special_tokens=True)\n",
    "        print(f\"  [Gen config {j+1}] --> {generated_text}\")\n"
   ]
  },
  {
   "cell_type": "markdown",
   "metadata": {},
   "source": [
    "## 3)"
   ]
  },
  {
   "cell_type": "code",
   "execution_count": null,
   "metadata": {},
   "outputs": [],
   "source": [
    "from torch.utils.data import DataLoader\n",
    "\n",
    "def tokenize_function(examples):\n",
    "    texts = [\"<|CLS|> \" + t for t in examples[\"sentence\"]]\n",
    "    return tokenizer(texts, truncation=True, padding=\"max_length\", max_length=32)\n",
    "\n",
    "dataset = dataset.map(tokenize_function, batched=True)\n",
    "dataset.set_format(type=\"torch\", columns=[\"input_ids\", \"label\", \"attention_mask\"])\n",
    "\n",
    "train_data = dataset[\"train\"]\n",
    "val_data   = dataset[\"validation\"]\n",
    "test_data  = dataset[\"test\"]\n",
    "\n",
    "print(\"Train sample:\", train_data[0])\n",
    "\n",
    "train_loader = DataLoader(train_data, batch_size=8, shuffle=True)\n",
    "val_loader   = DataLoader(val_data, batch_size=8)\n",
    "test_loader  = DataLoader(test_data, batch_size=8)"
   ]
  },
  {
   "cell_type": "markdown",
   "metadata": {},
   "source": [
    "## 4)"
   ]
  },
  {
   "cell_type": "code",
   "execution_count": null,
   "metadata": {},
   "outputs": [],
   "source": [
    "model_without_lm_head = GPT2Model.from_pretrained(\"gpt2\")\n",
    "model_without_lm_head.resize_token_embeddings(len(tokenizer))\n",
    "model_without_lm_head.to(device).eval()\n",
    "\n",
    "def extract_cls_embedding(input_ids, attention_mask):\n",
    "    outputs = model_without_lm_head(\n",
    "        input_ids=input_ids,\n",
    "        attention_mask=attention_mask\n",
    "    )\n",
    "    hidden_states = outputs.last_hidden_state\n",
    "    cls_embed = hidden_states[:, 0, :]\n",
    "    return cls_embed\n",
    "\n",
    "sample = train_data[0]\n",
    "input_ids = sample[\"input_ids\"].unsqueeze(0).to(device)\n",
    "attention_mask = sample[\"attention_mask\"].unsqueeze(0).to(device)\n",
    "\n",
    "cls_vector = extract_cls_embedding(input_ids, attention_mask)\n",
    "print(\"CLS vector shape:\", cls_vector.shape)"
   ]
  },
  {
   "cell_type": "markdown",
   "metadata": {},
   "source": [
    "## 5)"
   ]
  },
  {
   "cell_type": "code",
   "execution_count": null,
   "metadata": {},
   "outputs": [],
   "source": [
    "class GPT2ClassifierLinear(nn.Module):\n",
    "    def __init__(self, gpt2_model, hidden_dim=768, num_labels=2):\n",
    "        super().__init__()\n",
    "        self.gpt2 = gpt2_model\n",
    "        self.linear = nn.Linear(hidden_dim, num_labels)\n",
    "\n",
    "    def forward(self, input_ids, attention_mask):\n",
    "        outputs = self.gpt2(input_ids, attention_mask=attention_mask)\n",
    "        hidden_states = outputs.last_hidden_state\n",
    "        cls_token = hidden_states[:, 0, :]\n",
    "        logits = self.linear(cls_token)\n",
    "        return logits\n",
    "\n",
    "model_cls_linear = GPT2ClassifierLinear(model_without_lm_head).to(device)\n",
    "\n",
    "#TODO: We'll need a training loop to fine-tune on SST-2, but here's the main architecture.\n",
    "print(\"GPT2ClassifierLinear created.\")"
   ]
  },
  {
   "cell_type": "markdown",
   "metadata": {},
   "source": [
    "## 6)"
   ]
  },
  {
   "cell_type": "code",
   "execution_count": null,
   "metadata": {},
   "outputs": [],
   "source": [
    "class GPT2ClassifierBiAttn(nn.Module):\n",
    "    def __init__(self, gpt2_model, hidden_dim=768, num_labels=2, num_heads=12):\n",
    "        super().__init__()\n",
    "        self.gpt2 = gpt2_model\n",
    "        self.attn = nn.MultiheadAttention(embed_dim=hidden_dim, num_heads=num_heads, batch_first=True)\n",
    "        self.linear = nn.Linear(hidden_dim, num_labels)\n",
    "\n",
    "    def forward(self, input_ids, attention_mask):\n",
    "        outputs = self.gpt2(input_ids, attention_mask=attention_mask)\n",
    "        hidden_states = outputs.last_hidden_state\n",
    "        \n",
    "        cls_token = hidden_states[:, 0:1, :]\n",
    "\n",
    "        out, _ = self.attn(query=cls_token, key=hidden_states, value=hidden_states)\n",
    "\n",
    "        logits = self.linear(out.squeeze(1))\n",
    "        return logits\n",
    "\n",
    "model_cls_biattn = GPT2ClassifierBiAttn(\n",
    "    gpt2_model=model_without_lm_head, \n",
    "    hidden_dim=model_without_lm_head.config.hidden_size, \n",
    "    num_labels=2, \n",
    "    num_heads=12\n",
    ").to(device)\n",
    "\n",
    "print(\"GPT2ClassifierBiAttn created (bidirectional attention).\")"
   ]
  },
  {
   "cell_type": "markdown",
   "metadata": {},
   "source": [
    "## 7)"
   ]
  },
  {
   "cell_type": "code",
   "execution_count": null,
   "metadata": {},
   "outputs": [],
   "source": [
    "def generate_causal_mask(seq_len):\n",
    "    mask = torch.ones(seq_len, seq_len).triu(1).bool()\n",
    "    return mask\n",
    "\n",
    "class GPT2ClassifierCausalAttn(nn.Module):\n",
    "    def __init__(self, gpt2_model, hidden_dim=768, num_labels=2, num_heads=12, l2r=True):\n",
    "        super().__init__()\n",
    "        self.gpt2 = gpt2_model\n",
    "        self.attn = nn.MultiheadAttention(hidden_dim, num_heads, batch_first=True)\n",
    "        self.linear = nn.Linear(hidden_dim, num_labels)\n",
    "        self.l2r = l2r\n",
    "\n",
    "    def forward(self, input_ids, attention_mask):\n",
    "        outputs = self.gpt2(input_ids, attention_mask=attention_mask)\n",
    "        hidden_states = outputs.last_hidden_state\n",
    "        B, L, H = hidden_states.shape\n",
    "\n",
    "        cls_token = hidden_states[:, 0:1, :]\n",
    "        # We'll build a mask: [L, L], then slice or rearrange for left->right or right->left\n",
    "        causal_mask = generate_causal_mask(L).to(hidden_states.device)\n",
    "        \n",
    "        if not self.l2r:\n",
    "            causal_mask = torch.flip(causal_mask, dims=(0,1))\n",
    "        \n",
    "        # Apply the multi-head attn with a key_padding_mask or attn_mask\n",
    "        out, _ = self.attn(\n",
    "            query=cls_token,  # [B, 1, H]\n",
    "            key=hidden_states,  # [B, L, H]\n",
    "            value=hidden_states,\n",
    "            attn_mask=causal_mask[:1, :],  # shape must be [tgt_len, src_len] => [1, L]\n",
    "        )\n",
    "        logits = self.linear(out.squeeze(1))  # [B, num_labels]\n",
    "        return logits\n",
    "\n",
    "model_cls_l2r = GPT2ClassifierCausalAttn(\n",
    "    model_without_lm_head, \n",
    "    hidden_dim=model_without_lm_head.config.hidden_size, \n",
    "    num_labels=2,\n",
    "    num_heads=12,\n",
    "    l2r=True\n",
    ").to(device)\n",
    "\n",
    "model_cls_r2l = GPT2ClassifierCausalAttn(\n",
    "    model_without_lm_head,\n",
    "    hidden_dim=model_without_lm_head.config.hidden_size,\n",
    "    num_labels=2,\n",
    "    num_heads=12,\n",
    "    l2r=False\n",
    ").to(device)\n",
    "\n",
    "print(\"GPT2ClassifierCausalAttn created for L2R and R2L unidirectional attention.\")\n"
   ]
  },
  {
   "cell_type": "markdown",
   "metadata": {},
   "source": [
    "## 8)"
   ]
  },
  {
   "cell_type": "code",
   "execution_count": null,
   "metadata": {},
   "outputs": [],
   "source": [
    "from transformers import BertTokenizer, BertForSequenceClassification\n",
    " \n",
    "bert_tokenizer = BertTokenizer.from_pretrained(\"bert-base-uncased\")\n",
    "bert_model = BertForSequenceClassification.from_pretrained(\"bert-base-uncased\", num_labels=2).to(device)\n",
    "bert_model.eval()\n",
    "\n",
    "print(\"Loaded BERT-base for classification (zero-shot).\")\n",
    "\n",
    "# Evaluate on test set (zero-shot)\n",
    "correct = 0\n",
    "total = 0\n",
    "\n",
    "for example in test_data:\n",
    "    input_ids = bert_tokenizer.encode(example[\"sentence\"], return_tensors=\"pt\", truncation=True, max_length=64).to(device)\n",
    "    with torch.inference_mode():\n",
    "        logits = bert_model(input_ids).logits  # shape [1, 2]\n",
    "    pred_label = torch.argmax(logits, dim=-1).item()\n",
    "    if pred_label == example[\"label\"]:\n",
    "        correct += 1\n",
    "    total += 1\n",
    "\n",
    "accuracy_bert = correct / total\n",
    "print(f\"Zero-shot Test Accuracy with BERT-base: {accuracy_bert:.4f}\")\n"
   ]
  },
  {
   "cell_type": "code",
   "execution_count": null,
   "metadata": {
    "trusted": true
   },
   "outputs": [],
   "source": [
    "from transformers import BertTokenizer, BertForSequenceClassification\n",
    "\n",
    "# Load pre-trained BERT\n",
    "bert_model = BertForSequenceClassification.from_pretrained(\"bert-base-uncased\", num_labels=2).to(\"cuda\")\n",
    "bert_tokenizer = BertTokenizer.from_pretrained(\"bert-base-uncased\")\n",
    "\n",
    "# Zero-shot evaluation\n",
    "def evaluate_bert(batch):\n",
    "    inputs = bert_tokenizer(batch[\"sentence\"], return_tensors=\"pt\", padding=True, truncation=True, max_length=128).to(\"cuda\")\n",
    "    outputs = bert_model(**inputs)\n",
    "    predictions = torch.argmax(outputs.logits, dim=1)\n",
    "    return predictions\n"
   ]
  },
  {
   "cell_type": "markdown",
   "metadata": {},
   "source": [
    "---------\n",
    "### References\n",
    "\n",
    "[1] Raffel, Colin, Noam Shazeer, Adam Roberts, et al. (2020). *Exploring the Limits of Transfer Learning with a Unified Text-to-Text Transformer*. [Link to paper](https://arxiv.org/abs/1910.10683)\n",
    "\n",
    "[2] Touvron, Hugo, et al. (2023). *LLaMA 2: Open Foundation and Fine-Tuned Chat Models*. [Link to paper](https://arxiv.org/abs/2307.09288)\n",
    "\n",
    "<span style=\"color:yellow;\">*For further reading on this field of research, you can refer to the following papers:*</span>\n",
    "\n",
    "[3] BehnamGhader, Adlakha, et al. (2024). *LLM2Vec: Large Language Models Are Secretly Powerful Text Encoders*. [Link to paper](https://arxiv.org/abs/2404.05961)\n",
    "\n",
    "[4] Gao, Tianyu, et al. (2021). *SimCSE: Simple Contrastive Learning of Sentence Embeddings*. [Link to paper](https://arxiv.org/abs/2104.08821)\n",
    "\n",
    "[5] Lee, et al. (2023). *NV-Embed: Improved Techniques for Training LLMs as Generalist Embedding Models*. [Link to paper](https://arxiv.org/abs/2405.17428)\n",
    "\n",
    "\n"
   ]
  },
  {
   "cell_type": "markdown",
   "metadata": {},
   "source": [
    "# **Best regards.**"
   ]
  }
 ],
 "metadata": {
  "kaggle": {
   "accelerator": "none",
   "dataSources": [],
   "dockerImageVersionId": 30823,
   "isGpuEnabled": false,
   "isInternetEnabled": true,
   "language": "python",
   "sourceType": "notebook"
  },
  "kernelspec": {
   "display_name": "Python 3",
   "language": "python",
   "name": "python3"
  },
  "language_info": {
   "codemirror_mode": {
    "name": "ipython",
    "version": 3
   },
   "file_extension": ".py",
   "mimetype": "text/x-python",
   "name": "python",
   "nbconvert_exporter": "python",
   "pygments_lexer": "ipython3",
   "version": "3.10.12"
  },
  "vscode": {
   "interpreter": {
    "hash": "550b73d17028e65cfbd266e0c945d7274f18a7a366e249c5ab11fc4eb0cd2459"
   }
  }
 },
 "nbformat": 4,
 "nbformat_minor": 4
}
