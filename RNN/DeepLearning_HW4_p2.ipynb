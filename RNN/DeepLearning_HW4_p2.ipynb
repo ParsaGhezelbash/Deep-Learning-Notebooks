{
 "cells": [
  {
   "cell_type": "markdown",
   "metadata": {
    "id": "w_a3OXnSeV0z"
   },
   "source": [
    "\n",
    "<br>\n",
    "<font>\n",
    "<div dir=ltr align=center>\n",
    "<font color=0F5298 size=10>\n",
    "    Deep Learning - HW4 <br>\n",
    "<font color=2565AE size=5>\n",
    "    Electrical Engineering Department <br>\n",
    "    winter 2024<br>\n",
    "<font color=3C99D size=5>\n",
    "    Practical Assignment 2 <br>\n",
    "<font color=696880 size=4>\n",
    "    Armin Ghojehzadeh \n",
    "\n",
    "____"
   ]
  },
  {
   "cell_type": "markdown",
   "metadata": {},
   "source": [
    "# 🔴 **Import Libs**"
   ]
  },
  {
   "cell_type": "code",
   "execution_count": 50,
   "metadata": {},
   "outputs": [
    {
     "name": "stdout",
     "output_type": "stream",
     "text": [
      "Found existing installation: torch 2.2.0+cu118\n",
      "Uninstalling torch-2.2.0+cu118:\n",
      "  Successfully uninstalled torch-2.2.0+cu118\n"
     ]
    },
    {
     "name": "stderr",
     "output_type": "stream",
     "text": [
      "WARNING: Failed to remove contents in a temporary directory 'C:\\Users\\Password Please\\AppData\\Local\\Programs\\Python\\Python310\\Lib\\site-packages\\~-rch'.\n",
      "You can safely remove it manually.\n",
      "WARNING: Skipping torchvision as it is not installed.\n",
      "WARNING: Skipping torchaudio as it is not installed.\n"
     ]
    }
   ],
   "source": [
    "!python -m pip uninstall torch torchvision torchaudio -y"
   ]
  },
  {
   "cell_type": "code",
   "execution_count": 51,
   "metadata": {},
   "outputs": [
    {
     "name": "stdout",
     "output_type": "stream",
     "text": [
      "Looking in indexes: https://download.pytorch.org/whl/cu118\n",
      "Collecting torch==2.2.0+cu118\n",
      "  Using cached https://download.pytorch.org/whl/cu118/torch-2.2.0%2Bcu118-cp310-cp310-win_amd64.whl (2704.3 MB)\n",
      "Requirement already satisfied: filelock in c:\\users\\password please\\appdata\\local\\programs\\python\\python310\\lib\\site-packages (from torch==2.2.0+cu118) (3.13.1)\n",
      "Requirement already satisfied: typing-extensions>=4.8.0 in c:\\users\\password please\\appdata\\roaming\\python\\python310\\site-packages (from torch==2.2.0+cu118) (4.12.2)\n",
      "Requirement already satisfied: sympy in c:\\users\\password please\\appdata\\local\\programs\\python\\python310\\lib\\site-packages (from torch==2.2.0+cu118) (1.13.1)\n",
      "Requirement already satisfied: networkx in c:\\users\\password please\\appdata\\local\\programs\\python\\python310\\lib\\site-packages (from torch==2.2.0+cu118) (3.2.1)\n",
      "Requirement already satisfied: jinja2 in c:\\users\\password please\\appdata\\local\\programs\\python\\python310\\lib\\site-packages (from torch==2.2.0+cu118) (3.1.3)\n",
      "Requirement already satisfied: fsspec in c:\\users\\password please\\appdata\\local\\programs\\python\\python310\\lib\\site-packages (from torch==2.2.0+cu118) (2024.2.0)\n",
      "Requirement already satisfied: MarkupSafe>=2.0 in c:\\users\\password please\\appdata\\local\\programs\\python\\python310\\lib\\site-packages (from jinja2->torch==2.2.0+cu118) (2.1.5)\n",
      "Requirement already satisfied: mpmath<1.4,>=1.1.0 in c:\\users\\password please\\appdata\\local\\programs\\python\\python310\\lib\\site-packages (from sympy->torch==2.2.0+cu118) (1.3.0)\n",
      "Installing collected packages: torch\n",
      "Successfully installed torch-2.2.0+cu118\n"
     ]
    },
    {
     "name": "stderr",
     "output_type": "stream",
     "text": [
      "  WARNING: The scripts convert-caffe2-to-onnx.exe, convert-onnx-to-caffe2.exe and torchrun.exe are installed in 'c:\\Users\\Password Please\\AppData\\Local\\Programs\\Python\\Python310\\Scripts' which is not on PATH.\n",
      "  Consider adding this directory to PATH or, if you prefer to suppress this warning, use --no-warn-script-location.\n"
     ]
    }
   ],
   "source": [
    "!python -m pip install --upgrade torch==2.2.0+cu118 --index-url https://download.pytorch.org/whl/cu118"
   ]
  },
  {
   "cell_type": "code",
   "execution_count": 52,
   "metadata": {},
   "outputs": [
    {
     "data": {
      "text/plain": [
       "'2.2.0+cu118'"
      ]
     },
     "execution_count": 52,
     "metadata": {},
     "output_type": "execute_result"
    }
   ],
   "source": [
    "import torch\n",
    "torch.__version__"
   ]
  },
  {
   "cell_type": "code",
   "execution_count": 53,
   "metadata": {
    "execution": {
     "iopub.execute_input": "2024-12-28T18:09:01.599566Z",
     "iopub.status.busy": "2024-12-28T18:09:01.599341Z",
     "iopub.status.idle": "2024-12-28T18:13:09.348734Z",
     "shell.execute_reply": "2024-12-28T18:13:09.347866Z",
     "shell.execute_reply.started": "2024-12-28T18:09:01.599546Z"
    },
    "trusted": true
   },
   "outputs": [
    {
     "name": "stdout",
     "output_type": "stream",
     "text": [
      "Requirement already satisfied: torchdata in c:\\users\\password please\\appdata\\local\\programs\\python\\python312\\lib\\site-packages (0.7.1)\n",
      "Collecting torchdata\n",
      "  Using cached torchdata-0.10.1-py3-none-any.whl.metadata (6.3 kB)\n",
      "Requirement already satisfied: urllib3>=1.25 in c:\\users\\password please\\appdata\\local\\programs\\python\\python312\\lib\\site-packages (from torchdata) (2.2.3)\n",
      "Requirement already satisfied: requests in c:\\users\\password please\\appdata\\local\\programs\\python\\python312\\lib\\site-packages (from torchdata) (2.32.3)\n",
      "Requirement already satisfied: torch>=2 in c:\\users\\password please\\appdata\\local\\programs\\python\\python312\\lib\\site-packages (from torchdata) (2.2.0+cu118)\n",
      "Requirement already satisfied: filelock in c:\\users\\password please\\appdata\\local\\programs\\python\\python312\\lib\\site-packages (from torch>=2->torchdata) (3.14.0)\n",
      "Requirement already satisfied: typing-extensions>=4.8.0 in c:\\users\\password please\\appdata\\local\\programs\\python\\python312\\lib\\site-packages (from torch>=2->torchdata) (4.12.1)\n",
      "Requirement already satisfied: sympy in c:\\users\\password please\\appdata\\local\\programs\\python\\python312\\lib\\site-packages (from torch>=2->torchdata) (1.13.1)\n",
      "Requirement already satisfied: networkx in c:\\users\\password please\\appdata\\local\\programs\\python\\python312\\lib\\site-packages (from torch>=2->torchdata) (3.3)\n",
      "Requirement already satisfied: jinja2 in c:\\users\\password please\\appdata\\local\\programs\\python\\python312\\lib\\site-packages (from torch>=2->torchdata) (3.1.4)\n",
      "Requirement already satisfied: fsspec in c:\\users\\password please\\appdata\\local\\programs\\python\\python312\\lib\\site-packages (from torch>=2->torchdata) (2024.5.0)\n",
      "Requirement already satisfied: charset-normalizer<4,>=2 in c:\\users\\password please\\appdata\\local\\programs\\python\\python312\\lib\\site-packages (from requests->torchdata) (3.4.0)\n",
      "Requirement already satisfied: idna<4,>=2.5 in c:\\users\\password please\\appdata\\local\\programs\\python\\python312\\lib\\site-packages (from requests->torchdata) (3.10)\n",
      "Requirement already satisfied: certifi>=2017.4.17 in c:\\users\\password please\\appdata\\local\\programs\\python\\python312\\lib\\site-packages (from requests->torchdata) (2024.8.30)\n",
      "Requirement already satisfied: MarkupSafe>=2.0 in c:\\users\\password please\\appdata\\local\\programs\\python\\python312\\lib\\site-packages (from jinja2->torch>=2->torchdata) (2.1.5)\n",
      "Requirement already satisfied: mpmath<1.4,>=1.1.0 in c:\\users\\password please\\appdata\\local\\programs\\python\\python312\\lib\\site-packages (from sympy->torch>=2->torchdata) (1.3.0)\n",
      "Using cached torchdata-0.10.1-py3-none-any.whl (57 kB)\n",
      "Installing collected packages: torchdata\n",
      "  Attempting uninstall: torchdata\n",
      "    Found existing installation: torchdata 0.7.1\n",
      "    Uninstalling torchdata-0.7.1:\n",
      "      Successfully uninstalled torchdata-0.7.1\n",
      "Successfully installed torchdata-0.10.1\n"
     ]
    },
    {
     "name": "stderr",
     "output_type": "stream",
     "text": [
      "ERROR: pip's dependency resolver does not currently take into account all the packages that are installed. This behaviour is the source of the following dependency conflicts.\n",
      "torchtext 0.16.2+cpu requires torchdata==0.7.1, but you have torchdata 0.10.1 which is incompatible.\n"
     ]
    },
    {
     "name": "stdout",
     "output_type": "stream",
     "text": [
      "Looking in indexes: https://download.pytorch.org/whl/cu118\n",
      "Requirement already satisfied: torchtext in c:\\users\\password please\\appdata\\local\\programs\\python\\python312\\lib\\site-packages (0.16.2+cpu)\n",
      "Requirement already satisfied: tqdm in c:\\users\\password please\\appdata\\local\\programs\\python\\python312\\lib\\site-packages (from torchtext) (4.66.4)\n",
      "Requirement already satisfied: requests in c:\\users\\password please\\appdata\\local\\programs\\python\\python312\\lib\\site-packages (from torchtext) (2.32.3)\n",
      "Requirement already satisfied: torch==2.2.0 in c:\\users\\password please\\appdata\\local\\programs\\python\\python312\\lib\\site-packages (from torchtext) (2.2.0+cu118)\n",
      "Requirement already satisfied: numpy in c:\\users\\password please\\appdata\\local\\programs\\python\\python312\\lib\\site-packages (from torchtext) (1.26.1)\n",
      "Collecting torchdata==0.7.1 (from torchtext)\n",
      "  Using cached https://download.pytorch.org/whl/torchdata-0.7.1-py3-none-any.whl (184 kB)\n",
      "Requirement already satisfied: filelock in c:\\users\\password please\\appdata\\local\\programs\\python\\python312\\lib\\site-packages (from torch==2.2.0->torchtext) (3.14.0)\n",
      "Requirement already satisfied: typing-extensions>=4.8.0 in c:\\users\\password please\\appdata\\local\\programs\\python\\python312\\lib\\site-packages (from torch==2.2.0->torchtext) (4.12.1)\n",
      "Requirement already satisfied: sympy in c:\\users\\password please\\appdata\\local\\programs\\python\\python312\\lib\\site-packages (from torch==2.2.0->torchtext) (1.13.1)\n",
      "Requirement already satisfied: networkx in c:\\users\\password please\\appdata\\local\\programs\\python\\python312\\lib\\site-packages (from torch==2.2.0->torchtext) (3.3)\n",
      "Requirement already satisfied: jinja2 in c:\\users\\password please\\appdata\\local\\programs\\python\\python312\\lib\\site-packages (from torch==2.2.0->torchtext) (3.1.4)\n",
      "Requirement already satisfied: fsspec in c:\\users\\password please\\appdata\\local\\programs\\python\\python312\\lib\\site-packages (from torch==2.2.0->torchtext) (2024.5.0)\n",
      "Requirement already satisfied: urllib3>=1.25 in c:\\users\\password please\\appdata\\local\\programs\\python\\python312\\lib\\site-packages (from torchdata==0.7.1->torchtext) (2.2.3)\n",
      "Requirement already satisfied: charset-normalizer<4,>=2 in c:\\users\\password please\\appdata\\local\\programs\\python\\python312\\lib\\site-packages (from requests->torchtext) (3.4.0)\n",
      "Requirement already satisfied: idna<4,>=2.5 in c:\\users\\password please\\appdata\\local\\programs\\python\\python312\\lib\\site-packages (from requests->torchtext) (3.10)\n",
      "Requirement already satisfied: certifi>=2017.4.17 in c:\\users\\password please\\appdata\\local\\programs\\python\\python312\\lib\\site-packages (from requests->torchtext) (2024.8.30)\n",
      "Requirement already satisfied: colorama in c:\\users\\password please\\appdata\\roaming\\python\\python312\\site-packages (from tqdm->torchtext) (0.4.6)\n",
      "Requirement already satisfied: MarkupSafe>=2.0 in c:\\users\\password please\\appdata\\local\\programs\\python\\python312\\lib\\site-packages (from jinja2->torch==2.2.0->torchtext) (2.1.5)\n",
      "Requirement already satisfied: mpmath<1.4,>=1.1.0 in c:\\users\\password please\\appdata\\local\\programs\\python\\python312\\lib\\site-packages (from sympy->torch==2.2.0->torchtext) (1.3.0)\n",
      "Installing collected packages: torchdata\n",
      "  Attempting uninstall: torchdata\n",
      "    Found existing installation: torchdata 0.10.1\n",
      "    Uninstalling torchdata-0.10.1:\n",
      "      Successfully uninstalled torchdata-0.10.1\n",
      "Successfully installed torchdata-0.7.1\n",
      "Requirement already satisfied: torchmetrics in c:\\users\\password please\\appdata\\local\\programs\\python\\python312\\lib\\site-packages (1.6.0)\n",
      "Requirement already satisfied: numpy>1.20.0 in c:\\users\\password please\\appdata\\local\\programs\\python\\python312\\lib\\site-packages (from torchmetrics) (1.26.1)\n",
      "Requirement already satisfied: packaging>17.1 in c:\\users\\password please\\appdata\\local\\programs\\python\\python312\\lib\\site-packages (from torchmetrics) (23.2)\n",
      "Requirement already satisfied: torch>=2.0.0 in c:\\users\\password please\\appdata\\local\\programs\\python\\python312\\lib\\site-packages (from torchmetrics) (2.2.0+cu118)\n",
      "Requirement already satisfied: lightning-utilities>=0.8.0 in c:\\users\\password please\\appdata\\local\\programs\\python\\python312\\lib\\site-packages (from torchmetrics) (0.11.9)\n",
      "Requirement already satisfied: setuptools in c:\\users\\password please\\appdata\\local\\programs\\python\\python312\\lib\\site-packages (from lightning-utilities>=0.8.0->torchmetrics) (75.6.0)\n",
      "Requirement already satisfied: typing-extensions in c:\\users\\password please\\appdata\\local\\programs\\python\\python312\\lib\\site-packages (from lightning-utilities>=0.8.0->torchmetrics) (4.12.1)\n",
      "Requirement already satisfied: filelock in c:\\users\\password please\\appdata\\local\\programs\\python\\python312\\lib\\site-packages (from torch>=2.0.0->torchmetrics) (3.14.0)\n",
      "Requirement already satisfied: sympy in c:\\users\\password please\\appdata\\local\\programs\\python\\python312\\lib\\site-packages (from torch>=2.0.0->torchmetrics) (1.13.1)\n",
      "Requirement already satisfied: networkx in c:\\users\\password please\\appdata\\local\\programs\\python\\python312\\lib\\site-packages (from torch>=2.0.0->torchmetrics) (3.3)\n",
      "Requirement already satisfied: jinja2 in c:\\users\\password please\\appdata\\local\\programs\\python\\python312\\lib\\site-packages (from torch>=2.0.0->torchmetrics) (3.1.4)\n",
      "Requirement already satisfied: fsspec in c:\\users\\password please\\appdata\\local\\programs\\python\\python312\\lib\\site-packages (from torch>=2.0.0->torchmetrics) (2024.5.0)\n",
      "Requirement already satisfied: MarkupSafe>=2.0 in c:\\users\\password please\\appdata\\local\\programs\\python\\python312\\lib\\site-packages (from jinja2->torch>=2.0.0->torchmetrics) (2.1.5)\n",
      "Requirement already satisfied: mpmath<1.4,>=1.1.0 in c:\\users\\password please\\appdata\\local\\programs\\python\\python312\\lib\\site-packages (from sympy->torch>=2.0.0->torchmetrics) (1.3.0)\n"
     ]
    }
   ],
   "source": [
    "!pip install --upgrade torchdata\n",
    "!pip install --upgrade torchtext --index-url https://download.pytorch.org/whl/cu118\n",
    "!pip install torchmetrics"
   ]
  },
  {
   "cell_type": "code",
   "execution_count": 54,
   "metadata": {
    "execution": {
     "iopub.execute_input": "2024-12-28T18:13:09.350143Z",
     "iopub.status.busy": "2024-12-28T18:13:09.349858Z",
     "iopub.status.idle": "2024-12-28T18:13:15.264625Z",
     "shell.execute_reply": "2024-12-28T18:13:15.263771Z",
     "shell.execute_reply.started": "2024-12-28T18:13:09.350113Z"
    },
    "id": "vhlVJEkJeTsV",
    "trusted": true
   },
   "outputs": [],
   "source": [
    "import numpy as np\n",
    "import matplotlib.pyplot as plt\n",
    "\n",
    "import torchtext\n",
    "import torchdata\n",
    "\n",
    "import torch\n",
    "from torch import nn\n",
    "from torch.utils.data import DataLoader, Dataset\n",
    "\n",
    "from torch import optim\n",
    "from torch.nn import functional as F\n",
    "\n",
    "import tqdm\n",
    "import torchmetrics as tm"
   ]
  },
  {
   "cell_type": "code",
   "execution_count": 55,
   "metadata": {
    "execution": {
     "iopub.execute_input": "2024-12-28T18:13:15.266507Z",
     "iopub.status.busy": "2024-12-28T18:13:15.266121Z",
     "iopub.status.idle": "2024-12-28T18:13:15.405097Z",
     "shell.execute_reply": "2024-12-28T18:13:15.404285Z",
     "shell.execute_reply.started": "2024-12-28T18:13:15.266485Z"
    },
    "id": "DEzYlyeqTZqQ",
    "trusted": true
   },
   "outputs": [
    {
     "name": "stdout",
     "output_type": "stream",
     "text": [
      "Python 3.10.10\n",
      "2.2.0+cu118\n",
      "0.17.0+cpu\n",
      "0.7.1\n"
     ]
    }
   ],
   "source": [
    "!python --version\n",
    "print(torch.__version__)\n",
    "print(torchtext.__version__)\n",
    "print(torchdata.__version__)"
   ]
  },
  {
   "cell_type": "code",
   "execution_count": 56,
   "metadata": {
    "execution": {
     "iopub.execute_input": "2024-12-28T18:13:15.406967Z",
     "iopub.status.busy": "2024-12-28T18:13:15.406715Z",
     "iopub.status.idle": "2024-12-28T18:13:15.413005Z",
     "shell.execute_reply": "2024-12-28T18:13:15.412228Z",
     "shell.execute_reply.started": "2024-12-28T18:13:15.406947Z"
    },
    "id": "6DWjGTq6T8Jg",
    "trusted": true
   },
   "outputs": [
    {
     "name": "stdout",
     "output_type": "stream",
     "text": [
      "numpy --> 1.26.3\n",
      "torch --> 2.2.0+cu118\n",
      "torchtext --> 0.17.0+cpu\n",
      "tqdm --> 4.67.1\n"
     ]
    }
   ],
   "source": [
    "for lib in [np, torch, torchtext, tqdm]:\n",
    "  print(lib.__name__, '-->', lib.__version__)"
   ]
  },
  {
   "cell_type": "markdown",
   "metadata": {
    "id": "RwaY_YcgRayy"
   },
   "source": [
    "# 🔴 **Utils**"
   ]
  },
  {
   "cell_type": "code",
   "execution_count": 57,
   "metadata": {
    "execution": {
     "iopub.execute_input": "2024-12-28T18:13:15.414016Z",
     "iopub.status.busy": "2024-12-28T18:13:15.413810Z",
     "iopub.status.idle": "2024-12-28T18:13:15.426773Z",
     "shell.execute_reply": "2024-12-28T18:13:15.426002Z",
     "shell.execute_reply.started": "2024-12-28T18:13:15.413999Z"
    },
    "id": "8yMS7bbmRayz",
    "trusted": true
   },
   "outputs": [],
   "source": [
    "class AverageMeter(object):\n",
    "    \"\"\"Computes and stores the average and current value\"\"\"\n",
    "    def __init__(self):\n",
    "        self.reset()\n",
    "\n",
    "    def reset(self):\n",
    "        self.val = 0\n",
    "        self.avg = 0\n",
    "        self.sum = 0\n",
    "        self.count = 0\n",
    "\n",
    "    def update(self, val, n=1):\n",
    "        self.val = val\n",
    "        self.sum += val * n\n",
    "        self.count += n\n",
    "        self.avg = self.sum / self.count"
   ]
  },
  {
   "cell_type": "code",
   "execution_count": 58,
   "metadata": {
    "execution": {
     "iopub.execute_input": "2024-12-28T18:13:15.427690Z",
     "iopub.status.busy": "2024-12-28T18:13:15.427425Z",
     "iopub.status.idle": "2024-12-28T18:13:15.441773Z",
     "shell.execute_reply": "2024-12-28T18:13:15.441019Z",
     "shell.execute_reply.started": "2024-12-28T18:13:15.427647Z"
    },
    "id": "PpKbTUEIRayz",
    "trusted": true
   },
   "outputs": [],
   "source": [
    "def num_trainable_params(model):\n",
    "  nums = sum(p.numel() for p in model.parameters() if p.requires_grad)/1e6\n",
    "  return nums"
   ]
  },
  {
   "cell_type": "markdown",
   "metadata": {
    "id": "RTql4Ftiunfr"
   },
   "source": [
    "# 🔴 **Dataset**"
   ]
  },
  {
   "cell_type": "markdown",
   "metadata": {
    "id": "ujIVtjsYvxOI"
   },
   "source": [
    "## 🟠 **Load the Dataset**"
   ]
  },
  {
   "cell_type": "markdown",
   "metadata": {
    "id": "Ek9DpCNCChzF"
   },
   "source": [
    "🔰 In this session you should load WikiText2 dataset."
   ]
  },
  {
   "cell_type": "code",
   "execution_count": 59,
   "metadata": {
    "execution": {
     "iopub.execute_input": "2024-12-28T18:13:15.442740Z",
     "iopub.status.busy": "2024-12-28T18:13:15.442517Z",
     "iopub.status.idle": "2024-12-28T18:13:20.613137Z",
     "shell.execute_reply": "2024-12-28T18:13:20.612476Z",
     "shell.execute_reply.started": "2024-12-28T18:13:15.442720Z"
    },
    "id": "ShYpXvVzVmP6",
    "trusted": true
   },
   "outputs": [
    {
     "name": "stdout",
     "output_type": "stream",
     "text": [
      "{'text': ' = Valkyria Chronicles III = \\n'}\n"
     ]
    }
   ],
   "source": [
    "from datasets import load_dataset\n",
    "\n",
    "dataset = load_dataset(\"wikitext\", \"wikitext-2-raw-v1\")\n",
    "\n",
    "train_data = dataset['train']\n",
    "val_data = dataset['validation']\n",
    "test_data = dataset['test']\n",
    "print(train_data[1]) "
   ]
  },
  {
   "cell_type": "markdown",
   "metadata": {
    "id": "wCi-ofSLCzop"
   },
   "source": [
    "## 🟠 **Build vocabulary and save it**"
   ]
  },
  {
   "cell_type": "markdown",
   "metadata": {
    "id": "L02PHFuyNRb3"
   },
   "source": [
    "🔰 In this section we need to:\n",
    "\n",
    "*   Define a tokenizer using `basic_english`\n",
    "*   Tokenize the dataset and collect tokens\n",
    "*   Build the vocabulary using `build_vocab_from_iterator`\n",
    "*   Manually insert special tokens and set the default index\n"
   ]
  },
  {
   "cell_type": "code",
   "execution_count": 60,
   "metadata": {
    "execution": {
     "iopub.execute_input": "2024-12-28T18:13:20.615346Z",
     "iopub.status.busy": "2024-12-28T18:13:20.615142Z",
     "iopub.status.idle": "2024-12-28T18:13:22.896497Z",
     "shell.execute_reply": "2024-12-28T18:13:22.895562Z",
     "shell.execute_reply.started": "2024-12-28T18:13:20.615328Z"
    },
    "id": "dlJ6Q6xCVuf0",
    "trusted": true
   },
   "outputs": [
    {
     "name": "stdout",
     "output_type": "stream",
     "text": [
      "Special Tokens and Their Indices:\n",
      "<unk>: 0\n",
      "<pad>: 1\n",
      "<bos>: 2\n",
      "<eos>: 3\n",
      "\n",
      "Tokenized Text: ['this', 'is', 'an', 'example', 'sentence', '.']\n",
      "Indexed Text: [38, 26, 33, 619, 2140, 6]\n"
     ]
    }
   ],
   "source": [
    "from torchtext.data.utils import get_tokenizer\n",
    "from torchtext.vocab import build_vocab_from_iterator\n",
    "\n",
    "tokenizer = get_tokenizer(\"basic_english\")\n",
    "\n",
    "def yield_tokens(dataset_split):\n",
    "    for example in dataset_split:\n",
    "        yield tokenizer(example[\"text\"])\n",
    "\n",
    "train_tokens = yield_tokens(train_data)\n",
    "\n",
    "vocab = build_vocab_from_iterator(train_tokens, specials=[\"<unk>\", \"<pad>\", \"<bos>\", \"<eos>\"])\n",
    "vocab.set_default_index(vocab[\"<unk>\"])\n",
    "\n",
    "print(\"Special Tokens and Their Indices:\")\n",
    "print(f\"<unk>: {vocab['<unk>']}\")\n",
    "print(f\"<pad>: {vocab['<pad>']}\")\n",
    "print(f\"<bos>: {vocab['<bos>']}\")\n",
    "print(f\"<eos>: {vocab['<eos>']}\")\n",
    "\n",
    "\n",
    "sample_text = \"This is an example sentence.\"\n",
    "tokenized_text = tokenizer(sample_text)\n",
    "indexed_text = [vocab[token] for token in tokenized_text]\n",
    "\n",
    "print(\"\\nTokenized Text:\", tokenized_text)\n",
    "print(\"Indexed Text:\", indexed_text)"
   ]
  },
  {
   "cell_type": "markdown",
   "metadata": {
    "id": "B29jrEvwRqXA"
   },
   "source": [
    "## 🟠 EDA"
   ]
  },
  {
   "cell_type": "markdown",
   "metadata": {
    "id": "pHtoYxEPd3bL"
   },
   "source": [
    "### 🟡 Let's explore the WikiText2 dataset!"
   ]
  },
  {
   "cell_type": "markdown",
   "metadata": {
    "id": "A3rnR739GbYb"
   },
   "source": [
    "### 🟡 Calculate basic statistics such as the number of documents, total words, average document length, etc."
   ]
  },
  {
   "cell_type": "code",
   "execution_count": 61,
   "metadata": {
    "execution": {
     "iopub.execute_input": "2024-12-28T18:13:22.898602Z",
     "iopub.status.busy": "2024-12-28T18:13:22.898373Z",
     "iopub.status.idle": "2024-12-28T18:13:24.675202Z",
     "shell.execute_reply": "2024-12-28T18:13:24.674470Z",
     "shell.execute_reply.started": "2024-12-28T18:13:22.898584Z"
    },
    "id": "jHVKeKwk2WaG",
    "trusted": true
   },
   "outputs": [
    {
     "name": "stdout",
     "output_type": "stream",
     "text": [
      "Training Set Statistics:\n",
      "num_documents: 36718\n",
      "total_words: 2051665\n",
      "avg_doc_length: 55.87627321749551\n",
      "min_doc_length: 0\n",
      "max_doc_length: 696\n"
     ]
    }
   ],
   "source": [
    "def calculate_statistics(dataset_split):\n",
    "    num_documents = len(dataset_split)\n",
    "    total_words = 0\n",
    "    total_lengths = []\n",
    "\n",
    "    for doc in dataset_split:\n",
    "        tokens = tokenizer(doc[\"text\"])\n",
    "        total_words += len(tokens)\n",
    "        total_lengths.append(len(tokens))\n",
    "\n",
    "    avg_doc_length = total_words / num_documents if num_documents > 0 else 0\n",
    "\n",
    "    return {\n",
    "        \"num_documents\": num_documents,\n",
    "        \"total_words\": total_words,\n",
    "        \"avg_doc_length\": avg_doc_length,\n",
    "        \"min_doc_length\": min(total_lengths) if total_lengths else 0,\n",
    "        \"max_doc_length\": max(total_lengths) if total_lengths else 0,\n",
    "    }\n",
    "\n",
    "train_stats = calculate_statistics(train_data)\n",
    "print(\"Training Set Statistics:\")\n",
    "for stat, value in train_stats.items():\n",
    "    print(f\"{stat}: {value}\")"
   ]
  },
  {
   "cell_type": "markdown",
   "metadata": {
    "id": "a4HyLPqcsF43"
   },
   "source": [
    "### 🟡 Analyze the most common and least common words in the dataset."
   ]
  },
  {
   "cell_type": "code",
   "execution_count": 62,
   "metadata": {
    "execution": {
     "iopub.execute_input": "2024-12-28T18:13:24.676256Z",
     "iopub.status.busy": "2024-12-28T18:13:24.676018Z",
     "iopub.status.idle": "2024-12-28T18:13:26.763975Z",
     "shell.execute_reply": "2024-12-28T18:13:26.763262Z",
     "shell.execute_reply.started": "2024-12-28T18:13:24.676235Z"
    },
    "id": "cBnEjagdTN8n",
    "trusted": true
   },
   "outputs": [
    {
     "name": "stdout",
     "output_type": "stream",
     "text": [
      "Most Common Words:\n",
      "the: 130770\n",
      ",: 102624\n",
      ".: 84291\n",
      "of: 57032\n",
      "and: 50736\n",
      "in: 45018\n",
      "to: 39522\n",
      "a: 36564\n",
      "=: 29570\n",
      "was: 21008\n",
      "\n",
      "Number of Least Common Words (occurring once): 26924\n",
      "Example of Least Common Words: ['calamaty', 'forgiving', 'unvoiced', 'scanned', 'boosts', 'depleting', 'reila', 'shocktroopers', 'thereon', 'altaha']\n"
     ]
    }
   ],
   "source": [
    "from collections import Counter\n",
    "\n",
    "def count_words(dataset_split):\n",
    "    word_counter = Counter()\n",
    "\n",
    "    for doc in dataset_split:\n",
    "        tokens = tokenizer(doc[\"text\"])\n",
    "        word_counter.update(tokens)\n",
    "\n",
    "    return word_counter\n",
    "\n",
    "train_word_counts = count_words(train_data)\n",
    "most_common_words = train_word_counts.most_common(10)\n",
    "least_common_words = [word for word, count in train_word_counts.items() if count == 1]\n",
    "\n",
    "print(\"Most Common Words:\")\n",
    "for word, count in most_common_words:\n",
    "    print(f\"{word}: {count}\")\n",
    "\n",
    "print(\"\\nNumber of Least Common Words (occurring once):\", len(least_common_words))\n",
    "print(\"Example of Least Common Words:\", least_common_words[:10])\n"
   ]
  },
  {
   "cell_type": "markdown",
   "metadata": {
    "id": "cfBasjQCE_aI"
   },
   "source": [
    "### 🟡  Please proceed with further exploration of the dataset. what do you suggest?"
   ]
  },
  {
   "cell_type": "code",
   "execution_count": 63,
   "metadata": {
    "execution": {
     "iopub.execute_input": "2024-12-28T18:13:26.764966Z",
     "iopub.status.busy": "2024-12-28T18:13:26.764761Z",
     "iopub.status.idle": "2024-12-28T18:13:28.298321Z",
     "shell.execute_reply": "2024-12-28T18:13:28.297564Z",
     "shell.execute_reply.started": "2024-12-28T18:13:26.764949Z"
    },
    "id": "yR8uQsv4E_aJ",
    "trusted": true
   },
   "outputs": [
    {
     "data": {
      "image/png": "[encoded data removed]",
      "text/plain": [
       "<Figure size 1000x600 with 1 Axes>"
      ]
     },
     "metadata": {},
     "output_type": "display_data"
    },
    {
     "data": {
      "image/png": "[encoded data removed]",
      "text/plain": [
       "<Figure size 1000x600 with 1 Axes>"
      ]
     },
     "metadata": {},
     "output_type": "display_data"
    }
   ],
   "source": [
    "word_frequencies = np.array(list(train_word_counts.values()))\n",
    "\n",
    "plt.figure(figsize=(10, 6))\n",
    "plt.hist(word_frequencies, bins=50, log=True, color='blue', alpha=0.7)\n",
    "plt.title(\"Word Frequency Distribution (Log Scale)\")\n",
    "plt.xlabel(\"Frequency\")\n",
    "plt.ylabel(\"Number of Words\")\n",
    "plt.grid(axis='y', linestyle='--', alpha=0.7)\n",
    "plt.show()\n",
    "\n",
    "sorted_frequencies = np.sort(word_frequencies)[::-1]\n",
    "ranks = np.arange(1, len(sorted_frequencies) + 1)\n",
    "\n",
    "plt.figure(figsize=(10, 6))\n",
    "plt.loglog(ranks, sorted_frequencies, marker=\"o\", linestyle=\"\", markersize=3, color='red')\n",
    "plt.title(\"Word Frequencies (Log-Log Plot)\")\n",
    "plt.xlabel(\"Rank\")\n",
    "plt.ylabel(\"Frequency\")\n",
    "plt.grid(which='both', linestyle='--', alpha=0.7)\n",
    "plt.show()"
   ]
  },
  {
   "cell_type": "markdown",
   "metadata": {
    "id": "idRexFij4wgN"
   },
   "source": [
    "## 🟠 Transform the data"
   ]
  },
  {
   "cell_type": "markdown",
   "metadata": {
    "id": "2VjvBOtvHu2v"
   },
   "source": [
    "🛑 Make sure to perform the transformations on train, validation and test datasets."
   ]
  },
  {
   "cell_type": "markdown",
   "metadata": {
    "id": "ApisIcGeGSsJ"
   },
   "source": [
    "🔰 Reshape the dataset into an `N x B x L` or `M x L` format, where `N` represents the number of batches, `B` is the batch size, `L` is the length of a sample within each batch, and `M` is equal to `N x B`."
   ]
  },
  {
   "cell_type": "code",
   "execution_count": 64,
   "metadata": {
    "execution": {
     "iopub.execute_input": "2024-12-28T18:13:28.299886Z",
     "iopub.status.busy": "2024-12-28T18:13:28.299530Z",
     "iopub.status.idle": "2024-12-28T18:13:28.304848Z",
     "shell.execute_reply": "2024-12-28T18:13:28.304180Z",
     "shell.execute_reply.started": "2024-12-28T18:13:28.299855Z"
    },
    "trusted": true
   },
   "outputs": [],
   "source": [
    "from torch.nn.utils.rnn import pad_sequence\n",
    "\n",
    "def data_process(raw_text_iter, batch_size, seq_len, vocab, tokenizer):\n",
    "    tokens = []\n",
    "    for line in raw_text_iter:\n",
    "        tokens.extend(tokenizer(line))\n",
    "    \n",
    "    token_indices = torch.tensor([vocab[token] for token in tokens if token in vocab])\n",
    "    \n",
    "    total_tokens = len(token_indices)\n",
    "    num_samples = total_tokens // seq_len\n",
    "    token_indices = token_indices[:num_samples * seq_len]\n",
    "    data = token_indices.clone().detach().view(num_samples, seq_len)\n",
    "\n",
    "    inputs = data[:, :-1]\n",
    "    targets = data[:, 1:]\n",
    "    return inputs, targets"
   ]
  },
  {
   "cell_type": "code",
   "execution_count": 65,
   "metadata": {
    "execution": {
     "iopub.execute_input": "2024-12-28T18:13:28.306100Z",
     "iopub.status.busy": "2024-12-28T18:13:28.305802Z",
     "iopub.status.idle": "2024-12-28T18:13:33.560043Z",
     "shell.execute_reply": "2024-12-28T18:13:33.558977Z",
     "shell.execute_reply.started": "2024-12-28T18:13:28.306072Z"
    },
    "id": "4GndG2B0WPIb",
    "trusted": true
   },
   "outputs": [
    {
     "name": "stdout",
     "output_type": "stream",
     "text": [
      "Inputs shape (N x B x L): torch.Size([41033, 49])\n",
      "Targets shape (N x B x L): torch.Size([41033, 49])\n"
     ]
    }
   ],
   "source": [
    "batch_size = 32\n",
    "seq_len = 50\n",
    "\n",
    "train_raw_iter = (line[\"text\"] for line in train_data)\n",
    "val_raw_iter = (line[\"text\"] for line in val_data)\n",
    "test_raw_iter = (line[\"text\"] for line in test_data)\n",
    "\n",
    "train_inputs, train_targets = data_process(train_raw_iter, batch_size, seq_len, vocab, tokenizer)\n",
    "val_inputs, val_targets = data_process(val_raw_iter, batch_size, seq_len, vocab, tokenizer)\n",
    "test_inputs, test_targets = data_process(test_raw_iter, batch_size, seq_len, vocab, tokenizer)\n",
    "\n",
    "print(\"Inputs shape (N x B x L):\", train_inputs.shape)\n",
    "print(\"Targets shape (N x B x L):\", train_targets.shape)\n"
   ]
  },
  {
   "cell_type": "markdown",
   "metadata": {
    "id": "PgLgP04P4-aX"
   },
   "source": [
    "## 🟠 Custom dataset"
   ]
  },
  {
   "cell_type": "markdown",
   "metadata": {
    "id": "XkxH_IR2PBNq"
   },
   "source": [
    "🔰 Write a custom dataset class for LanguageModelDataset."
   ]
  },
  {
   "cell_type": "code",
   "execution_count": 66,
   "metadata": {
    "execution": {
     "iopub.execute_input": "2024-12-28T18:13:33.561210Z",
     "iopub.status.busy": "2024-12-28T18:13:33.560932Z",
     "iopub.status.idle": "2024-12-28T18:13:33.565871Z",
     "shell.execute_reply": "2024-12-28T18:13:33.565020Z",
     "shell.execute_reply.started": "2024-12-28T18:13:33.561175Z"
    },
    "id": "1cjpSkrtexap",
    "trusted": true
   },
   "outputs": [],
   "source": [
    "class LanguageModelDataset(Dataset):\n",
    "\n",
    "  def __init__(self, inputs, targets):\n",
    "    self.inputs = inputs\n",
    "    self.targets = targets\n",
    "\n",
    "  def __len__(self):\n",
    "    return self.inputs.shape[0]\n",
    "\n",
    "  def __getitem__(self, idx):\n",
    "    return self.inputs[idx], self.targets[idx]\n"
   ]
  },
  {
   "cell_type": "code",
   "execution_count": 67,
   "metadata": {
    "execution": {
     "iopub.execute_input": "2024-12-28T18:13:33.567133Z",
     "iopub.status.busy": "2024-12-28T18:13:33.566885Z",
     "iopub.status.idle": "2024-12-28T18:13:33.644805Z",
     "shell.execute_reply": "2024-12-28T18:13:33.643936Z",
     "shell.execute_reply.started": "2024-12-28T18:13:33.567115Z"
    },
    "id": "o0qUkL0CfQmr",
    "trusted": true
   },
   "outputs": [
    {
     "name": "stdout",
     "output_type": "stream",
     "text": [
      "Dataset length: 41033\n",
      "Sample input-target pair:\n",
      "(tensor([   12,  3874,  3890,   885,    12, 20488,    86,  3874,    90, 24097,\n",
      "         3890,    24,   785, 29473,     5,  6081,     6,  3874,     7,     4,\n",
      "         5054,    90,    23,     5,  1840,  1016,    10,    17,  3874,  3890,\n",
      "          885,   634,   980,     5,    26,    11,  5692,   303,    15,   578,\n",
      "          235,    70,   456,    22, 14003,     8,   758,     6,  2476]), tensor([ 3874,  3890,   885,    12, 20488,    86,  3874,    90, 24097,  3890,\n",
      "           24,   785, 29473,     5,  6081,     6,  3874,     7,     4,  5054,\n",
      "           90,    23,     5,  1840,  1016,    10,    17,  3874,  3890,   885,\n",
      "          634,   980,     5,    26,    11,  5692,   303,    15,   578,   235,\n",
      "           70,   456,    22, 14003,     8,   758,     6,  2476,    20]))\n"
     ]
    }
   ],
   "source": [
    "train_dataset = LanguageModelDataset(train_inputs, train_targets)\n",
    "val_dataset = LanguageModelDataset(val_inputs, val_targets)\n",
    "test_dataset = LanguageModelDataset(test_inputs, test_targets)\n",
    "\n",
    "print(f\"Dataset length: {len(train_dataset)}\")\n",
    "print(\"Sample input-target pair:\")\n",
    "print(train_dataset[0])"
   ]
  },
  {
   "cell_type": "markdown",
   "metadata": {
    "id": "NCQjacybOfqV"
   },
   "source": [
    "## 🟠 Define a dataloader if needed"
   ]
  },
  {
   "cell_type": "markdown",
   "metadata": {
    "id": "HqKMEyFNS-1a"
   },
   "source": [
    "🔰 Write dataloaders for the training, validation, and test sets."
   ]
  },
  {
   "cell_type": "code",
   "execution_count": 68,
   "metadata": {
    "execution": {
     "iopub.execute_input": "2024-12-28T18:13:33.645878Z",
     "iopub.status.busy": "2024-12-28T18:13:33.645599Z",
     "iopub.status.idle": "2024-12-28T18:13:33.659742Z",
     "shell.execute_reply": "2024-12-28T18:13:33.658930Z",
     "shell.execute_reply.started": "2024-12-28T18:13:33.645845Z"
    },
    "id": "KMCJ3UMD0U_f",
    "trusted": true
   },
   "outputs": [],
   "source": [
    "batch_size = 32\n",
    "train_loader = DataLoader(train_dataset, batch_size=batch_size, shuffle=True)\n",
    "val_loader = DataLoader(val_dataset, batch_size=batch_size, shuffle=False)\n",
    "test_loader = DataLoader(test_dataset, batch_size=batch_size, shuffle=False)"
   ]
  },
  {
   "cell_type": "markdown",
   "metadata": {
    "id": "3ttl0AK3Hvyh"
   },
   "source": [
    "# 🔴 **Model**"
   ]
  },
  {
   "cell_type": "markdown",
   "metadata": {
    "id": "06p-oBowTf-R"
   },
   "source": [
    "🔰 Use the following template to create a custom model.\n",
    "\n",
    "Your model should consist of three parts:\n",
    "\n",
    "*   an embedding layer\n",
    "*   an LSTM layer\n",
    "*   a fully connected layer"
   ]
  },
  {
   "cell_type": "code",
   "execution_count": 69,
   "metadata": {
    "execution": {
     "iopub.execute_input": "2024-12-28T18:13:33.660814Z",
     "iopub.status.busy": "2024-12-28T18:13:33.660569Z",
     "iopub.status.idle": "2024-12-28T18:13:33.675340Z",
     "shell.execute_reply": "2024-12-28T18:13:33.674481Z",
     "shell.execute_reply.started": "2024-12-28T18:13:33.660794Z"
    },
    "id": "ISnnHE0BMVqp",
    "trusted": true
   },
   "outputs": [],
   "source": [
    "class LanguageModel(nn.Module):\n",
    "  def __init__(self, vocab_size, embedding_dim, hidden_dim, num_layers, dropout_rate):\n",
    "    super(LanguageModel, self).__init__()\n",
    "      \n",
    "    self.embedding = nn.Embedding(vocab_size, embedding_dim)\n",
    "    self.lstm = nn.LSTM(\n",
    "        input_size=embedding_dim,\n",
    "        hidden_size=hidden_dim,\n",
    "        num_layers=num_layers,\n",
    "        dropout=dropout_rate,\n",
    "        batch_first=True\n",
    "    )\n",
    "    self.fc = nn.Linear(hidden_dim, vocab_size)\n",
    "    self.dropout = nn.Dropout(dropout_rate)\n",
    "    \n",
    "\n",
    "  def forward(self, src):\n",
    "    embedded = self.embedding(src)\n",
    "    lstm_out, _ = self.lstm(embedded)\n",
    "    lstm_out = self.dropout(lstm_out)\n",
    "    output = self.fc(lstm_out)\n",
    "    return output"
   ]
  },
  {
   "cell_type": "code",
   "execution_count": 70,
   "metadata": {
    "execution": {
     "iopub.execute_input": "2024-12-28T18:13:33.676521Z",
     "iopub.status.busy": "2024-12-28T18:13:33.676243Z",
     "iopub.status.idle": "2024-12-28T18:13:35.610238Z",
     "shell.execute_reply": "2024-12-28T18:13:35.609270Z",
     "shell.execute_reply.started": "2024-12-28T18:13:33.676500Z"
    },
    "id": "2MgBVzorb9oQ",
    "trusted": true
   },
   "outputs": [
    {
     "name": "stdout",
     "output_type": "stream",
     "text": [
      "LanguageModel(\n",
      "  (embedding): Embedding(66061, 128)\n",
      "  (lstm): LSTM(128, 256, num_layers=2, batch_first=True, dropout=0.5)\n",
      "  (fc): Linear(in_features=256, out_features=66061, bias=True)\n",
      "  (dropout): Dropout(p=0.5, inplace=False)\n",
      ")\n",
      "Output shape: torch.Size([32, 49, 66061])\n"
     ]
    }
   ],
   "source": [
    "vocab_size = len(vocab)\n",
    "embedding_dim = 128\n",
    "hidden_dim = 256\n",
    "num_layers = 2\n",
    "dropout_rate = 0.5\n",
    "\n",
    "model = LanguageModel(vocab_size, embedding_dim, hidden_dim, num_layers, dropout_rate)\n",
    "print(model)\n",
    "\n",
    "src, _ = next(iter(train_loader))\n",
    "output = model(src)\n",
    "print(\"Output shape:\", output.shape)"
   ]
  },
  {
   "cell_type": "markdown",
   "metadata": {
    "id": "24qT-sgUO2-d"
   },
   "source": [
    "# 🔴 **Config**"
   ]
  },
  {
   "cell_type": "code",
   "execution_count": 71,
   "metadata": {
    "execution": {
     "iopub.execute_input": "2024-12-28T18:13:35.611822Z",
     "iopub.status.busy": "2024-12-28T18:13:35.611425Z",
     "iopub.status.idle": "2024-12-28T18:13:35.617558Z",
     "shell.execute_reply": "2024-12-28T18:13:35.616704Z",
     "shell.execute_reply.started": "2024-12-28T18:13:35.611782Z"
    },
    "id": "Ma28M5Z36gsq",
    "trusted": true
   },
   "outputs": [
    {
     "data": {
      "text/plain": [
       "'cuda'"
      ]
     },
     "execution_count": 71,
     "metadata": {},
     "output_type": "execute_result"
    }
   ],
   "source": [
    "device = 'cuda' if torch.cuda.is_available() else 'cpu'\n",
    "device"
   ]
  },
  {
   "cell_type": "markdown",
   "metadata": {
    "id": "bwYDJKjuduUT"
   },
   "source": [
    "🔰 Define the optimizer, loss function, metrics and other necessary parameters in this section, and ensure the model is sent to the appropriate device."
   ]
  },
  {
   "cell_type": "code",
   "execution_count": 72,
   "metadata": {
    "execution": {
     "iopub.execute_input": "2024-12-28T18:13:35.618897Z",
     "iopub.status.busy": "2024-12-28T18:13:35.618578Z",
     "iopub.status.idle": "2024-12-28T18:13:36.487872Z",
     "shell.execute_reply": "2024-12-28T18:13:36.486909Z",
     "shell.execute_reply.started": "2024-12-28T18:13:35.618868Z"
    },
    "id": "9ubk3xKaIG6i",
    "trusted": true
   },
   "outputs": [
    {
     "name": "stdout",
     "output_type": "stream",
     "text": [
      "Model Summary:\n",
      "LanguageModel(\n",
      "  (embedding): Embedding(66061, 128)\n",
      "  (lstm): LSTM(128, 256, num_layers=2, batch_first=True, dropout=0.5)\n",
      "  (fc): Linear(in_features=256, out_features=66061, bias=True)\n",
      "  (dropout): Dropout(p=0.5, inplace=False)\n",
      ")\n",
      "Optimizer: Adam (\n",
      "Parameter Group 0\n",
      "    amsgrad: False\n",
      "    betas: (0.9, 0.999)\n",
      "    capturable: False\n",
      "    differentiable: False\n",
      "    eps: 1e-08\n",
      "    foreach: None\n",
      "    fused: None\n",
      "    lr: 0.001\n",
      "    maximize: False\n",
      "    weight_decay: 0\n",
      ")\n",
      "Loss Function: CrossEntropyLoss()\n",
      "Metric: Perplexity()\n"
     ]
    }
   ],
   "source": [
    "optimizer = optim.Adam(model.parameters(), lr=1e-3)\n",
    "criterion = nn.CrossEntropyLoss()\n",
    "accuracy = tm.Accuracy(task=\"multiclass\", num_classes=vocab_size).to(device)\n",
    "perplexity = tm.text.Perplexity().to(device)\n",
    "\n",
    "print(\"Model Summary:\")\n",
    "print(model)\n",
    "print(f\"Optimizer: {optimizer}\")\n",
    "print(f\"Loss Function: {criterion}\")\n",
    "print(f\"Metric: {perplexity}\")"
   ]
  },
  {
   "cell_type": "markdown",
   "metadata": {
    "id": "W0QNbC0YPCKZ"
   },
   "source": [
    "# 🔴 **Train ➰**"
   ]
  },
  {
   "cell_type": "markdown",
   "metadata": {
    "id": "yS6EF4HUhi5e"
   },
   "source": [
    "🔰 This is the template for train function, change it if needed."
   ]
  },
  {
   "cell_type": "code",
   "execution_count": 73,
   "metadata": {
    "execution": {
     "iopub.execute_input": "2024-12-28T18:13:36.489198Z",
     "iopub.status.busy": "2024-12-28T18:13:36.488806Z",
     "iopub.status.idle": "2024-12-28T18:13:36.496352Z",
     "shell.execute_reply": "2024-12-28T18:13:36.495493Z",
     "shell.execute_reply.started": "2024-12-28T18:13:36.489164Z"
    },
    "id": "WniOAgk0QyRI",
    "trusted": true
   },
   "outputs": [],
   "source": [
    "scaler = torch.cuda.amp.GradScaler()\n",
    "\n",
    "def train_one_epoch(model, train_loader, loss_fn, optimizer, metric, epoch=None):\n",
    "  model.train()\n",
    "  loss_train = AverageMeter()\n",
    "  metric.reset()\n",
    "\n",
    "  with tqdm.tqdm(train_loader, unit='batch') as tepoch:\n",
    "    for inputs, targets in tepoch:\n",
    "      if epoch:\n",
    "        tepoch.set_description(f'Epoch {epoch}')\n",
    "\n",
    "      inputs = inputs.to(device)\n",
    "      targets = targets.to(device)\n",
    "\n",
    "      outputs = model(inputs)\n",
    "        \n",
    "      outputs_2d = outputs.view(-1, outputs.size(-1))  \n",
    "      targets_2d = targets.view(-1)\n",
    "\n",
    "      loss = loss_fn(outputs_2d, targets_2d)\n",
    "\n",
    "      loss.backward()\n",
    "\n",
    "      optimizer.step()\n",
    "      optimizer.zero_grad()\n",
    "\n",
    "      loss_train.update(loss.item(), n=len(targets))\n",
    "        \n",
    "      logit = F.log_softmax(outputs, dim=-1)\n",
    "      metric.update(logit, targets)\n",
    "\n",
    "      tepoch.set_postfix(loss=loss_train.avg, metric=metric.compute().item())\n",
    "\n",
    "  return model, loss_train.avg, metric.compute().item()"
   ]
  },
  {
   "cell_type": "markdown",
   "metadata": {
    "id": "G9HgVWslPGsH"
   },
   "source": [
    "# 🔴 **Evaluation**"
   ]
  },
  {
   "cell_type": "markdown",
   "metadata": {
    "id": "TsszJ7GVj2l3"
   },
   "source": [
    "🔰 This is the template for evaluation function, change it if needed."
   ]
  },
  {
   "cell_type": "code",
   "execution_count": 74,
   "metadata": {
    "execution": {
     "iopub.execute_input": "2024-12-28T18:13:36.497514Z",
     "iopub.status.busy": "2024-12-28T18:13:36.497300Z",
     "iopub.status.idle": "2024-12-28T18:13:36.516439Z",
     "shell.execute_reply": "2024-12-28T18:13:36.515692Z",
     "shell.execute_reply.started": "2024-12-28T18:13:36.497496Z"
    },
    "id": "uV0_67_ZQ0xf",
    "trusted": true
   },
   "outputs": [],
   "source": [
    "def evaluate(model, test_loader, loss_fn, metric):\n",
    "  model.eval()\n",
    "  loss_eval = AverageMeter()\n",
    "  metric.reset()\n",
    "\n",
    "  with torch.inference_mode():\n",
    "    for inputs, targets in test_loader:\n",
    "      inputs = inputs.to(device)\n",
    "      targets = targets.to(device)\n",
    "\n",
    "      outputs = model(inputs)\n",
    "        \n",
    "      outputs_2d = outputs.view(-1, outputs.size(-1))  \n",
    "      targets_2d = targets.view(-1) \n",
    "\n",
    "      loss = loss_fn(outputs_2d, targets_2d)\n",
    "      loss_eval.update(loss.item(), n=len(targets))\n",
    "\n",
    "      logit = F.log_softmax(outputs, dim=-1)\n",
    "      metric.update(logit, targets)\n",
    "\n",
    "  return loss_eval.avg, metric.compute().item()"
   ]
  },
  {
   "cell_type": "markdown",
   "metadata": {
    "id": "o_5f69nwPtY2"
   },
   "source": [
    "# 🔴 **Training Process 〽️**"
   ]
  },
  {
   "cell_type": "markdown",
   "metadata": {
    "id": "De7VreNxQdct"
   },
   "source": [
    "## 🟠 Finding Hyper-parameters"
   ]
  },
  {
   "cell_type": "markdown",
   "metadata": {
    "id": "lpJ3wtyctQJH"
   },
   "source": [
    "### 🟡 **Step 1:** Calculate the loss for an untrained model using a few batches.\n"
   ]
  },
  {
   "cell_type": "code",
   "execution_count": 75,
   "metadata": {
    "execution": {
     "iopub.execute_input": "2024-12-28T18:13:36.519583Z",
     "iopub.status.busy": "2024-12-28T18:13:36.519379Z",
     "iopub.status.idle": "2024-12-28T18:13:36.967028Z",
     "shell.execute_reply": "2024-12-28T18:13:36.966065Z",
     "shell.execute_reply.started": "2024-12-28T18:13:36.519566Z"
    },
    "id": "QnE4F4GkzzaR",
    "trusted": true
   },
   "outputs": [
    {
     "name": "stdout",
     "output_type": "stream",
     "text": [
      "torch.Size([32, 49, 66061]) torch.Size([32, 49])\n",
      "tensor(11.1054, device='cuda:0')\n"
     ]
    }
   ],
   "source": [
    "model = model.to(device)\n",
    "model.eval()\n",
    "\n",
    "inputs, targets = next(iter(train_loader))\n",
    "inputs = inputs.to(device)\n",
    "targets = targets.to(device)\n",
    "\n",
    "with torch.no_grad():\n",
    "  outputs = model(inputs)\n",
    "  \n",
    "  outputs_2d = outputs.view(-1, outputs.size(-1))  \n",
    "  targets_2d = targets.view(-1) \n",
    "    \n",
    "  print(outputs.shape, targets.shape)\n",
    "    \n",
    "  loss = criterion(outputs_2d, targets_2d)\n",
    "\n",
    "print(loss)"
   ]
  },
  {
   "cell_type": "markdown",
   "metadata": {
    "id": "BrHQCv7q7LF_"
   },
   "source": [
    "### 🟡 **Step 2:** Try to train and overfit the model on a small subset of the dataset."
   ]
  },
  {
   "cell_type": "code",
   "execution_count": 76,
   "metadata": {
    "execution": {
     "iopub.execute_input": "2024-12-28T18:13:36.968586Z",
     "iopub.status.busy": "2024-12-28T18:13:36.968318Z",
     "iopub.status.idle": "2024-12-28T18:13:36.973823Z",
     "shell.execute_reply": "2024-12-28T18:13:36.972989Z",
     "shell.execute_reply.started": "2024-12-28T18:13:36.968563Z"
    },
    "id": "G0ji0MXsWaPt",
    "trusted": true
   },
   "outputs": [],
   "source": [
    "model = model.to(device)"
   ]
  },
  {
   "cell_type": "code",
   "execution_count": 77,
   "metadata": {
    "execution": {
     "iopub.execute_input": "2024-12-28T18:13:36.974876Z",
     "iopub.status.busy": "2024-12-28T18:13:36.974574Z",
     "iopub.status.idle": "2024-12-28T18:13:36.989615Z",
     "shell.execute_reply": "2024-12-28T18:13:36.988814Z",
     "shell.execute_reply.started": "2024-12-28T18:13:36.974841Z"
    },
    "id": "kPRZQpPWJ2qv",
    "trusted": true
   },
   "outputs": [],
   "source": [
    "train_subset = torch.utils.data.Subset(train_dataset, indices=range(256))\n",
    "train_subset_loader = DataLoader(train_subset, batch_size=32, shuffle=True)"
   ]
  },
  {
   "cell_type": "code",
   "execution_count": 78,
   "metadata": {
    "execution": {
     "iopub.execute_input": "2024-12-28T18:13:36.990532Z",
     "iopub.status.busy": "2024-12-28T18:13:36.990324Z",
     "iopub.status.idle": "2024-12-28T18:15:19.023493Z",
     "shell.execute_reply": "2024-12-28T18:15:19.022511Z",
     "shell.execute_reply.started": "2024-12-28T18:13:36.990513Z"
    },
    "id": "bNrg4d9hWaPt",
    "trusted": true
   },
   "outputs": [
    {
     "name": "stderr",
     "output_type": "stream",
     "text": [
      "100%|██████████| 8/8 [00:00<00:00, 15.26batch/s, loss=11, metric=5.82e+4]  \n"
     ]
    },
    {
     "name": "stdout",
     "output_type": "stream",
     "text": [
      "Epoch 0 -- Train Loss: 10.9711 -- Train Perplexity: 58168.3711 -- Val Loss: 10.2755 -- Val Perplexity: 29012.2266\n"
     ]
    },
    {
     "name": "stderr",
     "output_type": "stream",
     "text": [
      "Epoch 1: 100%|██████████| 8/8 [00:00<00:00, 16.97batch/s, loss=8.77, metric=6.46e+3]\n"
     ]
    },
    {
     "name": "stdout",
     "output_type": "stream",
     "text": [
      "Epoch 1 -- Train Loss: 8.7740 -- Train Perplexity: 6463.9775 -- Val Loss: 8.0545 -- Val Perplexity: 3147.8948\n"
     ]
    },
    {
     "name": "stderr",
     "output_type": "stream",
     "text": [
      "Epoch 2: 100%|██████████| 8/8 [00:00<00:00, 17.04batch/s, loss=6.99, metric=1.08e+3]\n"
     ]
    },
    {
     "name": "stdout",
     "output_type": "stream",
     "text": [
      "Epoch 2 -- Train Loss: 6.9855 -- Train Perplexity: 1080.8254 -- Val Loss: 8.0620 -- Val Perplexity: 3171.6099\n"
     ]
    },
    {
     "name": "stderr",
     "output_type": "stream",
     "text": [
      "Epoch 3: 100%|██████████| 8/8 [00:00<00:00, 17.37batch/s, loss=6.74, metric=848]\n"
     ]
    },
    {
     "name": "stdout",
     "output_type": "stream",
     "text": [
      "Epoch 3 -- Train Loss: 6.7427 -- Train Perplexity: 847.8631 -- Val Loss: 8.3045 -- Val Perplexity: 4041.9229\n"
     ]
    },
    {
     "name": "stderr",
     "output_type": "stream",
     "text": [
      "Epoch 4: 100%|██████████| 8/8 [00:00<00:00, 17.29batch/s, loss=6.63, metric=760]\n"
     ]
    },
    {
     "name": "stdout",
     "output_type": "stream",
     "text": [
      "Epoch 4 -- Train Loss: 6.6327 -- Train Perplexity: 759.5587 -- Val Loss: 8.3898 -- Val Perplexity: 4401.8408\n"
     ]
    },
    {
     "name": "stderr",
     "output_type": "stream",
     "text": [
      "Epoch 5: 100%|██████████| 8/8 [00:00<00:00, 17.27batch/s, loss=6.56, metric=703]\n"
     ]
    },
    {
     "name": "stdout",
     "output_type": "stream",
     "text": [
      "Epoch 5 -- Train Loss: 6.5553 -- Train Perplexity: 702.9628 -- Val Loss: 8.4198 -- Val Perplexity: 4536.1465\n"
     ]
    },
    {
     "name": "stderr",
     "output_type": "stream",
     "text": [
      "Epoch 6: 100%|██████████| 8/8 [00:00<00:00, 17.10batch/s, loss=6.52, metric=676]\n"
     ]
    },
    {
     "name": "stdout",
     "output_type": "stream",
     "text": [
      "Epoch 6 -- Train Loss: 6.5164 -- Train Perplexity: 676.1127 -- Val Loss: 8.4325 -- Val Perplexity: 4593.9878\n"
     ]
    },
    {
     "name": "stderr",
     "output_type": "stream",
     "text": [
      "Epoch 7: 100%|██████████| 8/8 [00:00<00:00, 17.18batch/s, loss=6.49, metric=656]\n"
     ]
    },
    {
     "name": "stdout",
     "output_type": "stream",
     "text": [
      "Epoch 7 -- Train Loss: 6.4868 -- Train Perplexity: 656.4409 -- Val Loss: 8.4570 -- Val Perplexity: 4707.8403\n"
     ]
    },
    {
     "name": "stderr",
     "output_type": "stream",
     "text": [
      "Epoch 8: 100%|██████████| 8/8 [00:00<00:00, 17.18batch/s, loss=6.47, metric=643]\n"
     ]
    },
    {
     "name": "stdout",
     "output_type": "stream",
     "text": [
      "Epoch 8 -- Train Loss: 6.4658 -- Train Perplexity: 642.7822 -- Val Loss: 8.4855 -- Val Perplexity: 4844.1870\n"
     ]
    },
    {
     "name": "stderr",
     "output_type": "stream",
     "text": [
      "Epoch 9: 100%|██████████| 8/8 [00:00<00:00, 17.12batch/s, loss=6.47, metric=644]\n"
     ]
    },
    {
     "name": "stdout",
     "output_type": "stream",
     "text": [
      "Epoch 9 -- Train Loss: 6.4670 -- Train Perplexity: 643.5726 -- Val Loss: 8.5078 -- Val Perplexity: 4953.0610\n"
     ]
    },
    {
     "name": "stderr",
     "output_type": "stream",
     "text": [
      "Epoch 10: 100%|██████████| 8/8 [00:00<00:00, 15.54batch/s, loss=6.44, metric=626]\n"
     ]
    },
    {
     "name": "stdout",
     "output_type": "stream",
     "text": [
      "Epoch 10 -- Train Loss: 6.4393 -- Train Perplexity: 625.9858 -- Val Loss: 8.5363 -- Val Perplexity: 5096.3975\n"
     ]
    },
    {
     "name": "stderr",
     "output_type": "stream",
     "text": [
      "Epoch 11: 100%|██████████| 8/8 [00:00<00:00, 17.14batch/s, loss=6.44, metric=629]\n"
     ]
    },
    {
     "name": "stdout",
     "output_type": "stream",
     "text": [
      "Epoch 11 -- Train Loss: 6.4442 -- Train Perplexity: 629.0289 -- Val Loss: 8.5606 -- Val Perplexity: 5222.0542\n"
     ]
    },
    {
     "name": "stderr",
     "output_type": "stream",
     "text": [
      "Epoch 12: 100%|██████████| 8/8 [00:00<00:00, 17.09batch/s, loss=6.44, metric=628]\n"
     ]
    },
    {
     "name": "stdout",
     "output_type": "stream",
     "text": [
      "Epoch 12 -- Train Loss: 6.4427 -- Train Perplexity: 628.0734 -- Val Loss: 8.5845 -- Val Perplexity: 5348.3540\n"
     ]
    },
    {
     "name": "stderr",
     "output_type": "stream",
     "text": [
      "Epoch 13: 100%|██████████| 8/8 [00:00<00:00, 17.07batch/s, loss=6.42, metric=615]\n"
     ]
    },
    {
     "name": "stdout",
     "output_type": "stream",
     "text": [
      "Epoch 13 -- Train Loss: 6.4212 -- Train Perplexity: 614.7684 -- Val Loss: 8.6116 -- Val Perplexity: 5494.9863\n"
     ]
    },
    {
     "name": "stderr",
     "output_type": "stream",
     "text": [
      "Epoch 14: 100%|██████████| 8/8 [00:00<00:00, 17.10batch/s, loss=6.42, metric=614]\n"
     ]
    },
    {
     "name": "stdout",
     "output_type": "stream",
     "text": [
      "Epoch 14 -- Train Loss: 6.4201 -- Train Perplexity: 614.0538 -- Val Loss: 8.6369 -- Val Perplexity: 5636.0195\n"
     ]
    },
    {
     "name": "stderr",
     "output_type": "stream",
     "text": [
      "Epoch 15: 100%|██████████| 8/8 [00:00<00:00, 17.25batch/s, loss=6.42, metric=613]\n"
     ]
    },
    {
     "name": "stdout",
     "output_type": "stream",
     "text": [
      "Epoch 15 -- Train Loss: 6.4191 -- Train Perplexity: 613.4515 -- Val Loss: 8.6542 -- Val Perplexity: 5734.0132\n"
     ]
    },
    {
     "name": "stderr",
     "output_type": "stream",
     "text": [
      "Epoch 16: 100%|██████████| 8/8 [00:00<00:00, 17.32batch/s, loss=6.42, metric=616]\n"
     ]
    },
    {
     "name": "stdout",
     "output_type": "stream",
     "text": [
      "Epoch 16 -- Train Loss: 6.4229 -- Train Perplexity: 615.7800 -- Val Loss: 8.6721 -- Val Perplexity: 5837.9302\n"
     ]
    },
    {
     "name": "stderr",
     "output_type": "stream",
     "text": [
      "Epoch 17: 100%|██████████| 8/8 [00:00<00:00, 17.19batch/s, loss=6.4, metric=605] \n"
     ]
    },
    {
     "name": "stdout",
     "output_type": "stream",
     "text": [
      "Epoch 17 -- Train Loss: 6.4050 -- Train Perplexity: 604.8582 -- Val Loss: 8.6919 -- Val Perplexity: 5954.5718\n"
     ]
    },
    {
     "name": "stderr",
     "output_type": "stream",
     "text": [
      "Epoch 18: 100%|██████████| 8/8 [00:00<00:00, 17.30batch/s, loss=6.4, metric=603] \n"
     ]
    },
    {
     "name": "stdout",
     "output_type": "stream",
     "text": [
      "Epoch 18 -- Train Loss: 6.4019 -- Train Perplexity: 602.9970 -- Val Loss: 8.7090 -- Val Perplexity: 6057.4692\n"
     ]
    },
    {
     "name": "stderr",
     "output_type": "stream",
     "text": [
      "Epoch 19: 100%|██████████| 8/8 [00:00<00:00, 17.23batch/s, loss=6.39, metric=598]\n"
     ]
    },
    {
     "name": "stdout",
     "output_type": "stream",
     "text": [
      "Epoch 19 -- Train Loss: 6.3934 -- Train Perplexity: 597.8724 -- Val Loss: 8.7340 -- Val Perplexity: 6210.2021\n"
     ]
    },
    {
     "name": "stderr",
     "output_type": "stream",
     "text": [
      "Epoch 20: 100%|██████████| 8/8 [00:00<00:00, 17.19batch/s, loss=6.39, metric=595]\n"
     ]
    },
    {
     "name": "stdout",
     "output_type": "stream",
     "text": [
      "Epoch 20 -- Train Loss: 6.3894 -- Train Perplexity: 595.4946 -- Val Loss: 8.7544 -- Val Perplexity: 6338.7417\n"
     ]
    },
    {
     "name": "stderr",
     "output_type": "stream",
     "text": [
      "Epoch 21: 100%|██████████| 8/8 [00:00<00:00, 17.32batch/s, loss=6.38, metric=592]\n"
     ]
    },
    {
     "name": "stdout",
     "output_type": "stream",
     "text": [
      "Epoch 21 -- Train Loss: 6.3843 -- Train Perplexity: 592.4435 -- Val Loss: 8.7655 -- Val Perplexity: 6409.5410\n"
     ]
    },
    {
     "name": "stderr",
     "output_type": "stream",
     "text": [
      "Epoch 22: 100%|██████████| 8/8 [00:00<00:00, 17.33batch/s, loss=6.38, metric=591]\n"
     ]
    },
    {
     "name": "stdout",
     "output_type": "stream",
     "text": [
      "Epoch 22 -- Train Loss: 6.3823 -- Train Perplexity: 591.2908 -- Val Loss: 8.7819 -- Val Perplexity: 6514.9922\n"
     ]
    },
    {
     "name": "stderr",
     "output_type": "stream",
     "text": [
      "Epoch 23: 100%|██████████| 8/8 [00:00<00:00, 17.17batch/s, loss=6.37, metric=587]\n"
     ]
    },
    {
     "name": "stdout",
     "output_type": "stream",
     "text": [
      "Epoch 23 -- Train Loss: 6.3747 -- Train Perplexity: 586.8184 -- Val Loss: 8.8077 -- Val Perplexity: 6685.6470\n"
     ]
    },
    {
     "name": "stderr",
     "output_type": "stream",
     "text": [
      "Epoch 24: 100%|██████████| 8/8 [00:00<00:00, 17.08batch/s, loss=6.37, metric=585]\n"
     ]
    },
    {
     "name": "stdout",
     "output_type": "stream",
     "text": [
      "Epoch 24 -- Train Loss: 6.3723 -- Train Perplexity: 585.3799 -- Val Loss: 8.8110 -- Val Perplexity: 6707.7886\n"
     ]
    },
    {
     "name": "stderr",
     "output_type": "stream",
     "text": [
      "Epoch 25: 100%|██████████| 8/8 [00:00<00:00, 17.08batch/s, loss=6.37, metric=584]\n"
     ]
    },
    {
     "name": "stdout",
     "output_type": "stream",
     "text": [
      "Epoch 25 -- Train Loss: 6.3701 -- Train Perplexity: 584.1035 -- Val Loss: 8.8186 -- Val Perplexity: 6758.4717\n"
     ]
    },
    {
     "name": "stderr",
     "output_type": "stream",
     "text": [
      "Epoch 26: 100%|██████████| 8/8 [00:00<00:00, 14.84batch/s, loss=6.36, metric=578]\n"
     ]
    },
    {
     "name": "stdout",
     "output_type": "stream",
     "text": [
      "Epoch 26 -- Train Loss: 6.3604 -- Train Perplexity: 578.4563 -- Val Loss: 8.8296 -- Val Perplexity: 6833.7505\n"
     ]
    },
    {
     "name": "stderr",
     "output_type": "stream",
     "text": [
      "Epoch 27: 100%|██████████| 8/8 [00:00<00:00, 17.15batch/s, loss=6.35, metric=572]\n"
     ]
    },
    {
     "name": "stdout",
     "output_type": "stream",
     "text": [
      "Epoch 27 -- Train Loss: 6.3484 -- Train Perplexity: 571.5699 -- Val Loss: 8.8498 -- Val Perplexity: 6972.8818\n"
     ]
    },
    {
     "name": "stderr",
     "output_type": "stream",
     "text": [
      "Epoch 28: 100%|██████████| 8/8 [00:00<00:00, 17.02batch/s, loss=6.35, metric=573]\n"
     ]
    },
    {
     "name": "stdout",
     "output_type": "stream",
     "text": [
      "Epoch 28 -- Train Loss: 6.3506 -- Train Perplexity: 572.8490 -- Val Loss: 8.8595 -- Val Perplexity: 7040.7056\n"
     ]
    },
    {
     "name": "stderr",
     "output_type": "stream",
     "text": [
      "Epoch 29: 100%|██████████| 8/8 [00:00<00:00, 17.07batch/s, loss=6.35, metric=573]\n"
     ]
    },
    {
     "name": "stdout",
     "output_type": "stream",
     "text": [
      "Epoch 29 -- Train Loss: 6.3505 -- Train Perplexity: 572.7859 -- Val Loss: 8.8658 -- Val Perplexity: 7085.1685\n"
     ]
    }
   ],
   "source": [
    "num_epochs = 30\n",
    "\n",
    "for epoch in range(num_epochs):\n",
    "  model, train_loss, train_perplexity = train_one_epoch(model, train_subset_loader, criterion, optimizer, perplexity, epoch)\n",
    "  val_loss, val_perplexity = evaluate(model, val_loader, criterion, perplexity)\n",
    "\n",
    "  print(f\"Epoch {epoch} -- Train Loss: {train_loss:.4f} -- Train Perplexity: {train_perplexity:.4f} -- Val Loss: {val_loss:.4f} -- Val Perplexity: {val_perplexity:.4f}\")"
   ]
  },
  {
   "cell_type": "markdown",
   "metadata": {
    "id": "BLT4w0ZfAhlJ"
   },
   "source": [
    "### 🟡 **Step 3:** Train the model for a limited number of epochs, experimenting with various learning rates."
   ]
  },
  {
   "cell_type": "code",
   "execution_count": 79,
   "metadata": {
    "execution": {
     "iopub.execute_input": "2024-12-28T18:16:57.679012Z",
     "iopub.status.busy": "2024-12-28T18:16:57.678553Z",
     "iopub.status.idle": "2024-12-28T18:52:02.397066Z",
     "shell.execute_reply": "2024-12-28T18:52:02.395888Z",
     "shell.execute_reply.started": "2024-12-28T18:16:57.678974Z"
    },
    "id": "Jxz5DXoj61mg",
    "trusted": true
   },
   "outputs": [
    {
     "name": "stdout",
     "output_type": "stream",
     "text": [
      "LR=0.01\n"
     ]
    },
    {
     "name": "stderr",
     "output_type": "stream",
     "text": [
      "100%|██████████| 1283/1283 [01:08<00:00, 18.69batch/s, loss=11, metric=5.8e+4]  \n"
     ]
    },
    {
     "name": "stdout",
     "output_type": "stream",
     "text": [
      "Epoch 0 -- Train Loss: 10.9676 -- Train Perplexity: 57967.2383 -- Val Loss: 10.7229 -- Val Perplexity: 45385.6328\n"
     ]
    },
    {
     "name": "stderr",
     "output_type": "stream",
     "text": [
      "Epoch 1: 100%|██████████| 1283/1283 [01:10<00:00, 18.18batch/s, loss=9.51, metric=1.35e+4]\n"
     ]
    },
    {
     "name": "stdout",
     "output_type": "stream",
     "text": [
      "Epoch 1 -- Train Loss: 9.5120 -- Train Perplexity: 13520.8945 -- Val Loss: 8.5488 -- Val Perplexity: 5160.3589\n"
     ]
    },
    {
     "name": "stderr",
     "output_type": "stream",
     "text": [
      "Epoch 2: 100%|██████████| 1283/1283 [01:10<00:00, 18.26batch/s, loss=8.5, metric=4.9e+3]  \n"
     ]
    },
    {
     "name": "stdout",
     "output_type": "stream",
     "text": [
      "Epoch 2 -- Train Loss: 8.4974 -- Train Perplexity: 4901.9663 -- Val Loss: 8.1728 -- Val Perplexity: 3543.3633\n"
     ]
    },
    {
     "name": "stderr",
     "output_type": "stream",
     "text": [
      "Epoch 3: 100%|██████████| 1283/1283 [01:10<00:00, 18.29batch/s, loss=8.26, metric=3.87e+3]\n"
     ]
    },
    {
     "name": "stdout",
     "output_type": "stream",
     "text": [
      "Epoch 3 -- Train Loss: 8.2607 -- Train Perplexity: 3868.7581 -- Val Loss: 7.9901 -- Val Perplexity: 2951.5188\n"
     ]
    },
    {
     "name": "stderr",
     "output_type": "stream",
     "text": [
      "Epoch 4: 100%|██████████| 1283/1283 [01:10<00:00, 18.24batch/s, loss=8.11, metric=3.34e+3]\n"
     ]
    },
    {
     "name": "stdout",
     "output_type": "stream",
     "text": [
      "Epoch 4 -- Train Loss: 8.1127 -- Train Perplexity: 3336.5984 -- Val Loss: 7.8561 -- Val Perplexity: 2581.4468\n"
     ]
    },
    {
     "name": "stderr",
     "output_type": "stream",
     "text": [
      "Epoch 5: 100%|██████████| 1283/1283 [01:10<00:00, 18.20batch/s, loss=8, metric=2.98e+3]   \n"
     ]
    },
    {
     "name": "stdout",
     "output_type": "stream",
     "text": [
      "Epoch 5 -- Train Loss: 8.0007 -- Train Perplexity: 2982.9885 -- Val Loss: 7.7500 -- Val Perplexity: 2321.5857\n"
     ]
    },
    {
     "name": "stderr",
     "output_type": "stream",
     "text": [
      "Epoch 6: 100%|██████████| 1283/1283 [01:11<00:00, 18.03batch/s, loss=7.91, metric=2.73e+3]\n"
     ]
    },
    {
     "name": "stdout",
     "output_type": "stream",
     "text": [
      "Epoch 6 -- Train Loss: 7.9130 -- Train Perplexity: 2732.5906 -- Val Loss: 7.6658 -- Val Perplexity: 2134.0090\n"
     ]
    },
    {
     "name": "stderr",
     "output_type": "stream",
     "text": [
      "Epoch 7: 100%|██████████| 1283/1283 [01:09<00:00, 18.35batch/s, loss=7.84, metric=2.54e+3]\n"
     ]
    },
    {
     "name": "stdout",
     "output_type": "stream",
     "text": [
      "Epoch 7 -- Train Loss: 7.8414 -- Train Perplexity: 2543.7859 -- Val Loss: 7.5949 -- Val Perplexity: 1988.1005\n"
     ]
    },
    {
     "name": "stderr",
     "output_type": "stream",
     "text": [
      "Epoch 8: 100%|██████████| 1283/1283 [01:10<00:00, 18.11batch/s, loss=7.78, metric=2.39e+3]\n"
     ]
    },
    {
     "name": "stdout",
     "output_type": "stream",
     "text": [
      "Epoch 8 -- Train Loss: 7.7800 -- Train Perplexity: 2392.3071 -- Val Loss: 7.5340 -- Val Perplexity: 1870.5878\n"
     ]
    },
    {
     "name": "stderr",
     "output_type": "stream",
     "text": [
      "Epoch 9: 100%|██████████| 1283/1283 [01:09<00:00, 18.36batch/s, loss=7.73, metric=2.27e+3]\n"
     ]
    },
    {
     "name": "stdout",
     "output_type": "stream",
     "text": [
      "Epoch 9 -- Train Loss: 7.7261 -- Train Perplexity: 2266.7847 -- Val Loss: 7.4814 -- Val Perplexity: 1774.6873\n",
      "Val Perplexity: 1774.6873\n",
      "LR=0.001\n"
     ]
    },
    {
     "name": "stderr",
     "output_type": "stream",
     "text": [
      "100%|██████████| 1283/1283 [01:09<00:00, 18.49batch/s, loss=11.1, metric=6.57e+4]\n"
     ]
    },
    {
     "name": "stdout",
     "output_type": "stream",
     "text": [
      "Epoch 0 -- Train Loss: 11.0932 -- Train Perplexity: 65725.2109 -- Val Loss: 11.0814 -- Val Perplexity: 64953.9805\n"
     ]
    },
    {
     "name": "stderr",
     "output_type": "stream",
     "text": [
      "Epoch 1: 100%|██████████| 1283/1283 [01:10<00:00, 18.10batch/s, loss=11.1, metric=6.43e+4]\n"
     ]
    },
    {
     "name": "stdout",
     "output_type": "stream",
     "text": [
      "Epoch 1 -- Train Loss: 11.0717 -- Train Perplexity: 64324.8945 -- Val Loss: 11.0585 -- Val Perplexity: 63478.3711\n"
     ]
    },
    {
     "name": "stderr",
     "output_type": "stream",
     "text": [
      "Epoch 2: 100%|██████████| 1283/1283 [01:10<00:00, 18.09batch/s, loss=11, metric=6.29e+4]  \n"
     ]
    },
    {
     "name": "stdout",
     "output_type": "stream",
     "text": [
      "Epoch 2 -- Train Loss: 11.0495 -- Train Perplexity: 62910.1211 -- Val Loss: 11.0346 -- Val Perplexity: 61979.1055\n"
     ]
    },
    {
     "name": "stderr",
     "output_type": "stream",
     "text": [
      "Epoch 3: 100%|██████████| 1283/1283 [01:11<00:00, 17.97batch/s, loss=11, metric=6.15e+4]\n"
     ]
    },
    {
     "name": "stdout",
     "output_type": "stream",
     "text": [
      "Epoch 3 -- Train Loss: 11.0261 -- Train Perplexity: 61456.8555 -- Val Loss: 11.0091 -- Val Perplexity: 60422.4023\n"
     ]
    },
    {
     "name": "stderr",
     "output_type": "stream",
     "text": [
      "Epoch 4: 100%|██████████| 1283/1283 [01:10<00:00, 18.21batch/s, loss=11, metric=5.99e+4]\n"
     ]
    },
    {
     "name": "stdout",
     "output_type": "stream",
     "text": [
      "Epoch 4 -- Train Loss: 11.0010 -- Train Perplexity: 59932.5273 -- Val Loss: 10.9814 -- Val Perplexity: 58768.7344\n"
     ]
    },
    {
     "name": "stderr",
     "output_type": "stream",
     "text": [
      "Epoch 5: 100%|██████████| 1283/1283 [01:10<00:00, 18.08batch/s, loss=11, metric=5.83e+4]\n"
     ]
    },
    {
     "name": "stdout",
     "output_type": "stream",
     "text": [
      "Epoch 5 -- Train Loss: 10.9731 -- Train Perplexity: 58286.4844 -- Val Loss: 10.9501 -- Val Perplexity: 56959.1406\n"
     ]
    },
    {
     "name": "stderr",
     "output_type": "stream",
     "text": [
      "Epoch 6: 100%|██████████| 1283/1283 [01:10<00:00, 18.15batch/s, loss=10.9, metric=5.65e+4]\n"
     ]
    },
    {
     "name": "stdout",
     "output_type": "stream",
     "text": [
      "Epoch 6 -- Train Loss: 10.9412 -- Train Perplexity: 56458.8867 -- Val Loss: 10.9135 -- Val Perplexity: 54911.1250\n"
     ]
    },
    {
     "name": "stderr",
     "output_type": "stream",
     "text": [
      "Epoch 7: 100%|██████████| 1283/1283 [01:10<00:00, 18.11batch/s, loss=10.9, metric=5.43e+4]\n"
     ]
    },
    {
     "name": "stdout",
     "output_type": "stream",
     "text": [
      "Epoch 7 -- Train Loss: 10.9030 -- Train Perplexity: 54339.2852 -- Val Loss: 10.8684 -- Val Perplexity: 52490.3867\n"
     ]
    },
    {
     "name": "stderr",
     "output_type": "stream",
     "text": [
      "Epoch 8: 100%|██████████| 1283/1283 [01:10<00:00, 18.18batch/s, loss=10.9, metric=5.18e+4]\n"
     ]
    },
    {
     "name": "stdout",
     "output_type": "stream",
     "text": [
      "Epoch 8 -- Train Loss: 10.8545 -- Train Perplexity: 51766.6211 -- Val Loss: 10.8091 -- Val Perplexity: 49469.0312\n"
     ]
    },
    {
     "name": "stderr",
     "output_type": "stream",
     "text": [
      "Epoch 9: 100%|██████████| 1283/1283 [01:10<00:00, 18.14batch/s, loss=10.8, metric=4.84e+4]\n"
     ]
    },
    {
     "name": "stdout",
     "output_type": "stream",
     "text": [
      "Epoch 9 -- Train Loss: 10.7880 -- Train Perplexity: 48437.3164 -- Val Loss: 10.7238 -- Val Perplexity: 45425.4297\n",
      "Val Perplexity: 45425.4297\n",
      "LR=0.0001\n"
     ]
    },
    {
     "name": "stderr",
     "output_type": "stream",
     "text": [
      "100%|██████████| 1283/1283 [01:09<00:00, 18.47batch/s, loss=11.1, metric=6.68e+4]\n"
     ]
    },
    {
     "name": "stdout",
     "output_type": "stream",
     "text": [
      "Epoch 0 -- Train Loss: 11.1098 -- Train Perplexity: 66820.3047 -- Val Loss: 11.1089 -- Val Perplexity: 66760.6172\n"
     ]
    },
    {
     "name": "stderr",
     "output_type": "stream",
     "text": [
      "Epoch 1: 100%|██████████| 1283/1283 [01:09<00:00, 18.34batch/s, loss=11.1, metric=6.67e+4]\n"
     ]
    },
    {
     "name": "stdout",
     "output_type": "stream",
     "text": [
      "Epoch 1 -- Train Loss: 11.1076 -- Train Perplexity: 66674.5938 -- Val Loss: 11.1066 -- Val Perplexity: 66609.8281\n"
     ]
    },
    {
     "name": "stderr",
     "output_type": "stream",
     "text": [
      "Epoch 2: 100%|██████████| 1283/1283 [01:10<00:00, 18.09batch/s, loss=11.1, metric=6.65e+4]\n"
     ]
    },
    {
     "name": "stdout",
     "output_type": "stream",
     "text": [
      "Epoch 2 -- Train Loss: 11.1054 -- Train Perplexity: 66532.2422 -- Val Loss: 11.1043 -- Val Perplexity: 66459.3203\n"
     ]
    },
    {
     "name": "stderr",
     "output_type": "stream",
     "text": [
      "Epoch 3: 100%|██████████| 1283/1283 [01:10<00:00, 18.30batch/s, loss=11.1, metric=6.64e+4]\n"
     ]
    },
    {
     "name": "stdout",
     "output_type": "stream",
     "text": [
      "Epoch 3 -- Train Loss: 11.1033 -- Train Perplexity: 66391.6016 -- Val Loss: 11.1021 -- Val Perplexity: 66309.2734\n"
     ]
    },
    {
     "name": "stderr",
     "output_type": "stream",
     "text": [
      "Epoch 4: 100%|██████████| 1283/1283 [01:10<00:00, 18.11batch/s, loss=11.1, metric=6.62e+4]\n"
     ]
    },
    {
     "name": "stdout",
     "output_type": "stream",
     "text": [
      "Epoch 4 -- Train Loss: 11.1011 -- Train Perplexity: 66247.2109 -- Val Loss: 11.0998 -- Val Perplexity: 66159.7031\n"
     ]
    },
    {
     "name": "stderr",
     "output_type": "stream",
     "text": [
      "Epoch 5: 100%|██████████| 1283/1283 [01:10<00:00, 18.30batch/s, loss=11.1, metric=6.61e+4]\n"
     ]
    },
    {
     "name": "stdout",
     "output_type": "stream",
     "text": [
      "Epoch 5 -- Train Loss: 11.0990 -- Train Perplexity: 66105.0234 -- Val Loss: 11.0976 -- Val Perplexity: 66010.5312\n"
     ]
    },
    {
     "name": "stderr",
     "output_type": "stream",
     "text": [
      "Epoch 6: 100%|██████████| 1283/1283 [01:08<00:00, 18.65batch/s, loss=11.1, metric=6.6e+4]\n"
     ]
    },
    {
     "name": "stdout",
     "output_type": "stream",
     "text": [
      "Epoch 6 -- Train Loss: 11.0968 -- Train Perplexity: 65963.0156 -- Val Loss: 11.0953 -- Val Perplexity: 65861.6875\n"
     ]
    },
    {
     "name": "stderr",
     "output_type": "stream",
     "text": [
      "Epoch 7: 100%|██████████| 1283/1283 [01:10<00:00, 18.17batch/s, loss=11.1, metric=6.58e+4]\n"
     ]
    },
    {
     "name": "stdout",
     "output_type": "stream",
     "text": [
      "Epoch 7 -- Train Loss: 11.0947 -- Train Perplexity: 65822.3750 -- Val Loss: 11.0931 -- Val Perplexity: 65713.0547\n"
     ]
    },
    {
     "name": "stderr",
     "output_type": "stream",
     "text": [
      "Epoch 8: 100%|██████████| 1283/1283 [01:10<00:00, 18.31batch/s, loss=11.1, metric=6.57e+4]\n"
     ]
    },
    {
     "name": "stdout",
     "output_type": "stream",
     "text": [
      "Epoch 8 -- Train Loss: 11.0925 -- Train Perplexity: 65678.6562 -- Val Loss: 11.0908 -- Val Perplexity: 65564.9453\n"
     ]
    },
    {
     "name": "stderr",
     "output_type": "stream",
     "text": [
      "Epoch 9: 100%|██████████| 1283/1283 [01:08<00:00, 18.80batch/s, loss=11.1, metric=6.55e+4]\n"
     ]
    },
    {
     "name": "stdout",
     "output_type": "stream",
     "text": [
      "Epoch 9 -- Train Loss: 11.0904 -- Train Perplexity: 65540.4375 -- Val Loss: 11.0885 -- Val Perplexity: 65416.7969\n",
      "Val Perplexity: 65416.7969\n"
     ]
    }
   ],
   "source": [
    "num_epochs = 10\n",
    "\n",
    "for lr in [1e-2, 1e-3, 1e-4]:\n",
    "  print(f'LR={lr}')\n",
    "\n",
    "  model = LanguageModel(vocab_size, embedding_dim, hidden_dim, num_layers, dropout_rate).to(device)\n",
    "  optimizer = optim.SGD(model.parameters(), lr=lr)\n",
    "  criterion = nn.CrossEntropyLoss()\n",
    "  perplexity = tm.text.Perplexity().to(device)\n",
    "\n",
    "  for epoch in range(num_epochs):\n",
    "    model, train_loss, train_perplexity = train_one_epoch(model, train_loader, criterion, optimizer, perplexity, epoch)\n",
    "    val_loss, val_perplexity = evaluate(model, val_loader, criterion, perplexity)\n",
    "\n",
    "    print(f\"Epoch {epoch} -- Train Loss: {train_loss:.4f} -- Train Perplexity: {train_perplexity:.4f} -- Val Loss: {val_loss:.4f} -- Val Perplexity: {val_perplexity:.4f}\")\n",
    "\n",
    "  print(f\"Val Perplexity: {val_perplexity:.4f}\")"
   ]
  },
  {
   "cell_type": "markdown",
   "metadata": {
    "id": "uC2GhaXfA8vC"
   },
   "source": [
    "### 🟡 Step 4: Create a small grid using the weight decay and the best learning rate.\n",
    "\n",
    "\n",
    "\n"
   ]
  },
  {
   "cell_type": "code",
   "execution_count": 80,
   "metadata": {
    "execution": {
     "execution_failed": "2024-12-28T20:22:07.366Z",
     "iopub.execute_input": "2024-12-28T19:15:05.443771Z",
     "iopub.status.busy": "2024-12-28T19:15:05.443348Z"
    },
    "id": "a7UeNW3WWaPu",
    "trusted": true
   },
   "outputs": [
    {
     "name": "stdout",
     "output_type": "stream",
     "text": [
      "LR=0.01, WD=0.01\n"
     ]
    },
    {
     "name": "stderr",
     "output_type": "stream",
     "text": [
      "100%|██████████| 1283/1283 [01:07<00:00, 18.88batch/s, loss=11, metric=5.86e+4] \n"
     ]
    },
    {
     "name": "stdout",
     "output_type": "stream",
     "text": [
      "Epoch 0 -- Train Loss: 10.9780 -- Train Perplexity: 58570.6680 -- Val Loss: 10.8090 -- Val Perplexity: 49465.2539\n"
     ]
    },
    {
     "name": "stderr",
     "output_type": "stream",
     "text": [
      "Epoch 1: 100%|██████████| 1283/1283 [01:15<00:00, 17.03batch/s, loss=9.83, metric=1.86e+4]\n"
     ]
    },
    {
     "name": "stdout",
     "output_type": "stream",
     "text": [
      "Epoch 1 -- Train Loss: 9.8319 -- Train Perplexity: 18618.3066 -- Val Loss: 8.7043 -- Val Perplexity: 6028.9697\n"
     ]
    },
    {
     "name": "stderr",
     "output_type": "stream",
     "text": [
      "Epoch 2: 100%|██████████| 1283/1283 [01:14<00:00, 17.15batch/s, loss=8.56, metric=5.24e+3]\n"
     ]
    },
    {
     "name": "stdout",
     "output_type": "stream",
     "text": [
      "Epoch 2 -- Train Loss: 8.5635 -- Train Perplexity: 5236.9160 -- Val Loss: 8.2360 -- Val Perplexity: 3774.3120\n"
     ]
    },
    {
     "name": "stderr",
     "output_type": "stream",
     "text": [
      "Epoch 3: 100%|██████████| 1283/1283 [01:38<00:00, 13.04batch/s, loss=8.29, metric=3.97e+3]\n"
     ]
    },
    {
     "name": "stdout",
     "output_type": "stream",
     "text": [
      "Epoch 3 -- Train Loss: 8.2860 -- Train Perplexity: 3967.8181 -- Val Loss: 8.0466 -- Val Perplexity: 3123.1594\n"
     ]
    },
    {
     "name": "stderr",
     "output_type": "stream",
     "text": [
      "Epoch 4: 100%|██████████| 1283/1283 [01:38<00:00, 12.99batch/s, loss=8.13, metric=3.39e+3]\n"
     ]
    },
    {
     "name": "stdout",
     "output_type": "stream",
     "text": [
      "Epoch 4 -- Train Loss: 8.1290 -- Train Perplexity: 3391.3765 -- Val Loss: 7.9182 -- Val Perplexity: 2746.8250\n"
     ]
    },
    {
     "name": "stderr",
     "output_type": "stream",
     "text": [
      "Epoch 5: 100%|██████████| 1283/1283 [01:38<00:00, 13.04batch/s, loss=8.02, metric=3.04e+3]\n"
     ]
    },
    {
     "name": "stdout",
     "output_type": "stream",
     "text": [
      "Epoch 5 -- Train Loss: 8.0202 -- Train Perplexity: 3041.6807 -- Val Loss: 7.8253 -- Val Perplexity: 2503.0696\n"
     ]
    },
    {
     "name": "stderr",
     "output_type": "stream",
     "text": [
      "Epoch 6: 100%|██████████| 1283/1283 [01:28<00:00, 14.57batch/s, loss=7.94, metric=2.81e+3]\n"
     ]
    },
    {
     "name": "stdout",
     "output_type": "stream",
     "text": [
      "Epoch 6 -- Train Loss: 7.9413 -- Train Perplexity: 2810.9585 -- Val Loss: 7.7576 -- Val Perplexity: 2339.3145\n"
     ]
    },
    {
     "name": "stderr",
     "output_type": "stream",
     "text": [
      "Epoch 7: 100%|██████████| 1283/1283 [01:09<00:00, 18.50batch/s, loss=7.88, metric=2.65e+3]\n"
     ]
    },
    {
     "name": "stdout",
     "output_type": "stream",
     "text": [
      "Epoch 7 -- Train Loss: 7.8825 -- Train Perplexity: 2650.3899 -- Val Loss: 7.7070 -- Val Perplexity: 2223.7849\n"
     ]
    },
    {
     "name": "stderr",
     "output_type": "stream",
     "text": [
      "Epoch 8: 100%|██████████| 1283/1283 [01:09<00:00, 18.49batch/s, loss=7.84, metric=2.54e+3]\n"
     ]
    },
    {
     "name": "stdout",
     "output_type": "stream",
     "text": [
      "Epoch 8 -- Train Loss: 7.8383 -- Train Perplexity: 2535.7903 -- Val Loss: 7.6701 -- Val Perplexity: 2143.3474\n"
     ]
    },
    {
     "name": "stderr",
     "output_type": "stream",
     "text": [
      "Epoch 9: 100%|██████████| 1283/1283 [01:09<00:00, 18.53batch/s, loss=7.81, metric=2.46e+3]\n"
     ]
    },
    {
     "name": "stdout",
     "output_type": "stream",
     "text": [
      "Epoch 9 -- Train Loss: 7.8060 -- Train Perplexity: 2455.2012 -- Val Loss: 7.6422 -- Val Perplexity: 2084.3521\n",
      "LR=0.01, WD=0.001\n"
     ]
    },
    {
     "name": "stderr",
     "output_type": "stream",
     "text": [
      "100%|██████████| 1283/1283 [01:14<00:00, 17.18batch/s, loss=11, metric=5.86e+4] \n"
     ]
    },
    {
     "name": "stdout",
     "output_type": "stream",
     "text": [
      "Epoch 0 -- Train Loss: 10.9783 -- Train Perplexity: 58588.0391 -- Val Loss: 10.7653 -- Val Perplexity: 47350.3438\n"
     ]
    },
    {
     "name": "stderr",
     "output_type": "stream",
     "text": [
      "Epoch 1: 100%|██████████| 1283/1283 [01:12<00:00, 17.61batch/s, loss=9.63, metric=1.51e+4]\n"
     ]
    },
    {
     "name": "stdout",
     "output_type": "stream",
     "text": [
      "Epoch 1 -- Train Loss: 9.6256 -- Train Perplexity: 15147.3926 -- Val Loss: 8.5948 -- Val Perplexity: 5403.5762\n"
     ]
    },
    {
     "name": "stderr",
     "output_type": "stream",
     "text": [
      "Epoch 2: 100%|██████████| 1283/1283 [01:07<00:00, 18.89batch/s, loss=8.53, metric=5.06e+3]\n"
     ]
    },
    {
     "name": "stdout",
     "output_type": "stream",
     "text": [
      "Epoch 2 -- Train Loss: 8.5298 -- Train Perplexity: 5063.4351 -- Val Loss: 8.1938 -- Val Perplexity: 3618.2805\n"
     ]
    },
    {
     "name": "stderr",
     "output_type": "stream",
     "text": [
      "Epoch 3: 100%|██████████| 1283/1283 [01:08<00:00, 18.74batch/s, loss=8.28, metric=3.95e+3]\n"
     ]
    },
    {
     "name": "stdout",
     "output_type": "stream",
     "text": [
      "Epoch 3 -- Train Loss: 8.2809 -- Train Perplexity: 3947.8098 -- Val Loss: 8.0054 -- Val Perplexity: 2997.2410\n"
     ]
    },
    {
     "name": "stderr",
     "output_type": "stream",
     "text": [
      "Epoch 4: 100%|██████████| 1283/1283 [01:20<00:00, 15.93batch/s, loss=8.13, metric=3.39e+3]\n"
     ]
    },
    {
     "name": "stdout",
     "output_type": "stream",
     "text": [
      "Epoch 4 -- Train Loss: 8.1273 -- Train Perplexity: 3385.5405 -- Val Loss: 7.8679 -- Val Perplexity: 2612.1750\n"
     ]
    },
    {
     "name": "stderr",
     "output_type": "stream",
     "text": [
      "Epoch 5: 100%|██████████| 1283/1283 [01:20<00:00, 15.95batch/s, loss=8.01, metric=3.02e+3]\n"
     ]
    },
    {
     "name": "stdout",
     "output_type": "stream",
     "text": [
      "Epoch 5 -- Train Loss: 8.0119 -- Train Perplexity: 3016.4939 -- Val Loss: 7.7601 -- Val Perplexity: 2345.1646\n"
     ]
    },
    {
     "name": "stderr",
     "output_type": "stream",
     "text": [
      "Epoch 6: 100%|██████████| 1283/1283 [01:09<00:00, 18.48batch/s, loss=7.92, metric=2.76e+3]\n"
     ]
    },
    {
     "name": "stdout",
     "output_type": "stream",
     "text": [
      "Epoch 6 -- Train Loss: 7.9213 -- Train Perplexity: 2755.4648 -- Val Loss: 7.6747 -- Val Perplexity: 2153.1965\n"
     ]
    },
    {
     "name": "stderr",
     "output_type": "stream",
     "text": [
      "Epoch 7: 100%|██████████| 1283/1283 [01:09<00:00, 18.55batch/s, loss=7.85, metric=2.56e+3]\n"
     ]
    },
    {
     "name": "stdout",
     "output_type": "stream",
     "text": [
      "Epoch 7 -- Train Loss: 7.8490 -- Train Perplexity: 2563.0806 -- Val Loss: 7.6068 -- Val Perplexity: 2011.9067\n"
     ]
    },
    {
     "name": "stderr",
     "output_type": "stream",
     "text": [
      "Epoch 8: 100%|██████████| 1283/1283 [01:11<00:00, 17.96batch/s, loss=7.79, metric=2.42e+3]\n"
     ]
    },
    {
     "name": "stdout",
     "output_type": "stream",
     "text": [
      "Epoch 8 -- Train Loss: 7.7899 -- Train Perplexity: 2415.9626 -- Val Loss: 7.5517 -- Val Perplexity: 1904.0504\n"
     ]
    },
    {
     "name": "stderr",
     "output_type": "stream",
     "text": [
      "Epoch 9: 100%|██████████| 1283/1283 [02:43<00:00,  7.85batch/s, loss=7.74, metric=2.3e+3] \n"
     ]
    },
    {
     "name": "stdout",
     "output_type": "stream",
     "text": [
      "Epoch 9 -- Train Loss: 7.7406 -- Train Perplexity: 2299.8721 -- Val Loss: 7.5044 -- Val Perplexity: 1815.9240\n",
      "LR=0.01, WD=0.0001\n"
     ]
    },
    {
     "name": "stderr",
     "output_type": "stream",
     "text": [
      "100%|██████████| 1283/1283 [01:38<00:00, 13.06batch/s, loss=11, metric=5.83e+4] \n"
     ]
    },
    {
     "name": "stdout",
     "output_type": "stream",
     "text": [
      "Epoch 0 -- Train Loss: 10.9740 -- Train Perplexity: 58336.8672 -- Val Loss: 10.7544 -- Val Perplexity: 46836.0664\n"
     ]
    },
    {
     "name": "stderr",
     "output_type": "stream",
     "text": [
      "Epoch 1: 100%|██████████| 1283/1283 [01:09<00:00, 18.44batch/s, loss=9.63, metric=1.53e+4]\n"
     ]
    },
    {
     "name": "stdout",
     "output_type": "stream",
     "text": [
      "Epoch 1 -- Train Loss: 9.6329 -- Train Perplexity: 15258.4072 -- Val Loss: 8.6048 -- Val Perplexity: 5457.7437\n"
     ]
    },
    {
     "name": "stderr",
     "output_type": "stream",
     "text": [
      "Epoch 2: 100%|██████████| 1283/1283 [01:09<00:00, 18.34batch/s, loss=8.53, metric=5.08e+3]\n"
     ]
    },
    {
     "name": "stdout",
     "output_type": "stream",
     "text": [
      "Epoch 2 -- Train Loss: 8.5329 -- Train Perplexity: 5079.2021 -- Val Loss: 8.1983 -- Val Perplexity: 3634.7534\n"
     ]
    },
    {
     "name": "stderr",
     "output_type": "stream",
     "text": [
      "Epoch 3: 100%|██████████| 1283/1283 [01:22<00:00, 15.63batch/s, loss=8.28, metric=3.95e+3]\n"
     ]
    },
    {
     "name": "stdout",
     "output_type": "stream",
     "text": [
      "Epoch 3 -- Train Loss: 8.2814 -- Train Perplexity: 3949.6477 -- Val Loss: 8.0054 -- Val Perplexity: 2997.0322\n"
     ]
    },
    {
     "name": "stderr",
     "output_type": "stream",
     "text": [
      "Epoch 4: 100%|██████████| 1283/1283 [01:25<00:00, 14.92batch/s, loss=8.13, metric=3.38e+3]\n"
     ]
    },
    {
     "name": "stdout",
     "output_type": "stream",
     "text": [
      "Epoch 4 -- Train Loss: 8.1261 -- Train Perplexity: 3381.6230 -- Val Loss: 7.8692 -- Val Perplexity: 2615.3384\n"
     ]
    },
    {
     "name": "stderr",
     "output_type": "stream",
     "text": [
      "Epoch 5: 100%|██████████| 1283/1283 [01:09<00:00, 18.56batch/s, loss=8.01, metric=3.02e+3]\n"
     ]
    },
    {
     "name": "stdout",
     "output_type": "stream",
     "text": [
      "Epoch 5 -- Train Loss: 8.0128 -- Train Perplexity: 3019.4927 -- Val Loss: 7.7605 -- Val Perplexity: 2345.9978\n"
     ]
    },
    {
     "name": "stderr",
     "output_type": "stream",
     "text": [
      "Epoch 6: 100%|██████████| 1283/1283 [01:10<00:00, 18.28batch/s, loss=7.92, metric=2.76e+3]\n"
     ]
    },
    {
     "name": "stdout",
     "output_type": "stream",
     "text": [
      "Epoch 6 -- Train Loss: 7.9232 -- Train Perplexity: 2760.4861 -- Val Loss: 7.6747 -- Val Perplexity: 2153.1177\n"
     ]
    },
    {
     "name": "stderr",
     "output_type": "stream",
     "text": [
      "Epoch 7: 100%|██████████| 1283/1283 [01:12<00:00, 17.69batch/s, loss=7.85, metric=2.57e+3]\n"
     ]
    },
    {
     "name": "stdout",
     "output_type": "stream",
     "text": [
      "Epoch 7 -- Train Loss: 7.8514 -- Train Perplexity: 2569.2822 -- Val Loss: 7.6057 -- Val Perplexity: 2009.6105\n"
     ]
    },
    {
     "name": "stderr",
     "output_type": "stream",
     "text": [
      "Epoch 8: 100%|██████████| 1283/1283 [01:13<00:00, 17.52batch/s, loss=7.79, metric=2.43e+3]\n"
     ]
    },
    {
     "name": "stdout",
     "output_type": "stream",
     "text": [
      "Epoch 8 -- Train Loss: 7.7936 -- Train Perplexity: 2425.1362 -- Val Loss: 7.5497 -- Val Perplexity: 1900.2401\n"
     ]
    },
    {
     "name": "stderr",
     "output_type": "stream",
     "text": [
      "Epoch 9: 100%|██████████| 1283/1283 [01:26<00:00, 14.91batch/s, loss=7.75, metric=2.31e+3]\n"
     ]
    },
    {
     "name": "stdout",
     "output_type": "stream",
     "text": [
      "Epoch 9 -- Train Loss: 7.7453 -- Train Perplexity: 2310.6995 -- Val Loss: 7.5034 -- Val Perplexity: 1814.2621\n",
      "Val Perplexity: 1814.2621\n",
      "LR=0.001, WD=0.01\n"
     ]
    },
    {
     "name": "stderr",
     "output_type": "stream",
     "text": [
      "100%|██████████| 1283/1283 [01:09<00:00, 18.48batch/s, loss=11.1, metric=6.53e+4]\n"
     ]
    },
    {
     "name": "stdout",
     "output_type": "stream",
     "text": [
      "Epoch 0 -- Train Loss: 11.0868 -- Train Perplexity: 65305.0977 -- Val Loss: 11.0752 -- Val Perplexity: 64547.7188\n"
     ]
    },
    {
     "name": "stderr",
     "output_type": "stream",
     "text": [
      "Epoch 1: 100%|██████████| 1283/1283 [01:09<00:00, 18.49batch/s, loss=11.1, metric=6.39e+4]\n"
     ]
    },
    {
     "name": "stdout",
     "output_type": "stream",
     "text": [
      "Epoch 1 -- Train Loss: 11.0653 -- Train Perplexity: 63916.5977 -- Val Loss: 11.0526 -- Val Perplexity: 63108.5391\n"
     ]
    },
    {
     "name": "stderr",
     "output_type": "stream",
     "text": [
      "Epoch 2: 100%|██████████| 1283/1283 [01:08<00:00, 18.77batch/s, loss=11, metric=6.26e+4] \n"
     ]
    },
    {
     "name": "stdout",
     "output_type": "stream",
     "text": [
      "Epoch 2 -- Train Loss: 11.0438 -- Train Perplexity: 62557.2617 -- Val Loss: 11.0299 -- Val Perplexity: 61690.9766\n"
     ]
    },
    {
     "name": "stderr",
     "output_type": "stream",
     "text": [
      "Epoch 3: 100%|██████████| 1283/1283 [01:09<00:00, 18.41batch/s, loss=11, metric=6.12e+4]\n"
     ]
    },
    {
     "name": "stdout",
     "output_type": "stream",
     "text": [
      "Epoch 3 -- Train Loss: 11.0220 -- Train Perplexity: 61205.2305 -- Val Loss: 11.0065 -- Val Perplexity: 60266.7344\n"
     ]
    },
    {
     "name": "stderr",
     "output_type": "stream",
     "text": [
      "Epoch 4: 100%|██████████| 1283/1283 [01:10<00:00, 18.10batch/s, loss=11, metric=5.98e+4]\n"
     ]
    },
    {
     "name": "stdout",
     "output_type": "stream",
     "text": [
      "Epoch 4 -- Train Loss: 10.9993 -- Train Perplexity: 59830.9883 -- Val Loss: 10.9820 -- Val Perplexity: 58806.6328\n"
     ]
    },
    {
     "name": "stderr",
     "output_type": "stream",
     "text": [
      "Epoch 5: 100%|██████████| 1283/1283 [01:10<00:00, 18.30batch/s, loss=11, metric=5.84e+4]\n"
     ]
    },
    {
     "name": "stdout",
     "output_type": "stream",
     "text": [
      "Epoch 5 -- Train Loss: 10.9752 -- Train Perplexity: 58407.2305 -- Val Loss: 10.9556 -- Val Perplexity: 57275.0234\n"
     ]
    },
    {
     "name": "stderr",
     "output_type": "stream",
     "text": [
      "Epoch 6: 100%|██████████| 1283/1283 [01:25<00:00, 15.03batch/s, loss=10.9, metric=5.69e+4]\n"
     ]
    },
    {
     "name": "stdout",
     "output_type": "stream",
     "text": [
      "Epoch 6 -- Train Loss: 10.9489 -- Train Perplexity: 56893.0703 -- Val Loss: 10.9264 -- Val Perplexity: 55626.4766\n"
     ]
    },
    {
     "name": "stderr",
     "output_type": "stream",
     "text": [
      "Epoch 7: 100%|██████████| 1283/1283 [01:52<00:00, 11.44batch/s, loss=10.9, metric=5.52e+4]\n"
     ]
    },
    {
     "name": "stdout",
     "output_type": "stream",
     "text": [
      "Epoch 7 -- Train Loss: 10.9194 -- Train Perplexity: 55237.0273 -- Val Loss: 10.8929 -- Val Perplexity: 53795.6680\n"
     ]
    },
    {
     "name": "stderr",
     "output_type": "stream",
     "text": [
      "Epoch 8: 100%|██████████| 1283/1283 [01:12<00:00, 17.79batch/s, loss=10.9, metric=5.34e+4]\n"
     ]
    },
    {
     "name": "stdout",
     "output_type": "stream",
     "text": [
      "Epoch 8 -- Train Loss: 10.8847 -- Train Perplexity: 53355.2383 -- Val Loss: 10.8529 -- Val Perplexity: 51682.6133\n"
     ]
    },
    {
     "name": "stderr",
     "output_type": "stream",
     "text": [
      "Epoch 9: 100%|██████████| 1283/1283 [01:07<00:00, 19.05batch/s, loss=10.8, metric=5.11e+4]\n"
     ]
    },
    {
     "name": "stdout",
     "output_type": "stream",
     "text": [
      "Epoch 9 -- Train Loss: 10.8422 -- Train Perplexity: 51134.0078 -- Val Loss: 10.8021 -- Val Perplexity: 49124.6602\n",
      "LR=0.001, WD=0.001\n"
     ]
    },
    {
     "name": "stderr",
     "output_type": "stream",
     "text": [
      "100%|██████████| 1283/1283 [01:07<00:00, 18.99batch/s, loss=11.1, metric=6.53e+4]\n"
     ]
    },
    {
     "name": "stdout",
     "output_type": "stream",
     "text": [
      "Epoch 0 -- Train Loss: 11.0863 -- Train Perplexity: 65267.3672 -- Val Loss: 11.0736 -- Val Perplexity: 64448.0703\n"
     ]
    },
    {
     "name": "stderr",
     "output_type": "stream",
     "text": [
      "Epoch 1: 100%|██████████| 1283/1283 [01:09<00:00, 18.58batch/s, loss=11.1, metric=6.38e+4]\n"
     ]
    },
    {
     "name": "stdout",
     "output_type": "stream",
     "text": [
      "Epoch 1 -- Train Loss: 11.0639 -- Train Perplexity: 63822.9141 -- Val Loss: 11.0498 -- Val Perplexity: 62931.0664\n"
     ]
    },
    {
     "name": "stderr",
     "output_type": "stream",
     "text": [
      "Epoch 2: 100%|██████████| 1283/1283 [01:08<00:00, 18.73batch/s, loss=11, metric=6.24e+4] \n"
     ]
    },
    {
     "name": "stdout",
     "output_type": "stream",
     "text": [
      "Epoch 2 -- Train Loss: 11.0408 -- Train Perplexity: 62369.8516 -- Val Loss: 11.0251 -- Val Perplexity: 61393.0586\n"
     ]
    },
    {
     "name": "stderr",
     "output_type": "stream",
     "text": [
      "Epoch 3: 100%|██████████| 1283/1283 [01:09<00:00, 18.48batch/s, loss=11, metric=6.09e+4]\n"
     ]
    },
    {
     "name": "stdout",
     "output_type": "stream",
     "text": [
      "Epoch 3 -- Train Loss: 11.0167 -- Train Perplexity: 60881.0312 -- Val Loss: 10.9987 -- Val Perplexity: 59795.0000\n"
     ]
    },
    {
     "name": "stderr",
     "output_type": "stream",
     "text": [
      "Epoch 4: 100%|██████████| 1283/1283 [01:09<00:00, 18.52batch/s, loss=11, metric=5.93e+4]\n"
     ]
    },
    {
     "name": "stdout",
     "output_type": "stream",
     "text": [
      "Epoch 4 -- Train Loss: 10.9906 -- Train Perplexity: 59313.0898 -- Val Loss: 10.9697 -- Val Perplexity: 58088.2656\n"
     ]
    },
    {
     "name": "stderr",
     "output_type": "stream",
     "text": [
      "Epoch 5: 100%|██████████| 1283/1283 [01:09<00:00, 18.34batch/s, loss=11, metric=5.76e+4]\n"
     ]
    },
    {
     "name": "stdout",
     "output_type": "stream",
     "text": [
      "Epoch 5 -- Train Loss: 10.9615 -- Train Perplexity: 57611.9844 -- Val Loss: 10.9368 -- Val Perplexity: 56205.3203\n"
     ]
    },
    {
     "name": "stderr",
     "output_type": "stream",
     "text": [
      "Epoch 6: 100%|██████████| 1283/1283 [01:08<00:00, 18.79batch/s, loss=10.9, metric=5.57e+4]\n"
     ]
    },
    {
     "name": "stdout",
     "output_type": "stream",
     "text": [
      "Epoch 6 -- Train Loss: 10.9277 -- Train Perplexity: 55695.6445 -- Val Loss: 10.8976 -- Val Perplexity: 54045.5820\n"
     ]
    },
    {
     "name": "stderr",
     "output_type": "stream",
     "text": [
      "Epoch 7: 100%|██████████| 1283/1283 [01:08<00:00, 18.67batch/s, loss=10.9, metric=5.34e+4]\n"
     ]
    },
    {
     "name": "stdout",
     "output_type": "stream",
     "text": [
      "Epoch 7 -- Train Loss: 10.8864 -- Train Perplexity: 53442.6289 -- Val Loss: 10.8482 -- Val Perplexity: 51440.3906\n"
     ]
    },
    {
     "name": "stderr",
     "output_type": "stream",
     "text": [
      "Epoch 8: 100%|██████████| 1283/1283 [01:09<00:00, 18.59batch/s, loss=10.8, metric=5.06e+4]\n"
     ]
    },
    {
     "name": "stdout",
     "output_type": "stream",
     "text": [
      "Epoch 8 -- Train Loss: 10.8324 -- Train Perplexity: 50633.6523 -- Val Loss: 10.7809 -- Val Perplexity: 48092.0586\n"
     ]
    },
    {
     "name": "stderr",
     "output_type": "stream",
     "text": [
      "Epoch 9: 100%|██████████| 1283/1283 [01:10<00:00, 18.31batch/s, loss=10.8, metric=4.69e+4]\n"
     ]
    },
    {
     "name": "stdout",
     "output_type": "stream",
     "text": [
      "Epoch 9 -- Train Loss: 10.7550 -- Train Perplexity: 46864.2617 -- Val Loss: 10.6789 -- Val Perplexity: 43429.6992\n",
      "LR=0.001, WD=0.0001\n"
     ]
    },
    {
     "name": "stderr",
     "output_type": "stream",
     "text": [
      "100%|██████████| 1283/1283 [01:07<00:00, 18.97batch/s, loss=11.1, metric=6.55e+4]\n"
     ]
    },
    {
     "name": "stdout",
     "output_type": "stream",
     "text": [
      "Epoch 0 -- Train Loss: 11.0903 -- Train Perplexity: 65534.0039 -- Val Loss: 11.0776 -- Val Perplexity: 64708.5234\n"
     ]
    },
    {
     "name": "stderr",
     "output_type": "stream",
     "text": [
      "Epoch 1: 100%|██████████| 1283/1283 [01:08<00:00, 18.77batch/s, loss=11.1, metric=6.41e+4]\n"
     ]
    },
    {
     "name": "stdout",
     "output_type": "stream",
     "text": [
      "Epoch 1 -- Train Loss: 11.0680 -- Train Perplexity: 64088.7227 -- Val Loss: 11.0540 -- Val Perplexity: 63194.3008\n"
     ]
    },
    {
     "name": "stderr",
     "output_type": "stream",
     "text": [
      "Epoch 2: 100%|██████████| 1283/1283 [01:09<00:00, 18.50batch/s, loss=11, metric=6.26e+4] \n"
     ]
    },
    {
     "name": "stdout",
     "output_type": "stream",
     "text": [
      "Epoch 2 -- Train Loss: 11.0452 -- Train Perplexity: 62642.5742 -- Val Loss: 11.0294 -- Val Perplexity: 61663.5078\n"
     ]
    },
    {
     "name": "stderr",
     "output_type": "stream",
     "text": [
      "Epoch 3: 100%|██████████| 1283/1283 [01:08<00:00, 18.62batch/s, loss=11, metric=6.12e+4]\n"
     ]
    },
    {
     "name": "stdout",
     "output_type": "stream",
     "text": [
      "Epoch 3 -- Train Loss: 11.0213 -- Train Perplexity: 61163.5664 -- Val Loss: 11.0034 -- Val Perplexity: 60079.2539\n"
     ]
    },
    {
     "name": "stderr",
     "output_type": "stream",
     "text": [
      "Epoch 4: 100%|██████████| 1283/1283 [01:09<00:00, 18.49batch/s, loss=11, metric=5.96e+4]\n"
     ]
    },
    {
     "name": "stdout",
     "output_type": "stream",
     "text": [
      "Epoch 4 -- Train Loss: 10.9956 -- Train Perplexity: 59613.7617 -- Val Loss: 10.9750 -- Val Perplexity: 58397.2617\n"
     ]
    },
    {
     "name": "stderr",
     "output_type": "stream",
     "text": [
      "Epoch 5: 100%|██████████| 1283/1283 [01:15<00:00, 17.03batch/s, loss=11, metric=5.79e+4]\n"
     ]
    },
    {
     "name": "stdout",
     "output_type": "stream",
     "text": [
      "Epoch 5 -- Train Loss: 10.9672 -- Train Perplexity: 57942.7539 -- Val Loss: 10.9430 -- Val Perplexity: 56558.1523\n"
     ]
    },
    {
     "name": "stderr",
     "output_type": "stream",
     "text": [
      "Epoch 6: 100%|██████████| 1283/1283 [01:17<00:00, 16.51batch/s, loss=10.9, metric=5.61e+4]\n"
     ]
    },
    {
     "name": "stdout",
     "output_type": "stream",
     "text": [
      "Epoch 6 -- Train Loss: 10.9345 -- Train Perplexity: 56080.9922 -- Val Loss: 10.9054 -- Val Perplexity: 54472.3203\n"
     ]
    },
    {
     "name": "stderr",
     "output_type": "stream",
     "text": [
      "Epoch 7: 100%|██████████| 1283/1283 [01:08<00:00, 18.82batch/s, loss=10.9, metric=5.39e+4]\n"
     ]
    },
    {
     "name": "stdout",
     "output_type": "stream",
     "text": [
      "Epoch 7 -- Train Loss: 10.8953 -- Train Perplexity: 53922.5859 -- Val Loss: 10.8590 -- Val Perplexity: 51998.7266\n"
     ]
    },
    {
     "name": "stderr",
     "output_type": "stream",
     "text": [
      "Epoch 8: 100%|██████████| 1283/1283 [01:09<00:00, 18.54batch/s, loss=10.8, metric=5.13e+4]\n"
     ]
    },
    {
     "name": "stdout",
     "output_type": "stream",
     "text": [
      "Epoch 8 -- Train Loss: 10.8451 -- Train Perplexity: 51281.8359 -- Val Loss: 10.7973 -- Val Perplexity: 48890.7852\n"
     ]
    },
    {
     "name": "stderr",
     "output_type": "stream",
     "text": [
      "Epoch 9: 100%|██████████| 1283/1283 [01:08<00:00, 18.83batch/s, loss=10.8, metric=4.78e+4]\n"
     ]
    },
    {
     "name": "stdout",
     "output_type": "stream",
     "text": [
      "Epoch 9 -- Train Loss: 10.7756 -- Train Perplexity: 47836.6328 -- Val Loss: 10.7076 -- Val Perplexity: 44693.8008\n",
      "Val Perplexity: 44693.8008\n",
      "LR=0.0001, WD=0.01\n"
     ]
    },
    {
     "name": "stderr",
     "output_type": "stream",
     "text": [
      "100%|██████████| 1283/1283 [01:07<00:00, 19.06batch/s, loss=11.1, metric=6.64e+4]\n"
     ]
    },
    {
     "name": "stdout",
     "output_type": "stream",
     "text": [
      "Epoch 0 -- Train Loss: 11.1027 -- Train Perplexity: 66351.1562 -- Val Loss: 11.1014 -- Val Perplexity: 66263.3828\n"
     ]
    },
    {
     "name": "stderr",
     "output_type": "stream",
     "text": [
      "Epoch 1: 100%|██████████| 1283/1283 [01:10<00:00, 18.29batch/s, loss=11.1, metric=6.62e+4]\n"
     ]
    },
    {
     "name": "stdout",
     "output_type": "stream",
     "text": [
      "Epoch 1 -- Train Loss: 11.1006 -- Train Perplexity: 66207.6719 -- Val Loss: 11.0991 -- Val Perplexity: 66109.5625\n"
     ]
    },
    {
     "name": "stderr",
     "output_type": "stream",
     "text": [
      "Epoch 2: 100%|██████████| 1283/1283 [01:12<00:00, 17.79batch/s, loss=11.1, metric=6.61e+4]\n"
     ]
    },
    {
     "name": "stdout",
     "output_type": "stream",
     "text": [
      "Epoch 2 -- Train Loss: 11.0984 -- Train Perplexity: 66061.3516 -- Val Loss: 11.0968 -- Val Perplexity: 65956.7891\n"
     ]
    },
    {
     "name": "stderr",
     "output_type": "stream",
     "text": [
      "Epoch 3: 100%|██████████| 1283/1283 [01:30<00:00, 14.14batch/s, loss=11.1, metric=6.59e+4]\n"
     ]
    },
    {
     "name": "stdout",
     "output_type": "stream",
     "text": [
      "Epoch 3 -- Train Loss: 11.0961 -- Train Perplexity: 65917.0469 -- Val Loss: 11.0944 -- Val Perplexity: 65804.6797\n"
     ]
    },
    {
     "name": "stderr",
     "output_type": "stream",
     "text": [
      "Epoch 4: 100%|██████████| 1283/1283 [01:49<00:00, 11.72batch/s, loss=11.1, metric=6.58e+4]\n"
     ]
    },
    {
     "name": "stdout",
     "output_type": "stream",
     "text": [
      "Epoch 4 -- Train Loss: 11.0939 -- Train Perplexity: 65771.2969 -- Val Loss: 11.0921 -- Val Perplexity: 65653.1094\n"
     ]
    },
    {
     "name": "stderr",
     "output_type": "stream",
     "text": [
      "Epoch 5: 100%|██████████| 1283/1283 [01:09<00:00, 18.35batch/s, loss=11.1, metric=6.56e+4]\n"
     ]
    },
    {
     "name": "stdout",
     "output_type": "stream",
     "text": [
      "Epoch 5 -- Train Loss: 11.0917 -- Train Perplexity: 65626.6328 -- Val Loss: 11.0898 -- Val Perplexity: 65502.3242\n"
     ]
    },
    {
     "name": "stderr",
     "output_type": "stream",
     "text": [
      "Epoch 6: 100%|██████████| 1283/1283 [01:33<00:00, 13.70batch/s, loss=11.1, metric=6.55e+4]\n"
     ]
    },
    {
     "name": "stdout",
     "output_type": "stream",
     "text": [
      "Epoch 6 -- Train Loss: 11.0896 -- Train Perplexity: 65486.1484 -- Val Loss: 11.0875 -- Val Perplexity: 65352.0117\n"
     ]
    },
    {
     "name": "stderr",
     "output_type": "stream",
     "text": [
      "Epoch 7: 100%|██████████| 1283/1283 [02:04<00:00, 10.34batch/s, loss=11.1, metric=6.53e+4]\n"
     ]
    },
    {
     "name": "stdout",
     "output_type": "stream",
     "text": [
      "Epoch 7 -- Train Loss: 11.0874 -- Train Perplexity: 65343.6602 -- Val Loss: 11.0852 -- Val Perplexity: 65202.2891\n"
     ]
    },
    {
     "name": "stderr",
     "output_type": "stream",
     "text": [
      "Epoch 8: 100%|██████████| 1283/1283 [01:14<00:00, 17.21batch/s, loss=11.1, metric=6.52e+4]\n"
     ]
    },
    {
     "name": "stdout",
     "output_type": "stream",
     "text": [
      "Epoch 8 -- Train Loss: 11.0852 -- Train Perplexity: 65199.6836 -- Val Loss: 11.0830 -- Val Perplexity: 65053.1055\n"
     ]
    },
    {
     "name": "stderr",
     "output_type": "stream",
     "text": [
      "Epoch 9: 100%|██████████| 1283/1283 [01:26<00:00, 14.84batch/s, loss=11.1, metric=6.51e+4]\n"
     ]
    },
    {
     "name": "stdout",
     "output_type": "stream",
     "text": [
      "Epoch 9 -- Train Loss: 11.0830 -- Train Perplexity: 65056.6367 -- Val Loss: 11.0807 -- Val Perplexity: 64904.4375\n",
      "LR=0.0001, WD=0.001\n"
     ]
    },
    {
     "name": "stderr",
     "output_type": "stream",
     "text": [
      "100%|██████████| 1283/1283 [01:43<00:00, 12.35batch/s, loss=11.1, metric=6.6e+4] \n"
     ]
    },
    {
     "name": "stdout",
     "output_type": "stream",
     "text": [
      "Epoch 0 -- Train Loss: 11.0979 -- Train Perplexity: 66034.4531 -- Val Loss: 11.0960 -- Val Perplexity: 65905.9844\n"
     ]
    },
    {
     "name": "stderr",
     "output_type": "stream",
     "text": [
      "Epoch 1: 100%|██████████| 1283/1283 [01:10<00:00, 18.24batch/s, loss=11.1, metric=6.59e+4]\n"
     ]
    },
    {
     "name": "stdout",
     "output_type": "stream",
     "text": [
      "Epoch 1 -- Train Loss: 11.0957 -- Train Perplexity: 65886.8203 -- Val Loss: 11.0937 -- Val Perplexity: 65754.5547\n"
     ]
    },
    {
     "name": "stderr",
     "output_type": "stream",
     "text": [
      "Epoch 2: 100%|██████████| 1283/1283 [01:08<00:00, 18.60batch/s, loss=11.1, metric=6.57e+4]\n"
     ]
    },
    {
     "name": "stdout",
     "output_type": "stream",
     "text": [
      "Epoch 2 -- Train Loss: 11.0935 -- Train Perplexity: 65744.8984 -- Val Loss: 11.0914 -- Val Perplexity: 65603.3516\n"
     ]
    },
    {
     "name": "stderr",
     "output_type": "stream",
     "text": [
      "Epoch 3: 100%|██████████| 1283/1283 [01:08<00:00, 18.61batch/s, loss=11.1, metric=6.56e+4]\n"
     ]
    },
    {
     "name": "stdout",
     "output_type": "stream",
     "text": [
      "Epoch 3 -- Train Loss: 11.0914 -- Train Perplexity: 65602.6641 -- Val Loss: 11.0891 -- Val Perplexity: 65452.5586\n"
     ]
    },
    {
     "name": "stderr",
     "output_type": "stream",
     "text": [
      "Epoch 4: 100%|██████████| 1283/1283 [01:10<00:00, 18.21batch/s, loss=11.1, metric=6.55e+4]\n"
     ]
    },
    {
     "name": "stdout",
     "output_type": "stream",
     "text": [
      "Epoch 4 -- Train Loss: 11.0892 -- Train Perplexity: 65458.4844 -- Val Loss: 11.0868 -- Val Perplexity: 65301.9844\n"
     ]
    },
    {
     "name": "stderr",
     "output_type": "stream",
     "text": [
      "Epoch 5: 100%|██████████| 1283/1283 [01:11<00:00, 18.05batch/s, loss=11.1, metric=6.53e+4]\n"
     ]
    },
    {
     "name": "stdout",
     "output_type": "stream",
     "text": [
      "Epoch 5 -- Train Loss: 11.0870 -- Train Perplexity: 65314.3164 -- Val Loss: 11.0845 -- Val Perplexity: 65151.7578\n"
     ]
    },
    {
     "name": "stderr",
     "output_type": "stream",
     "text": [
      "Epoch 6: 100%|██████████| 1283/1283 [01:08<00:00, 18.64batch/s, loss=11.1, metric=6.52e+4]\n"
     ]
    },
    {
     "name": "stdout",
     "output_type": "stream",
     "text": [
      "Epoch 6 -- Train Loss: 11.0848 -- Train Perplexity: 65169.9023 -- Val Loss: 11.0822 -- Val Perplexity: 65001.4414\n"
     ]
    },
    {
     "name": "stderr",
     "output_type": "stream",
     "text": [
      "Epoch 7: 100%|██████████| 1283/1283 [01:11<00:00, 18.04batch/s, loss=11.1, metric=6.5e+4]\n"
     ]
    },
    {
     "name": "stdout",
     "output_type": "stream",
     "text": [
      "Epoch 7 -- Train Loss: 11.0826 -- Train Perplexity: 65027.5469 -- Val Loss: 11.0799 -- Val Perplexity: 64851.2344\n"
     ]
    },
    {
     "name": "stderr",
     "output_type": "stream",
     "text": [
      "Epoch 8: 100%|██████████| 1283/1283 [01:33<00:00, 13.73batch/s, loss=11.1, metric=6.49e+4]\n"
     ]
    },
    {
     "name": "stdout",
     "output_type": "stream",
     "text": [
      "Epoch 8 -- Train Loss: 11.0804 -- Train Perplexity: 64884.3242 -- Val Loss: 11.0775 -- Val Perplexity: 64701.3633\n"
     ]
    },
    {
     "name": "stderr",
     "output_type": "stream",
     "text": [
      "Epoch 9: 100%|██████████| 1283/1283 [01:42<00:00, 12.54batch/s, loss=11.1, metric=6.47e+4]\n"
     ]
    },
    {
     "name": "stdout",
     "output_type": "stream",
     "text": [
      "Epoch 9 -- Train Loss: 11.0781 -- Train Perplexity: 64739.1367 -- Val Loss: 11.0752 -- Val Perplexity: 64551.2891\n",
      "LR=0.0001, WD=0.0001\n"
     ]
    },
    {
     "name": "stderr",
     "output_type": "stream",
     "text": [
      "100%|██████████| 1283/1283 [01:07<00:00, 18.89batch/s, loss=11.1, metric=6.63e+4]\n"
     ]
    },
    {
     "name": "stdout",
     "output_type": "stream",
     "text": [
      "Epoch 0 -- Train Loss: 11.1020 -- Train Perplexity: 66303.7109 -- Val Loss: 11.1009 -- Val Perplexity: 66230.0859\n"
     ]
    },
    {
     "name": "stderr",
     "output_type": "stream",
     "text": [
      "Epoch 1: 100%|██████████| 1283/1283 [01:09<00:00, 18.39batch/s, loss=11.1, metric=6.62e+4]\n"
     ]
    },
    {
     "name": "stdout",
     "output_type": "stream",
     "text": [
      "Epoch 1 -- Train Loss: 11.0998 -- Train Perplexity: 66158.1250 -- Val Loss: 11.0986 -- Val Perplexity: 66078.1719\n"
     ]
    },
    {
     "name": "stderr",
     "output_type": "stream",
     "text": [
      "Epoch 2: 100%|██████████| 1283/1283 [01:10<00:00, 18.18batch/s, loss=11.1, metric=6.6e+4]\n"
     ]
    },
    {
     "name": "stdout",
     "output_type": "stream",
     "text": [
      "Epoch 2 -- Train Loss: 11.0976 -- Train Perplexity: 66014.4297 -- Val Loss: 11.0963 -- Val Perplexity: 65926.3516\n"
     ]
    },
    {
     "name": "stderr",
     "output_type": "stream",
     "text": [
      "Epoch 3: 100%|██████████| 1283/1283 [01:10<00:00, 18.16batch/s, loss=11.1, metric=6.59e+4]\n"
     ]
    },
    {
     "name": "stdout",
     "output_type": "stream",
     "text": [
      "Epoch 3 -- Train Loss: 11.0955 -- Train Perplexity: 65872.0469 -- Val Loss: 11.0940 -- Val Perplexity: 65774.4375\n"
     ]
    },
    {
     "name": "stderr",
     "output_type": "stream",
     "text": [
      "Epoch 4: 100%|██████████| 1283/1283 [01:11<00:00, 17.90batch/s, loss=11.1, metric=6.57e+4]\n"
     ]
    },
    {
     "name": "stdout",
     "output_type": "stream",
     "text": [
      "Epoch 4 -- Train Loss: 11.0933 -- Train Perplexity: 65726.5938 -- Val Loss: 11.0917 -- Val Perplexity: 65623.3125\n"
     ]
    },
    {
     "name": "stderr",
     "output_type": "stream",
     "text": [
      "Epoch 5: 100%|██████████| 1283/1283 [01:11<00:00, 17.83batch/s, loss=11.1, metric=6.56e+4]\n"
     ]
    },
    {
     "name": "stdout",
     "output_type": "stream",
     "text": [
      "Epoch 5 -- Train Loss: 11.0911 -- Train Perplexity: 65586.5859 -- Val Loss: 11.0894 -- Val Perplexity: 65471.5977\n"
     ]
    },
    {
     "name": "stderr",
     "output_type": "stream",
     "text": [
      "Epoch 6: 100%|██████████| 1283/1283 [01:10<00:00, 18.13batch/s, loss=11.1, metric=6.54e+4]\n"
     ]
    },
    {
     "name": "stdout",
     "output_type": "stream",
     "text": [
      "Epoch 6 -- Train Loss: 11.0889 -- Train Perplexity: 65438.3242 -- Val Loss: 11.0871 -- Val Perplexity: 65320.3594\n"
     ]
    },
    {
     "name": "stderr",
     "output_type": "stream",
     "text": [
      "Epoch 7: 100%|██████████| 1283/1283 [01:12<00:00, 17.66batch/s, loss=11.1, metric=6.53e+4]\n"
     ]
    },
    {
     "name": "stdout",
     "output_type": "stream",
     "text": [
      "Epoch 7 -- Train Loss: 11.0867 -- Train Perplexity: 65296.1953 -- Val Loss: 11.0847 -- Val Perplexity: 65169.5312\n"
     ]
    },
    {
     "name": "stderr",
     "output_type": "stream",
     "text": [
      "Epoch 8: 100%|██████████| 1283/1283 [01:10<00:00, 18.25batch/s, loss=11.1, metric=6.52e+4]\n"
     ]
    },
    {
     "name": "stdout",
     "output_type": "stream",
     "text": [
      "Epoch 8 -- Train Loss: 11.0845 -- Train Perplexity: 65151.6328 -- Val Loss: 11.0824 -- Val Perplexity: 65018.2461\n"
     ]
    },
    {
     "name": "stderr",
     "output_type": "stream",
     "text": [
      "Epoch 9: 100%|██████████| 1283/1283 [01:09<00:00, 18.34batch/s, loss=11.1, metric=6.5e+4]\n"
     ]
    },
    {
     "name": "stdout",
     "output_type": "stream",
     "text": [
      "Epoch 9 -- Train Loss: 11.0822 -- Train Perplexity: 65006.0312 -- Val Loss: 11.0801 -- Val Perplexity: 64867.3750\n",
      "Val Perplexity: 64867.3750\n"
     ]
    }
   ],
   "source": [
    "num_epochs = 10\n",
    "\n",
    "for lr in [1e-2, 1e-3, 1e-4]:\n",
    "  for wd in [1e-2, 1e-3, 1e-4]:\n",
    "    print(f'LR={lr}, WD={wd}')\n",
    "\n",
    "    model = LanguageModel(vocab_size, embedding_dim, hidden_dim, num_layers, dropout_rate).to(device)\n",
    "    optimizer = optim.SGD(model.parameters(), lr=lr, weight_decay=wd)\n",
    "    criterion = nn.CrossEntropyLoss()\n",
    "    perplexity = tm.text.Perplexity().to(device)\n",
    "\n",
    "    for epoch in range(num_epochs):\n",
    "      model, train_loss, train_perplexity = train_one_epoch(model, train_loader, criterion, optimizer, perplexity, epoch)\n",
    "      val_loss, val_perplexity = evaluate(model, val_loader, criterion, perplexity)\n",
    "\n",
    "      print(f\"Epoch {epoch} -- Train Loss: {train_loss:.4f} -- Train Perplexity: {train_perplexity:.4f} -- Val Loss: {val_loss:.4f} -- Val Perplexity: {val_perplexity:.4f}\")\n",
    "\n",
    "  print(f\"Val Perplexity: {val_perplexity:.4f}\")"
   ]
  },
  {
   "cell_type": "markdown",
   "metadata": {
    "id": "Mjd9Z3N1ef3I"
   },
   "source": [
    "### 🟡 Step 5: Train model for longer epochs using the best model from step 4.\n",
    "\n",
    "\n",
    "\n"
   ]
  },
  {
   "cell_type": "code",
   "execution_count": 81,
   "metadata": {
    "id": "IWgkMgC6JWpU",
    "trusted": true
   },
   "outputs": [],
   "source": [
    "model = LanguageModel(vocab_size, embedding_dim, hidden_dim, num_layers, dropout_rate).to(device)"
   ]
  },
  {
   "cell_type": "code",
   "execution_count": 82,
   "metadata": {
    "id": "YVwLp-02JWpV",
    "trusted": true
   },
   "outputs": [],
   "source": [
    "lr = 1e-2\n",
    "wd = 1e-4\n",
    "optimizer = optim.SGD(model.parameters(), lr=lr, weight_decay=wd, momentum=0.9, nesterov=True)"
   ]
  },
  {
   "cell_type": "code",
   "execution_count": 83,
   "metadata": {
    "id": "zqxSVVB7JWpW",
    "trusted": true
   },
   "outputs": [],
   "source": [
    "loss_train_hist = []\n",
    "loss_valid_hist = []\n",
    "\n",
    "metric_train_hist = []\n",
    "metric_valid_hist = []\n",
    "\n",
    "best_loss_valid = torch.inf\n",
    "epoch_counter = 0"
   ]
  },
  {
   "cell_type": "code",
   "execution_count": 84,
   "metadata": {
    "id": "eVqS9SEPJWpW",
    "trusted": true
   },
   "outputs": [
    {
     "name": "stderr",
     "output_type": "stream",
     "text": [
      "100%|██████████| 1283/1283 [01:16<00:00, 16.79batch/s, loss=8.56, metric=5.24e+3]\n"
     ]
    },
    {
     "name": "stdout",
     "output_type": "stream",
     "text": [
      "Model Saved!\n",
      "Valid: Loss = 7.526, Metric = 1.856e+03\n",
      "\n"
     ]
    },
    {
     "name": "stderr",
     "output_type": "stream",
     "text": [
      "Epoch 1: 100%|██████████| 1283/1283 [01:18<00:00, 16.37batch/s, loss=7.59, metric=1.97e+3]\n"
     ]
    },
    {
     "name": "stdout",
     "output_type": "stream",
     "text": [
      "Model Saved!\n",
      "Valid: Loss = 7.237, Metric = 1.39e+03\n",
      "\n"
     ]
    },
    {
     "name": "stderr",
     "output_type": "stream",
     "text": [
      "Epoch 2: 100%|██████████| 1283/1283 [01:16<00:00, 16.81batch/s, loss=7.38, metric=1.61e+3]\n"
     ]
    },
    {
     "name": "stdout",
     "output_type": "stream",
     "text": [
      "Model Saved!\n",
      "Valid: Loss = 7.068, Metric = 1.174e+03\n",
      "\n"
     ]
    },
    {
     "name": "stderr",
     "output_type": "stream",
     "text": [
      "Epoch 3: 100%|██████████| 1283/1283 [01:16<00:00, 16.77batch/s, loss=7.24, metric=1.4e+3] \n"
     ]
    },
    {
     "name": "stdout",
     "output_type": "stream",
     "text": [
      "Model Saved!\n",
      "Valid: Loss = 6.951, Metric = 1.044e+03\n",
      "\n"
     ]
    },
    {
     "name": "stderr",
     "output_type": "stream",
     "text": [
      "Epoch 4: 100%|██████████| 1283/1283 [01:15<00:00, 16.93batch/s, loss=7.15, metric=1.27e+3]\n"
     ]
    },
    {
     "name": "stdout",
     "output_type": "stream",
     "text": [
      "Model Saved!\n",
      "Valid: Loss = 6.87, Metric = 963.4\n",
      "\n"
     ]
    },
    {
     "name": "stderr",
     "output_type": "stream",
     "text": [
      "Epoch 5: 100%|██████████| 1283/1283 [01:17<00:00, 16.64batch/s, loss=7.08, metric=1.19e+3]\n"
     ]
    },
    {
     "name": "stdout",
     "output_type": "stream",
     "text": [
      "Model Saved!\n",
      "Valid: Loss = 6.807, Metric = 903.9\n",
      "\n"
     ]
    },
    {
     "name": "stderr",
     "output_type": "stream",
     "text": [
      "Epoch 6: 100%|██████████| 1283/1283 [01:16<00:00, 16.72batch/s, loss=7.02, metric=1.12e+3]\n"
     ]
    },
    {
     "name": "stdout",
     "output_type": "stream",
     "text": [
      "Model Saved!\n",
      "Valid: Loss = 6.762, Metric = 864.2\n",
      "\n"
     ]
    },
    {
     "name": "stderr",
     "output_type": "stream",
     "text": [
      "Epoch 7: 100%|██████████| 1283/1283 [01:15<00:00, 16.97batch/s, loss=6.98, metric=1.08e+3]\n"
     ]
    },
    {
     "name": "stdout",
     "output_type": "stream",
     "text": [
      "Model Saved!\n",
      "Valid: Loss = 6.722, Metric = 830.5\n",
      "\n"
     ]
    },
    {
     "name": "stderr",
     "output_type": "stream",
     "text": [
      "Epoch 8: 100%|██████████| 1283/1283 [01:15<00:00, 16.92batch/s, loss=6.95, metric=1.04e+3]\n"
     ]
    },
    {
     "name": "stdout",
     "output_type": "stream",
     "text": [
      "Model Saved!\n",
      "Valid: Loss = 6.689, Metric = 803.6\n",
      "\n"
     ]
    },
    {
     "name": "stderr",
     "output_type": "stream",
     "text": [
      "Epoch 9: 100%|██████████| 1283/1283 [01:17<00:00, 16.59batch/s, loss=6.92, metric=1.01e+3]\n"
     ]
    },
    {
     "name": "stdout",
     "output_type": "stream",
     "text": [
      "Model Saved!\n",
      "Valid: Loss = 6.662, Metric = 782.2\n",
      "\n"
     ]
    },
    {
     "name": "stderr",
     "output_type": "stream",
     "text": [
      "Epoch 10: 100%|██████████| 1283/1283 [01:16<00:00, 16.83batch/s, loss=6.89, metric=984] \n"
     ]
    },
    {
     "name": "stdout",
     "output_type": "stream",
     "text": [
      "Model Saved!\n",
      "Valid: Loss = 6.638, Metric = 763.4\n",
      "\n"
     ]
    },
    {
     "name": "stderr",
     "output_type": "stream",
     "text": [
      "Epoch 11: 100%|██████████| 1283/1283 [01:16<00:00, 16.79batch/s, loss=6.87, metric=960]\n"
     ]
    },
    {
     "name": "stdout",
     "output_type": "stream",
     "text": [
      "Model Saved!\n",
      "Valid: Loss = 6.615, Metric = 746.0\n",
      "\n"
     ]
    },
    {
     "name": "stderr",
     "output_type": "stream",
     "text": [
      "Epoch 12: 100%|██████████| 1283/1283 [01:15<00:00, 16.97batch/s, loss=6.84, metric=939]\n"
     ]
    },
    {
     "name": "stdout",
     "output_type": "stream",
     "text": [
      "Model Saved!\n",
      "Valid: Loss = 6.595, Metric = 731.6\n",
      "\n"
     ]
    },
    {
     "name": "stderr",
     "output_type": "stream",
     "text": [
      "Epoch 13: 100%|██████████| 1283/1283 [01:15<00:00, 16.96batch/s, loss=6.82, metric=920]\n"
     ]
    },
    {
     "name": "stdout",
     "output_type": "stream",
     "text": [
      "Model Saved!\n",
      "Valid: Loss = 6.574, Metric = 716.5\n",
      "\n"
     ]
    },
    {
     "name": "stderr",
     "output_type": "stream",
     "text": [
      "Epoch 14: 100%|██████████| 1283/1283 [01:15<00:00, 16.95batch/s, loss=6.81, metric=903]\n"
     ]
    },
    {
     "name": "stdout",
     "output_type": "stream",
     "text": [
      "Model Saved!\n",
      "Valid: Loss = 6.556, Metric = 703.7\n",
      "\n"
     ]
    },
    {
     "name": "stderr",
     "output_type": "stream",
     "text": [
      "Epoch 15: 100%|██████████| 1283/1283 [01:15<00:00, 17.00batch/s, loss=6.79, metric=888]\n"
     ]
    },
    {
     "name": "stdout",
     "output_type": "stream",
     "text": [
      "Model Saved!\n",
      "Valid: Loss = 6.541, Metric = 693.3\n",
      "\n"
     ]
    },
    {
     "name": "stderr",
     "output_type": "stream",
     "text": [
      "Epoch 16: 100%|██████████| 1283/1283 [01:17<00:00, 16.62batch/s, loss=6.77, metric=874]\n"
     ]
    },
    {
     "name": "stdout",
     "output_type": "stream",
     "text": [
      "Model Saved!\n",
      "Valid: Loss = 6.528, Metric = 684.3\n",
      "\n"
     ]
    },
    {
     "name": "stderr",
     "output_type": "stream",
     "text": [
      "Epoch 17: 100%|██████████| 1283/1283 [01:16<00:00, 16.72batch/s, loss=6.76, metric=861]\n"
     ]
    },
    {
     "name": "stdout",
     "output_type": "stream",
     "text": [
      "Model Saved!\n",
      "Valid: Loss = 6.513, Metric = 674.1\n",
      "\n"
     ]
    },
    {
     "name": "stderr",
     "output_type": "stream",
     "text": [
      "Epoch 18: 100%|██████████| 1283/1283 [01:18<00:00, 16.29batch/s, loss=6.74, metric=849]\n"
     ]
    },
    {
     "name": "stdout",
     "output_type": "stream",
     "text": [
      "Model Saved!\n",
      "Valid: Loss = 6.5, Metric = 665.0\n",
      "\n"
     ]
    },
    {
     "name": "stderr",
     "output_type": "stream",
     "text": [
      "Epoch 19: 100%|██████████| 1283/1283 [01:16<00:00, 16.74batch/s, loss=6.73, metric=838]\n"
     ]
    },
    {
     "name": "stdout",
     "output_type": "stream",
     "text": [
      "Model Saved!\n",
      "Valid: Loss = 6.488, Metric = 656.9\n",
      "\n"
     ]
    },
    {
     "name": "stderr",
     "output_type": "stream",
     "text": [
      "Epoch 20: 100%|██████████| 1283/1283 [01:16<00:00, 16.83batch/s, loss=6.72, metric=828]\n"
     ]
    },
    {
     "name": "stdout",
     "output_type": "stream",
     "text": [
      "Model Saved!\n",
      "Valid: Loss = 6.476, Metric = 649.6\n",
      "\n"
     ]
    },
    {
     "name": "stderr",
     "output_type": "stream",
     "text": [
      "Epoch 21: 100%|██████████| 1283/1283 [01:17<00:00, 16.47batch/s, loss=6.71, metric=818]\n"
     ]
    },
    {
     "name": "stdout",
     "output_type": "stream",
     "text": [
      "Model Saved!\n",
      "Valid: Loss = 6.466, Metric = 642.7\n",
      "\n"
     ]
    },
    {
     "name": "stderr",
     "output_type": "stream",
     "text": [
      "Epoch 22: 100%|██████████| 1283/1283 [01:16<00:00, 16.75batch/s, loss=6.7, metric=809] \n"
     ]
    },
    {
     "name": "stdout",
     "output_type": "stream",
     "text": [
      "Model Saved!\n",
      "Valid: Loss = 6.459, Metric = 638.7\n",
      "\n"
     ]
    },
    {
     "name": "stderr",
     "output_type": "stream",
     "text": [
      "Epoch 23: 100%|██████████| 1283/1283 [01:16<00:00, 16.81batch/s, loss=6.69, metric=801]\n"
     ]
    },
    {
     "name": "stdout",
     "output_type": "stream",
     "text": [
      "Model Saved!\n",
      "Valid: Loss = 6.447, Metric = 631.0\n",
      "\n"
     ]
    },
    {
     "name": "stderr",
     "output_type": "stream",
     "text": [
      "Epoch 24: 100%|██████████| 1283/1283 [01:14<00:00, 17.16batch/s, loss=6.68, metric=793]\n"
     ]
    },
    {
     "name": "stdout",
     "output_type": "stream",
     "text": [
      "Model Saved!\n",
      "Valid: Loss = 6.438, Metric = 625.1\n",
      "\n"
     ]
    },
    {
     "name": "stderr",
     "output_type": "stream",
     "text": [
      "Epoch 25: 100%|██████████| 1283/1283 [01:15<00:00, 16.97batch/s, loss=6.67, metric=785]\n"
     ]
    },
    {
     "name": "stdout",
     "output_type": "stream",
     "text": [
      "Model Saved!\n",
      "Valid: Loss = 6.428, Metric = 619.2\n",
      "\n"
     ]
    },
    {
     "name": "stderr",
     "output_type": "stream",
     "text": [
      "Epoch 26: 100%|██████████| 1283/1283 [01:11<00:00, 17.88batch/s, loss=6.66, metric=777]\n"
     ]
    },
    {
     "name": "stdout",
     "output_type": "stream",
     "text": [
      "Model Saved!\n",
      "Valid: Loss = 6.422, Metric = 615.3\n",
      "\n"
     ]
    },
    {
     "name": "stderr",
     "output_type": "stream",
     "text": [
      "Epoch 27: 100%|██████████| 1283/1283 [01:11<00:00, 17.94batch/s, loss=6.65, metric=770]\n"
     ]
    },
    {
     "name": "stdout",
     "output_type": "stream",
     "text": [
      "Model Saved!\n",
      "Valid: Loss = 6.413, Metric = 609.8\n",
      "\n"
     ]
    },
    {
     "name": "stderr",
     "output_type": "stream",
     "text": [
      "Epoch 28: 100%|██████████| 1283/1283 [01:13<00:00, 17.39batch/s, loss=6.64, metric=764]\n"
     ]
    },
    {
     "name": "stdout",
     "output_type": "stream",
     "text": [
      "Model Saved!\n",
      "Valid: Loss = 6.407, Metric = 605.8\n",
      "\n"
     ]
    },
    {
     "name": "stderr",
     "output_type": "stream",
     "text": [
      "Epoch 29: 100%|██████████| 1283/1283 [01:15<00:00, 17.00batch/s, loss=6.63, metric=758]\n"
     ]
    },
    {
     "name": "stdout",
     "output_type": "stream",
     "text": [
      "Model Saved!\n",
      "Valid: Loss = 6.398, Metric = 600.6\n",
      "\n"
     ]
    },
    {
     "name": "stderr",
     "output_type": "stream",
     "text": [
      "Epoch 30: 100%|██████████| 1283/1283 [01:12<00:00, 17.65batch/s, loss=6.62, metric=752]\n"
     ]
    },
    {
     "name": "stdout",
     "output_type": "stream",
     "text": [
      "Model Saved!\n",
      "Valid: Loss = 6.392, Metric = 597.1\n",
      "\n"
     ]
    },
    {
     "name": "stderr",
     "output_type": "stream",
     "text": [
      "Epoch 31: 100%|██████████| 1283/1283 [01:13<00:00, 17.51batch/s, loss=6.61, metric=746]\n"
     ]
    },
    {
     "name": "stdout",
     "output_type": "stream",
     "text": [
      "Model Saved!\n",
      "Valid: Loss = 6.385, Metric = 592.7\n",
      "\n"
     ]
    },
    {
     "name": "stderr",
     "output_type": "stream",
     "text": [
      "Epoch 32: 100%|██████████| 1283/1283 [01:12<00:00, 17.78batch/s, loss=6.61, metric=741]\n"
     ]
    },
    {
     "name": "stdout",
     "output_type": "stream",
     "text": [
      "Model Saved!\n",
      "Valid: Loss = 6.381, Metric = 590.3\n",
      "\n"
     ]
    },
    {
     "name": "stderr",
     "output_type": "stream",
     "text": [
      "Epoch 33: 100%|██████████| 1283/1283 [01:11<00:00, 17.93batch/s, loss=6.6, metric=736]\n"
     ]
    },
    {
     "name": "stdout",
     "output_type": "stream",
     "text": [
      "Model Saved!\n",
      "Valid: Loss = 6.375, Metric = 587.0\n",
      "\n"
     ]
    },
    {
     "name": "stderr",
     "output_type": "stream",
     "text": [
      "Epoch 34: 100%|██████████| 1283/1283 [01:12<00:00, 17.65batch/s, loss=6.59, metric=730]\n"
     ]
    },
    {
     "name": "stdout",
     "output_type": "stream",
     "text": [
      "Model Saved!\n",
      "Valid: Loss = 6.368, Metric = 582.7\n",
      "\n"
     ]
    },
    {
     "name": "stderr",
     "output_type": "stream",
     "text": [
      "Epoch 35: 100%|██████████| 1283/1283 [01:13<00:00, 17.37batch/s, loss=6.59, metric=726]\n"
     ]
    },
    {
     "name": "stdout",
     "output_type": "stream",
     "text": [
      "Model Saved!\n",
      "Valid: Loss = 6.364, Metric = 580.4\n",
      "\n"
     ]
    },
    {
     "name": "stderr",
     "output_type": "stream",
     "text": [
      "Epoch 36: 100%|██████████| 1283/1283 [01:14<00:00, 17.21batch/s, loss=6.58, metric=722]\n"
     ]
    },
    {
     "name": "stdout",
     "output_type": "stream",
     "text": [
      "Model Saved!\n",
      "Valid: Loss = 6.359, Metric = 577.7\n",
      "\n"
     ]
    },
    {
     "name": "stderr",
     "output_type": "stream",
     "text": [
      "Epoch 37: 100%|██████████| 1283/1283 [01:12<00:00, 17.59batch/s, loss=6.58, metric=718]\n"
     ]
    },
    {
     "name": "stdout",
     "output_type": "stream",
     "text": [
      "Model Saved!\n",
      "Valid: Loss = 6.354, Metric = 575.0\n",
      "\n"
     ]
    },
    {
     "name": "stderr",
     "output_type": "stream",
     "text": [
      "Epoch 38: 100%|██████████| 1283/1283 [01:11<00:00, 17.84batch/s, loss=6.57, metric=713]\n"
     ]
    },
    {
     "name": "stdout",
     "output_type": "stream",
     "text": [
      "Model Saved!\n",
      "Valid: Loss = 6.349, Metric = 572.0\n",
      "\n"
     ]
    },
    {
     "name": "stderr",
     "output_type": "stream",
     "text": [
      "Epoch 39: 100%|██████████| 1283/1283 [01:12<00:00, 17.67batch/s, loss=6.56, metric=709]\n"
     ]
    },
    {
     "name": "stdout",
     "output_type": "stream",
     "text": [
      "Model Saved!\n",
      "Valid: Loss = 6.343, Metric = 568.8\n",
      "\n"
     ]
    }
   ],
   "source": [
    "num_epochs = 40\n",
    "\n",
    "for epoch in range(num_epochs):\n",
    "  # Train\n",
    "  model, loss_train, metric_train = train_one_epoch(model,\n",
    "                                                 train_loader,\n",
    "                                                 criterion,\n",
    "                                                 optimizer,\n",
    "                                                 perplexity,\n",
    "                                                 epoch)\n",
    "  # Validation\n",
    "  loss_valid, metric_valid = evaluate(model,\n",
    "                                     val_loader,\n",
    "                                     criterion,\n",
    "                                     perplexity)\n",
    "\n",
    "  loss_train_hist.append(loss_train)\n",
    "  loss_valid_hist.append(loss_valid)\n",
    "\n",
    "  metric_train_hist.append(metric_train)\n",
    "  metric_valid_hist.append(metric_valid)\n",
    "\n",
    "  if loss_valid < best_loss_valid:\n",
    "    torch.save(model, f'model.pt')\n",
    "    best_loss_valid = loss_valid\n",
    "    print('Model Saved!')\n",
    "\n",
    "  print(f'Valid: Loss = {loss_valid:.4}, Metric = {metric_valid:.4}')\n",
    "  print()\n",
    "\n",
    "  epoch_counter += 1"
   ]
  },
  {
   "cell_type": "markdown",
   "metadata": {
    "id": "rjGQ-M02cusP"
   },
   "source": [
    "## 🟠 Main Loop"
   ]
  },
  {
   "cell_type": "markdown",
   "metadata": {
    "id": "4AdYaMU4x34g"
   },
   "source": [
    "🔰 Define model."
   ]
  },
  {
   "cell_type": "code",
   "execution_count": 85,
   "metadata": {
    "id": "JCtZXDybxexf"
   },
   "outputs": [],
   "source": [
    "model = torch.load('model.pt').to(device)"
   ]
  },
  {
   "cell_type": "markdown",
   "metadata": {
    "id": "AUKZRiQPxqrB"
   },
   "source": [
    "🔰 Define optimizer and Set learning rate and weight decay."
   ]
  },
  {
   "cell_type": "code",
   "execution_count": 86,
   "metadata": {
    "id": "bowjVB5yIXUP"
   },
   "outputs": [],
   "source": [
    "lr = 1e-2\n",
    "wd = 1e-4\n",
    "optimizer = optim.SGD(model.parameters(), lr=lr, weight_decay=wd, momentum=0.9, nesterov=True)"
   ]
  },
  {
   "cell_type": "markdown",
   "metadata": {
    "id": "AUyFFIzlyaiB"
   },
   "source": [
    "🔰 Write code to train the model for `num_epochs` epoches."
   ]
  },
  {
   "cell_type": "code",
   "execution_count": 87,
   "metadata": {
    "id": "CAXagB4yvtZd"
   },
   "outputs": [],
   "source": [
    "loss_train_hist = []\n",
    "loss_valid_hist = []\n",
    "\n",
    "metric_train_hist = []\n",
    "metric_valid_hist = []\n",
    "\n",
    "best_loss_valid = torch.inf\n",
    "epoch_counter = 0"
   ]
  },
  {
   "cell_type": "code",
   "execution_count": 88,
   "metadata": {
    "id": "PovABWnU3ld0"
   },
   "outputs": [
    {
     "name": "stderr",
     "output_type": "stream",
     "text": [
      "100%|██████████| 1283/1283 [01:16<00:00, 16.83batch/s, loss=6.56, metric=705]\n"
     ]
    },
    {
     "name": "stdout",
     "output_type": "stream",
     "text": [
      "Model Saved!\n",
      "Valid: Loss = 6.337, Metric = 565.2\n",
      "\n"
     ]
    },
    {
     "name": "stderr",
     "output_type": "stream",
     "text": [
      "Epoch 1: 100%|██████████| 1283/1283 [01:14<00:00, 17.27batch/s, loss=6.55, metric=701]\n"
     ]
    },
    {
     "name": "stdout",
     "output_type": "stream",
     "text": [
      "Model Saved!\n",
      "Valid: Loss = 6.334, Metric = 563.6\n",
      "\n"
     ]
    },
    {
     "name": "stderr",
     "output_type": "stream",
     "text": [
      "Epoch 2: 100%|██████████| 1283/1283 [01:10<00:00, 18.07batch/s, loss=6.55, metric=697]\n"
     ]
    },
    {
     "name": "stdout",
     "output_type": "stream",
     "text": [
      "Model Saved!\n",
      "Valid: Loss = 6.329, Metric = 560.7\n",
      "\n"
     ]
    },
    {
     "name": "stderr",
     "output_type": "stream",
     "text": [
      "Epoch 3: 100%|██████████| 1283/1283 [01:11<00:00, 17.96batch/s, loss=6.54, metric=694]\n"
     ]
    },
    {
     "name": "stdout",
     "output_type": "stream",
     "text": [
      "Model Saved!\n",
      "Valid: Loss = 6.326, Metric = 559.0\n",
      "\n"
     ]
    },
    {
     "name": "stderr",
     "output_type": "stream",
     "text": [
      "Epoch 4: 100%|██████████| 1283/1283 [01:12<00:00, 17.64batch/s, loss=6.54, metric=691]\n"
     ]
    },
    {
     "name": "stdout",
     "output_type": "stream",
     "text": [
      "Model Saved!\n",
      "Valid: Loss = 6.324, Metric = 557.7\n",
      "\n"
     ]
    },
    {
     "name": "stderr",
     "output_type": "stream",
     "text": [
      "Epoch 5: 100%|██████████| 1283/1283 [01:10<00:00, 18.10batch/s, loss=6.53, metric=687]\n"
     ]
    },
    {
     "name": "stdout",
     "output_type": "stream",
     "text": [
      "Model Saved!\n",
      "Valid: Loss = 6.32, Metric = 555.6\n",
      "\n"
     ]
    },
    {
     "name": "stderr",
     "output_type": "stream",
     "text": [
      "Epoch 6: 100%|██████████| 1283/1283 [01:10<00:00, 18.09batch/s, loss=6.53, metric=684]\n"
     ]
    },
    {
     "name": "stdout",
     "output_type": "stream",
     "text": [
      "Model Saved!\n",
      "Valid: Loss = 6.314, Metric = 552.0\n",
      "\n"
     ]
    },
    {
     "name": "stderr",
     "output_type": "stream",
     "text": [
      "Epoch 7: 100%|██████████| 1283/1283 [01:12<00:00, 17.72batch/s, loss=6.52, metric=680]\n"
     ]
    },
    {
     "name": "stdout",
     "output_type": "stream",
     "text": [
      "Model Saved!\n",
      "Valid: Loss = 6.31, Metric = 550.3\n",
      "\n"
     ]
    },
    {
     "name": "stderr",
     "output_type": "stream",
     "text": [
      "Epoch 8: 100%|██████████| 1283/1283 [01:11<00:00, 17.90batch/s, loss=6.52, metric=678]\n"
     ]
    },
    {
     "name": "stdout",
     "output_type": "stream",
     "text": [
      "Model Saved!\n",
      "Valid: Loss = 6.308, Metric = 548.9\n",
      "\n"
     ]
    },
    {
     "name": "stderr",
     "output_type": "stream",
     "text": [
      "Epoch 9: 100%|██████████| 1283/1283 [01:10<00:00, 18.18batch/s, loss=6.52, metric=675]\n"
     ]
    },
    {
     "name": "stdout",
     "output_type": "stream",
     "text": [
      "Model Saved!\n",
      "Valid: Loss = 6.303, Metric = 546.2\n",
      "\n"
     ]
    },
    {
     "name": "stderr",
     "output_type": "stream",
     "text": [
      "Epoch 10: 100%|██████████| 1283/1283 [01:11<00:00, 17.96batch/s, loss=6.51, metric=672]\n"
     ]
    },
    {
     "name": "stdout",
     "output_type": "stream",
     "text": [
      "Model Saved!\n",
      "Valid: Loss = 6.301, Metric = 545.0\n",
      "\n"
     ]
    },
    {
     "name": "stderr",
     "output_type": "stream",
     "text": [
      "Epoch 11: 100%|██████████| 1283/1283 [01:11<00:00, 17.95batch/s, loss=6.51, metric=669]\n"
     ]
    },
    {
     "name": "stdout",
     "output_type": "stream",
     "text": [
      "Model Saved!\n",
      "Valid: Loss = 6.297, Metric = 543.0\n",
      "\n"
     ]
    },
    {
     "name": "stderr",
     "output_type": "stream",
     "text": [
      "Epoch 12: 100%|██████████| 1283/1283 [01:11<00:00, 17.82batch/s, loss=6.5, metric=667]\n"
     ]
    },
    {
     "name": "stdout",
     "output_type": "stream",
     "text": [
      "Model Saved!\n",
      "Valid: Loss = 6.294, Metric = 541.2\n",
      "\n"
     ]
    },
    {
     "name": "stderr",
     "output_type": "stream",
     "text": [
      "Epoch 13: 100%|██████████| 1283/1283 [01:11<00:00, 18.06batch/s, loss=6.5, metric=664]\n"
     ]
    },
    {
     "name": "stdout",
     "output_type": "stream",
     "text": [
      "Model Saved!\n",
      "Valid: Loss = 6.293, Metric = 540.7\n",
      "\n"
     ]
    },
    {
     "name": "stderr",
     "output_type": "stream",
     "text": [
      "Epoch 14: 100%|██████████| 1283/1283 [01:11<00:00, 17.99batch/s, loss=6.49, metric=661]\n"
     ]
    },
    {
     "name": "stdout",
     "output_type": "stream",
     "text": [
      "Model Saved!\n",
      "Valid: Loss = 6.291, Metric = 539.8\n",
      "\n"
     ]
    },
    {
     "name": "stderr",
     "output_type": "stream",
     "text": [
      "Epoch 15: 100%|██████████| 1283/1283 [01:12<00:00, 17.70batch/s, loss=6.49, metric=659]\n"
     ]
    },
    {
     "name": "stdout",
     "output_type": "stream",
     "text": [
      "Model Saved!\n",
      "Valid: Loss = 6.284, Metric = 535.9\n",
      "\n"
     ]
    },
    {
     "name": "stderr",
     "output_type": "stream",
     "text": [
      "Epoch 16: 100%|██████████| 1283/1283 [01:13<00:00, 17.50batch/s, loss=6.49, metric=656]\n"
     ]
    },
    {
     "name": "stdout",
     "output_type": "stream",
     "text": [
      "Model Saved!\n",
      "Valid: Loss = 6.283, Metric = 535.4\n",
      "\n"
     ]
    },
    {
     "name": "stderr",
     "output_type": "stream",
     "text": [
      "Epoch 17: 100%|██████████| 1283/1283 [01:11<00:00, 17.99batch/s, loss=6.48, metric=654]\n"
     ]
    },
    {
     "name": "stdout",
     "output_type": "stream",
     "text": [
      "Model Saved!\n",
      "Valid: Loss = 6.277, Metric = 531.9\n",
      "\n"
     ]
    },
    {
     "name": "stderr",
     "output_type": "stream",
     "text": [
      "Epoch 18: 100%|██████████| 1283/1283 [01:12<00:00, 17.72batch/s, loss=6.48, metric=652]\n"
     ]
    },
    {
     "name": "stdout",
     "output_type": "stream",
     "text": [
      "Model Saved!\n",
      "Valid: Loss = 6.275, Metric = 531.2\n",
      "\n"
     ]
    },
    {
     "name": "stderr",
     "output_type": "stream",
     "text": [
      "Epoch 19: 100%|██████████| 1283/1283 [01:09<00:00, 18.36batch/s, loss=6.48, metric=649]\n"
     ]
    },
    {
     "name": "stdout",
     "output_type": "stream",
     "text": [
      "Valid: Loss = 6.276, Metric = 531.4\n",
      "\n"
     ]
    }
   ],
   "source": [
    "num_epochs = 20\n",
    "\n",
    "for epoch in range(num_epochs):\n",
    "  # Train\n",
    "  model, loss_train, metric_train = train_one_epoch(model,\n",
    "                                                 train_loader,\n",
    "                                                 criterion,\n",
    "                                                 optimizer,\n",
    "                                                 perplexity,\n",
    "                                                 epoch)\n",
    "  # Validation\n",
    "  loss_valid, metric_valid = evaluate(model,\n",
    "                                     val_loader,\n",
    "                                     criterion,\n",
    "                                     perplexity)\n",
    "\n",
    "  loss_train_hist.append(loss_train)\n",
    "  loss_valid_hist.append(loss_valid)\n",
    "\n",
    "  metric_train_hist.append(metric_train)\n",
    "  metric_valid_hist.append(metric_valid)\n",
    "\n",
    "  if loss_valid < best_loss_valid:\n",
    "    torch.save(model, f'model.pt')\n",
    "    best_loss_valid = loss_valid\n",
    "    print('Model Saved!')\n",
    "\n",
    "  print(f'Valid: Loss = {loss_valid:.4}, Metric = {metric_valid:.4}')\n",
    "  print()\n",
    "\n",
    "  epoch_counter += 1"
   ]
  },
  {
   "cell_type": "markdown",
   "metadata": {
    "id": "oK20iNRI3Xxb"
   },
   "source": [
    "## 🟠 Plot"
   ]
  },
  {
   "cell_type": "markdown",
   "metadata": {
    "id": "IKlLvCwuzEAA"
   },
   "source": [
    "🔰 Plot learning curves"
   ]
  },
  {
   "cell_type": "code",
   "execution_count": 89,
   "metadata": {
    "id": "KYFzTsdIOkVp"
   },
   "outputs": [
    {
     "data": {
      "text/plain": [
       "<matplotlib.legend.Legend at 0x1d0e64e8f70>"
      ]
     },
     "execution_count": 89,
     "metadata": {},
     "output_type": "execute_result"
    },
    {
     "data": {
      "image/png": "[encoded data removed]",
      "text/plain": [
       "<Figure size 800x600 with 1 Axes>"
      ]
     },
     "metadata": {},
     "output_type": "display_data"
    }
   ],
   "source": [
    "plt.figure(figsize=(8, 6))\n",
    "\n",
    "plt.plot(range(epoch_counter), loss_train_hist, 'r-', label='Train')\n",
    "plt.plot(range(epoch_counter), loss_valid_hist, 'b-', label='Validation')\n",
    "\n",
    "plt.xlabel('Epoch')\n",
    "plt.ylabel('loss')\n",
    "plt.grid(True)\n",
    "plt.legend()"
   ]
  },
  {
   "cell_type": "markdown",
   "metadata": {
    "id": "KZ9UIdmkfxlA"
   },
   "source": [
    "# 🔴 **Test**"
   ]
  },
  {
   "cell_type": "markdown",
   "metadata": {
    "id": "SO8iPWH1zVYn"
   },
   "source": [
    "🔰 Test your model using data from the test set"
   ]
  },
  {
   "cell_type": "code",
   "execution_count": 90,
   "metadata": {
    "id": "35sn67IhKcm_"
   },
   "outputs": [
    {
     "name": "stdout",
     "output_type": "stream",
     "text": [
      "Test: Loss = 6.266, Metric = 526.5\n"
     ]
    }
   ],
   "source": [
    "test_loss, test_metric = evaluate(model, test_loader, criterion, perplexity)\n",
    "print(f'Test: Loss = {test_loss:.4}, Metric = {test_metric:.4}')"
   ]
  },
  {
   "cell_type": "markdown",
   "metadata": {
    "id": "FzcQQwFuar_7"
   },
   "source": [
    "# 🔴 **Generate**"
   ]
  },
  {
   "cell_type": "markdown",
   "metadata": {
    "id": "jh2_9jUp0GF4"
   },
   "source": [
    "🔰 Your mission is to write a `generate` function and use a desired sentence to evaluate the model"
   ]
  },
  {
   "cell_type": "code",
   "execution_count": 91,
   "metadata": {
    "id": "pskvb--R-wJ0"
   },
   "outputs": [
    {
     "data": {
      "text/plain": [
       "LanguageModel(\n",
       "  (embedding): Embedding(66061, 128)\n",
       "  (lstm): LSTM(128, 256, num_layers=2, batch_first=True, dropout=0.5)\n",
       "  (fc): Linear(in_features=256, out_features=66061, bias=True)\n",
       "  (dropout): Dropout(p=0.5, inplace=False)\n",
       ")"
      ]
     },
     "execution_count": 91,
     "metadata": {},
     "output_type": "execute_result"
    }
   ],
   "source": [
    "model_path = 'model.pt'\n",
    "model = torch.load(model_path)\n",
    "model.eval()"
   ]
  },
  {
   "cell_type": "code",
   "execution_count": 92,
   "metadata": {
    "id": "f5SvSDLal8YB"
   },
   "outputs": [],
   "source": [
    "def generate(prompt, max_seq_len, temperature, model, tokenizer, vocab, seed=None):\n",
    "\n",
    "    if seed is not None:\n",
    "        torch.manual_seed(seed)\n",
    "    \n",
    "    model.eval()\n",
    "    \n",
    "    with torch.no_grad():\n",
    "        tokens = tokenizer(prompt)\n",
    "        token_indices = [vocab[token] for token in tokens if token in vocab]\n",
    "        token_tensor = torch.tensor(token_indices).unsqueeze(0)\n",
    "    \n",
    "        for _ in range(max_seq_len):\n",
    "            output = model(token_tensor)\n",
    "            output_probs = F.softmax(output[:, -1, :] / temperature, dim=-1)\n",
    "            token_probs, token_indices = output_probs.topk(1)\n",
    "    \n",
    "            token_index = token_indices.item()\n",
    "            token_tensor = torch.cat([token_tensor, torch.tensor([[token_index]])], dim=-1)\n",
    "        \n",
    "            if token_index == vocab['<eos>']:\n",
    "                break\n",
    "        \n",
    "    generated_tokens = [vocab.get_itos()[idx] for idx in token_tensor.squeeze(0).numpy()]\n",
    "    generated_text = tokenizer.convert_tokens_to_string(generated_tokens)\n",
    "    \n",
    "    return generated_text"
   ]
  },
  {
   "cell_type": "code",
   "execution_count": 93,
   "metadata": {
    "id": "pVedneOVD6ul"
   },
   "outputs": [],
   "source": [
    "def generate(prompt, max_seq_len, temperature, model, tokenizer, vocab, seed=None):\n",
    "    if seed is not None:\n",
    "        torch.manual_seed(seed)\n",
    "\n",
    "    model.eval()\n",
    "    \n",
    "    # Tokenize the prompt and convert to tensor\n",
    "    tokens = tokenizer(prompt)  # e.g., [\"This\", \"is\", \"a\"]\n",
    "    token_indices = torch.tensor([vocab[token] for token in tokens], dtype=torch.long).unsqueeze(0).to(next(model.parameters()).device)\n",
    "    \n",
    "    generated = token_indices.clone()  # Start with the prompt\n",
    "    \n",
    "    with torch.no_grad():\n",
    "        for _ in range(max_seq_len):\n",
    "            logits = model(generated)\n",
    "            \n",
    "            logits = logits[:, -1, :]  # Shape: [1, vocab_size]\n",
    "            \n",
    "            logits = logits / temperature\n",
    "            \n",
    "            probabilities = F.softmax(logits, dim=-1)\n",
    "            \n",
    "            next_token_index = torch.multinomial(probabilities, num_samples=1).item()\n",
    "            \n",
    "            generated = torch.cat([generated, torch.tensor([[next_token_index]], device=generated.device)], dim=1)\n",
    "            \n",
    "            if next_token_index == vocab[\"<eos>\"]:\n",
    "                break\n",
    "\n",
    "    generated_text = \" \".join([vocab.lookup_token(idx) for idx in generated.squeeze().tolist()])\n",
    "    return generated_text"
   ]
  },
  {
   "cell_type": "code",
   "execution_count": 94,
   "metadata": {},
   "outputs": [
    {
     "name": "stdout",
     "output_type": "stream",
     "text": [
      "the opening of the great of the series of his north of the album . some , and the club of the office of the mcneil period . the storm was published , in the same departure in the german . in the first paid , the episode was some in the following of the lack of the world , and the edge of the contemporaries ) in the year of the basis in the first @-@ world career with the first line . = = = sound career = = = the british guidance of the events , the company\n"
     ]
    }
   ],
   "source": [
    "text = generate(\"The\", 100, 0.7, model, tokenizer, vocab, seed=42)\n",
    "print(text)"
   ]
  }
 ],
 "metadata": {
  "colab": {
   "authorship_tag": "ABX9TyP0CINCFn69a6yshcTfxPZT",
   "collapsed_sections": [
    "w_a3OXnSeV0z",
    "RwaY_YcgRayy",
    "RTql4Ftiunfr",
    "ujIVtjsYvxOI",
    "wCi-ofSLCzop",
    "B29jrEvwRqXA",
    "A3rnR739GbYb",
    "a4HyLPqcsF43",
    "cfBasjQCE_aI",
    "idRexFij4wgN",
    "PgLgP04P4-aX",
    "NCQjacybOfqV",
    "3ttl0AK3Hvyh",
    "24qT-sgUO2-d",
    "W0QNbC0YPCKZ",
    "G9HgVWslPGsH",
    "o_5f69nwPtY2",
    "De7VreNxQdct",
    "lpJ3wtyctQJH",
    "BrHQCv7q7LF_",
    "BLT4w0ZfAhlJ",
    "uC2GhaXfA8vC",
    "Mjd9Z3N1ef3I",
    "rjGQ-M02cusP",
    "oK20iNRI3Xxb",
    "KZ9UIdmkfxlA",
    "FzcQQwFuar_7"
   ],
   "provenance": []
  },
  "kaggle": {
   "accelerator": "gpu",
   "dataSources": [],
   "isGpuEnabled": true,
   "isInternetEnabled": true,
   "language": "python",
   "sourceType": "notebook"
  },
  "kernelspec": {
   "display_name": "Python 3",
   "language": "python",
   "name": "python3"
  },
  "language_info": {
   "codemirror_mode": {
    "name": "ipython",
    "version": 3
   },
   "file_extension": ".py",
   "mimetype": "text/x-python",
   "name": "python",
   "nbconvert_exporter": "python",
   "pygments_lexer": "ipython3",
   "version": "3.10.12"
  }
 },
 "nbformat": 4,
 "nbformat_minor": 4
}
