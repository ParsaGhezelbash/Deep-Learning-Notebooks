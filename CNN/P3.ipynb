{
 "cells": [
  {
   "cell_type": "code",
   "execution_count": null,
   "metadata": {},
   "outputs": [],
   "source": [
    "Name = 'Parsa Ghezelbash'\n",
    "STID = 401110437"
   ]
  },
  {
   "cell_type": "code",
   "execution_count": 2,
   "metadata": {
    "_cell_guid": "88bed5e7-c6b7-4418-97dc-9035b9213516",
    "_uuid": "8ce5b648-f169-4506-bb95-1cd39f4a2965",
    "collapsed": false,
    "execution": {
     "iopub.execute_input": "2024-12-15T05:21:34.970258Z",
     "iopub.status.busy": "2024-12-15T05:21:34.969442Z",
     "iopub.status.idle": "2024-12-15T05:21:37.981223Z",
     "shell.execute_reply": "2024-12-15T05:21:37.980526Z",
     "shell.execute_reply.started": "2024-12-15T05:21:34.970223Z"
    },
    "jupyter": {
     "outputs_hidden": false
    },
    "trusted": true
   },
   "outputs": [],
   "source": [
    "import numpy as np\n",
    "\n",
    "\n",
    "\n",
    "import matplotlib.pyplot as plt\n",
    "\n",
    "\n",
    "\n",
    "\n",
    "\n",
    "\n",
    "\n",
    "import torch\n",
    "\n",
    "\n",
    "\n",
    "import torch.nn as nn\n",
    "\n",
    "\n",
    "\n",
    "import torch.nn.functional as F\n",
    "\n",
    "\n",
    "\n",
    "import torch.optim as optim\n",
    "\n",
    "\n",
    "\n",
    "from torch.utils.data import Subset\n",
    "\n",
    "\n",
    "\n",
    "from torch.utils.data import DataLoader\n",
    "\n",
    "\n",
    "\n",
    "from torch.utils.data import random_split\n",
    "\n",
    "\n",
    "\n",
    "\n",
    "\n",
    "\n",
    "\n",
    "import torchvision\n",
    "\n",
    "\n",
    "\n",
    "import torchvision.transforms as transforms\n",
    "\n",
    "\n",
    "\n",
    "from torchvision.models import (\n",
    "\n",
    "\n",
    "\n",
    "    resnet50,\n",
    "\n",
    "\n",
    "\n",
    "    ResNet50_Weights,\n",
    "\n",
    "\n",
    "\n",
    "    mobilenet_v2,\n",
    "\n",
    "\n",
    "\n",
    "    MobileNet_V2_Weights,\n",
    "\n",
    "\n",
    "\n",
    "    vgg16,\n",
    "\n",
    "\n",
    "\n",
    "    VGG16_Weights,\n",
    "\n",
    "\n",
    "\n",
    ")\n",
    "\n",
    "\n",
    "\n",
    "\n",
    "\n",
    "\n",
    "\n",
    "from sklearn.metrics import confusion_matrix, ConfusionMatrixDisplay\n",
    "\n",
    "\n",
    "\n",
    "from sklearn.preprocessing import OneHotEncoder\n",
    "\n",
    "\n",
    "\n",
    "\n",
    "\n",
    "\n",
    "\n",
    "from PIL import Image\n",
    "\n",
    "\n",
    "\n",
    "import requests\n",
    "\n",
    "\n",
    "\n",
    "from io import BytesIO\n",
    "\n",
    "\n",
    "\n",
    "\n",
    "\n",
    "\n",
    "\n",
    "\n",
    "\n",
    "import time\n",
    "\n",
    "\n",
    "\n",
    "\n",
    "\n",
    "\n",
    "\n",
    "import importlib\n",
    "\n",
    "\n",
    "\n",
    "import utils\n",
    "\n",
    "\n",
    "\n",
    "\n",
    "\n",
    "\n",
    "\n",
    "importlib.reload(utils)\n",
    "\n",
    "\n",
    "\n",
    "from utils.utils import (\n",
    "\n",
    "\n",
    "\n",
    "    accuracy,\n",
    "\n",
    "\n",
    "\n",
    "    train,\n",
    "\n",
    "\n",
    "\n",
    "    combined_train,\n",
    "\n",
    "\n",
    "\n",
    "    test,\n",
    "\n",
    "\n",
    "\n",
    "    combined_test,\n",
    "\n",
    "\n",
    "\n",
    "    plot_acc,\n",
    "\n",
    "\n",
    "\n",
    "    plot_loss,\n",
    "\n",
    "\n",
    "\n",
    "    plot_confusion_matrix,\n",
    "\n",
    "\n",
    "\n",
    "    save_model,\n",
    "\n",
    "\n",
    "\n",
    "    get_feature_maps,\n",
    "\n",
    "\n",
    "\n",
    "    visualize_feature_maps,\n",
    "\n",
    "\n",
    "\n",
    "    plot_images,\n",
    "\n",
    "\n",
    "\n",
    "    plot_feature_maps,\n",
    "\n",
    "\n",
    "\n",
    "    get_num_parameters,\n",
    "\n",
    "\n",
    "\n",
    ")"
   ]
  },
  {
   "cell_type": "code",
   "execution_count": 3,
   "metadata": {
    "_cell_guid": "4cde83eb-1423-4003-bf31-fa62bc62268e",
    "_uuid": "705841de-ddb6-476e-a8dc-5f3616f046a0",
    "collapsed": false,
    "execution": {
     "iopub.execute_input": "2024-12-15T05:21:37.983821Z",
     "iopub.status.busy": "2024-12-15T05:21:37.983088Z",
     "iopub.status.idle": "2024-12-15T05:21:37.993913Z",
     "shell.execute_reply": "2024-12-15T05:21:37.993193Z",
     "shell.execute_reply.started": "2024-12-15T05:21:37.983756Z"
    },
    "jupyter": {
     "outputs_hidden": false
    },
    "trusted": true
   },
   "outputs": [],
   "source": [
    "num_classes = 102\n",
    "\n",
    "\n",
    "\n",
    "torch.manual_seed(13)\n",
    "\n",
    "\n",
    "\n",
    "np.random.seed(13)\n",
    "\n",
    "\n",
    "\n",
    "\n",
    "\n",
    "\n",
    "\n",
    "mean = [0.485, 0.456, 0.406]\n",
    "\n",
    "\n",
    "\n",
    "std = [0.229, 0.224, 0.225]\n",
    "\n",
    "\n",
    "\n",
    "image_size = (224, 224)\n",
    "\n",
    "\n",
    "\n",
    "batch_size = 32"
   ]
  },
  {
   "cell_type": "markdown",
   "metadata": {
    "_cell_guid": "6261a54f-ab2c-43d4-9fda-9e2705dd3a4d",
    "_uuid": "6640f991-cec1-4b12-a782-751060db265d",
    "collapsed": false,
    "jupyter": {
     "outputs_hidden": false
    },
    "trusted": true
   },
   "source": [
    "# Loading Flower102 + Preprocess"
   ]
  },
  {
   "cell_type": "code",
   "execution_count": 4,
   "metadata": {
    "_cell_guid": "c27d8c23-a4cc-4e0a-b331-aee90968a254",
    "_uuid": "ced07788-78b9-4ba6-82d7-44366d297904",
    "collapsed": false,
    "execution": {
     "iopub.execute_input": "2024-12-15T05:21:37.995146Z",
     "iopub.status.busy": "2024-12-15T05:21:37.994892Z",
     "iopub.status.idle": "2024-12-15T05:21:38.000910Z",
     "shell.execute_reply": "2024-12-15T05:21:38.000007Z",
     "shell.execute_reply.started": "2024-12-15T05:21:37.995121Z"
    },
    "jupyter": {
     "outputs_hidden": false
    },
    "trusted": true
   },
   "outputs": [],
   "source": [
    "train_transform = transforms.Compose(\n",
    "\n",
    "\n",
    "\n",
    "    [\n",
    "\n",
    "\n",
    "\n",
    "        transforms.Resize(size=(256, 256)),\n",
    "\n",
    "\n",
    "\n",
    "        transforms.RandomCrop(size=image_size),\n",
    "\n",
    "\n",
    "\n",
    "        transforms.RandomHorizontalFlip(),\n",
    "\n",
    "\n",
    "\n",
    "        transforms.ColorJitter(brightness=0.2, contrast=0.2, saturation=0.2, hue=0.1),\n",
    "\n",
    "\n",
    "\n",
    "        transforms.ToTensor(),\n",
    "\n",
    "\n",
    "\n",
    "        transforms.Normalize(mean=mean, std=std),\n",
    "\n",
    "\n",
    "\n",
    "    ]\n",
    "\n",
    "\n",
    "\n",
    ")\n",
    "\n",
    "\n",
    "\n",
    "\n",
    "\n",
    "\n",
    "\n",
    "val_transform = transforms.Compose(\n",
    "\n",
    "\n",
    "\n",
    "    [\n",
    "\n",
    "\n",
    "\n",
    "        transforms.Resize(size=image_size),\n",
    "\n",
    "\n",
    "\n",
    "        transforms.ToTensor(),\n",
    "\n",
    "\n",
    "\n",
    "        transforms.Normalize(mean=mean, std=std),\n",
    "\n",
    "\n",
    "\n",
    "    ]\n",
    "\n",
    "\n",
    "\n",
    ")"
   ]
  },
  {
   "cell_type": "code",
   "execution_count": 5,
   "metadata": {
    "_cell_guid": "5459b6cd-99fb-4b70-a9e7-a934e63d2b68",
    "_uuid": "9fe55bd2-9afc-4467-a98b-9dd6b8f10ea8",
    "collapsed": false,
    "execution": {
     "iopub.execute_input": "2024-12-15T05:21:38.002114Z",
     "iopub.status.busy": "2024-12-15T05:21:38.001875Z",
     "iopub.status.idle": "2024-12-15T05:22:22.423060Z",
     "shell.execute_reply": "2024-12-15T05:22:22.422190Z",
     "shell.execute_reply.started": "2024-12-15T05:21:38.002091Z"
    },
    "jupyter": {
     "outputs_hidden": false
    },
    "trusted": true
   },
   "outputs": [
    {
     "name": "stdout",
     "output_type": "stream",
     "text": [
      "Downloading https://thor.robots.ox.ac.uk/flowers/102/102flowers.tgz to data/flowers-102/102flowers.tgz\n"
     ]
    },
    {
     "name": "stderr",
     "output_type": "stream",
     "text": [
      "100%|██████████| 344862509/344862509 [00:24<00:00, 13878346.63it/s]\n"
     ]
    },
    {
     "name": "stdout",
     "output_type": "stream",
     "text": [
      "Extracting data/flowers-102/102flowers.tgz to data/flowers-102\n",
      "Downloading https://thor.robots.ox.ac.uk/flowers/102/imagelabels.mat to data/flowers-102/imagelabels.mat\n"
     ]
    },
    {
     "name": "stderr",
     "output_type": "stream",
     "text": [
      "100%|██████████| 502/502 [00:00<00:00, 381300.36it/s]\n"
     ]
    },
    {
     "name": "stdout",
     "output_type": "stream",
     "text": [
      "Downloading https://thor.robots.ox.ac.uk/flowers/102/setid.mat to data/flowers-102/setid.mat\n"
     ]
    },
    {
     "name": "stderr",
     "output_type": "stream",
     "text": [
      "100%|██████████| 14989/14989 [00:00<00:00, 8543065.99it/s]"
     ]
    },
    {
     "name": "stdout",
     "output_type": "stream",
     "text": [
      "Train Dataset: 6149\n",
      "Val Dataset: 1020\n",
      "Test Dataset: 1020\n"
     ]
    },
    {
     "name": "stderr",
     "output_type": "stream",
     "text": [
      "\n"
     ]
    }
   ],
   "source": [
    "train_dataset = torchvision.datasets.Flowers102(\n",
    "\n",
    "\n",
    "\n",
    "    root=\"./data\",\n",
    "\n",
    "\n",
    "\n",
    "    split=\"test\",\n",
    "\n",
    "\n",
    "\n",
    "    download=True,\n",
    "\n",
    "\n",
    "\n",
    "    transform=train_transform,\n",
    "\n",
    "\n",
    "\n",
    ")\n",
    "\n",
    "\n",
    "\n",
    "\n",
    "\n",
    "\n",
    "\n",
    "val_dataset = torchvision.datasets.Flowers102(\n",
    "\n",
    "\n",
    "\n",
    "    root=\"./data\",\n",
    "\n",
    "\n",
    "\n",
    "    split=\"val\",\n",
    "\n",
    "\n",
    "\n",
    "    download=True,\n",
    "\n",
    "\n",
    "\n",
    "    transform=val_transform,\n",
    "\n",
    "\n",
    "\n",
    ")\n",
    "\n",
    "\n",
    "\n",
    "\n",
    "\n",
    "\n",
    "\n",
    "test_dataset = torchvision.datasets.Flowers102(\n",
    "\n",
    "\n",
    "\n",
    "    root=\"./data\",\n",
    "\n",
    "\n",
    "\n",
    "    split=\"train\",\n",
    "\n",
    "\n",
    "\n",
    "    download=True,\n",
    "\n",
    "\n",
    "\n",
    "    transform=val_transform,\n",
    "\n",
    "\n",
    "\n",
    ")\n",
    "\n",
    "\n",
    "\n",
    "\n",
    "\n",
    "\n",
    "\n",
    "print(f\"Train Dataset: {len(train_dataset)}\")\n",
    "\n",
    "\n",
    "\n",
    "print(f\"Val Dataset: {len(val_dataset)}\")\n",
    "\n",
    "\n",
    "\n",
    "print(f\"Test Dataset: {len(test_dataset)}\")"
   ]
  },
  {
   "cell_type": "code",
   "execution_count": 6,
   "metadata": {
    "_cell_guid": "7125a5c5-a5a0-49fb-a5b1-97cbca4ba289",
    "_uuid": "08cdc337-d815-4766-ba37-1eeac7c1aa7c",
    "collapsed": false,
    "execution": {
     "iopub.execute_input": "2024-12-15T05:22:22.425439Z",
     "iopub.status.busy": "2024-12-15T05:22:22.425166Z",
     "iopub.status.idle": "2024-12-15T05:22:22.430957Z",
     "shell.execute_reply": "2024-12-15T05:22:22.430130Z",
     "shell.execute_reply.started": "2024-12-15T05:22:22.425413Z"
    },
    "jupyter": {
     "outputs_hidden": false
    },
    "trusted": true
   },
   "outputs": [],
   "source": [
    "train_loader = DataLoader(\n",
    "\n",
    "\n",
    "\n",
    "    train_dataset, batch_size=batch_size, shuffle=True, num_workers=4, pin_memory=True\n",
    "\n",
    "\n",
    "\n",
    ")\n",
    "\n",
    "\n",
    "\n",
    "val_loader = DataLoader(\n",
    "\n",
    "\n",
    "\n",
    "    val_dataset, batch_size=batch_size, shuffle=True, num_workers=4, pin_memory=True\n",
    "\n",
    "\n",
    "\n",
    ")\n",
    "\n",
    "\n",
    "\n",
    "test_loader = DataLoader(\n",
    "\n",
    "\n",
    "\n",
    "    test_dataset, batch_size=batch_size, shuffle=True, num_workers=4, pin_memory=True\n",
    "\n",
    "\n",
    "\n",
    ")"
   ]
  },
  {
   "cell_type": "code",
   "execution_count": 7,
   "metadata": {
    "_cell_guid": "2e2257c0-4f91-432d-8bbe-d06606fb50aa",
    "_uuid": "b27e7421-02d7-4dee-8156-ad77bfde7072",
    "collapsed": false,
    "execution": {
     "iopub.execute_input": "2024-12-15T05:22:22.432238Z",
     "iopub.status.busy": "2024-12-15T05:22:22.431985Z",
     "iopub.status.idle": "2024-12-15T05:22:22.710848Z",
     "shell.execute_reply": "2024-12-15T05:22:22.709978Z",
     "shell.execute_reply.started": "2024-12-15T05:22:22.432213Z"
    },
    "jupyter": {
     "outputs_hidden": false
    },
    "trusted": true
   },
   "outputs": [
    {
     "name": "stdout",
     "output_type": "stream",
     "text": [
      "['pink primrose' 'hard-leaved pocket orchid' 'canterbury bells'\n",
      " 'sweet pea' 'english marigold' 'tiger lily' 'moon orchid'\n",
      " 'bird of paradise' 'monkshood' 'globe thistle' 'snapdragon' \"colt's foot\"\n",
      " 'king protea' 'spear thistle' 'yellow iris' 'globe-flower'\n",
      " 'purple coneflower' 'peruvian lily' 'balloon flower'\n",
      " 'giant white arum lily' 'fire lily' 'pincushion flower' 'fritillary'\n",
      " 'red ginger' 'grape hyacinth' 'corn poppy' 'prince of wales feathers'\n",
      " 'stemless gentian' 'artichoke' 'sweet william' 'carnation' 'garden phlox'\n",
      " 'love in the mist' 'mexican aster' 'alpine sea holly'\n",
      " 'ruby-lipped cattleya' 'cape flower' 'great masterwort' 'siam tulip'\n",
      " 'lenten rose' 'barbeton daisy' 'daffodil' 'sword lily' 'poinsettia'\n",
      " 'bolero deep blue' 'wallflower' 'marigold' 'buttercup' 'oxeye daisy'\n",
      " 'common dandelion' 'petunia' 'wild pansy' 'primula' 'sunflower'\n",
      " 'pelargonium' 'bishop of llandaff' 'gaura' 'geranium' 'orange dahlia'\n",
      " 'pink-yellow dahlia?' 'cautleya spicata' 'japanese anemone'\n",
      " 'black-eyed susan' 'silverbush' 'californian poppy' 'osteospermum'\n",
      " 'spring crocus' 'bearded iris' 'windflower' 'tree poppy' 'gazania'\n",
      " 'azalea' 'water lily' 'rose' 'thorn apple' 'morning glory'\n",
      " 'passion flower' 'lotus' 'toad lily' 'anthurium' 'frangipani' 'clematis'\n",
      " 'hibiscus' 'columbine' 'desert-rose' 'tree mallow' 'magnolia' 'cyclamen '\n",
      " 'watercress' 'canna lily' 'hippeastrum ' 'bee balm' 'ball moss'\n",
      " 'foxglove' 'bougainvillea' 'camellia' 'mallow' 'mexican petunia'\n",
      " 'bromelia' 'blanket flower' 'trumpet creeper' 'blackberry lily']\n"
     ]
    }
   ],
   "source": [
    "url = \"https://gist.githubusercontent.com/JosephKJ/94c7728ed1a8e0cd87fe6a029769cde1/raw/403325f5110cb0f3099734c5edb9f457539c77e9/Oxford-102_Flower_dataset_labels.txt\"\n",
    "\n",
    "response = requests.get(url)\n",
    "\n",
    "if response.status_code == 200:\n",
    "\n",
    "    lines = response.text.splitlines()\n",
    "\n",
    "    \n",
    "\n",
    "    processed_lines = [line.strip().strip(\"'\").strip(\"\\\"\") for line in lines]\n",
    "\n",
    "else:\n",
    "\n",
    "    print(f\"Failed to fetch the file. Status code: {response.status_code}\")\n",
    "\n",
    "\n",
    "\n",
    "\n",
    "\n",
    "classes = np.array(processed_lines)\n",
    "\n",
    "print(classes)"
   ]
  },
  {
   "cell_type": "code",
   "execution_count": 8,
   "metadata": {
    "_cell_guid": "4045619b-89ee-471f-a805-de0c2427cebd",
    "_uuid": "989f89a4-8ee1-43e1-a02c-806bd64a3308",
    "collapsed": false,
    "execution": {
     "iopub.execute_input": "2024-12-15T05:22:22.712221Z",
     "iopub.status.busy": "2024-12-15T05:22:22.711952Z",
     "iopub.status.idle": "2024-12-15T05:22:22.792226Z",
     "shell.execute_reply": "2024-12-15T05:22:22.791539Z",
     "shell.execute_reply.started": "2024-12-15T05:22:22.712196Z"
    },
    "jupyter": {
     "outputs_hidden": false
    },
    "trusted": true
   },
   "outputs": [
    {
     "name": "stdout",
     "output_type": "stream",
     "text": [
      "tensor([0.0201, 0.0100, 0.0201, 0.0112, 0.0089, 0.0161, 0.0201, 0.0062, 0.0155,\n",
      "        0.0161, 0.0060, 0.0060, 0.0139, 0.0143, 0.0139, 0.0191, 0.0062, 0.0065,\n",
      "        0.0139, 0.0112, 0.0201, 0.0103, 0.0057, 0.0183, 0.0191, 0.0191, 0.0201,\n",
      "        0.0087, 0.0069, 0.0062, 0.0126, 0.0161, 0.0155, 0.0201, 0.0175, 0.0073,\n",
      "        0.0046, 0.0112, 0.0191, 0.0085, 0.0038, 0.0103, 0.0037, 0.0055, 0.0201,\n",
      "        0.0023, 0.0085, 0.0079, 0.0139, 0.0056, 0.0017, 0.0062, 0.0055, 0.0098,\n",
      "        0.0079, 0.0045, 0.0085, 0.0043, 0.0085, 0.0045, 0.0134, 0.0115, 0.0118,\n",
      "        0.0126, 0.0049, 0.0098, 0.0183, 0.0118, 0.0118, 0.0096, 0.0069, 0.0053,\n",
      "        0.0023, 0.0027, 0.0040, 0.0046, 0.0017, 0.0034, 0.0191, 0.0047, 0.0028,\n",
      "        0.0044, 0.0036, 0.0061, 0.0093, 0.0106, 0.0093, 0.0030, 0.0024, 0.0065,\n",
      "        0.0072, 0.0087, 0.0155, 0.0028, 0.0037, 0.0057, 0.0087, 0.0065, 0.0093,\n",
      "        0.0139, 0.0106, 0.0143])\n"
     ]
    }
   ],
   "source": [
    "unique, counts = np.unique(train_dataset._labels, return_counts=True)\n",
    "\n",
    "\n",
    "\n",
    "class_weights = 1 / counts\n",
    "\n",
    "\n",
    "\n",
    "class_weights /= class_weights.sum()\n",
    "\n",
    "\n",
    "\n",
    "class_weights = torch.tensor(class_weights).float()\n",
    "\n",
    "\n",
    "\n",
    "print(class_weights)"
   ]
  },
  {
   "cell_type": "code",
   "execution_count": 9,
   "metadata": {
    "_cell_guid": "01b988f3-d075-4e61-85cd-58e612dedb3d",
    "_uuid": "70f4fa2c-a9fe-4cdd-bc2c-60f7cffdc016",
    "collapsed": false,
    "execution": {
     "iopub.execute_input": "2024-12-15T05:22:22.793342Z",
     "iopub.status.busy": "2024-12-15T05:22:22.793118Z",
     "iopub.status.idle": "2024-12-15T05:22:24.506383Z",
     "shell.execute_reply": "2024-12-15T05:22:24.505472Z",
     "shell.execute_reply.started": "2024-12-15T05:22:22.793321Z"
    },
    "jupyter": {
     "outputs_hidden": false
    },
    "trusted": true
   },
   "outputs": [
    {
     "data": {
      "image/png": "[encoded data removed]",
      "text/plain": [
       "<Figure size 200x300 with 1 Axes>"
      ]
     },
     "metadata": {},
     "output_type": "display_data"
    }
   ],
   "source": [
    "images, labels = next(iter(train_loader))\n",
    "\n",
    "\n",
    "\n",
    "plot_images([images[0]], mean, std, [classes[labels[0]]], \"Train Sample\")"
   ]
  },
  {
   "cell_type": "markdown",
   "metadata": {
    "_cell_guid": "08ad32ac-c1e2-46d1-8eeb-65eccc90d9ac",
    "_uuid": "c52b944b-5d25-44cf-bf77-3c6e610ea084",
    "collapsed": false,
    "jupyter": {
     "outputs_hidden": false
    },
    "trusted": true
   },
   "source": [
    "# Loading MobileNet V2 + Sample Image"
   ]
  },
  {
   "cell_type": "code",
   "execution_count": 10,
   "metadata": {
    "_cell_guid": "79bccaea-0d3e-44bc-98ff-38f35870556c",
    "_uuid": "ce1cf388-0a4c-4d56-94ae-c68c188c3fd8",
    "collapsed": false,
    "execution": {
     "iopub.execute_input": "2024-12-15T05:22:24.507976Z",
     "iopub.status.busy": "2024-12-15T05:22:24.507680Z",
     "iopub.status.idle": "2024-12-15T05:22:24.513664Z",
     "shell.execute_reply": "2024-12-15T05:22:24.512892Z",
     "shell.execute_reply.started": "2024-12-15T05:22:24.507947Z"
    },
    "jupyter": {
     "outputs_hidden": false
    },
    "trusted": true
   },
   "outputs": [
    {
     "name": "stdout",
     "output_type": "stream",
     "text": [
      "device: cuda\n"
     ]
    }
   ],
   "source": [
    "device = torch.device(\"cuda\" if torch.cuda.is_available() else \"cpu\")\n",
    "\n",
    "\n",
    "\n",
    "print(f\"device: {device.type}\")"
   ]
  },
  {
   "cell_type": "code",
   "execution_count": 11,
   "metadata": {
    "_cell_guid": "94c476fc-d118-494a-87f3-cfe0e8a1c9e2",
    "_uuid": "efffa0ae-4b05-45ea-b99a-64f41bda58c4",
    "collapsed": false,
    "execution": {
     "iopub.execute_input": "2024-12-15T05:22:24.514938Z",
     "iopub.status.busy": "2024-12-15T05:22:24.514681Z",
     "iopub.status.idle": "2024-12-15T05:22:25.640354Z",
     "shell.execute_reply": "2024-12-15T05:22:25.639227Z",
     "shell.execute_reply.started": "2024-12-15T05:22:24.514914Z"
    },
    "jupyter": {
     "outputs_hidden": false
    },
    "trusted": true
   },
   "outputs": [
    {
     "data": {
      "image/png": "[encoded data removed]",
      "text/plain": [
       "<Figure size 200x300 with 1 Axes>"
      ]
     },
     "metadata": {},
     "output_type": "display_data"
    }
   ],
   "source": [
    "url = \"https://www.easyartstart.com/wp-content/uploads/2024/04/flower_drawing.png\"\n",
    "\n",
    "response = requests.get(url)\n",
    "\n",
    "if response.status_code == 200:\n",
    "\n",
    "    test_image = Image.open(BytesIO(response.content))\n",
    "\n",
    "else:\n",
    "\n",
    "    print(\"Failed to retrieve the image.\")\n",
    "\n",
    "\n",
    "\n",
    "test_image = val_transform(test_image).unsqueeze(0)\n",
    "\n",
    "\n",
    "\n",
    "test_image.shape\n",
    "\n",
    "\n",
    "\n",
    "plot_images(test_image, mean, std, [\"Test Image\"], title=\"Testing MobileNet V2\")"
   ]
  },
  {
   "cell_type": "markdown",
   "metadata": {
    "_cell_guid": "80c17f14-0d10-4830-a532-e74948842eef",
    "_uuid": "1d1d4e0d-b00c-4b09-9d26-d64aa4b600e2",
    "collapsed": false,
    "jupyter": {
     "outputs_hidden": false
    },
    "trusted": true
   },
   "source": [
    "## Testing an Image on MobileNet V2"
   ]
  },
  {
   "cell_type": "code",
   "execution_count": 12,
   "metadata": {
    "_cell_guid": "310a5dae-c3ff-4b6c-a3e6-1f33d16255cd",
    "_uuid": "e283be73-cdee-4e0c-8125-bd705def1628",
    "collapsed": false,
    "execution": {
     "iopub.execute_input": "2024-12-15T05:22:25.642946Z",
     "iopub.status.busy": "2024-12-15T05:22:25.642012Z",
     "iopub.status.idle": "2024-12-15T05:22:25.951423Z",
     "shell.execute_reply": "2024-12-15T05:22:25.950581Z",
     "shell.execute_reply.started": "2024-12-15T05:22:25.642882Z"
    },
    "jupyter": {
     "outputs_hidden": false
    },
    "trusted": true
   },
   "outputs": [
    {
     "name": "stderr",
     "output_type": "stream",
     "text": [
      "Downloading: \"https://download.pytorch.org/models/mobilenet_v2-7ebf99e0.pth\" to /root/.cache/torch/hub/checkpoints/mobilenet_v2-7ebf99e0.pth\n",
      "100%|██████████| 13.6M/13.6M [00:00<00:00, 109MB/s]\n"
     ]
    },
    {
     "data": {
      "text/plain": [
       "Sequential(\n",
       "  (0): Dropout(p=0.2, inplace=False)\n",
       "  (1): Linear(in_features=1280, out_features=1000, bias=True)\n",
       ")"
      ]
     },
     "execution_count": 12,
     "metadata": {},
     "output_type": "execute_result"
    }
   ],
   "source": [
    "mobilenet_model = mobilenet_v2(weights=MobileNet_V2_Weights.DEFAULT)\n",
    "\n",
    "\n",
    "\n",
    "mobilenet_model.classifier"
   ]
  },
  {
   "cell_type": "code",
   "execution_count": 13,
   "metadata": {
    "_cell_guid": "3bbeeefc-0b3a-4cfb-a797-43413cbd4866",
    "_uuid": "cf5af551-e08c-4b3e-9056-67aa2233555f",
    "collapsed": false,
    "execution": {
     "iopub.execute_input": "2024-12-15T05:22:25.953193Z",
     "iopub.status.busy": "2024-12-15T05:22:25.952898Z",
     "iopub.status.idle": "2024-12-15T05:22:26.852710Z",
     "shell.execute_reply": "2024-12-15T05:22:26.851671Z",
     "shell.execute_reply.started": "2024-12-15T05:22:25.953162Z"
    },
    "jupyter": {
     "outputs_hidden": false
    },
    "trusted": true
   },
   "outputs": [
    {
     "data": {
      "text/plain": [
       "(tensor([4.7010, 4.2780, 4.1798], device='cuda:0', grad_fn=<SqueezeBackward0>),\n",
       " tensor([584, 723, 549], device='cuda:0'))"
      ]
     },
     "execution_count": 13,
     "metadata": {},
     "output_type": "execute_result"
    }
   ],
   "source": [
    "mobilenet_model.to(device)\n",
    "\n",
    "\n",
    "\n",
    "test_image = test_image.to(device)\n",
    "\n",
    "\n",
    "\n",
    "mobilenet_model.eval()\n",
    "\n",
    "\n",
    "\n",
    "\n",
    "\n",
    "\n",
    "\n",
    "test_output = mobilenet_model(test_image)\n",
    "\n",
    "\n",
    "\n",
    "top_classes, top_classes_idx = torch.topk(test_output, k=3, dim=1)\n",
    "\n",
    "\n",
    "\n",
    "top_classes, top_classes_idx = top_classes.squeeze(), top_classes_idx.squeeze()\n",
    "\n",
    "\n",
    "\n",
    "top_classes, top_classes_idx"
   ]
  },
  {
   "cell_type": "code",
   "execution_count": 14,
   "metadata": {
    "_cell_guid": "d10fec66-c064-44cb-82de-ecf1ff69deae",
    "_uuid": "8e56a048-fb4f-4cf7-9434-f9468be3a9b5",
    "collapsed": false,
    "execution": {
     "iopub.execute_input": "2024-12-15T05:22:26.854846Z",
     "iopub.status.busy": "2024-12-15T05:22:26.853999Z",
     "iopub.status.idle": "2024-12-15T05:22:26.867595Z",
     "shell.execute_reply": "2024-12-15T05:22:26.866835Z",
     "shell.execute_reply.started": "2024-12-15T05:22:26.854784Z"
    },
    "jupyter": {
     "outputs_hidden": false
    },
    "trusted": true
   },
   "outputs": [
    {
     "name": "stdout",
     "output_type": "stream",
     "text": [
      "Top 3 categories: ['hair slide' 'pinwheel' 'envelope']\n"
     ]
    }
   ],
   "source": [
    "mobilenet_categories = np.array(MobileNet_V2_Weights.DEFAULT.meta[\"categories\"])\n",
    "\n",
    "\n",
    "\n",
    "top_categories = mobilenet_categories[top_classes_idx.cpu()]\n",
    "\n",
    "\n",
    "\n",
    "print(f\"Top 3 categories: {top_categories}\")"
   ]
  },
  {
   "cell_type": "markdown",
   "metadata": {
    "_cell_guid": "34049fec-b036-4d5e-974b-8da9f70304cb",
    "_uuid": "3408463e-8452-48d5-beb3-f2b3d3bd0ade",
    "collapsed": false,
    "jupyter": {
     "outputs_hidden": false
    },
    "trusted": true
   },
   "source": [
    "# Preparing and Training MobileNet V2 for Classification on Flower102 Dataset"
   ]
  },
  {
   "cell_type": "code",
   "execution_count": 15,
   "metadata": {
    "_cell_guid": "589cc650-52bf-4aa1-8dbc-dfbf6eb58457",
    "_uuid": "2b47847e-2bfb-41b2-94e7-dccf9cf13180",
    "collapsed": false,
    "execution": {
     "iopub.execute_input": "2024-12-15T05:22:26.871713Z",
     "iopub.status.busy": "2024-12-15T05:22:26.871284Z",
     "iopub.status.idle": "2024-12-15T05:22:26.879515Z",
     "shell.execute_reply": "2024-12-15T05:22:26.878813Z",
     "shell.execute_reply.started": "2024-12-15T05:22:26.871673Z"
    },
    "jupyter": {
     "outputs_hidden": false
    },
    "trusted": true
   },
   "outputs": [],
   "source": [
    "num_features = mobilenet_model.classifier[1].in_features\n",
    "\n",
    "\n",
    "\n",
    "mobilenet_model.classifier[1] = nn.Linear(\n",
    "\n",
    "\n",
    "\n",
    "    in_features=num_features, out_features=num_classes, bias=True\n",
    "\n",
    "\n",
    "\n",
    ")\n",
    "\n",
    "\n",
    "\n",
    "\n",
    "\n",
    "\n",
    "\n",
    "for param in mobilenet_model.parameters():\n",
    "\n",
    "\n",
    "\n",
    "    param.requires_grad = False\n",
    "\n",
    "\n",
    "\n",
    "\n",
    "\n",
    "\n",
    "\n",
    "for param in mobilenet_model.classifier.parameters():\n",
    "\n",
    "\n",
    "\n",
    "    param.requires_grad = True"
   ]
  },
  {
   "cell_type": "code",
   "execution_count": 16,
   "metadata": {
    "_cell_guid": "d7217024-9421-4587-a45e-4847979520a3",
    "_uuid": "05905d7c-2f4e-4239-9a0e-27e1b15d62d4",
    "collapsed": false,
    "execution": {
     "iopub.execute_input": "2024-12-15T05:22:26.880720Z",
     "iopub.status.busy": "2024-12-15T05:22:26.880427Z",
     "iopub.status.idle": "2024-12-15T05:22:26.892394Z",
     "shell.execute_reply": "2024-12-15T05:22:26.891685Z",
     "shell.execute_reply.started": "2024-12-15T05:22:26.880692Z"
    },
    "jupyter": {
     "outputs_hidden": false
    },
    "trusted": true
   },
   "outputs": [],
   "source": [
    "mobilenet_model.to(device)\n",
    "\n",
    "\n",
    "\n",
    "class_weights = class_weights.to(device)\n",
    "\n",
    "\n",
    "\n",
    "criterion = nn.CrossEntropyLoss(weight=class_weights)\n",
    "\n",
    "\n",
    "\n",
    "optimizer = optim.Adam(mobilenet_model.classifier.parameters())"
   ]
  },
  {
   "cell_type": "code",
   "execution_count": 17,
   "metadata": {
    "_cell_guid": "ff6850bb-fede-4580-b835-8ed0eed00e87",
    "_uuid": "18419580-4bea-422d-a073-8d92a094449c",
    "collapsed": false,
    "execution": {
     "iopub.execute_input": "2024-12-15T05:22:26.893655Z",
     "iopub.status.busy": "2024-12-15T05:22:26.893334Z",
     "iopub.status.idle": "2024-12-15T05:38:17.104474Z",
     "shell.execute_reply": "2024-12-15T05:38:17.103321Z",
     "shell.execute_reply.started": "2024-12-15T05:22:26.893620Z"
    },
    "jupyter": {
     "outputs_hidden": false
    },
    "trusted": true
   },
   "outputs": [
    {
     "name": "stdout",
     "output_type": "stream",
     "text": [
      "Epoch 5/30, Train loss: 17.441, Train acc: 0.905, Val loss: 20.212, Val acc: 0.91\n",
      "Epoch 10/30, Train loss: 8.955, Train acc: 0.939, Val loss: 14.25, Val acc: 0.918\n",
      "Epoch 15/30, Train loss: 6.251, Train acc: 0.951, Val loss: 13.075, Val acc: 0.92\n",
      "Epoch 20/30, Train loss: 4.724, Train acc: 0.962, Val loss: 12.058, Val acc: 0.928\n",
      "Epoch 25/30, Train loss: 3.856, Train acc: 0.966, Val loss: 11.292, Val acc: 0.922\n",
      "Epoch 30/30, Train loss: 3.299, Train acc: 0.971, Val loss: 11.156, Val acc: 0.93\n",
      "time: 950.2 seconds\n"
     ]
    }
   ],
   "source": [
    "start_time = time.time()\n",
    "\n",
    "\n",
    "\n",
    "epochs = 30\n",
    "\n",
    "\n",
    "\n",
    "\n",
    "\n",
    "\n",
    "\n",
    "train_losses, train_accuracies, validation_losses, validation_accuracies = train(\n",
    "\n",
    "\n",
    "\n",
    "    model=mobilenet_model,\n",
    "\n",
    "\n",
    "\n",
    "    train_loader=train_loader,\n",
    "\n",
    "\n",
    "\n",
    "    val_loader=val_loader,\n",
    "\n",
    "\n",
    "\n",
    "    optimizer=optimizer,\n",
    "\n",
    "\n",
    "\n",
    "    criterion=criterion,\n",
    "\n",
    "\n",
    "\n",
    "    device=device,\n",
    "\n",
    "\n",
    "\n",
    "    epochs=epochs,\n",
    "\n",
    "\n",
    "\n",
    "    log=True,\n",
    "\n",
    "\n",
    "\n",
    ")\n",
    "\n",
    "\n",
    "\n",
    "\n",
    "\n",
    "\n",
    "\n",
    "end_time = time.time()\n",
    "\n",
    "\n",
    "\n",
    "print(f\"time: {np.round(end_time - start_time, 2)} seconds\")"
   ]
  },
  {
   "cell_type": "markdown",
   "metadata": {
    "_cell_guid": "97960722-76e7-4ea8-adfe-ace0eb5d7c98",
    "_uuid": "542f5bac-b993-43f9-925c-68d8401f1fc4",
    "collapsed": false,
    "jupyter": {
     "outputs_hidden": false
    },
    "trusted": true
   },
   "source": [
    "## Plotting Loss and Accuracy"
   ]
  },
  {
   "cell_type": "code",
   "execution_count": 18,
   "metadata": {
    "_cell_guid": "ed5e13cb-a839-45e9-860f-7fefd6cb761b",
    "_uuid": "c1eb5ccb-8f1a-4d0e-82f2-b08e83d805cf",
    "collapsed": false,
    "execution": {
     "iopub.execute_input": "2024-12-15T05:38:17.106701Z",
     "iopub.status.busy": "2024-12-15T05:38:17.106271Z",
     "iopub.status.idle": "2024-12-15T05:38:17.708469Z",
     "shell.execute_reply": "2024-12-15T05:38:17.707557Z",
     "shell.execute_reply.started": "2024-12-15T05:38:17.106656Z"
    },
    "jupyter": {
     "outputs_hidden": false
    },
    "trusted": true
   },
   "outputs": [
    {
     "data": {
      "image/png": "[encoded data removed]",
      "text/plain": [
       "<Figure size 800x400 with 1 Axes>"
      ]
     },
     "metadata": {},
     "output_type": "display_data"
    },
    {
     "data": {
      "image/png": "[encoded data removed]",
      "text/plain": [
       "<Figure size 800x400 with 1 Axes>"
      ]
     },
     "metadata": {},
     "output_type": "display_data"
    }
   ],
   "source": [
    "plot_loss(\n",
    "\n",
    "\n",
    "\n",
    "    train_losses,\n",
    "\n",
    "\n",
    "\n",
    "    validation_losses,\n",
    "\n",
    "\n",
    "\n",
    "    epochs=epochs,\n",
    "\n",
    "\n",
    "\n",
    "    title=\"Cross Entropy Loss vs epoch for MobileNet V2\",\n",
    "\n",
    "\n",
    "\n",
    ")\n",
    "\n",
    "\n",
    "\n",
    "plot_acc(\n",
    "\n",
    "\n",
    "\n",
    "    train_accuracies,\n",
    "\n",
    "\n",
    "\n",
    "    validation_accuracies,\n",
    "\n",
    "\n",
    "\n",
    "    epochs=epochs,\n",
    "\n",
    "\n",
    "\n",
    "    title=\"Accuracy vs epoch for MobileNet V2\",\n",
    "\n",
    "\n",
    "\n",
    ")"
   ]
  },
  {
   "cell_type": "markdown",
   "metadata": {
    "_cell_guid": "0ed44f15-7b9e-44b8-9966-f2c8b02f7615",
    "_uuid": "73dd21ec-e5d1-4c75-87e9-1dfec8cdeb2f",
    "collapsed": false,
    "jupyter": {
     "outputs_hidden": false
    },
    "trusted": true
   },
   "source": [
    "## Testing MoblieNet V2 on Train, Val, Test Datasets"
   ]
  },
  {
   "cell_type": "code",
   "execution_count": 19,
   "metadata": {
    "_cell_guid": "051776d1-6c1a-48cc-b70f-fffb7b02747a",
    "_uuid": "e89c13fe-208e-4c22-bb9b-c62ad0fcdab0",
    "collapsed": false,
    "execution": {
     "iopub.execute_input": "2024-12-15T05:38:17.709861Z",
     "iopub.status.busy": "2024-12-15T05:38:17.709569Z",
     "iopub.status.idle": "2024-12-15T05:38:51.999812Z",
     "shell.execute_reply": "2024-12-15T05:38:51.998744Z",
     "shell.execute_reply.started": "2024-12-15T05:38:17.709831Z"
    },
    "jupyter": {
     "outputs_hidden": false
    },
    "trusted": true
   },
   "outputs": [
    {
     "name": "stdout",
     "output_type": "stream",
     "text": [
      "Train Data:\n",
      "loss= 1.7, accuracy= 0.986\n",
      "Val Data:\n",
      "loss= 11.323, accuracy= 0.931\n",
      "Test Data:\n",
      "loss= 12.26, accuracy= 0.911\n"
     ]
    }
   ],
   "source": [
    "train_loss, train_accuracy, train_preds, train_labels = test(\n",
    "\n",
    "\n",
    "\n",
    "    model=mobilenet_model, test_loader=train_loader, criterion=criterion, device=device\n",
    "\n",
    "\n",
    "\n",
    ")\n",
    "\n",
    "\n",
    "\n",
    "print(\"Train Data:\")\n",
    "\n",
    "\n",
    "\n",
    "print(f\"loss= {np.round(train_loss, 3)}, accuracy= {np.round(train_accuracy, 3)}\")\n",
    "\n",
    "\n",
    "\n",
    "\n",
    "\n",
    "\n",
    "\n",
    "\n",
    "\n",
    "\n",
    "\n",
    "val_loss, val_accuracy, val_preds, val_labels = test(\n",
    "\n",
    "\n",
    "\n",
    "    model=mobilenet_model, test_loader=val_loader, criterion=criterion, device=device\n",
    "\n",
    "\n",
    "\n",
    ")\n",
    "\n",
    "\n",
    "\n",
    "print(\"Val Data:\")\n",
    "\n",
    "\n",
    "\n",
    "print(f\"loss= {np.round(val_loss, 3)}, accuracy= {np.round(val_accuracy, 3)}\")\n",
    "\n",
    "\n",
    "\n",
    "\n",
    "\n",
    "\n",
    "\n",
    "\n",
    "\n",
    "\n",
    "\n",
    "test_loss, test_accuracy, test_preds, test_labels = test(\n",
    "\n",
    "\n",
    "\n",
    "    model=mobilenet_model, test_loader=test_loader, criterion=criterion, device=device\n",
    "\n",
    "\n",
    "\n",
    ")\n",
    "\n",
    "\n",
    "\n",
    "print(\"Test Data:\")\n",
    "\n",
    "\n",
    "\n",
    "print(f\"loss= {np.round(test_loss, 3)}, accuracy= {np.round(test_accuracy, 3)}\")"
   ]
  },
  {
   "cell_type": "code",
   "execution_count": 20,
   "metadata": {
    "_cell_guid": "d9a204bb-b843-4642-a1ff-3cca54f2d5b9",
    "_uuid": "de57ac99-362b-4cbe-9a23-4bcea4bc98e6",
    "collapsed": false,
    "execution": {
     "iopub.execute_input": "2024-12-15T05:38:52.001955Z",
     "iopub.status.busy": "2024-12-15T05:38:52.001580Z",
     "iopub.status.idle": "2024-12-15T05:38:52.017116Z",
     "shell.execute_reply": "2024-12-15T05:38:52.016287Z",
     "shell.execute_reply.started": "2024-12-15T05:38:52.001926Z"
    },
    "jupyter": {
     "outputs_hidden": false
    },
    "trusted": true
   },
   "outputs": [
    {
     "name": "stdout",
     "output_type": "stream",
     "text": [
      "Top 3 categories: ['tree poppy' 'black-eyed susan' 'bougainvillea']\n"
     ]
    }
   ],
   "source": [
    "mobilenet_model.eval()\n",
    "\n",
    "\n",
    "\n",
    "\n",
    "\n",
    "\n",
    "\n",
    "test_output = mobilenet_model(test_image)\n",
    "\n",
    "\n",
    "\n",
    "top_classes, top_classes_idx = torch.topk(test_output, k=3, dim=1)\n",
    "\n",
    "\n",
    "\n",
    "top_classes, top_classes_idx = top_classes.squeeze(), top_classes_idx.squeeze()\n",
    "\n",
    "\n",
    "\n",
    "\n",
    "\n",
    "\n",
    "\n",
    "top_categories = classes[top_classes_idx.cpu()]\n",
    "\n",
    "\n",
    "\n",
    "print(f\"Top 3 categories: {top_categories}\")"
   ]
  },
  {
   "cell_type": "markdown",
   "metadata": {
    "_cell_guid": "28688c64-3c6b-4466-8882-124ea7e23e35",
    "_uuid": "d13cabca-8881-4fb6-ae7e-1c0834d252cc",
    "collapsed": false,
    "jupyter": {
     "outputs_hidden": false
    },
    "trusted": true
   },
   "source": [
    "# Training VGG16"
   ]
  },
  {
   "cell_type": "code",
   "execution_count": 21,
   "metadata": {
    "_cell_guid": "fe186525-7182-4e8b-b087-600128e35874",
    "_uuid": "740253c3-a9ef-4221-954e-aa14c12106fa",
    "collapsed": false,
    "execution": {
     "iopub.execute_input": "2024-12-15T05:38:52.018406Z",
     "iopub.status.busy": "2024-12-15T05:38:52.018127Z",
     "iopub.status.idle": "2024-12-15T05:38:56.208922Z",
     "shell.execute_reply": "2024-12-15T05:38:56.208048Z",
     "shell.execute_reply.started": "2024-12-15T05:38:52.018381Z"
    },
    "jupyter": {
     "outputs_hidden": false
    },
    "trusted": true
   },
   "outputs": [
    {
     "name": "stderr",
     "output_type": "stream",
     "text": [
      "Downloading: \"https://download.pytorch.org/models/vgg16-397923af.pth\" to /root/.cache/torch/hub/checkpoints/vgg16-397923af.pth\n",
      "100%|██████████| 528M/528M [00:02<00:00, 220MB/s] \n"
     ]
    },
    {
     "data": {
      "text/plain": [
       "Sequential(\n",
       "  (0): Linear(in_features=25088, out_features=4096, bias=True)\n",
       "  (1): ReLU(inplace=True)\n",
       "  (2): Dropout(p=0.5, inplace=False)\n",
       "  (3): Linear(in_features=4096, out_features=4096, bias=True)\n",
       "  (4): ReLU(inplace=True)\n",
       "  (5): Dropout(p=0.5, inplace=False)\n",
       "  (6): Linear(in_features=4096, out_features=1000, bias=True)\n",
       ")"
      ]
     },
     "execution_count": 21,
     "metadata": {},
     "output_type": "execute_result"
    }
   ],
   "source": [
    "vgg_model = vgg16(weights=VGG16_Weights.DEFAULT)\n",
    "\n",
    "\n",
    "\n",
    "vgg_model.classifier"
   ]
  },
  {
   "cell_type": "code",
   "execution_count": 22,
   "metadata": {
    "_cell_guid": "1ef99234-a2eb-41c9-97a9-e93d8bd06bd1",
    "_uuid": "3c726654-73f7-4599-a387-4847ca23aad2",
    "collapsed": false,
    "execution": {
     "iopub.execute_input": "2024-12-15T05:38:56.210601Z",
     "iopub.status.busy": "2024-12-15T05:38:56.209988Z",
     "iopub.status.idle": "2024-12-15T05:38:56.221507Z",
     "shell.execute_reply": "2024-12-15T05:38:56.220606Z",
     "shell.execute_reply.started": "2024-12-15T05:38:56.210573Z"
    },
    "jupyter": {
     "outputs_hidden": false
    },
    "trusted": true
   },
   "outputs": [],
   "source": [
    "num_features = vgg_model.classifier[6].in_features\n",
    "\n",
    "\n",
    "\n",
    "vgg_model.classifier[6] = nn.Linear(\n",
    "\n",
    "\n",
    "\n",
    "    in_features=num_features, out_features=num_classes, bias=True\n",
    "\n",
    "\n",
    "\n",
    ")\n",
    "\n",
    "\n",
    "\n",
    "\n",
    "\n",
    "\n",
    "\n",
    "for param in vgg_model.parameters():\n",
    "\n",
    "\n",
    "\n",
    "    param.requires_grad = False\n",
    "\n",
    "\n",
    "\n",
    "\n",
    "\n",
    "\n",
    "\n",
    "for param in vgg_model.classifier.parameters():\n",
    "\n",
    "\n",
    "\n",
    "    param.requires_grad = True"
   ]
  },
  {
   "cell_type": "code",
   "execution_count": 23,
   "metadata": {
    "_cell_guid": "8e307bf0-5e6e-4cbb-8d4a-c3916fc690f6",
    "_uuid": "188bca4e-000c-41a0-a53d-eb26d0620365",
    "collapsed": false,
    "execution": {
     "iopub.execute_input": "2024-12-15T05:38:56.222754Z",
     "iopub.status.busy": "2024-12-15T05:38:56.222447Z",
     "iopub.status.idle": "2024-12-15T05:38:56.393949Z",
     "shell.execute_reply": "2024-12-15T05:38:56.393192Z",
     "shell.execute_reply.started": "2024-12-15T05:38:56.222730Z"
    },
    "jupyter": {
     "outputs_hidden": false
    },
    "trusted": true
   },
   "outputs": [],
   "source": [
    "vgg_model.to(device)\n",
    "\n",
    "\n",
    "\n",
    "class_weights = class_weights.to(device)\n",
    "\n",
    "\n",
    "\n",
    "criterion = nn.CrossEntropyLoss(weight=class_weights)\n",
    "\n",
    "\n",
    "\n",
    "optimizer = optim.Adam(vgg_model.classifier.parameters())"
   ]
  },
  {
   "cell_type": "code",
   "execution_count": 24,
   "metadata": {
    "_cell_guid": "e96187c9-7401-4210-90d0-c09dff65aa9e",
    "_uuid": "c6f3e7d3-bf99-4544-8352-55672153853f",
    "collapsed": false,
    "execution": {
     "iopub.execute_input": "2024-12-15T05:38:56.395189Z",
     "iopub.status.busy": "2024-12-15T05:38:56.394953Z",
     "iopub.status.idle": "2024-12-15T05:56:00.288762Z",
     "shell.execute_reply": "2024-12-15T05:56:00.287745Z",
     "shell.execute_reply.started": "2024-12-15T05:38:56.395165Z"
    },
    "jupyter": {
     "outputs_hidden": false
    },
    "trusted": true
   },
   "outputs": [
    {
     "name": "stdout",
     "output_type": "stream",
     "text": [
      "Epoch 5/30, Train loss: 82.297, Train acc: 0.504, Val loss: 40.383, Val acc: 0.664\n",
      "Epoch 10/30, Train loss: 68.777, Train acc: 0.605, Val loss: 33.934, Val acc: 0.726\n",
      "Epoch 15/30, Train loss: 62.299, Train acc: 0.653, Val loss: 31.6, Val acc: 0.759\n",
      "Epoch 20/30, Train loss: 57.896, Train acc: 0.692, Val loss: 32.1, Val acc: 0.751\n",
      "Epoch 25/30, Train loss: 55.069, Train acc: 0.701, Val loss: 33.694, Val acc: 0.758\n",
      "Epoch 30/30, Train loss: 56.407, Train acc: 0.713, Val loss: 31.86, Val acc: 0.788\n",
      "time: 1023.89 seconds\n"
     ]
    }
   ],
   "source": [
    "start_time = time.time()\n",
    "\n",
    "\n",
    "\n",
    "epochs = 30\n",
    "\n",
    "\n",
    "\n",
    "\n",
    "\n",
    "\n",
    "\n",
    "train_losses, train_accuracies, validation_losses, validation_accuracies = train(\n",
    "\n",
    "\n",
    "\n",
    "    model=vgg_model,\n",
    "\n",
    "\n",
    "\n",
    "    train_loader=train_loader,\n",
    "\n",
    "\n",
    "\n",
    "    val_loader=val_loader,\n",
    "\n",
    "\n",
    "\n",
    "    optimizer=optimizer,\n",
    "\n",
    "\n",
    "\n",
    "    criterion=criterion,\n",
    "\n",
    "\n",
    "\n",
    "    device=device,\n",
    "\n",
    "\n",
    "\n",
    "    epochs=epochs,\n",
    "\n",
    "\n",
    "\n",
    "    log=True,\n",
    "\n",
    "\n",
    "\n",
    ")\n",
    "\n",
    "\n",
    "\n",
    "\n",
    "\n",
    "\n",
    "\n",
    "end_time = time.time()\n",
    "\n",
    "\n",
    "\n",
    "print(f\"time: {np.round(end_time - start_time, 2)} seconds\")"
   ]
  },
  {
   "cell_type": "markdown",
   "metadata": {
    "_cell_guid": "6de4a394-d9d8-40eb-b619-789090f9d439",
    "_uuid": "024f3713-ee83-4aeb-853d-fef69b61d40b",
    "collapsed": false,
    "jupyter": {
     "outputs_hidden": false
    },
    "trusted": true
   },
   "source": [
    "## Plotting Loss and Accuracy"
   ]
  },
  {
   "cell_type": "code",
   "execution_count": 25,
   "metadata": {
    "_cell_guid": "e8dcdef0-a526-4cd9-87bd-183ff6466f49",
    "_uuid": "63c66ad8-8ee2-47ab-9487-12bd34a2ee6e",
    "collapsed": false,
    "execution": {
     "iopub.execute_input": "2024-12-15T05:56:00.291038Z",
     "iopub.status.busy": "2024-12-15T05:56:00.290560Z",
     "iopub.status.idle": "2024-12-15T05:56:00.887465Z",
     "shell.execute_reply": "2024-12-15T05:56:00.886640Z",
     "shell.execute_reply.started": "2024-12-15T05:56:00.290994Z"
    },
    "jupyter": {
     "outputs_hidden": false
    },
    "trusted": true
   },
   "outputs": [
    {
     "data": {
      "image/png": "[encoded data removed]",
      "text/plain": [
       "<Figure size 800x400 with 1 Axes>"
      ]
     },
     "metadata": {},
     "output_type": "display_data"
    },
    {
     "data": {
      "image/png": "[encoded data removed]",
      "text/plain": [
       "<Figure size 800x400 with 1 Axes>"
      ]
     },
     "metadata": {},
     "output_type": "display_data"
    }
   ],
   "source": [
    "plot_loss(\n",
    "\n",
    "\n",
    "\n",
    "    train_losses,\n",
    "\n",
    "\n",
    "\n",
    "    validation_losses,\n",
    "\n",
    "\n",
    "\n",
    "    epochs=epochs,\n",
    "\n",
    "\n",
    "\n",
    "    title=\"Cross Entropy Loss vs epoch for VGG16\",\n",
    "\n",
    "\n",
    "\n",
    ")\n",
    "\n",
    "\n",
    "\n",
    "plot_acc(\n",
    "\n",
    "\n",
    "\n",
    "    train_accuracies,\n",
    "\n",
    "\n",
    "\n",
    "    validation_accuracies,\n",
    "\n",
    "\n",
    "\n",
    "    epochs=epochs,\n",
    "\n",
    "\n",
    "\n",
    "    title=\"Accuracy vs epoch for VGG16\",\n",
    "\n",
    "\n",
    "\n",
    ")"
   ]
  },
  {
   "cell_type": "markdown",
   "metadata": {
    "_cell_guid": "c0347f2f-de58-4ff4-a042-beb7b5adcade",
    "_uuid": "bf18c6b0-2f82-465b-8f64-09ad8902dbaf",
    "collapsed": false,
    "jupyter": {
     "outputs_hidden": false
    },
    "trusted": true
   },
   "source": [
    "### Testing VGG16 on Train, Val, Test Datasets"
   ]
  },
  {
   "cell_type": "code",
   "execution_count": 26,
   "metadata": {
    "_cell_guid": "51b24ed8-680a-4095-b034-62dfa9ed6922",
    "_uuid": "61c43ee0-106a-4735-8c49-5f1969957a70",
    "collapsed": false,
    "execution": {
     "iopub.execute_input": "2024-12-15T05:56:00.888810Z",
     "iopub.status.busy": "2024-12-15T05:56:00.888535Z",
     "iopub.status.idle": "2024-12-15T05:56:37.176028Z",
     "shell.execute_reply": "2024-12-15T05:56:37.174972Z",
     "shell.execute_reply.started": "2024-12-15T05:56:00.888770Z"
    },
    "jupyter": {
     "outputs_hidden": false
    },
    "trusted": true
   },
   "outputs": [
    {
     "name": "stdout",
     "output_type": "stream",
     "text": [
      "Train Data:\n",
      "loss= 14.333, accuracy= 0.874\n",
      "Val Data:\n",
      "loss= 31.486, accuracy= 0.788\n",
      "Test Data:\n",
      "loss= 47.106, accuracy= 0.78\n"
     ]
    }
   ],
   "source": [
    "train_loss, train_accuracy, train_preds, train_labels = test(\n",
    "\n",
    "\n",
    "\n",
    "    model=vgg_model, test_loader=train_loader, criterion=criterion, device=device\n",
    "\n",
    "\n",
    "\n",
    ")\n",
    "\n",
    "\n",
    "\n",
    "print(\"Train Data:\")\n",
    "\n",
    "\n",
    "\n",
    "print(f\"loss= {np.round(train_loss, 3)}, accuracy= {np.round(train_accuracy, 3)}\")\n",
    "\n",
    "\n",
    "\n",
    "\n",
    "\n",
    "\n",
    "\n",
    "val_loss, val_accuracy, val_preds, val_labels = test(\n",
    "\n",
    "\n",
    "\n",
    "    model=vgg_model, test_loader=val_loader, criterion=criterion, device=device\n",
    "\n",
    "\n",
    "\n",
    ")\n",
    "\n",
    "\n",
    "\n",
    "print(\"Val Data:\")\n",
    "\n",
    "\n",
    "\n",
    "print(f\"loss= {np.round(val_loss, 3)}, accuracy= {np.round(val_accuracy, 3)}\")\n",
    "\n",
    "\n",
    "\n",
    "\n",
    "\n",
    "\n",
    "\n",
    "test_loss, test_accuracy, test_preds, test_labels = test(\n",
    "\n",
    "\n",
    "\n",
    "    model=vgg_model, test_loader=test_loader, criterion=criterion, device=device\n",
    "\n",
    "\n",
    "\n",
    ")\n",
    "\n",
    "\n",
    "\n",
    "print(\"Test Data:\")\n",
    "\n",
    "\n",
    "\n",
    "print(f\"loss= {np.round(test_loss, 3)}, accuracy= {np.round(test_accuracy, 3)}\")"
   ]
  },
  {
   "cell_type": "code",
   "execution_count": 27,
   "metadata": {
    "_cell_guid": "206ffdfb-9f0c-402d-8d61-13a47ff03a48",
    "_uuid": "b3a4b12f-f253-4290-b02d-9ccc53ca0687",
    "collapsed": false,
    "execution": {
     "iopub.execute_input": "2024-12-15T05:56:37.177734Z",
     "iopub.status.busy": "2024-12-15T05:56:37.177411Z",
     "iopub.status.idle": "2024-12-15T05:56:37.210041Z",
     "shell.execute_reply": "2024-12-15T05:56:37.209228Z",
     "shell.execute_reply.started": "2024-12-15T05:56:37.177705Z"
    },
    "jupyter": {
     "outputs_hidden": false
    },
    "trusted": true
   },
   "outputs": [
    {
     "name": "stdout",
     "output_type": "stream",
     "text": [
      "Top 3 categories: ['gaura' 'californian poppy' 'silverbush']\n"
     ]
    }
   ],
   "source": [
    "vgg_model.eval()\n",
    "\n",
    "\n",
    "\n",
    "\n",
    "\n",
    "\n",
    "\n",
    "test_output = vgg_model(test_image)\n",
    "\n",
    "\n",
    "\n",
    "top_classes, top_classes_idx = torch.topk(test_output, k=3, dim=1)\n",
    "\n",
    "\n",
    "\n",
    "top_classes, top_classes_idx = top_classes.squeeze(), top_classes_idx.squeeze()\n",
    "\n",
    "\n",
    "\n",
    "\n",
    "\n",
    "\n",
    "\n",
    "top_categories = classes[top_classes_idx.cpu()]\n",
    "\n",
    "\n",
    "\n",
    "print(f\"Top 3 categories: {top_categories}\")"
   ]
  },
  {
   "cell_type": "markdown",
   "metadata": {
    "_cell_guid": "1a17f31e-4b6e-41a4-b4c3-f18e1a8c8837",
    "_uuid": "9e421700-139d-4335-8bfd-ddf5cfe25948",
    "collapsed": false,
    "jupyter": {
     "outputs_hidden": false
    },
    "trusted": true
   },
   "source": [
    "# Training ResNet50"
   ]
  },
  {
   "cell_type": "code",
   "execution_count": 28,
   "metadata": {
    "_cell_guid": "92c69b49-72f3-4baf-9500-daa36e655071",
    "_uuid": "991afb29-ffeb-487a-aecd-a171019bfd33",
    "collapsed": false,
    "execution": {
     "iopub.execute_input": "2024-12-15T05:56:37.211503Z",
     "iopub.status.busy": "2024-12-15T05:56:37.211163Z",
     "iopub.status.idle": "2024-12-15T05:56:38.214625Z",
     "shell.execute_reply": "2024-12-15T05:56:38.213741Z",
     "shell.execute_reply.started": "2024-12-15T05:56:37.211468Z"
    },
    "jupyter": {
     "outputs_hidden": false
    },
    "trusted": true
   },
   "outputs": [
    {
     "name": "stderr",
     "output_type": "stream",
     "text": [
      "Downloading: \"https://download.pytorch.org/models/resnet50-11ad3fa6.pth\" to /root/.cache/torch/hub/checkpoints/resnet50-11ad3fa6.pth\n",
      "100%|██████████| 97.8M/97.8M [00:00<00:00, 241MB/s]\n"
     ]
    },
    {
     "data": {
      "text/plain": [
       "Linear(in_features=2048, out_features=1000, bias=True)"
      ]
     },
     "execution_count": 28,
     "metadata": {},
     "output_type": "execute_result"
    }
   ],
   "source": [
    "resnet_model = resnet50(weights=ResNet50_Weights.DEFAULT)\n",
    "\n",
    "\n",
    "\n",
    "resnet_model.fc"
   ]
  },
  {
   "cell_type": "code",
   "execution_count": 29,
   "metadata": {
    "_cell_guid": "a609614d-d651-4616-93b8-d80a541f72c3",
    "_uuid": "fc14f3b2-083f-46c5-827a-b6485bd48b49",
    "collapsed": false,
    "execution": {
     "iopub.execute_input": "2024-12-15T05:56:38.216520Z",
     "iopub.status.busy": "2024-12-15T05:56:38.215931Z",
     "iopub.status.idle": "2024-12-15T05:56:38.224674Z",
     "shell.execute_reply": "2024-12-15T05:56:38.223844Z",
     "shell.execute_reply.started": "2024-12-15T05:56:38.216469Z"
    },
    "jupyter": {
     "outputs_hidden": false
    },
    "trusted": true
   },
   "outputs": [],
   "source": [
    "num_features = resnet_model.fc.in_features\n",
    "\n",
    "\n",
    "\n",
    "resnet_model.fc = nn.Linear(\n",
    "\n",
    "\n",
    "\n",
    "    in_features=num_features, out_features=num_classes, bias=True\n",
    "\n",
    "\n",
    "\n",
    ")\n",
    "\n",
    "\n",
    "\n",
    "\n",
    "\n",
    "\n",
    "\n",
    "for param in resnet_model.parameters():\n",
    "\n",
    "\n",
    "\n",
    "    param.requires_grad = False\n",
    "\n",
    "\n",
    "\n",
    "\n",
    "\n",
    "\n",
    "\n",
    "for param in resnet_model.fc.parameters():\n",
    "\n",
    "\n",
    "\n",
    "    param.requires_grad = True"
   ]
  },
  {
   "cell_type": "code",
   "execution_count": 30,
   "metadata": {
    "_cell_guid": "14517628-97d8-4ad3-a728-ee2e1b9831a6",
    "_uuid": "d7594893-64e7-454e-9957-4ad6a4ce09e7",
    "collapsed": false,
    "execution": {
     "iopub.execute_input": "2024-12-15T05:56:38.226386Z",
     "iopub.status.busy": "2024-12-15T05:56:38.226043Z",
     "iopub.status.idle": "2024-12-15T05:56:38.268096Z",
     "shell.execute_reply": "2024-12-15T05:56:38.267305Z",
     "shell.execute_reply.started": "2024-12-15T05:56:38.226361Z"
    },
    "jupyter": {
     "outputs_hidden": false
    },
    "trusted": true
   },
   "outputs": [],
   "source": [
    "resnet_model.to(device)\n",
    "\n",
    "\n",
    "\n",
    "class_weights = class_weights.to(device)\n",
    "\n",
    "\n",
    "\n",
    "criterion = nn.CrossEntropyLoss(weight=class_weights)\n",
    "\n",
    "\n",
    "\n",
    "optimizer = optim.Adam(resnet_model.fc.parameters())"
   ]
  },
  {
   "cell_type": "code",
   "execution_count": 31,
   "metadata": {
    "_cell_guid": "7c500ff7-9209-4f20-874a-01a06267b3dc",
    "_uuid": "85499781-5b67-41b4-bc49-bda30f84ea08",
    "collapsed": false,
    "execution": {
     "iopub.execute_input": "2024-12-15T05:56:38.269399Z",
     "iopub.status.busy": "2024-12-15T05:56:38.269109Z",
     "iopub.status.idle": "2024-12-15T06:12:33.402500Z",
     "shell.execute_reply": "2024-12-15T06:12:33.401431Z",
     "shell.execute_reply.started": "2024-12-15T05:56:38.269375Z"
    },
    "jupyter": {
     "outputs_hidden": false
    },
    "trusted": true
   },
   "outputs": [
    {
     "name": "stdout",
     "output_type": "stream",
     "text": [
      "Epoch 5/30, Train loss: 13.743, Train acc: 0.949, Val loss: 21.072, Val acc: 0.907\n",
      "Epoch 10/30, Train loss: 5.598, Train acc: 0.978, Val loss: 13.664, Val acc: 0.934\n",
      "Epoch 15/30, Train loss: 3.091, Train acc: 0.989, Val loss: 11.189, Val acc: 0.939\n",
      "Epoch 20/30, Train loss: 2.063, Train acc: 0.992, Val loss: 10.112, Val acc: 0.941\n",
      "Epoch 25/30, Train loss: 1.496, Train acc: 0.994, Val loss: 8.934, Val acc: 0.944\n",
      "Epoch 30/30, Train loss: 1.091, Train acc: 0.996, Val loss: 8.552, Val acc: 0.942\n",
      "time: 955.13 seconds\n"
     ]
    }
   ],
   "source": [
    "start_time = time.time()\n",
    "\n",
    "\n",
    "\n",
    "epochs = 30\n",
    "\n",
    "\n",
    "\n",
    "\n",
    "\n",
    "\n",
    "\n",
    "train_losses, train_accuracies, validation_losses, validation_accuracies = train(\n",
    "\n",
    "\n",
    "\n",
    "    model=resnet_model,\n",
    "\n",
    "\n",
    "\n",
    "    train_loader=train_loader,\n",
    "\n",
    "\n",
    "\n",
    "    val_loader=val_loader,\n",
    "\n",
    "\n",
    "\n",
    "    optimizer=optimizer,\n",
    "\n",
    "\n",
    "\n",
    "    criterion=criterion,\n",
    "\n",
    "\n",
    "\n",
    "    device=device,\n",
    "\n",
    "\n",
    "\n",
    "    epochs=epochs,\n",
    "\n",
    "\n",
    "\n",
    "    log=True,\n",
    "\n",
    "\n",
    "\n",
    ")\n",
    "\n",
    "\n",
    "\n",
    "\n",
    "\n",
    "\n",
    "\n",
    "end_time = time.time()\n",
    "\n",
    "\n",
    "\n",
    "print(f\"time: {np.round(end_time - start_time, 2)} seconds\")"
   ]
  },
  {
   "cell_type": "markdown",
   "metadata": {
    "_cell_guid": "05eaeb5a-bc90-498d-9ab8-49dc7f233789",
    "_uuid": "e38234a9-3fb8-46ca-b9b5-80e466995cd5",
    "collapsed": false,
    "jupyter": {
     "outputs_hidden": false
    },
    "trusted": true
   },
   "source": [
    "### Plotting Loss and Accuracy"
   ]
  },
  {
   "cell_type": "code",
   "execution_count": 32,
   "metadata": {
    "_cell_guid": "24bd51ab-e7da-4c3f-94fa-f57641fd9644",
    "_uuid": "289cdd55-e6e8-43cf-aa5b-5ea91d1a4f90",
    "collapsed": false,
    "execution": {
     "iopub.execute_input": "2024-12-15T06:12:33.404314Z",
     "iopub.status.busy": "2024-12-15T06:12:33.403972Z",
     "iopub.status.idle": "2024-12-15T06:12:34.029542Z",
     "shell.execute_reply": "2024-12-15T06:12:34.028756Z",
     "shell.execute_reply.started": "2024-12-15T06:12:33.404285Z"
    },
    "jupyter": {
     "outputs_hidden": false
    },
    "trusted": true
   },
   "outputs": [
    {
     "data": {
      "image/png": "[encoded data removed]",
      "text/plain": [
       "<Figure size 800x400 with 1 Axes>"
      ]
     },
     "metadata": {},
     "output_type": "display_data"
    },
    {
     "data": {
      "image/png": "[encoded data removed]",
      "text/plain": [
       "<Figure size 800x400 with 1 Axes>"
      ]
     },
     "metadata": {},
     "output_type": "display_data"
    }
   ],
   "source": [
    "plot_loss(\n",
    "\n",
    "\n",
    "\n",
    "    train_losses,\n",
    "\n",
    "\n",
    "\n",
    "    validation_losses,\n",
    "\n",
    "\n",
    "\n",
    "    epochs=epochs,\n",
    "\n",
    "\n",
    "\n",
    "    title=\"Cross Entropy Loss vs epoch for ResNet50\",\n",
    "\n",
    "\n",
    "\n",
    ")\n",
    "\n",
    "\n",
    "\n",
    "plot_acc(\n",
    "\n",
    "\n",
    "\n",
    "    train_accuracies,\n",
    "\n",
    "\n",
    "\n",
    "    validation_accuracies,\n",
    "\n",
    "\n",
    "\n",
    "    epochs=epochs,\n",
    "\n",
    "\n",
    "\n",
    "    title=\"Accuracy vs epoch for ResNet50\",\n",
    "\n",
    "\n",
    "\n",
    ")"
   ]
  },
  {
   "cell_type": "markdown",
   "metadata": {
    "_cell_guid": "6147d906-0f13-4a1a-8b21-da8d957e0c09",
    "_uuid": "e868cf1c-2fcf-4415-b783-b092b5870798",
    "collapsed": false,
    "jupyter": {
     "outputs_hidden": false
    },
    "trusted": true
   },
   "source": [
    "### Testing ResNet50 on Train, Val, Test Datasets"
   ]
  },
  {
   "cell_type": "code",
   "execution_count": 33,
   "metadata": {
    "_cell_guid": "4f3a6d45-c97e-4d0c-b3e0-378bb8825874",
    "_uuid": "716c8030-05a2-4c75-84e5-fd59ba436d4c",
    "collapsed": false,
    "execution": {
     "iopub.execute_input": "2024-12-15T06:12:34.031464Z",
     "iopub.status.busy": "2024-12-15T06:12:34.030781Z",
     "iopub.status.idle": "2024-12-15T06:13:08.847846Z",
     "shell.execute_reply": "2024-12-15T06:13:08.846834Z",
     "shell.execute_reply.started": "2024-12-15T06:12:34.031426Z"
    },
    "jupyter": {
     "outputs_hidden": false
    },
    "trusted": true
   },
   "outputs": [
    {
     "name": "stdout",
     "output_type": "stream",
     "text": [
      "Train Data:\n",
      "loss= 0.719, accuracy= 0.998\n",
      "Val Data:\n",
      "loss= 8.516, accuracy= 0.942\n",
      "Test Data:\n",
      "loss= 9.381, accuracy= 0.946\n"
     ]
    }
   ],
   "source": [
    "train_loss, train_accuracy, train_preds, train_labels = test(\n",
    "\n",
    "\n",
    "\n",
    "    model=resnet_model, test_loader=train_loader, criterion=criterion, device=device\n",
    "\n",
    "\n",
    "\n",
    ")\n",
    "\n",
    "\n",
    "\n",
    "print(\"Train Data:\")\n",
    "\n",
    "\n",
    "\n",
    "print(f\"loss= {np.round(train_loss, 3)}, accuracy= {np.round(train_accuracy, 3)}\")\n",
    "\n",
    "\n",
    "\n",
    "\n",
    "\n",
    "\n",
    "\n",
    "val_loss, val_accuracy, val_preds, val_labels = test(\n",
    "\n",
    "\n",
    "\n",
    "    model=resnet_model, test_loader=val_loader, criterion=criterion, device=device\n",
    "\n",
    "\n",
    "\n",
    ")\n",
    "\n",
    "\n",
    "\n",
    "print(\"Val Data:\")\n",
    "\n",
    "\n",
    "\n",
    "print(f\"loss= {np.round(val_loss, 3)}, accuracy= {np.round(val_accuracy, 3)}\")\n",
    "\n",
    "\n",
    "\n",
    "\n",
    "\n",
    "\n",
    "\n",
    "\n",
    "\n",
    "\n",
    "\n",
    "test_loss, test_accuracy, test_preds, test_labels = test(\n",
    "\n",
    "\n",
    "\n",
    "    model=resnet_model, test_loader=test_loader, criterion=criterion, device=device\n",
    "\n",
    "\n",
    "\n",
    ")\n",
    "\n",
    "\n",
    "\n",
    "print(\"Test Data:\")\n",
    "\n",
    "\n",
    "\n",
    "print(f\"loss= {np.round(test_loss, 3)}, accuracy= {np.round(test_accuracy, 3)}\")"
   ]
  },
  {
   "cell_type": "code",
   "execution_count": 34,
   "metadata": {
    "_cell_guid": "0840f364-5035-4cbe-9e76-41a5d3d693f5",
    "_uuid": "b1664dfe-4db7-468e-af35-a9d9d842a604",
    "collapsed": false,
    "execution": {
     "iopub.execute_input": "2024-12-15T06:13:08.850439Z",
     "iopub.status.busy": "2024-12-15T06:13:08.849530Z",
     "iopub.status.idle": "2024-12-15T06:13:08.883481Z",
     "shell.execute_reply": "2024-12-15T06:13:08.882819Z",
     "shell.execute_reply.started": "2024-12-15T06:13:08.850396Z"
    },
    "jupyter": {
     "outputs_hidden": false
    },
    "trusted": true
   },
   "outputs": [
    {
     "name": "stdout",
     "output_type": "stream",
     "text": [
      "Top 3 categories: ['californian poppy' 'lotus' 'corn poppy']\n"
     ]
    }
   ],
   "source": [
    "resnet_model.eval()\n",
    "\n",
    "\n",
    "\n",
    "\n",
    "\n",
    "\n",
    "\n",
    "test_output = resnet_model(test_image)\n",
    "\n",
    "\n",
    "\n",
    "top_classes, top_classes_idx = torch.topk(test_output, k=3, dim=1)\n",
    "\n",
    "\n",
    "\n",
    "top_classes, top_classes_idx = top_classes.squeeze(), top_classes_idx.squeeze()\n",
    "\n",
    "\n",
    "\n",
    "\n",
    "\n",
    "\n",
    "\n",
    "top_categories = classes[top_classes_idx.cpu()]\n",
    "\n",
    "\n",
    "\n",
    "print(f\"Top 3 categories: {top_categories}\")"
   ]
  },
  {
   "cell_type": "code",
   "execution_count": 35,
   "metadata": {
    "execution": {
     "iopub.execute_input": "2024-12-15T06:13:08.884591Z",
     "iopub.status.busy": "2024-12-15T06:13:08.884350Z",
     "iopub.status.idle": "2024-12-15T06:13:08.892326Z",
     "shell.execute_reply": "2024-12-15T06:13:08.891529Z",
     "shell.execute_reply.started": "2024-12-15T06:13:08.884568Z"
    },
    "trusted": true
   },
   "outputs": [
    {
     "name": "stdout",
     "output_type": "stream",
     "text": [
      "MobileNet V2:\n",
      "number of parameters= 2354534\n",
      "number of learnable parameters= 130662\n",
      "VGG16:\n",
      "number of parameters= 134678438\n",
      "number of learnable parameters= 119963750\n",
      "ResNet50:\n",
      "number of parameters= 23717030\n",
      "number of learnable parameters= 208998\n"
     ]
    }
   ],
   "source": [
    "print('MobileNet V2:')\n",
    "\n",
    "print(f\"number of parameters= {get_num_parameters(mobilenet_model, mode='complete')}\")\n",
    "\n",
    "print(f\"number of learnable parameters= {get_num_parameters(mobilenet_model, mode='learnable')}\")\n",
    "\n",
    "\n",
    "\n",
    "print('VGG16:')\n",
    "\n",
    "print(f\"number of parameters= {get_num_parameters(vgg_model, mode='complete')}\")\n",
    "\n",
    "print(f\"number of learnable parameters= {get_num_parameters(vgg_model, mode='learnable')}\")\n",
    "\n",
    "\n",
    "\n",
    "print('ResNet50:')\n",
    "\n",
    "print(f\"number of parameters= {get_num_parameters(resnet_model, mode='complete')}\")\n",
    "\n",
    "print(f\"number of learnable parameters= {get_num_parameters(resnet_model, mode='learnable')}\")"
   ]
  },
  {
   "cell_type": "markdown",
   "metadata": {},
   "source": [
    "Test Accuracies:\n",
    "\n",
    "* MobileNet V2: 93.1%\n",
    "\n",
    "* VGG16: 78.8%\n",
    "\n",
    "* ResNet50: 94.5%\n",
    "\n",
    "\n",
    "\n",
    "<b>ResNet50</b> has the highest accuracy."
   ]
  },
  {
   "cell_type": "markdown",
   "metadata": {
    "_cell_guid": "3ddf9c26-0b1c-44b0-9f74-82d5d38632b9",
    "_uuid": "d947d3a8-8c29-428d-846f-7282265fb2af",
    "collapsed": false,
    "jupyter": {
     "outputs_hidden": false
    },
    "trusted": true
   },
   "source": [
    "# Training MobileNet V2 with random weights"
   ]
  },
  {
   "cell_type": "code",
   "execution_count": 36,
   "metadata": {
    "_cell_guid": "8073f5d3-6f13-4172-b734-a0f36e114cca",
    "_uuid": "82a671af-028e-404d-b7b1-4f7ddf59ef27",
    "collapsed": false,
    "execution": {
     "iopub.execute_input": "2024-12-15T06:13:08.893732Z",
     "iopub.status.busy": "2024-12-15T06:13:08.893408Z",
     "iopub.status.idle": "2024-12-15T06:13:08.971763Z",
     "shell.execute_reply": "2024-12-15T06:13:08.971015Z",
     "shell.execute_reply.started": "2024-12-15T06:13:08.893697Z"
    },
    "jupyter": {
     "outputs_hidden": false
    },
    "trusted": true
   },
   "outputs": [
    {
     "data": {
      "text/plain": [
       "Sequential(\n",
       "  (0): Dropout(p=0.2, inplace=False)\n",
       "  (1): Linear(in_features=1280, out_features=1000, bias=True)\n",
       ")"
      ]
     },
     "execution_count": 36,
     "metadata": {},
     "output_type": "execute_result"
    }
   ],
   "source": [
    "mobilenet_random_model = mobilenet_v2(weights=None)\n",
    "\n",
    "\n",
    "\n",
    "mobilenet_random_model.classifier"
   ]
  },
  {
   "cell_type": "code",
   "execution_count": 37,
   "metadata": {
    "_cell_guid": "3e40360f-aeba-4581-b1bf-3443f0341e28",
    "_uuid": "164fd3be-d8fe-48eb-9281-e607571fe4b6",
    "collapsed": false,
    "execution": {
     "iopub.execute_input": "2024-12-15T06:13:08.972960Z",
     "iopub.status.busy": "2024-12-15T06:13:08.972692Z",
     "iopub.status.idle": "2024-12-15T06:13:08.978849Z",
     "shell.execute_reply": "2024-12-15T06:13:08.978134Z",
     "shell.execute_reply.started": "2024-12-15T06:13:08.972936Z"
    },
    "jupyter": {
     "outputs_hidden": false
    },
    "trusted": true
   },
   "outputs": [],
   "source": [
    "num_features = mobilenet_random_model.classifier[1].in_features\n",
    "\n",
    "\n",
    "\n",
    "mobilenet_random_model.classifier[1] = nn.Linear(\n",
    "\n",
    "\n",
    "\n",
    "    in_features=num_features, out_features=num_classes, bias=True\n",
    "\n",
    "\n",
    "\n",
    ")\n",
    "\n",
    "\n",
    "\n",
    "\n",
    "\n",
    "\n",
    "\n",
    "for param in mobilenet_random_model.parameters():\n",
    "\n",
    "\n",
    "\n",
    "    param.requires_grad = True"
   ]
  },
  {
   "cell_type": "code",
   "execution_count": 38,
   "metadata": {
    "_cell_guid": "0e49f128-f1bc-4705-87c4-12a35f99c50a",
    "_uuid": "e84110b2-3c7b-4a59-845c-c37bf69d934e",
    "collapsed": false,
    "execution": {
     "iopub.execute_input": "2024-12-15T06:13:08.980143Z",
     "iopub.status.busy": "2024-12-15T06:13:08.979898Z",
     "iopub.status.idle": "2024-12-15T06:13:09.000859Z",
     "shell.execute_reply": "2024-12-15T06:13:09.000196Z",
     "shell.execute_reply.started": "2024-12-15T06:13:08.980119Z"
    },
    "jupyter": {
     "outputs_hidden": false
    },
    "trusted": true
   },
   "outputs": [],
   "source": [
    "mobilenet_random_model.to(device)\n",
    "\n",
    "\n",
    "\n",
    "class_weights = class_weights.to(device)\n",
    "\n",
    "\n",
    "\n",
    "criterion = nn.CrossEntropyLoss(weight=class_weights)\n",
    "\n",
    "\n",
    "\n",
    "optimizer = optim.Adam(mobilenet_random_model.parameters())"
   ]
  },
  {
   "cell_type": "code",
   "execution_count": 39,
   "metadata": {
    "_cell_guid": "e1c1ce0e-d862-444f-968c-bde348525004",
    "_uuid": "590d9c42-9348-4a3a-85f2-2ec37e635bee",
    "collapsed": false,
    "execution": {
     "iopub.execute_input": "2024-12-15T06:13:09.001991Z",
     "iopub.status.busy": "2024-12-15T06:13:09.001728Z",
     "iopub.status.idle": "2024-12-15T06:29:32.713944Z",
     "shell.execute_reply": "2024-12-15T06:29:32.712851Z",
     "shell.execute_reply.started": "2024-12-15T06:13:09.001968Z"
    },
    "jupyter": {
     "outputs_hidden": false
    },
    "trusted": true
   },
   "outputs": [
    {
     "name": "stdout",
     "output_type": "stream",
     "text": [
      "Epoch 5/30, Train loss: 98.517, Train acc: 0.186, Val loss: 97.304, Val acc: 0.228\n",
      "Epoch 10/30, Train loss: 66.504, Train acc: 0.398, Val loss: 66.069, Val acc: 0.404\n",
      "Epoch 15/30, Train loss: 44.086, Train acc: 0.569, Val loss: 44.813, Val acc: 0.597\n",
      "Epoch 20/30, Train loss: 30.884, Train acc: 0.688, Val loss: 37.4, Val acc: 0.655\n",
      "Epoch 25/30, Train loss: 24.16, Train acc: 0.753, Val loss: 34.624, Val acc: 0.695\n",
      "Epoch 30/30, Train loss: 19.23, Train acc: 0.784, Val loss: 33.804, Val acc: 0.715\n",
      "time: 983.71 seconds\n"
     ]
    }
   ],
   "source": [
    "start_time = time.time()\n",
    "\n",
    "\n",
    "\n",
    "epochs = 30\n",
    "\n",
    "\n",
    "\n",
    "\n",
    "\n",
    "\n",
    "\n",
    "train_losses, train_accuracies, validation_losses, validation_accuracies = train(\n",
    "\n",
    "\n",
    "\n",
    "    model=mobilenet_random_model,\n",
    "\n",
    "\n",
    "\n",
    "    train_loader=train_loader,\n",
    "\n",
    "\n",
    "\n",
    "    val_loader=val_loader,\n",
    "\n",
    "\n",
    "\n",
    "    optimizer=optimizer,\n",
    "\n",
    "\n",
    "\n",
    "    criterion=criterion,\n",
    "\n",
    "\n",
    "\n",
    "    device=device,\n",
    "\n",
    "\n",
    "\n",
    "    epochs=epochs,\n",
    "\n",
    "\n",
    "\n",
    "    log=True,\n",
    "\n",
    "\n",
    "\n",
    ")\n",
    "\n",
    "\n",
    "\n",
    "\n",
    "\n",
    "\n",
    "\n",
    "end_time = time.time()\n",
    "\n",
    "\n",
    "\n",
    "print(f\"time: {np.round(end_time - start_time, 2)} seconds\")"
   ]
  },
  {
   "cell_type": "markdown",
   "metadata": {
    "_cell_guid": "dd71b0af-395d-4a57-8e95-c50eb810b4de",
    "_uuid": "fafcc5cf-adc2-418f-bb99-187b4e36e6f1",
    "collapsed": false,
    "jupyter": {
     "outputs_hidden": false
    },
    "trusted": true
   },
   "source": [
    "### Plotting Loss and Accuracy"
   ]
  },
  {
   "cell_type": "code",
   "execution_count": 40,
   "metadata": {
    "_cell_guid": "88bfbca7-e4ac-445a-83c6-5d40b4f1c58a",
    "_uuid": "c6efe058-2fe8-495d-b9a8-bcdc735628f0",
    "collapsed": false,
    "execution": {
     "iopub.execute_input": "2024-12-15T06:29:32.716627Z",
     "iopub.status.busy": "2024-12-15T06:29:32.715707Z",
     "iopub.status.idle": "2024-12-15T06:29:33.359176Z",
     "shell.execute_reply": "2024-12-15T06:29:33.358303Z",
     "shell.execute_reply.started": "2024-12-15T06:29:32.716577Z"
    },
    "jupyter": {
     "outputs_hidden": false
    },
    "trusted": true
   },
   "outputs": [
    {
     "data": {
      "image/png": "[encoded data removed]",
      "text/plain": [
       "<Figure size 800x400 with 1 Axes>"
      ]
     },
     "metadata": {},
     "output_type": "display_data"
    },
    {
     "data": {
      "image/png": "[encoded data removed]",
      "text/plain": [
       "<Figure size 800x400 with 1 Axes>"
      ]
     },
     "metadata": {},
     "output_type": "display_data"
    }
   ],
   "source": [
    "plot_loss(\n",
    "\n",
    "\n",
    "\n",
    "    train_losses,\n",
    "\n",
    "\n",
    "\n",
    "    validation_losses,\n",
    "\n",
    "\n",
    "\n",
    "    epochs=epochs,\n",
    "\n",
    "\n",
    "\n",
    "    title=\"Cross Entropy Loss vs epoch for MobileNet V2 (random weights)\",\n",
    "\n",
    "\n",
    "\n",
    ")\n",
    "\n",
    "\n",
    "\n",
    "plot_acc(\n",
    "\n",
    "\n",
    "\n",
    "    train_accuracies,\n",
    "\n",
    "\n",
    "\n",
    "    validation_accuracies,\n",
    "\n",
    "\n",
    "\n",
    "    epochs=epochs,\n",
    "\n",
    "\n",
    "\n",
    "    title=\"Accuracy vs epoch for MobileNet V2 (random weights)\",\n",
    "\n",
    "\n",
    "\n",
    ")"
   ]
  },
  {
   "cell_type": "markdown",
   "metadata": {
    "_cell_guid": "28660d9e-e170-4075-b791-6df52d110513",
    "_uuid": "ee8ac888-a7e4-4d54-aac6-2b1a780dc91a",
    "collapsed": false,
    "jupyter": {
     "outputs_hidden": false
    },
    "trusted": true
   },
   "source": [
    "## Testing MoblieNet V2 (random weights) on Train, Val, Test Datasets"
   ]
  },
  {
   "cell_type": "code",
   "execution_count": 41,
   "metadata": {
    "_cell_guid": "4f158a29-1b81-4880-8277-17a7007dd3eb",
    "_uuid": "c03f1f11-a91b-4dad-b260-fb180d03f4b9",
    "collapsed": false,
    "execution": {
     "iopub.execute_input": "2024-12-15T06:29:33.360556Z",
     "iopub.status.busy": "2024-12-15T06:29:33.360285Z",
     "iopub.status.idle": "2024-12-15T06:30:06.649666Z",
     "shell.execute_reply": "2024-12-15T06:30:06.648580Z",
     "shell.execute_reply.started": "2024-12-15T06:29:33.360530Z"
    },
    "jupyter": {
     "outputs_hidden": false
    },
    "trusted": true
   },
   "outputs": [
    {
     "name": "stdout",
     "output_type": "stream",
     "text": [
      "Train Data:\n",
      "loss= 15.554, accuracy= 0.825\n",
      "Val Data:\n",
      "loss= 33.679, accuracy= 0.715\n",
      "Test Data:\n",
      "loss= 37.268, accuracy= 0.694\n"
     ]
    }
   ],
   "source": [
    "train_loss, train_accuracy, train_preds, train_labels = test(\n",
    "\n",
    "\n",
    "\n",
    "    model=mobilenet_random_model,\n",
    "\n",
    "\n",
    "\n",
    "    test_loader=train_loader,\n",
    "\n",
    "\n",
    "\n",
    "    criterion=criterion,\n",
    "\n",
    "\n",
    "\n",
    "    device=device,\n",
    "\n",
    "\n",
    "\n",
    ")\n",
    "\n",
    "\n",
    "\n",
    "print(\"Train Data:\")\n",
    "\n",
    "\n",
    "\n",
    "print(f\"loss= {np.round(train_loss, 3)}, accuracy= {np.round(train_accuracy, 3)}\")\n",
    "\n",
    "\n",
    "\n",
    "\n",
    "\n",
    "\n",
    "\n",
    "\n",
    "\n",
    "\n",
    "\n",
    "val_loss, val_accuracy, val_preds, val_labels = test(\n",
    "\n",
    "\n",
    "\n",
    "    model=mobilenet_random_model,\n",
    "\n",
    "\n",
    "\n",
    "    test_loader=val_loader,\n",
    "\n",
    "\n",
    "\n",
    "    criterion=criterion,\n",
    "\n",
    "\n",
    "\n",
    "    device=device,\n",
    "\n",
    "\n",
    "\n",
    ")\n",
    "\n",
    "\n",
    "\n",
    "print(\"Val Data:\")\n",
    "\n",
    "\n",
    "\n",
    "print(f\"loss= {np.round(val_loss, 3)}, accuracy= {np.round(val_accuracy, 3)}\")\n",
    "\n",
    "\n",
    "\n",
    "\n",
    "\n",
    "\n",
    "\n",
    "\n",
    "\n",
    "\n",
    "\n",
    "test_loss, test_accuracy, test_preds, test_labels = test(\n",
    "\n",
    "\n",
    "\n",
    "    model=mobilenet_random_model,\n",
    "\n",
    "\n",
    "\n",
    "    test_loader=test_loader,\n",
    "\n",
    "\n",
    "\n",
    "    criterion=criterion,\n",
    "\n",
    "\n",
    "\n",
    "    device=device,\n",
    "\n",
    "\n",
    "\n",
    ")\n",
    "\n",
    "\n",
    "\n",
    "print(\"Test Data:\")\n",
    "\n",
    "\n",
    "\n",
    "print(f\"loss= {np.round(test_loss, 3)}, accuracy= {np.round(test_accuracy, 3)}\")"
   ]
  },
  {
   "cell_type": "code",
   "execution_count": 42,
   "metadata": {
    "_cell_guid": "a95e6898-0d95-41af-9ee2-587a91610186",
    "_uuid": "156fb096-19db-43c5-87f0-560422812f7d",
    "collapsed": false,
    "execution": {
     "iopub.execute_input": "2024-12-15T06:30:06.655027Z",
     "iopub.status.busy": "2024-12-15T06:30:06.654736Z",
     "iopub.status.idle": "2024-12-15T06:30:06.673652Z",
     "shell.execute_reply": "2024-12-15T06:30:06.672841Z",
     "shell.execute_reply.started": "2024-12-15T06:30:06.655001Z"
    },
    "jupyter": {
     "outputs_hidden": false
    },
    "trusted": true
   },
   "outputs": [
    {
     "name": "stdout",
     "output_type": "stream",
     "text": [
      "Top 3 categories: ['hibiscus' 'poinsettia' 'gaura']\n"
     ]
    }
   ],
   "source": [
    "mobilenet_random_model.eval()\n",
    "\n",
    "\n",
    "\n",
    "\n",
    "\n",
    "\n",
    "\n",
    "test_output = mobilenet_random_model(test_image)\n",
    "\n",
    "\n",
    "\n",
    "top_classes, top_classes_idx = torch.topk(test_output, k=3, dim=1)\n",
    "\n",
    "\n",
    "\n",
    "top_classes, top_classes_idx = top_classes.squeeze(), top_classes_idx.squeeze()\n",
    "\n",
    "\n",
    "\n",
    "\n",
    "\n",
    "\n",
    "\n",
    "top_categories = classes[top_classes_idx.cpu()]\n",
    "\n",
    "\n",
    "\n",
    "print(f\"Top 3 categories: {top_categories}\")"
   ]
  },
  {
   "cell_type": "code",
   "execution_count": null,
   "metadata": {
    "trusted": true
   },
   "outputs": [],
   "source": []
  }
 ],
 "metadata": {
  "kaggle": {
   "accelerator": "gpu",
   "dataSources": [
    {
     "sourceId": 212992881,
     "sourceType": "kernelVersion"
    }
   ],
   "dockerImageVersionId": 30805,
   "isGpuEnabled": true,
   "isInternetEnabled": true,
   "language": "python",
   "sourceType": "notebook"
  },
  "kernelspec": {
   "display_name": "Python 3",
   "language": "python",
   "name": "python3"
  },
  "language_info": {
   "codemirror_mode": {
    "name": "ipython",
    "version": 3
   },
   "file_extension": ".py",
   "mimetype": "text/x-python",
   "name": "python",
   "nbconvert_exporter": "python",
   "pygments_lexer": "ipython3",
   "version": "3.10.14"
  }
 },
 "nbformat": 4,
 "nbformat_minor": 4
}
