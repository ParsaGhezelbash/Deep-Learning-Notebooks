{
 "cells": [
  {
   "cell_type": "code",
   "execution_count": 1,
   "metadata": {
    "_cell_guid": "88bed5e7-c6b7-4418-97dc-9035b9213516",
    "_uuid": "8ce5b648-f169-4506-bb95-1cd39f4a2965",
    "collapsed": false,
    "execution": {
     "iopub.execute_input": "2024-12-14T08:06:31.787321Z",
     "iopub.status.busy": "2024-12-14T08:06:31.786658Z",
     "iopub.status.idle": "2024-12-14T08:06:37.230144Z",
     "shell.execute_reply": "2024-12-14T08:06:37.229183Z",
     "shell.execute_reply.started": "2024-12-14T08:06:31.787278Z"
    },
    "jupyter": {
     "outputs_hidden": false
    },
    "trusted": true
   },
   "outputs": [],
   "source": [
    "import numpy as np\n",
    "\n",
    "import matplotlib.pyplot as plt\n",
    "\n",
    "\n",
    "\n",
    "import torch\n",
    "\n",
    "import torch.nn as nn\n",
    "\n",
    "import torch.nn.functional as F\n",
    "\n",
    "import torch.optim as optim\n",
    "\n",
    "from torch.utils.data import Subset\n",
    "\n",
    "from torch.utils.data import DataLoader\n",
    "\n",
    "from torch.utils.data import random_split\n",
    "\n",
    "\n",
    "\n",
    "import torchvision\n",
    "\n",
    "import torchvision.transforms as transforms\n",
    "\n",
    "from torchvision.models import (\n",
    "\n",
    "    resnet50,\n",
    "\n",
    "    ResNet50_Weights,\n",
    "\n",
    "    mobilenet_v2,\n",
    "\n",
    "    MobileNet_V2_Weights,\n",
    "\n",
    "    vgg16,\n",
    "\n",
    "    VGG16_Weights,\n",
    "\n",
    ")\n",
    "\n",
    "\n",
    "\n",
    "from sklearn.metrics import confusion_matrix, ConfusionMatrixDisplay\n",
    "\n",
    "from sklearn.preprocessing import OneHotEncoder\n",
    "\n",
    "\n",
    "\n",
    "from PIL import Image\n",
    "\n",
    "import requests\n",
    "\n",
    "from io import BytesIO\n",
    "\n",
    "\n",
    "\n",
    "\n",
    "import time\n",
    "\n",
    "\n",
    "\n",
    "import importlib\n",
    "\n",
    "import utils\n",
    "\n",
    "\n",
    "\n",
    "importlib.reload(utils)\n",
    "\n",
    "from utils.utils import (\n",
    "\n",
    "    accuracy,\n",
    "\n",
    "    train,\n",
    "\n",
    "    combined_train,\n",
    "\n",
    "    test,\n",
    "\n",
    "    combined_test,\n",
    "\n",
    "    plot_acc,\n",
    "\n",
    "    plot_loss,\n",
    "\n",
    "    plot_confusion_matrix,\n",
    "\n",
    "    save_model,\n",
    "\n",
    "    get_feature_maps,\n",
    "\n",
    "    visualize_feature_maps,\n",
    "\n",
    "    plot_images,\n",
    "\n",
    "    plot_feature_maps,\n",
    "\n",
    "    get_num_parameters,\n",
    "\n",
    ")"
   ]
  },
  {
   "cell_type": "code",
   "execution_count": 2,
   "metadata": {
    "_cell_guid": "4cde83eb-1423-4003-bf31-fa62bc62268e",
    "_uuid": "705841de-ddb6-476e-a8dc-5f3616f046a0",
    "collapsed": false,
    "execution": {
     "iopub.execute_input": "2024-12-14T08:06:37.232087Z",
     "iopub.status.busy": "2024-12-14T08:06:37.231729Z",
     "iopub.status.idle": "2024-12-14T08:06:37.242368Z",
     "shell.execute_reply": "2024-12-14T08:06:37.241564Z",
     "shell.execute_reply.started": "2024-12-14T08:06:37.232062Z"
    },
    "jupyter": {
     "outputs_hidden": false
    },
    "trusted": true
   },
   "outputs": [],
   "source": [
    "num_classes = 102\n",
    "\n",
    "torch.manual_seed(13)\n",
    "\n",
    "np.random.seed(13)\n",
    "\n",
    "\n",
    "\n",
    "mean = [0.485, 0.456, 0.406]\n",
    "\n",
    "std = [0.229, 0.224, 0.225]\n",
    "\n",
    "image_size = (224, 224)\n",
    "\n",
    "batch_size = 32"
   ]
  },
  {
   "cell_type": "markdown",
   "metadata": {
    "_cell_guid": "6261a54f-ab2c-43d4-9fda-9e2705dd3a4d",
    "_uuid": "6640f991-cec1-4b12-a782-751060db265d",
    "collapsed": false,
    "jupyter": {
     "outputs_hidden": false
    },
    "trusted": true
   },
   "source": [
    "# Loading Flower102 + Preprocess"
   ]
  },
  {
   "cell_type": "code",
   "execution_count": 3,
   "metadata": {
    "_cell_guid": "c27d8c23-a4cc-4e0a-b331-aee90968a254",
    "_uuid": "ced07788-78b9-4ba6-82d7-44366d297904",
    "collapsed": false,
    "execution": {
     "iopub.execute_input": "2024-12-14T08:06:37.243739Z",
     "iopub.status.busy": "2024-12-14T08:06:37.243413Z",
     "iopub.status.idle": "2024-12-14T08:06:37.255742Z",
     "shell.execute_reply": "2024-12-14T08:06:37.254821Z",
     "shell.execute_reply.started": "2024-12-14T08:06:37.243702Z"
    },
    "jupyter": {
     "outputs_hidden": false
    },
    "trusted": true
   },
   "outputs": [],
   "source": [
    "train_transform = transforms.Compose(\n",
    "\n",
    "    [\n",
    "\n",
    "        transforms.Resize(size=(256, 256)),\n",
    "\n",
    "        transforms.RandomCrop(size=image_size),\n",
    "\n",
    "        transforms.RandomHorizontalFlip(),\n",
    "\n",
    "        transforms.ColorJitter(brightness=0.2, contrast=0.2, saturation=0.2, hue=0.1),\n",
    "\n",
    "        transforms.ToTensor(),\n",
    "\n",
    "        transforms.Normalize(mean=mean, std=std),\n",
    "\n",
    "    ]\n",
    "\n",
    ")\n",
    "\n",
    "\n",
    "\n",
    "val_transform = transforms.Compose(\n",
    "\n",
    "    [\n",
    "\n",
    "        transforms.Resize(size=image_size),\n",
    "\n",
    "        transforms.ToTensor(),\n",
    "\n",
    "        transforms.Normalize(mean=mean, std=std),\n",
    "\n",
    "    ]\n",
    "\n",
    ")"
   ]
  },
  {
   "cell_type": "code",
   "execution_count": null,
   "metadata": {
    "_cell_guid": "5459b6cd-99fb-4b70-a9e7-a934e63d2b68",
    "_uuid": "9fe55bd2-9afc-4467-a98b-9dd6b8f10ea8",
    "collapsed": false,
    "execution": {
     "iopub.execute_input": "2024-12-14T08:06:37.256818Z",
     "iopub.status.busy": "2024-12-14T08:06:37.256609Z",
     "iopub.status.idle": "2024-12-14T08:06:44.110624Z",
     "shell.execute_reply": "2024-12-14T08:06:44.109744Z",
     "shell.execute_reply.started": "2024-12-14T08:06:37.256796Z"
    },
    "jupyter": {
     "outputs_hidden": false
    },
    "trusted": true
   },
   "outputs": [],
   "source": [
    "train_dataset = torchvision.datasets.Flowers102(\n",
    "\n",
    "    root=\"./data\",\n",
    "\n",
    "    split=\"test\",\n",
    "\n",
    "    download=True,\n",
    "\n",
    "    transform=train_transform,\n",
    "\n",
    ")\n",
    "\n",
    "\n",
    "\n",
    "val_dataset = torchvision.datasets.Flowers102(\n",
    "\n",
    "    root=\"./data\",\n",
    "\n",
    "    split=\"val\",\n",
    "\n",
    "    download=True,\n",
    "\n",
    "    transform=val_transform,\n",
    "\n",
    ")\n",
    "\n",
    "\n",
    "\n",
    "test_dataset = torchvision.datasets.Flowers102(\n",
    "\n",
    "    root=\"./data\",\n",
    "\n",
    "    split=\"train\",\n",
    "\n",
    "    download=True,\n",
    "\n",
    "    transform=val_transform,\n",
    "\n",
    ")\n",
    "\n",
    "\n",
    "\n",
    "print(f\"Train Dataset: {len(train_dataset)}\")\n",
    "\n",
    "print(f\"Val Dataset: {len(val_dataset)}\")\n",
    "\n",
    "print(f\"Test Dataset: {len(test_dataset)}\")"
   ]
  },
  {
   "cell_type": "code",
   "execution_count": 5,
   "metadata": {
    "_cell_guid": "7125a5c5-a5a0-49fb-a5b1-97cbca4ba289",
    "_uuid": "08cdc337-d815-4766-ba37-1eeac7c1aa7c",
    "collapsed": false,
    "execution": {
     "iopub.execute_input": "2024-12-14T08:06:44.114195Z",
     "iopub.status.busy": "2024-12-14T08:06:44.113440Z",
     "iopub.status.idle": "2024-12-14T08:06:44.119142Z",
     "shell.execute_reply": "2024-12-14T08:06:44.118179Z",
     "shell.execute_reply.started": "2024-12-14T08:06:44.114148Z"
    },
    "jupyter": {
     "outputs_hidden": false
    },
    "trusted": true
   },
   "outputs": [],
   "source": [
    "train_loader = DataLoader(\n",
    "\n",
    "    train_dataset, batch_size=batch_size, shuffle=True, num_workers=4, pin_memory=True\n",
    "\n",
    ")\n",
    "\n",
    "val_loader = DataLoader(\n",
    "\n",
    "    val_dataset, batch_size=batch_size, shuffle=True, num_workers=4, pin_memory=True\n",
    "\n",
    ")\n",
    "\n",
    "test_loader = DataLoader(\n",
    "\n",
    "    test_dataset, batch_size=batch_size, shuffle=True, num_workers=4, pin_memory=True\n",
    "\n",
    ")"
   ]
  },
  {
   "cell_type": "code",
   "execution_count": null,
   "metadata": {
    "_cell_guid": "2e2257c0-4f91-432d-8bbe-d06606fb50aa",
    "_uuid": "b27e7421-02d7-4dee-8156-ad77bfde7072",
    "collapsed": false,
    "execution": {
     "iopub.execute_input": "2024-12-14T08:06:44.120447Z",
     "iopub.status.busy": "2024-12-14T08:06:44.120135Z",
     "iopub.status.idle": "2024-12-14T08:06:44.302211Z",
     "shell.execute_reply": "2024-12-14T08:06:44.301311Z",
     "shell.execute_reply.started": "2024-12-14T08:06:44.120406Z"
    },
    "jupyter": {
     "outputs_hidden": false
    },
    "trusted": true
   },
   "outputs": [],
   "source": [
    "url = \"https://gist.githubusercontent.com/JosephKJ/94c7728ed1a8e0cd87fe6a029769cde1/raw/403325f5110cb0f3099734c5edb9f457539c77e9/Oxford-102_Flower_dataset_labels.txt\"\n",
    "response = requests.get(url)\n",
    "if response.status_code == 200:\n",
    "    lines = response.text.splitlines()\n",
    "    \n",
    "    processed_lines = [line.strip().strip(\"'\").strip(\"\\\"\") for line in lines]\n",
    "else:\n",
    "    print(f\"Failed to fetch the file. Status code: {response.status_code}\")\n",
    "\n",
    "\n",
    "classes = np.array(processed_lines)\n",
    "print(classes)"
   ]
  },
  {
   "cell_type": "code",
   "execution_count": null,
   "metadata": {
    "_cell_guid": "4045619b-89ee-471f-a805-de0c2427cebd",
    "_uuid": "989f89a4-8ee1-43e1-a02c-806bd64a3308",
    "collapsed": false,
    "execution": {
     "iopub.execute_input": "2024-12-14T08:06:44.303716Z",
     "iopub.status.busy": "2024-12-14T08:06:44.303376Z",
     "iopub.status.idle": "2024-12-14T08:06:44.389184Z",
     "shell.execute_reply": "2024-12-14T08:06:44.388322Z",
     "shell.execute_reply.started": "2024-12-14T08:06:44.303679Z"
    },
    "jupyter": {
     "outputs_hidden": false
    },
    "trusted": true
   },
   "outputs": [],
   "source": [
    "unique, counts = np.unique(train_dataset._labels, return_counts=True)\n",
    "\n",
    "class_weights = 1 / counts\n",
    "\n",
    "class_weights /= class_weights.sum()\n",
    "\n",
    "class_weights = torch.tensor(class_weights).float()\n",
    "\n",
    "print(class_weights)"
   ]
  },
  {
   "cell_type": "code",
   "execution_count": null,
   "metadata": {
    "_cell_guid": "01b988f3-d075-4e61-85cd-58e612dedb3d",
    "_uuid": "70f4fa2c-a9fe-4cdd-bc2c-60f7cffdc016",
    "collapsed": false,
    "execution": {
     "iopub.execute_input": "2024-12-14T08:06:44.391025Z",
     "iopub.status.busy": "2024-12-14T08:06:44.390338Z",
     "iopub.status.idle": "2024-12-14T08:06:46.197653Z",
     "shell.execute_reply": "2024-12-14T08:06:46.196714Z",
     "shell.execute_reply.started": "2024-12-14T08:06:44.390987Z"
    },
    "jupyter": {
     "outputs_hidden": false
    },
    "trusted": true
   },
   "outputs": [],
   "source": [
    "images, labels = next(iter(train_loader))\n",
    "\n",
    "plot_images([images[0]], mean, std, [classes[labels[0]]], \"Train Sample\")"
   ]
  },
  {
   "cell_type": "markdown",
   "metadata": {
    "_cell_guid": "08ad32ac-c1e2-46d1-8eeb-65eccc90d9ac",
    "_uuid": "c52b944b-5d25-44cf-bf77-3c6e610ea084",
    "collapsed": false,
    "jupyter": {
     "outputs_hidden": false
    },
    "trusted": true
   },
   "source": [
    "# Loading MobileNet V2 + Sample Image"
   ]
  },
  {
   "cell_type": "code",
   "execution_count": null,
   "metadata": {
    "_cell_guid": "79bccaea-0d3e-44bc-98ff-38f35870556c",
    "_uuid": "ce1cf388-0a4c-4d56-94ae-c68c188c3fd8",
    "collapsed": false,
    "execution": {
     "iopub.execute_input": "2024-12-14T08:06:46.199101Z",
     "iopub.status.busy": "2024-12-14T08:06:46.198783Z",
     "iopub.status.idle": "2024-12-14T08:06:46.205553Z",
     "shell.execute_reply": "2024-12-14T08:06:46.204646Z",
     "shell.execute_reply.started": "2024-12-14T08:06:46.199060Z"
    },
    "jupyter": {
     "outputs_hidden": false
    },
    "trusted": true
   },
   "outputs": [],
   "source": [
    "device = torch.device(\"cuda\" if torch.cuda.is_available() else \"cpu\")\n",
    "\n",
    "print(f\"device: {device.type}\")"
   ]
  },
  {
   "cell_type": "code",
   "execution_count": null,
   "metadata": {
    "_cell_guid": "94c476fc-d118-494a-87f3-cfe0e8a1c9e2",
    "_uuid": "efffa0ae-4b05-45ea-b99a-64f41bda58c4",
    "collapsed": false,
    "execution": {
     "iopub.execute_input": "2024-12-14T08:06:46.206815Z",
     "iopub.status.busy": "2024-12-14T08:06:46.206569Z",
     "iopub.status.idle": "2024-12-14T08:06:47.061881Z",
     "shell.execute_reply": "2024-12-14T08:06:47.058594Z",
     "shell.execute_reply.started": "2024-12-14T08:06:46.206790Z"
    },
    "jupyter": {
     "outputs_hidden": false
    },
    "trusted": true
   },
   "outputs": [],
   "source": [
    "url = \"https://www.easyartstart.com/wp-content/uploads/2024/04/flower_drawing.png\"\n",
    "response = requests.get(url)\n",
    "if response.status_code == 200:\n",
    "    test_image = Image.open(BytesIO(response.content))\n",
    "else:\n",
    "    print(\"Failed to retrieve the image.\")\n",
    "\n",
    "test_image = val_transform(test_image).unsqueeze(0)\n",
    "\n",
    "test_image.shape\n",
    "\n",
    "plot_images(test_image, mean, std, [\"Test Image\"], title=\"Testing MobileNet V2\")"
   ]
  },
  {
   "cell_type": "markdown",
   "metadata": {
    "_cell_guid": "80c17f14-0d10-4830-a532-e74948842eef",
    "_uuid": "1d1d4e0d-b00c-4b09-9d26-d64aa4b600e2",
    "collapsed": false,
    "jupyter": {
     "outputs_hidden": false
    },
    "trusted": true
   },
   "source": [
    "## Testing an Image on MobileNet V2"
   ]
  },
  {
   "cell_type": "code",
   "execution_count": null,
   "metadata": {
    "_cell_guid": "310a5dae-c3ff-4b6c-a3e6-1f33d16255cd",
    "_uuid": "e283be73-cdee-4e0c-8125-bd705def1628",
    "collapsed": false,
    "execution": {
     "iopub.execute_input": "2024-12-14T08:06:47.066942Z",
     "iopub.status.busy": "2024-12-14T08:06:47.066448Z",
     "iopub.status.idle": "2024-12-14T08:06:47.316615Z",
     "shell.execute_reply": "2024-12-14T08:06:47.315757Z",
     "shell.execute_reply.started": "2024-12-14T08:06:47.066885Z"
    },
    "jupyter": {
     "outputs_hidden": false
    },
    "trusted": true
   },
   "outputs": [],
   "source": [
    "mobilenet_model = mobilenet_v2(weights=MobileNet_V2_Weights.DEFAULT)\n",
    "\n",
    "mobilenet_model.classifier"
   ]
  },
  {
   "cell_type": "code",
   "execution_count": null,
   "metadata": {
    "_cell_guid": "3bbeeefc-0b3a-4cfb-a797-43413cbd4866",
    "_uuid": "cf5af551-e08c-4b3e-9056-67aa2233555f",
    "collapsed": false,
    "execution": {
     "iopub.execute_input": "2024-12-14T08:06:47.318090Z",
     "iopub.status.busy": "2024-12-14T08:06:47.317801Z",
     "iopub.status.idle": "2024-12-14T08:06:48.214134Z",
     "shell.execute_reply": "2024-12-14T08:06:48.213283Z",
     "shell.execute_reply.started": "2024-12-14T08:06:47.318064Z"
    },
    "jupyter": {
     "outputs_hidden": false
    },
    "trusted": true
   },
   "outputs": [],
   "source": [
    "mobilenet_model.to(device)\n",
    "\n",
    "test_image = test_image.to(device)\n",
    "\n",
    "mobilenet_model.eval()\n",
    "\n",
    "\n",
    "\n",
    "test_output = mobilenet_model(test_image)\n",
    "\n",
    "top_classes, top_classes_idx = torch.topk(test_output, k=3, dim=1)\n",
    "\n",
    "top_classes, top_classes_idx = top_classes.squeeze(), top_classes_idx.squeeze()\n",
    "\n",
    "top_classes, top_classes_idx"
   ]
  },
  {
   "cell_type": "code",
   "execution_count": null,
   "metadata": {
    "_cell_guid": "d10fec66-c064-44cb-82de-ecf1ff69deae",
    "_uuid": "8e56a048-fb4f-4cf7-9434-f9468be3a9b5",
    "collapsed": false,
    "execution": {
     "iopub.execute_input": "2024-12-14T08:06:48.216042Z",
     "iopub.status.busy": "2024-12-14T08:06:48.215428Z",
     "iopub.status.idle": "2024-12-14T08:06:48.227710Z",
     "shell.execute_reply": "2024-12-14T08:06:48.226902Z",
     "shell.execute_reply.started": "2024-12-14T08:06:48.216002Z"
    },
    "jupyter": {
     "outputs_hidden": false
    },
    "trusted": true
   },
   "outputs": [],
   "source": [
    "mobilenet_categories = np.array(MobileNet_V2_Weights.DEFAULT.meta[\"categories\"])\n",
    "\n",
    "top_categories = mobilenet_categories[top_classes_idx.cpu()]\n",
    "\n",
    "print(f\"Top 3 categories: {top_categories}\")"
   ]
  },
  {
   "cell_type": "markdown",
   "metadata": {
    "_cell_guid": "34049fec-b036-4d5e-974b-8da9f70304cb",
    "_uuid": "3408463e-8452-48d5-beb3-f2b3d3bd0ade",
    "collapsed": false,
    "jupyter": {
     "outputs_hidden": false
    },
    "trusted": true
   },
   "source": [
    "# Preparing and Training MobileNet V2 for Classification on Flower102 Dataset"
   ]
  },
  {
   "cell_type": "code",
   "execution_count": 14,
   "metadata": {
    "_cell_guid": "589cc650-52bf-4aa1-8dbc-dfbf6eb58457",
    "_uuid": "2b47847e-2bfb-41b2-94e7-dccf9cf13180",
    "collapsed": false,
    "execution": {
     "iopub.execute_input": "2024-12-14T08:06:48.231251Z",
     "iopub.status.busy": "2024-12-14T08:06:48.230894Z",
     "iopub.status.idle": "2024-12-14T08:06:48.240992Z",
     "shell.execute_reply": "2024-12-14T08:06:48.240237Z",
     "shell.execute_reply.started": "2024-12-14T08:06:48.231225Z"
    },
    "jupyter": {
     "outputs_hidden": false
    },
    "trusted": true
   },
   "outputs": [],
   "source": [
    "num_features = mobilenet_model.classifier[1].in_features\n",
    "\n",
    "mobilenet_model.classifier[1] = nn.Linear(\n",
    "\n",
    "    in_features=num_features, out_features=num_classes, bias=True\n",
    "\n",
    ")\n",
    "\n",
    "\n",
    "\n",
    "for param in mobilenet_model.parameters():\n",
    "\n",
    "    param.requires_grad = False\n",
    "\n",
    "\n",
    "\n",
    "for param in mobilenet_model.classifier.parameters():\n",
    "\n",
    "    param.requires_grad = True"
   ]
  },
  {
   "cell_type": "code",
   "execution_count": 15,
   "metadata": {
    "_cell_guid": "d7217024-9421-4587-a45e-4847979520a3",
    "_uuid": "05905d7c-2f4e-4239-9a0e-27e1b15d62d4",
    "collapsed": false,
    "execution": {
     "iopub.execute_input": "2024-12-14T08:06:48.242708Z",
     "iopub.status.busy": "2024-12-14T08:06:48.242151Z",
     "iopub.status.idle": "2024-12-14T08:06:48.251179Z",
     "shell.execute_reply": "2024-12-14T08:06:48.250538Z",
     "shell.execute_reply.started": "2024-12-14T08:06:48.242671Z"
    },
    "jupyter": {
     "outputs_hidden": false
    },
    "trusted": true
   },
   "outputs": [],
   "source": [
    "mobilenet_model.to(device)\n",
    "\n",
    "class_weights = class_weights.to(device)\n",
    "\n",
    "criterion = nn.CrossEntropyLoss(weight=class_weights)\n",
    "\n",
    "optimizer = optim.Adam(mobilenet_model.classifier.parameters())"
   ]
  },
  {
   "cell_type": "code",
   "execution_count": null,
   "metadata": {
    "_cell_guid": "ff6850bb-fede-4580-b835-8ed0eed00e87",
    "_uuid": "18419580-4bea-422d-a073-8d92a094449c",
    "collapsed": false,
    "execution": {
     "iopub.execute_input": "2024-12-14T08:06:48.252387Z",
     "iopub.status.busy": "2024-12-14T08:06:48.252100Z",
     "iopub.status.idle": "2024-12-14T08:22:51.085543Z",
     "shell.execute_reply": "2024-12-14T08:22:51.084336Z",
     "shell.execute_reply.started": "2024-12-14T08:06:48.252362Z"
    },
    "jupyter": {
     "outputs_hidden": false
    },
    "trusted": true
   },
   "outputs": [],
   "source": [
    "start_time = time.time()\n",
    "\n",
    "epochs = 30\n",
    "\n",
    "\n",
    "\n",
    "train_losses, train_accuracies, validation_losses, validation_accuracies = train(\n",
    "\n",
    "    model=mobilenet_model,\n",
    "\n",
    "    train_loader=train_loader,\n",
    "\n",
    "    val_loader=val_loader,\n",
    "\n",
    "    optimizer=optimizer,\n",
    "\n",
    "    criterion=criterion,\n",
    "\n",
    "    device=device,\n",
    "\n",
    "    epochs=epochs,\n",
    "\n",
    "    log=True,\n",
    "\n",
    ")\n",
    "\n",
    "\n",
    "\n",
    "end_time = time.time()\n",
    "\n",
    "print(f\"time: {np.round(end_time - start_time, 2)} seconds\")"
   ]
  },
  {
   "cell_type": "markdown",
   "metadata": {
    "_cell_guid": "97960722-76e7-4ea8-adfe-ace0eb5d7c98",
    "_uuid": "542f5bac-b993-43f9-925c-68d8401f1fc4",
    "collapsed": false,
    "jupyter": {
     "outputs_hidden": false
    },
    "trusted": true
   },
   "source": [
    "## Plotting Loss and Accuracy"
   ]
  },
  {
   "cell_type": "code",
   "execution_count": null,
   "metadata": {
    "_cell_guid": "ed5e13cb-a839-45e9-860f-7fefd6cb761b",
    "_uuid": "c1eb5ccb-8f1a-4d0e-82f2-b08e83d805cf",
    "collapsed": false,
    "execution": {
     "iopub.execute_input": "2024-12-14T08:22:51.087248Z",
     "iopub.status.busy": "2024-12-14T08:22:51.086908Z",
     "iopub.status.idle": "2024-12-14T08:22:51.590089Z",
     "shell.execute_reply": "2024-12-14T08:22:51.589337Z",
     "shell.execute_reply.started": "2024-12-14T08:22:51.087216Z"
    },
    "jupyter": {
     "outputs_hidden": false
    },
    "trusted": true
   },
   "outputs": [],
   "source": [
    "plot_loss(\n",
    "\n",
    "    train_losses,\n",
    "\n",
    "    validation_losses,\n",
    "\n",
    "    epochs=epochs,\n",
    "\n",
    "    title=\"Cross Entropy Loss vs epoch for MobileNet V2\",\n",
    "\n",
    ")\n",
    "\n",
    "plot_acc(\n",
    "\n",
    "    train_accuracies,\n",
    "\n",
    "    validation_accuracies,\n",
    "\n",
    "    epochs=epochs,\n",
    "\n",
    "    title=\"Accuracy vs epoch for MobileNet V2\",\n",
    "\n",
    ")"
   ]
  },
  {
   "cell_type": "markdown",
   "metadata": {
    "_cell_guid": "0ed44f15-7b9e-44b8-9966-f2c8b02f7615",
    "_uuid": "73dd21ec-e5d1-4c75-87e9-1dfec8cdeb2f",
    "collapsed": false,
    "jupyter": {
     "outputs_hidden": false
    },
    "trusted": true
   },
   "source": [
    "## Testing MoblieNet V2 on Train, Val, Test Datasets"
   ]
  },
  {
   "cell_type": "code",
   "execution_count": null,
   "metadata": {
    "_cell_guid": "051776d1-6c1a-48cc-b70f-fffb7b02747a",
    "_uuid": "e89c13fe-208e-4c22-bb9b-c62ad0fcdab0",
    "collapsed": false,
    "execution": {
     "iopub.execute_input": "2024-12-14T08:22:51.592904Z",
     "iopub.status.busy": "2024-12-14T08:22:51.591889Z",
     "iopub.status.idle": "2024-12-14T08:23:26.044775Z",
     "shell.execute_reply": "2024-12-14T08:23:26.043722Z",
     "shell.execute_reply.started": "2024-12-14T08:22:51.592865Z"
    },
    "jupyter": {
     "outputs_hidden": false
    },
    "trusted": true
   },
   "outputs": [],
   "source": [
    "train_loss, train_accuracy, train_preds, train_labels = test(\n",
    "\n",
    "    model=mobilenet_model, test_loader=train_loader, criterion=criterion, device=device\n",
    "\n",
    ")\n",
    "\n",
    "print(\"Train Data:\")\n",
    "\n",
    "print(f\"loss= {np.round(train_loss, 3)}, accuracy= {np.round(train_accuracy, 3)}\")\n",
    "\n",
    "\n",
    "\n",
    "\n",
    "\n",
    "val_loss, val_accuracy, val_preds, val_labels = test(\n",
    "\n",
    "    model=mobilenet_model, test_loader=val_loader, criterion=criterion, device=device\n",
    "\n",
    ")\n",
    "\n",
    "print(\"Val Data:\")\n",
    "\n",
    "print(f\"loss= {np.round(val_loss, 3)}, accuracy= {np.round(val_accuracy, 3)}\")\n",
    "\n",
    "\n",
    "\n",
    "\n",
    "\n",
    "test_loss, test_accuracy, test_preds, test_labels = test(\n",
    "\n",
    "    model=mobilenet_model, test_loader=test_loader, criterion=criterion, device=device\n",
    "\n",
    ")\n",
    "\n",
    "print(\"Test Data:\")\n",
    "\n",
    "print(f\"loss= {np.round(test_loss, 3)}, accuracy= {np.round(test_accuracy, 3)}\")"
   ]
  },
  {
   "cell_type": "code",
   "execution_count": null,
   "metadata": {
    "_cell_guid": "d9a204bb-b843-4642-a1ff-3cca54f2d5b9",
    "_uuid": "de57ac99-362b-4cbe-9a23-4bcea4bc98e6",
    "collapsed": false,
    "execution": {
     "iopub.execute_input": "2024-12-14T08:23:26.047449Z",
     "iopub.status.busy": "2024-12-14T08:23:26.046402Z",
     "iopub.status.idle": "2024-12-14T08:23:26.061369Z",
     "shell.execute_reply": "2024-12-14T08:23:26.060621Z",
     "shell.execute_reply.started": "2024-12-14T08:23:26.047414Z"
    },
    "jupyter": {
     "outputs_hidden": false
    },
    "trusted": true
   },
   "outputs": [],
   "source": [
    "mobilenet_model.eval()\n",
    "\n",
    "\n",
    "\n",
    "test_output = mobilenet_model(test_image)\n",
    "\n",
    "top_classes, top_classes_idx = torch.topk(test_output, k=3, dim=1)\n",
    "\n",
    "top_classes, top_classes_idx = top_classes.squeeze(), top_classes_idx.squeeze()\n",
    "\n",
    "\n",
    "\n",
    "top_categories = classes[top_classes_idx.cpu()]\n",
    "\n",
    "print(f\"Top 3 categories: {top_categories}\")"
   ]
  },
  {
   "cell_type": "markdown",
   "metadata": {
    "_cell_guid": "28688c64-3c6b-4466-8882-124ea7e23e35",
    "_uuid": "d13cabca-8881-4fb6-ae7e-1c0834d252cc",
    "collapsed": false,
    "jupyter": {
     "outputs_hidden": false
    },
    "trusted": true
   },
   "source": [
    "# Training VGG16"
   ]
  },
  {
   "cell_type": "code",
   "execution_count": null,
   "metadata": {
    "_cell_guid": "fe186525-7182-4e8b-b087-600128e35874",
    "_uuid": "740253c3-a9ef-4221-954e-aa14c12106fa",
    "collapsed": false,
    "execution": {
     "iopub.execute_input": "2024-12-14T08:23:26.062523Z",
     "iopub.status.busy": "2024-12-14T08:23:26.062262Z",
     "iopub.status.idle": "2024-12-14T08:23:30.277495Z",
     "shell.execute_reply": "2024-12-14T08:23:30.276411Z",
     "shell.execute_reply.started": "2024-12-14T08:23:26.062497Z"
    },
    "jupyter": {
     "outputs_hidden": false
    },
    "trusted": true
   },
   "outputs": [],
   "source": [
    "vgg_model = vgg16(weights=VGG16_Weights.DEFAULT)\n",
    "\n",
    "vgg_model.classifier"
   ]
  },
  {
   "cell_type": "code",
   "execution_count": 21,
   "metadata": {
    "_cell_guid": "1ef99234-a2eb-41c9-97a9-e93d8bd06bd1",
    "_uuid": "3c726654-73f7-4599-a387-4847ca23aad2",
    "collapsed": false,
    "execution": {
     "iopub.execute_input": "2024-12-14T08:23:30.279437Z",
     "iopub.status.busy": "2024-12-14T08:23:30.278926Z",
     "iopub.status.idle": "2024-12-14T08:23:30.290655Z",
     "shell.execute_reply": "2024-12-14T08:23:30.289855Z",
     "shell.execute_reply.started": "2024-12-14T08:23:30.279395Z"
    },
    "jupyter": {
     "outputs_hidden": false
    },
    "trusted": true
   },
   "outputs": [],
   "source": [
    "num_features = vgg_model.classifier[6].in_features\n",
    "\n",
    "vgg_model.classifier[6] = nn.Linear(\n",
    "\n",
    "    in_features=num_features, out_features=num_classes, bias=True\n",
    "\n",
    ")\n",
    "\n",
    "\n",
    "\n",
    "for param in vgg_model.parameters():\n",
    "\n",
    "    param.requires_grad = False\n",
    "\n",
    "\n",
    "\n",
    "for param in vgg_model.classifier.parameters():\n",
    "\n",
    "    param.requires_grad = True"
   ]
  },
  {
   "cell_type": "code",
   "execution_count": 22,
   "metadata": {
    "_cell_guid": "8e307bf0-5e6e-4cbb-8d4a-c3916fc690f6",
    "_uuid": "188bca4e-000c-41a0-a53d-eb26d0620365",
    "collapsed": false,
    "execution": {
     "iopub.execute_input": "2024-12-14T08:23:30.291971Z",
     "iopub.status.busy": "2024-12-14T08:23:30.291671Z",
     "iopub.status.idle": "2024-12-14T08:23:30.498239Z",
     "shell.execute_reply": "2024-12-14T08:23:30.497288Z",
     "shell.execute_reply.started": "2024-12-14T08:23:30.291943Z"
    },
    "jupyter": {
     "outputs_hidden": false
    },
    "trusted": true
   },
   "outputs": [],
   "source": [
    "vgg_model.to(device)\n",
    "\n",
    "class_weights = class_weights.to(device)\n",
    "\n",
    "criterion = nn.CrossEntropyLoss(weight=class_weights)\n",
    "\n",
    "optimizer = optim.Adam(vgg_model.classifier.parameters())"
   ]
  },
  {
   "cell_type": "code",
   "execution_count": null,
   "metadata": {
    "_cell_guid": "e96187c9-7401-4210-90d0-c09dff65aa9e",
    "_uuid": "c6f3e7d3-bf99-4544-8352-55672153853f",
    "collapsed": false,
    "execution": {
     "iopub.execute_input": "2024-12-14T08:23:30.499659Z",
     "iopub.status.busy": "2024-12-14T08:23:30.499396Z",
     "iopub.status.idle": "2024-12-14T08:40:48.087714Z",
     "shell.execute_reply": "2024-12-14T08:40:48.086672Z",
     "shell.execute_reply.started": "2024-12-14T08:23:30.499635Z"
    },
    "jupyter": {
     "outputs_hidden": false
    },
    "trusted": true
   },
   "outputs": [],
   "source": [
    "start_time = time.time()\n",
    "\n",
    "epochs = 30\n",
    "\n",
    "\n",
    "\n",
    "train_losses, train_accuracies, validation_losses, validation_accuracies = train(\n",
    "\n",
    "    model=vgg_model,\n",
    "\n",
    "    train_loader=train_loader,\n",
    "\n",
    "    val_loader=val_loader,\n",
    "\n",
    "    optimizer=optimizer,\n",
    "\n",
    "    criterion=criterion,\n",
    "\n",
    "    device=device,\n",
    "\n",
    "    epochs=epochs,\n",
    "\n",
    "    log=True,\n",
    "\n",
    ")\n",
    "\n",
    "\n",
    "\n",
    "end_time = time.time()\n",
    "\n",
    "print(f\"time: {np.round(end_time - start_time, 2)} seconds\")"
   ]
  },
  {
   "cell_type": "markdown",
   "metadata": {
    "_cell_guid": "6de4a394-d9d8-40eb-b619-789090f9d439",
    "_uuid": "024f3713-ee83-4aeb-853d-fef69b61d40b",
    "collapsed": false,
    "jupyter": {
     "outputs_hidden": false
    },
    "trusted": true
   },
   "source": [
    "## Plotting Loss and Accuracy"
   ]
  },
  {
   "cell_type": "code",
   "execution_count": null,
   "metadata": {
    "_cell_guid": "e8dcdef0-a526-4cd9-87bd-183ff6466f49",
    "_uuid": "63c66ad8-8ee2-47ab-9487-12bd34a2ee6e",
    "collapsed": false,
    "execution": {
     "iopub.execute_input": "2024-12-14T08:40:48.089518Z",
     "iopub.status.busy": "2024-12-14T08:40:48.089150Z",
     "iopub.status.idle": "2024-12-14T08:40:48.716860Z",
     "shell.execute_reply": "2024-12-14T08:40:48.715907Z",
     "shell.execute_reply.started": "2024-12-14T08:40:48.089486Z"
    },
    "jupyter": {
     "outputs_hidden": false
    },
    "trusted": true
   },
   "outputs": [],
   "source": [
    "plot_loss(\n",
    "\n",
    "    train_losses,\n",
    "\n",
    "    validation_losses,\n",
    "\n",
    "    epochs=epochs,\n",
    "\n",
    "    title=\"Cross Entropy Loss vs epoch for VGG16\",\n",
    "\n",
    ")\n",
    "\n",
    "plot_acc(\n",
    "\n",
    "    train_accuracies,\n",
    "\n",
    "    validation_accuracies,\n",
    "\n",
    "    epochs=epochs,\n",
    "\n",
    "    title=\"Accuracy vs epoch for VGG16\",\n",
    "\n",
    ")"
   ]
  },
  {
   "cell_type": "markdown",
   "metadata": {
    "_cell_guid": "c0347f2f-de58-4ff4-a042-beb7b5adcade",
    "_uuid": "bf18c6b0-2f82-465b-8f64-09ad8902dbaf",
    "collapsed": false,
    "jupyter": {
     "outputs_hidden": false
    },
    "trusted": true
   },
   "source": [
    "### Testing VGG16 on Train, Val, Test Datasets"
   ]
  },
  {
   "cell_type": "code",
   "execution_count": null,
   "metadata": {
    "_cell_guid": "51b24ed8-680a-4095-b034-62dfa9ed6922",
    "_uuid": "61c43ee0-106a-4735-8c49-5f1969957a70",
    "collapsed": false,
    "execution": {
     "iopub.execute_input": "2024-12-14T08:40:48.718348Z",
     "iopub.status.busy": "2024-12-14T08:40:48.718061Z",
     "iopub.status.idle": "2024-12-14T08:41:25.850752Z",
     "shell.execute_reply": "2024-12-14T08:41:25.849603Z",
     "shell.execute_reply.started": "2024-12-14T08:40:48.718321Z"
    },
    "jupyter": {
     "outputs_hidden": false
    },
    "trusted": true
   },
   "outputs": [],
   "source": [
    "train_loss, train_accuracy, train_preds, train_labels = test(\n",
    "\n",
    "    model=vgg_model, test_loader=train_loader, criterion=criterion, device=device\n",
    "\n",
    ")\n",
    "\n",
    "print(\"Train Data:\")\n",
    "\n",
    "print(f\"loss= {np.round(train_loss, 3)}, accuracy= {np.round(train_accuracy, 3)}\")\n",
    "\n",
    "\n",
    "\n",
    "val_loss, val_accuracy, val_preds, val_labels = test(\n",
    "\n",
    "    model=vgg_model, test_loader=val_loader, criterion=criterion, device=device\n",
    "\n",
    ")\n",
    "\n",
    "print(\"Val Data:\")\n",
    "\n",
    "print(f\"loss= {np.round(val_loss, 3)}, accuracy= {np.round(val_accuracy, 3)}\")\n",
    "\n",
    "\n",
    "\n",
    "test_loss, test_accuracy, test_preds, test_labels = test(\n",
    "\n",
    "    model=vgg_model, test_loader=test_loader, criterion=criterion, device=device\n",
    "\n",
    ")\n",
    "\n",
    "print(\"Test Data:\")\n",
    "\n",
    "print(f\"loss= {np.round(test_loss, 3)}, accuracy= {np.round(test_accuracy, 3)}\")"
   ]
  },
  {
   "cell_type": "code",
   "execution_count": null,
   "metadata": {
    "_cell_guid": "206ffdfb-9f0c-402d-8d61-13a47ff03a48",
    "_uuid": "b3a4b12f-f253-4290-b02d-9ccc53ca0687",
    "collapsed": false,
    "execution": {
     "iopub.execute_input": "2024-12-14T08:41:25.853145Z",
     "iopub.status.busy": "2024-12-14T08:41:25.852152Z",
     "iopub.status.idle": "2024-12-14T08:41:25.886280Z",
     "shell.execute_reply": "2024-12-14T08:41:25.885324Z",
     "shell.execute_reply.started": "2024-12-14T08:41:25.853088Z"
    },
    "jupyter": {
     "outputs_hidden": false
    },
    "trusted": true
   },
   "outputs": [],
   "source": [
    "vgg_model.eval()\n",
    "\n",
    "\n",
    "\n",
    "test_output = vgg_model(test_image)\n",
    "\n",
    "top_classes, top_classes_idx = torch.topk(test_output, k=3, dim=1)\n",
    "\n",
    "top_classes, top_classes_idx = top_classes.squeeze(), top_classes_idx.squeeze()\n",
    "\n",
    "\n",
    "\n",
    "top_categories = classes[top_classes_idx.cpu()]\n",
    "\n",
    "print(f\"Top 3 categories: {top_categories}\")"
   ]
  },
  {
   "cell_type": "markdown",
   "metadata": {
    "_cell_guid": "1a17f31e-4b6e-41a4-b4c3-f18e1a8c8837",
    "_uuid": "9e421700-139d-4335-8bfd-ddf5cfe25948",
    "collapsed": false,
    "jupyter": {
     "outputs_hidden": false
    },
    "trusted": true
   },
   "source": [
    "# Training ResNet50"
   ]
  },
  {
   "cell_type": "code",
   "execution_count": null,
   "metadata": {
    "_cell_guid": "92c69b49-72f3-4baf-9500-daa36e655071",
    "_uuid": "991afb29-ffeb-487a-aecd-a171019bfd33",
    "collapsed": false,
    "execution": {
     "iopub.execute_input": "2024-12-14T08:41:25.887974Z",
     "iopub.status.busy": "2024-12-14T08:41:25.887582Z",
     "iopub.status.idle": "2024-12-14T08:41:26.930938Z",
     "shell.execute_reply": "2024-12-14T08:41:26.930047Z",
     "shell.execute_reply.started": "2024-12-14T08:41:25.887930Z"
    },
    "jupyter": {
     "outputs_hidden": false
    },
    "trusted": true
   },
   "outputs": [],
   "source": [
    "resnet_model = resnet50(weights=ResNet50_Weights.DEFAULT)\n",
    "\n",
    "resnet_model.fc"
   ]
  },
  {
   "cell_type": "code",
   "execution_count": 28,
   "metadata": {
    "_cell_guid": "a609614d-d651-4616-93b8-d80a541f72c3",
    "_uuid": "fc14f3b2-083f-46c5-827a-b6485bd48b49",
    "collapsed": false,
    "execution": {
     "iopub.execute_input": "2024-12-14T08:41:26.932400Z",
     "iopub.status.busy": "2024-12-14T08:41:26.932051Z",
     "iopub.status.idle": "2024-12-14T08:41:26.939488Z",
     "shell.execute_reply": "2024-12-14T08:41:26.938827Z",
     "shell.execute_reply.started": "2024-12-14T08:41:26.932368Z"
    },
    "jupyter": {
     "outputs_hidden": false
    },
    "trusted": true
   },
   "outputs": [],
   "source": [
    "num_features = resnet_model.fc.in_features\n",
    "\n",
    "resnet_model.fc = nn.Linear(\n",
    "\n",
    "    in_features=num_features, out_features=num_classes, bias=True\n",
    "\n",
    ")\n",
    "\n",
    "\n",
    "\n",
    "for param in resnet_model.parameters():\n",
    "\n",
    "    param.requires_grad = False\n",
    "\n",
    "\n",
    "\n",
    "for param in resnet_model.fc.parameters():\n",
    "\n",
    "    param.requires_grad = True"
   ]
  },
  {
   "cell_type": "code",
   "execution_count": 29,
   "metadata": {
    "_cell_guid": "14517628-97d8-4ad3-a728-ee2e1b9831a6",
    "_uuid": "d7594893-64e7-454e-9957-4ad6a4ce09e7",
    "collapsed": false,
    "execution": {
     "iopub.execute_input": "2024-12-14T08:41:26.940530Z",
     "iopub.status.busy": "2024-12-14T08:41:26.940270Z",
     "iopub.status.idle": "2024-12-14T08:41:27.012704Z",
     "shell.execute_reply": "2024-12-14T08:41:27.011916Z",
     "shell.execute_reply.started": "2024-12-14T08:41:26.940500Z"
    },
    "jupyter": {
     "outputs_hidden": false
    },
    "trusted": true
   },
   "outputs": [],
   "source": [
    "resnet_model.to(device)\n",
    "\n",
    "class_weights = class_weights.to(device)\n",
    "\n",
    "criterion = nn.CrossEntropyLoss(weight=class_weights)\n",
    "\n",
    "optimizer = optim.Adam(resnet_model.fc.parameters())"
   ]
  },
  {
   "cell_type": "code",
   "execution_count": null,
   "metadata": {
    "_cell_guid": "7c500ff7-9209-4f20-874a-01a06267b3dc",
    "_uuid": "85499781-5b67-41b4-bc49-bda30f84ea08",
    "collapsed": false,
    "execution": {
     "iopub.execute_input": "2024-12-14T09:28:33.673089Z",
     "iopub.status.busy": "2024-12-14T09:28:33.672722Z",
     "iopub.status.idle": "2024-12-14T09:44:50.476008Z",
     "shell.execute_reply": "2024-12-14T09:44:50.474722Z",
     "shell.execute_reply.started": "2024-12-14T09:28:33.673057Z"
    },
    "jupyter": {
     "outputs_hidden": false
    },
    "trusted": true
   },
   "outputs": [],
   "source": [
    "start_time = time.time()\n",
    "\n",
    "epochs = 30\n",
    "\n",
    "\n",
    "\n",
    "train_losses, train_accuracies, validation_losses, validation_accuracies = train(\n",
    "\n",
    "    model=resnet_model,\n",
    "\n",
    "    train_loader=train_loader,\n",
    "\n",
    "    val_loader=val_loader,\n",
    "\n",
    "    optimizer=optimizer,\n",
    "\n",
    "    criterion=criterion,\n",
    "\n",
    "    device=device,\n",
    "\n",
    "    epochs=epochs,\n",
    "\n",
    "    log=True,\n",
    "\n",
    ")\n",
    "\n",
    "\n",
    "\n",
    "end_time = time.time()\n",
    "\n",
    "print(f\"time: {np.round(end_time - start_time, 2)} seconds\")"
   ]
  },
  {
   "cell_type": "markdown",
   "metadata": {
    "_cell_guid": "05eaeb5a-bc90-498d-9ab8-49dc7f233789",
    "_uuid": "e38234a9-3fb8-46ca-b9b5-80e466995cd5",
    "collapsed": false,
    "jupyter": {
     "outputs_hidden": false
    },
    "trusted": true
   },
   "source": [
    "### Plotting Loss and Accuracy"
   ]
  },
  {
   "cell_type": "code",
   "execution_count": null,
   "metadata": {
    "_cell_guid": "24bd51ab-e7da-4c3f-94fa-f57641fd9644",
    "_uuid": "289cdd55-e6e8-43cf-aa5b-5ea91d1a4f90",
    "collapsed": false,
    "execution": {
     "iopub.execute_input": "2024-12-14T09:44:50.479206Z",
     "iopub.status.busy": "2024-12-14T09:44:50.478603Z",
     "iopub.status.idle": "2024-12-14T09:44:51.129416Z",
     "shell.execute_reply": "2024-12-14T09:44:51.128725Z",
     "shell.execute_reply.started": "2024-12-14T09:44:50.479172Z"
    },
    "jupyter": {
     "outputs_hidden": false
    },
    "trusted": true
   },
   "outputs": [],
   "source": [
    "plot_loss(\n",
    "\n",
    "    train_losses,\n",
    "\n",
    "    validation_losses,\n",
    "\n",
    "    epochs=epochs,\n",
    "\n",
    "    title=\"Cross Entropy Loss vs epoch for ResNet50\",\n",
    "\n",
    ")\n",
    "\n",
    "plot_acc(\n",
    "\n",
    "    train_accuracies,\n",
    "\n",
    "    validation_accuracies,\n",
    "\n",
    "    epochs=epochs,\n",
    "\n",
    "    title=\"Accuracy vs epoch for ResNet50\",\n",
    "\n",
    ")"
   ]
  },
  {
   "cell_type": "markdown",
   "metadata": {
    "_cell_guid": "6147d906-0f13-4a1a-8b21-da8d957e0c09",
    "_uuid": "e868cf1c-2fcf-4415-b783-b092b5870798",
    "collapsed": false,
    "jupyter": {
     "outputs_hidden": false
    },
    "trusted": true
   },
   "source": [
    "### Testing ResNet50 on Train, Val, Test Datasets"
   ]
  },
  {
   "cell_type": "code",
   "execution_count": null,
   "metadata": {
    "_cell_guid": "4f3a6d45-c97e-4d0c-b3e0-378bb8825874",
    "_uuid": "716c8030-05a2-4c75-84e5-fd59ba436d4c",
    "collapsed": false,
    "execution": {
     "iopub.execute_input": "2024-12-14T09:44:51.130595Z",
     "iopub.status.busy": "2024-12-14T09:44:51.130353Z",
     "iopub.status.idle": "2024-12-14T09:45:26.416305Z",
     "shell.execute_reply": "2024-12-14T09:45:26.415142Z",
     "shell.execute_reply.started": "2024-12-14T09:44:51.130571Z"
    },
    "jupyter": {
     "outputs_hidden": false
    },
    "trusted": true
   },
   "outputs": [],
   "source": [
    "train_loss, train_accuracy, train_preds, train_labels = test(\n",
    "\n",
    "    model=resnet_model, test_loader=train_loader, criterion=criterion, device=device\n",
    "\n",
    ")\n",
    "\n",
    "print(\"Train Data:\")\n",
    "\n",
    "print(f\"loss= {np.round(train_loss, 3)}, accuracy= {np.round(train_accuracy, 3)}\")\n",
    "\n",
    "\n",
    "\n",
    "val_loss, val_accuracy, val_preds, val_labels = test(\n",
    "\n",
    "    model=resnet_model, test_loader=val_loader, criterion=criterion, device=device\n",
    "\n",
    ")\n",
    "\n",
    "print(\"Val Data:\")\n",
    "\n",
    "print(f\"loss= {np.round(val_loss, 3)}, accuracy= {np.round(val_accuracy, 3)}\")\n",
    "\n",
    "\n",
    "\n",
    "\n",
    "\n",
    "test_loss, test_accuracy, test_preds, test_labels = test(\n",
    "\n",
    "    model=resnet_model, test_loader=test_loader, criterion=criterion, device=device\n",
    "\n",
    ")\n",
    "\n",
    "print(\"Test Data:\")\n",
    "\n",
    "print(f\"loss= {np.round(test_loss, 3)}, accuracy= {np.round(test_accuracy, 3)}\")"
   ]
  },
  {
   "cell_type": "code",
   "execution_count": null,
   "metadata": {
    "_cell_guid": "0840f364-5035-4cbe-9e76-41a5d3d693f5",
    "_uuid": "b1664dfe-4db7-468e-af35-a9d9d842a604",
    "collapsed": false,
    "execution": {
     "iopub.execute_input": "2024-12-14T09:45:26.418926Z",
     "iopub.status.busy": "2024-12-14T09:45:26.418617Z",
     "iopub.status.idle": "2024-12-14T09:45:26.436817Z",
     "shell.execute_reply": "2024-12-14T09:45:26.435963Z",
     "shell.execute_reply.started": "2024-12-14T09:45:26.418894Z"
    },
    "jupyter": {
     "outputs_hidden": false
    },
    "trusted": true
   },
   "outputs": [],
   "source": [
    "resnet_model.eval()\n",
    "\n",
    "\n",
    "\n",
    "test_output = resnet_model(test_image)\n",
    "\n",
    "top_classes, top_classes_idx = torch.topk(test_output, k=3, dim=1)\n",
    "\n",
    "top_classes, top_classes_idx = top_classes.squeeze(), top_classes_idx.squeeze()\n",
    "\n",
    "\n",
    "\n",
    "top_categories = classes[top_classes_idx.cpu()]\n",
    "\n",
    "print(f\"Top 3 categories: {top_categories}\")"
   ]
  },
  {
   "cell_type": "code",
   "execution_count": null,
   "metadata": {},
   "outputs": [],
   "source": [
    "print('MobileNet V2:')\n",
    "print(f'number of parameters= {get_num_parameters(mobilenet_model, mode='complete')}')\n",
    "print(f'number of learnable parameters= {get_num_parameters(mobilenet_model, mode='learnable')}')\n",
    "\n",
    "print('VGG16:')\n",
    "print(f'number of parameters= {get_num_parameters(vgg_model, mode='complete')}')\n",
    "print(f'number of learnable parameters= {get_num_parameters(vgg_model, mode='learnable')}')\n",
    "\n",
    "print('ResNet50:')\n",
    "print(f'number of parameters= {get_num_parameters(resnet_model, mode='complete')}')\n",
    "print(f'number of learnable parameters= {get_num_parameters(resnet_model, mode='learnable')}')"
   ]
  },
  {
   "cell_type": "markdown",
   "metadata": {},
   "source": [
    "Test Accuracies:\n",
    "* MobileNet V2: 93.1%\n",
    "* VGG16: 78.8%\n",
    "* ResNet50: 94.5%\n",
    "\n",
    "<b>ResNet50</b> has the highest accuracy."
   ]
  },
  {
   "cell_type": "markdown",
   "metadata": {
    "_cell_guid": "3ddf9c26-0b1c-44b0-9f74-82d5d38632b9",
    "_uuid": "d947d3a8-8c29-428d-846f-7282265fb2af",
    "collapsed": false,
    "jupyter": {
     "outputs_hidden": false
    },
    "trusted": true
   },
   "source": [
    "# Training MobileNet V2 with random weights"
   ]
  },
  {
   "cell_type": "code",
   "execution_count": null,
   "metadata": {
    "_cell_guid": "8073f5d3-6f13-4172-b734-a0f36e114cca",
    "_uuid": "82a671af-028e-404d-b7b1-4f7ddf59ef27",
    "collapsed": false,
    "execution": {
     "iopub.execute_input": "2024-12-14T09:45:26.438445Z",
     "iopub.status.busy": "2024-12-14T09:45:26.437978Z",
     "iopub.status.idle": "2024-12-14T09:45:26.516801Z",
     "shell.execute_reply": "2024-12-14T09:45:26.515972Z",
     "shell.execute_reply.started": "2024-12-14T09:45:26.438405Z"
    },
    "jupyter": {
     "outputs_hidden": false
    },
    "trusted": true
   },
   "outputs": [],
   "source": [
    "mobilenet_random_model = mobilenet_v2(weights=None)\n",
    "\n",
    "mobilenet_random_model.classifier"
   ]
  },
  {
   "cell_type": "code",
   "execution_count": 46,
   "metadata": {
    "_cell_guid": "3e40360f-aeba-4581-b1bf-3443f0341e28",
    "_uuid": "164fd3be-d8fe-48eb-9281-e607571fe4b6",
    "collapsed": false,
    "execution": {
     "iopub.execute_input": "2024-12-14T09:45:26.517949Z",
     "iopub.status.busy": "2024-12-14T09:45:26.517710Z",
     "iopub.status.idle": "2024-12-14T09:45:26.524112Z",
     "shell.execute_reply": "2024-12-14T09:45:26.523356Z",
     "shell.execute_reply.started": "2024-12-14T09:45:26.517925Z"
    },
    "jupyter": {
     "outputs_hidden": false
    },
    "trusted": true
   },
   "outputs": [],
   "source": [
    "num_features = mobilenet_random_model.classifier[1].in_features\n",
    "\n",
    "mobilenet_random_model.classifier[1] = nn.Linear(\n",
    "\n",
    "    in_features=num_features, out_features=num_classes, bias=True\n",
    "\n",
    ")\n",
    "\n",
    "\n",
    "\n",
    "for param in mobilenet_random_model.parameters():\n",
    "\n",
    "    param.requires_grad = True"
   ]
  },
  {
   "cell_type": "code",
   "execution_count": 47,
   "metadata": {
    "_cell_guid": "0e49f128-f1bc-4705-87c4-12a35f99c50a",
    "_uuid": "e84110b2-3c7b-4a59-845c-c37bf69d934e",
    "collapsed": false,
    "execution": {
     "iopub.execute_input": "2024-12-14T09:45:26.525360Z",
     "iopub.status.busy": "2024-12-14T09:45:26.525085Z",
     "iopub.status.idle": "2024-12-14T09:45:26.545523Z",
     "shell.execute_reply": "2024-12-14T09:45:26.544892Z",
     "shell.execute_reply.started": "2024-12-14T09:45:26.525335Z"
    },
    "jupyter": {
     "outputs_hidden": false
    },
    "trusted": true
   },
   "outputs": [],
   "source": [
    "mobilenet_random_model.to(device)\n",
    "\n",
    "class_weights = class_weights.to(device)\n",
    "\n",
    "criterion = nn.CrossEntropyLoss(weight=class_weights)\n",
    "\n",
    "optimizer = optim.Adam(mobilenet_random_model.parameters())"
   ]
  },
  {
   "cell_type": "code",
   "execution_count": null,
   "metadata": {
    "_cell_guid": "e1c1ce0e-d862-444f-968c-bde348525004",
    "_uuid": "590d9c42-9348-4a3a-85f2-2ec37e635bee",
    "collapsed": false,
    "execution": {
     "iopub.execute_input": "2024-12-14T09:45:26.546630Z",
     "iopub.status.busy": "2024-12-14T09:45:26.546422Z",
     "iopub.status.idle": "2024-12-14T10:02:03.368032Z",
     "shell.execute_reply": "2024-12-14T10:02:03.366887Z",
     "shell.execute_reply.started": "2024-12-14T09:45:26.546609Z"
    },
    "jupyter": {
     "outputs_hidden": false
    },
    "trusted": true
   },
   "outputs": [],
   "source": [
    "start_time = time.time()\n",
    "\n",
    "epochs = 30\n",
    "\n",
    "\n",
    "\n",
    "train_losses, train_accuracies, validation_losses, validation_accuracies = train(\n",
    "\n",
    "    model=mobilenet_random_model,\n",
    "\n",
    "    train_loader=train_loader,\n",
    "\n",
    "    val_loader=val_loader,\n",
    "\n",
    "    optimizer=optimizer,\n",
    "\n",
    "    criterion=criterion,\n",
    "\n",
    "    device=device,\n",
    "\n",
    "    epochs=epochs,\n",
    "\n",
    "    log=True,\n",
    "\n",
    ")\n",
    "\n",
    "\n",
    "\n",
    "end_time = time.time()\n",
    "\n",
    "print(f\"time: {np.round(end_time - start_time, 2)} seconds\")"
   ]
  },
  {
   "cell_type": "markdown",
   "metadata": {
    "_cell_guid": "dd71b0af-395d-4a57-8e95-c50eb810b4de",
    "_uuid": "fafcc5cf-adc2-418f-bb99-187b4e36e6f1",
    "collapsed": false,
    "jupyter": {
     "outputs_hidden": false
    },
    "trusted": true
   },
   "source": [
    "### Plotting Loss and Accuracy"
   ]
  },
  {
   "cell_type": "code",
   "execution_count": null,
   "metadata": {
    "_cell_guid": "88bfbca7-e4ac-445a-83c6-5d40b4f1c58a",
    "_uuid": "c6efe058-2fe8-495d-b9a8-bcdc735628f0",
    "collapsed": false,
    "execution": {
     "iopub.execute_input": "2024-12-14T10:02:03.369688Z",
     "iopub.status.busy": "2024-12-14T10:02:03.369395Z",
     "iopub.status.idle": "2024-12-14T10:02:04.007521Z",
     "shell.execute_reply": "2024-12-14T10:02:04.006676Z",
     "shell.execute_reply.started": "2024-12-14T10:02:03.369658Z"
    },
    "jupyter": {
     "outputs_hidden": false
    },
    "trusted": true
   },
   "outputs": [],
   "source": [
    "plot_loss(\n",
    "\n",
    "    train_losses,\n",
    "\n",
    "    validation_losses,\n",
    "\n",
    "    epochs=epochs,\n",
    "\n",
    "    title=\"Cross Entropy Loss vs epoch for MobileNet V2 (random weights)\",\n",
    "\n",
    ")\n",
    "\n",
    "plot_acc(\n",
    "\n",
    "    train_accuracies,\n",
    "\n",
    "    validation_accuracies,\n",
    "\n",
    "    epochs=epochs,\n",
    "\n",
    "    title=\"Accuracy vs epoch for MobileNet V2 (random weights)\",\n",
    "\n",
    ")"
   ]
  },
  {
   "cell_type": "markdown",
   "metadata": {
    "_cell_guid": "28660d9e-e170-4075-b791-6df52d110513",
    "_uuid": "ee8ac888-a7e4-4d54-aac6-2b1a780dc91a",
    "collapsed": false,
    "jupyter": {
     "outputs_hidden": false
    },
    "trusted": true
   },
   "source": [
    "## Testing MoblieNet V2 (random weights) on Train, Val, Test Datasets"
   ]
  },
  {
   "cell_type": "code",
   "execution_count": null,
   "metadata": {
    "_cell_guid": "4f158a29-1b81-4880-8277-17a7007dd3eb",
    "_uuid": "c03f1f11-a91b-4dad-b260-fb180d03f4b9",
    "collapsed": false,
    "execution": {
     "iopub.execute_input": "2024-12-14T10:02:04.010071Z",
     "iopub.status.busy": "2024-12-14T10:02:04.009802Z",
     "iopub.status.idle": "2024-12-14T10:02:38.225048Z",
     "shell.execute_reply": "2024-12-14T10:02:38.224025Z",
     "shell.execute_reply.started": "2024-12-14T10:02:04.010045Z"
    },
    "jupyter": {
     "outputs_hidden": false
    },
    "trusted": true
   },
   "outputs": [],
   "source": [
    "train_loss, train_accuracy, train_preds, train_labels = test(\n",
    "\n",
    "    model=mobilenet_random_model,\n",
    "\n",
    "    test_loader=train_loader,\n",
    "\n",
    "    criterion=criterion,\n",
    "\n",
    "    device=device,\n",
    "\n",
    ")\n",
    "\n",
    "print(\"Train Data:\")\n",
    "\n",
    "print(f\"loss= {np.round(train_loss, 3)}, accuracy= {np.round(train_accuracy, 3)}\")\n",
    "\n",
    "\n",
    "\n",
    "\n",
    "\n",
    "val_loss, val_accuracy, val_preds, val_labels = test(\n",
    "\n",
    "    model=mobilenet_random_model,\n",
    "\n",
    "    test_loader=val_loader,\n",
    "\n",
    "    criterion=criterion,\n",
    "\n",
    "    device=device,\n",
    "\n",
    ")\n",
    "\n",
    "print(\"Val Data:\")\n",
    "\n",
    "print(f\"loss= {np.round(val_loss, 3)}, accuracy= {np.round(val_accuracy, 3)}\")\n",
    "\n",
    "\n",
    "\n",
    "\n",
    "\n",
    "test_loss, test_accuracy, test_preds, test_labels = test(\n",
    "\n",
    "    model=mobilenet_random_model,\n",
    "\n",
    "    test_loader=test_loader,\n",
    "\n",
    "    criterion=criterion,\n",
    "\n",
    "    device=device,\n",
    "\n",
    ")\n",
    "\n",
    "print(\"Test Data:\")\n",
    "\n",
    "print(f\"loss= {np.round(test_loss, 3)}, accuracy= {np.round(test_accuracy, 3)}\")"
   ]
  },
  {
   "cell_type": "code",
   "execution_count": null,
   "metadata": {
    "_cell_guid": "a95e6898-0d95-41af-9ee2-587a91610186",
    "_uuid": "156fb096-19db-43c5-87f0-560422812f7d",
    "collapsed": false,
    "execution": {
     "iopub.execute_input": "2024-12-14T10:02:38.226830Z",
     "iopub.status.busy": "2024-12-14T10:02:38.226488Z",
     "iopub.status.idle": "2024-12-14T10:02:38.245126Z",
     "shell.execute_reply": "2024-12-14T10:02:38.244408Z",
     "shell.execute_reply.started": "2024-12-14T10:02:38.226766Z"
    },
    "jupyter": {
     "outputs_hidden": false
    },
    "trusted": true
   },
   "outputs": [],
   "source": [
    "mobilenet_random_model.eval()\n",
    "\n",
    "\n",
    "\n",
    "test_output = mobilenet_random_model(test_image)\n",
    "\n",
    "top_classes, top_classes_idx = torch.topk(test_output, k=3, dim=1)\n",
    "\n",
    "top_classes, top_classes_idx = top_classes.squeeze(), top_classes_idx.squeeze()\n",
    "\n",
    "\n",
    "\n",
    "top_categories = classes[top_classes_idx.cpu()]\n",
    "\n",
    "print(f\"Top 3 categories: {top_categories}\")"
   ]
  },
  {
   "cell_type": "code",
   "execution_count": null,
   "metadata": {
    "trusted": true
   },
   "outputs": [],
   "source": []
  }
 ],
 "metadata": {
  "kaggle": {
   "accelerator": "gpu",
   "dataSources": [
    {
     "sourceId": 212992881,
     "sourceType": "kernelVersion"
    }
   ],
   "dockerImageVersionId": 30805,
   "isGpuEnabled": true,
   "isInternetEnabled": true,
   "language": "python",
   "sourceType": "notebook"
  },
  "kernelspec": {
   "display_name": "Python 3",
   "language": "python",
   "name": "python3"
  },
  "language_info": {
   "codemirror_mode": {
    "name": "ipython",
    "version": 3
   },
   "file_extension": ".py",
   "mimetype": "text/x-python",
   "name": "python",
   "nbconvert_exporter": "python",
   "pygments_lexer": "ipython3",
   "version": "3.10.14"
  }
 },
 "nbformat": 4,
 "nbformat_minor": 4
}
