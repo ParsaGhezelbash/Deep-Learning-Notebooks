{
 "cells": [
  {
   "cell_type": "markdown",
   "metadata": {},
   "source": [
    "# Importing Libraries"
   ]
  },
  {
   "cell_type": "code",
   "execution_count": 218,
   "metadata": {},
   "outputs": [],
   "source": [
    "import numpy as np\n",
    "import matplotlib.pyplot as plt\n",
    "\n",
    "import torch\n",
    "import torch.nn as nn\n",
    "import torch.nn.functional as F\n",
    "import torch.optim as optim\n",
    "from torch.utils.data import Subset\n",
    "from torch.utils.data import DataLoader\n",
    "from torch.utils.data import random_split\n",
    "\n",
    "import torchvision\n",
    "import torchvision.transforms as transforms\n",
    "from torchvision.models import (\n",
    "    resnet50,\n",
    "    ResNet50_Weights,\n",
    "    mobilenet_v2,\n",
    "    MobileNet_V2_Weights,\n",
    "    vgg16,\n",
    "    VGG16_Weights,\n",
    ")\n",
    "\n",
    "from sklearn.metrics import confusion_matrix, ConfusionMatrixDisplay\n",
    "from sklearn.preprocessing import OneHotEncoder\n",
    "\n",
    "from PIL import Image\n",
    "\n",
    "\n",
    "import time\n",
    "\n",
    "import importlib\n",
    "import utils\n",
    "\n",
    "importlib.reload(utils)\n",
    "from utils import (\n",
    "    accuracy,\n",
    "    train,\n",
    "    combined_train,\n",
    "    test,\n",
    "    combined_test,\n",
    "    plot_acc,\n",
    "    plot_loss,\n",
    "    plot_confusion_matrix,\n",
    "    save_model,\n",
    "    get_feature_maps,\n",
    "    visualize_feature_maps,\n",
    "    plot_images,\n",
    "    plot_feature_maps,\n",
    ")\n"
   ]
  },
  {
   "cell_type": "code",
   "execution_count": 219,
   "metadata": {},
   "outputs": [],
   "source": [
    "num_classes = 102\n",
    "torch.manual_seed(13)\n",
    "np.random.seed(13)\n",
    "\n",
    "mean = [0.485, 0.456, 0.406]\n",
    "std = [0.229, 0.224, 0.225]\n",
    "image_size = (224, 224)\n",
    "batch_size = 32"
   ]
  },
  {
   "cell_type": "markdown",
   "metadata": {},
   "source": [
    "# Loading Flower102 + Preprocess"
   ]
  },
  {
   "cell_type": "code",
   "execution_count": 220,
   "metadata": {},
   "outputs": [],
   "source": [
    "train_transform = transforms.Compose(\n",
    "    [\n",
    "        transforms.Resize(size=(256, 256)),\n",
    "        transforms.RandomCrop(size=image_size),\n",
    "        transforms.RandomHorizontalFlip(),\n",
    "        transforms.ColorJitter(brightness=0.2, contrast=0.2, saturation=0.2, hue=0.1),\n",
    "        transforms.ToTensor(),\n",
    "        transforms.Normalize(mean=mean, std=std),\n",
    "    ]\n",
    ")\n",
    "\n",
    "val_transform = transforms.Compose(\n",
    "    [\n",
    "        transforms.Resize(size=image_size),\n",
    "        transforms.ToTensor(),\n",
    "        transforms.Normalize(mean=mean, std=std),\n",
    "    ]\n",
    ")"
   ]
  },
  {
   "cell_type": "code",
   "execution_count": null,
   "metadata": {},
   "outputs": [],
   "source": [
    "train_dataset = torchvision.datasets.Flowers102(\n",
    "    root=\"./data\",\n",
    "    split=\"test\",\n",
    "    download=True,\n",
    "    transform=train_transform,\n",
    ")\n",
    "\n",
    "val_dataset = torchvision.datasets.Flowers102(\n",
    "    root=\"./data\",\n",
    "    split=\"val\",\n",
    "    download=True,\n",
    "    transform=val_transform,\n",
    ")\n",
    "\n",
    "test_dataset = torchvision.datasets.Flowers102(\n",
    "    root=\"./data\",\n",
    "    split=\"train\",\n",
    "    download=True,\n",
    "    transform=val_transform,\n",
    ")\n",
    "\n",
    "print(f\"Train Dataset: {len(train_dataset)}\")\n",
    "print(f\"Val Dataset: {len(val_dataset)}\")\n",
    "print(f\"Test Dataset: {len(test_dataset)}\")"
   ]
  },
  {
   "cell_type": "code",
   "execution_count": 222,
   "metadata": {},
   "outputs": [],
   "source": [
    "train_loader = DataLoader(\n",
    "    train_dataset, batch_size=batch_size, shuffle=True, num_workers=4, pin_memory=True\n",
    ")\n",
    "val_loader = DataLoader(\n",
    "    val_dataset, batch_size=batch_size, shuffle=True, num_workers=4, pin_memory=True\n",
    ")\n",
    "test_loader = DataLoader(\n",
    "    test_dataset, batch_size=batch_size, shuffle=True, num_workers=4, pin_memory=True\n",
    ")"
   ]
  },
  {
   "cell_type": "code",
   "execution_count": null,
   "metadata": {},
   "outputs": [],
   "source": [
    "file = open(\"./Flower102-classes.txt\")\n",
    "classes = np.array([text.strip() for text in file.readlines()])\n",
    "print(classes)"
   ]
  },
  {
   "cell_type": "code",
   "execution_count": null,
   "metadata": {},
   "outputs": [],
   "source": [
    "unique, counts = np.unique(train_dataset._labels, return_counts=True)\n",
    "class_weights = 1 / counts\n",
    "class_weights /= class_weights.sum()\n",
    "class_weights = torch.tensor(class_weights).float()\n",
    "print(class_weights)"
   ]
  },
  {
   "cell_type": "code",
   "execution_count": null,
   "metadata": {},
   "outputs": [],
   "source": [
    "images, labels = next(iter(train_loader))\n",
    "plot_images([images[0]], mean, std, [classes[labels[0]]], \"Train Sample\")"
   ]
  },
  {
   "cell_type": "markdown",
   "metadata": {},
   "source": [
    "# Loading MobileNet V2 + Sample Image"
   ]
  },
  {
   "cell_type": "code",
   "execution_count": null,
   "metadata": {},
   "outputs": [],
   "source": [
    "device = torch.device(\"cuda\" if torch.cuda.is_available() else \"cpu\")\n",
    "print(f\"device: {device.type}\")"
   ]
  },
  {
   "cell_type": "code",
   "execution_count": null,
   "metadata": {},
   "outputs": [],
   "source": [
    "test_image = Image.open(\"test.jpg\")\n",
    "test_image = val_transform(test_image).unsqueeze(0)\n",
    "test_image.shape\n",
    "plot_images(test_image, mean, std, [\"Test Image\"], title=\"Testing MobileNet V2\")"
   ]
  },
  {
   "cell_type": "markdown",
   "metadata": {},
   "source": [
    "## Testing an Image on MobileNet V2"
   ]
  },
  {
   "cell_type": "code",
   "execution_count": null,
   "metadata": {},
   "outputs": [],
   "source": [
    "mobilenet_model = mobilenet_v2(weights=MobileNet_V2_Weights.DEFAULT)\n",
    "mobilenet_model.classifier"
   ]
  },
  {
   "cell_type": "code",
   "execution_count": null,
   "metadata": {},
   "outputs": [],
   "source": [
    "mobilenet_model.to(device)\n",
    "test_image = test_image.to(device)\n",
    "mobilenet_model.eval()\n",
    "\n",
    "test_output = mobilenet_model(test_image)\n",
    "top_classes, top_classes_idx = torch.topk(test_output, k=3, dim=1)\n",
    "top_classes, top_classes_idx = top_classes.squeeze(), top_classes_idx.squeeze()\n",
    "top_classes, top_classes_idx"
   ]
  },
  {
   "cell_type": "code",
   "execution_count": null,
   "metadata": {},
   "outputs": [],
   "source": [
    "mobilenet_categories = np.array(MobileNet_V2_Weights.DEFAULT.meta[\"categories\"])\n",
    "top_categories = mobilenet_categories[top_classes_idx.cpu()]\n",
    "print(f\"Top 3 categories: {top_categories}\")"
   ]
  },
  {
   "cell_type": "markdown",
   "metadata": {},
   "source": [
    "## Preparing and Training MobileNet V2 for Classification on Flower102 Dataset"
   ]
  },
  {
   "cell_type": "code",
   "execution_count": 231,
   "metadata": {},
   "outputs": [],
   "source": [
    "num_features = mobilenet_model.classifier[1].in_features\n",
    "mobilenet_model.classifier[1] = nn.Linear(\n",
    "    in_features=num_features, out_features=num_classes, bias=True\n",
    ")\n",
    "\n",
    "for param in mobilenet_model.parameters():\n",
    "    param.requires_grad = False\n",
    "\n",
    "for param in mobilenet_model.classifier.parameters():\n",
    "    param.requires_grad = True"
   ]
  },
  {
   "cell_type": "code",
   "execution_count": 232,
   "metadata": {},
   "outputs": [],
   "source": [
    "mobilenet_model.to(device)\n",
    "class_weights = class_weights.to(device)\n",
    "criterion = nn.CrossEntropyLoss(weight=class_weights)\n",
    "optimizer = optim.Adam(mobilenet_model.classifier.parameters())"
   ]
  },
  {
   "cell_type": "code",
   "execution_count": null,
   "metadata": {},
   "outputs": [],
   "source": [
    "start_time = time.time()\n",
    "epochs = 30\n",
    "\n",
    "train_losses, train_accuracies, validation_losses, validation_accuracies = train(\n",
    "    model=mobilenet_model,\n",
    "    train_loader=train_loader,\n",
    "    val_loader=val_loader,\n",
    "    optimizer=optimizer,\n",
    "    criterion=criterion,\n",
    "    device=device,\n",
    "    epochs=epochs,\n",
    "    log=True,\n",
    ")\n",
    "\n",
    "end_time = time.time()\n",
    "print(f\"time: {np.round(end_time - start_time, 2)} seconds\")"
   ]
  },
  {
   "cell_type": "markdown",
   "metadata": {},
   "source": [
    "### Plotting Loss and Accuracy"
   ]
  },
  {
   "cell_type": "code",
   "execution_count": null,
   "metadata": {},
   "outputs": [],
   "source": [
    "plot_loss(\n",
    "    train_losses,\n",
    "    validation_losses,\n",
    "    epochs=epochs,\n",
    "    title=\"Cross Entropy Loss vs epoch for MobileNet V2\",\n",
    ")\n",
    "plot_acc(\n",
    "    train_accuracies,\n",
    "    validation_accuracies,\n",
    "    epochs=epochs,\n",
    "    title=\"Accuracy vs epoch for MobileNet V2\",\n",
    ")"
   ]
  },
  {
   "cell_type": "markdown",
   "metadata": {},
   "source": [
    "### Testing MoblieNet V2 on Train, Val, Test Datasets"
   ]
  },
  {
   "cell_type": "code",
   "execution_count": null,
   "metadata": {},
   "outputs": [],
   "source": [
    "train_loss, train_accuracy, train_preds, train_labels = test(\n",
    "    model=mobilenet_model, test_loader=train_loader, criterion=criterion, device=device\n",
    ")\n",
    "print(\"Train Data:\")\n",
    "print(f\"loss= {np.round(train_loss, 3)}, accuracy= {np.round(train_accuracy, 3)}\")\n",
    "\n",
    "\n",
    "val_loss, val_accuracy, val_preds, val_labels = test(\n",
    "    model=mobilenet_model, test_loader=val_loader, criterion=criterion, device=device\n",
    ")\n",
    "print(\"Val Data:\")\n",
    "print(f\"loss= {np.round(val_loss, 3)}, accuracy= {np.round(val_accuracy, 3)}\")\n",
    "\n",
    "\n",
    "test_loss, test_accuracy, test_preds, test_labels = test(\n",
    "    model=mobilenet_model, test_loader=test_loader, criterion=criterion, device=device\n",
    ")\n",
    "print(\"Test Data:\")\n",
    "print(f\"loss= {np.round(test_loss, 3)}, accuracy= {np.round(test_accuracy, 3)}\")"
   ]
  },
  {
   "cell_type": "code",
   "execution_count": null,
   "metadata": {},
   "outputs": [],
   "source": [
    "mobilenet_model.eval()\n",
    "\n",
    "test_output = mobilenet_model(test_image)\n",
    "top_classes, top_classes_idx = torch.topk(test_output, k=3, dim=1)\n",
    "top_classes, top_classes_idx = top_classes.squeeze(), top_classes_idx.squeeze()\n",
    "\n",
    "top_categories = classes[top_classes_idx.cpu()]\n",
    "print(f\"Top 3 categories: {top_categories}\")"
   ]
  },
  {
   "cell_type": "markdown",
   "metadata": {},
   "source": [
    "# Training VGG16"
   ]
  },
  {
   "cell_type": "code",
   "execution_count": null,
   "metadata": {},
   "outputs": [],
   "source": [
    "vgg_model = vgg16(weights=VGG16_Weights.DEFAULT)\n",
    "vgg_model.classifier"
   ]
  },
  {
   "cell_type": "code",
   "execution_count": 238,
   "metadata": {},
   "outputs": [],
   "source": [
    "num_features = vgg_model.classifier[6].in_features\n",
    "vgg_model.classifier[6] = nn.Linear(\n",
    "    in_features=num_features, out_features=num_classes, bias=True\n",
    ")\n",
    "\n",
    "for param in vgg_model.parameters():\n",
    "    param.requires_grad = False\n",
    "\n",
    "for param in vgg_model.classifier.parameters():\n",
    "    param.requires_grad = True"
   ]
  },
  {
   "cell_type": "code",
   "execution_count": 239,
   "metadata": {},
   "outputs": [],
   "source": [
    "vgg_model.to(device)\n",
    "class_weights = class_weights.to(device)\n",
    "criterion = nn.CrossEntropyLoss(weight=class_weights)\n",
    "optimizer = optim.Adam(vgg_model.classifier.parameters())"
   ]
  },
  {
   "cell_type": "code",
   "execution_count": null,
   "metadata": {},
   "outputs": [],
   "source": [
    "start_time = time.time()\n",
    "epochs = 30\n",
    "\n",
    "train_losses, train_accuracies, validation_losses, validation_accuracies = train(\n",
    "    model=vgg_model,\n",
    "    train_loader=train_loader,\n",
    "    val_loader=val_loader,\n",
    "    optimizer=optimizer,\n",
    "    criterion=criterion,\n",
    "    device=device,\n",
    "    epochs=epochs,\n",
    "    log=True,\n",
    ")\n",
    "\n",
    "end_time = time.time()\n",
    "print(f\"time: {np.round(end_time - start_time, 2)} seconds\")"
   ]
  },
  {
   "cell_type": "markdown",
   "metadata": {},
   "source": [
    "### Plotting Loss and Accuracy"
   ]
  },
  {
   "cell_type": "code",
   "execution_count": null,
   "metadata": {},
   "outputs": [],
   "source": [
    "plot_loss(\n",
    "    train_losses,\n",
    "    validation_losses,\n",
    "    epochs=epochs,\n",
    "    title=\"Cross Entropy Loss vs epoch for VGG16\",\n",
    ")\n",
    "plot_acc(\n",
    "    train_accuracies,\n",
    "    validation_accuracies,\n",
    "    epochs=epochs,\n",
    "    title=\"Accuracy vs epoch for VGG16\",\n",
    ")"
   ]
  },
  {
   "cell_type": "markdown",
   "metadata": {},
   "source": [
    "### Testing VGG16 on Train, Val, Test Datasets"
   ]
  },
  {
   "cell_type": "code",
   "execution_count": null,
   "metadata": {},
   "outputs": [],
   "source": [
    "train_loss, train_accuracy, train_preds, train_labels = test(\n",
    "    model=vgg_model, test_loader=train_loader, criterion=criterion, device=device\n",
    ")\n",
    "print(\"Train Data:\")\n",
    "print(f\"loss= {np.round(train_loss, 3)}, accuracy= {np.round(train_accuracy, 3)}\")\n",
    "\n",
    "val_loss, val_accuracy, val_preds, val_labels = test(\n",
    "    model=vgg_model, test_loader=val_loader, criterion=criterion, device=device\n",
    ")\n",
    "print(\"Val Data:\")\n",
    "print(f\"loss= {np.round(val_loss, 3)}, accuracy= {np.round(val_accuracy, 3)}\")\n",
    "\n",
    "test_loss, test_accuracy, test_preds, test_labels = test(\n",
    "    model=vgg_model, test_loader=test_loader, criterion=criterion, device=device\n",
    ")\n",
    "print(\"Test Data:\")\n",
    "print(f\"loss= {np.round(test_loss, 3)}, accuracy= {np.round(test_accuracy, 3)}\")"
   ]
  },
  {
   "cell_type": "code",
   "execution_count": null,
   "metadata": {},
   "outputs": [],
   "source": [
    "vgg_model.eval()\n",
    "\n",
    "test_output = vgg_model(test_image)\n",
    "top_classes, top_classes_idx = torch.topk(test_output, k=3, dim=1)\n",
    "top_classes, top_classes_idx = top_classes.squeeze(), top_classes_idx.squeeze()\n",
    "\n",
    "top_categories = classes[top_classes_idx.cpu()]\n",
    "print(f\"Top 3 categories: {top_categories}\")"
   ]
  },
  {
   "cell_type": "markdown",
   "metadata": {},
   "source": [
    "# Training ResNet50"
   ]
  },
  {
   "cell_type": "code",
   "execution_count": null,
   "metadata": {},
   "outputs": [],
   "source": [
    "resnet_model = resnet50(weights=ResNet50_Weights.DEFAULT)\n",
    "resnet_model.fc"
   ]
  },
  {
   "cell_type": "code",
   "execution_count": 245,
   "metadata": {},
   "outputs": [],
   "source": [
    "num_features = resnet_model.fc.in_features\n",
    "resnet_model.fc = nn.Linear(\n",
    "    in_features=num_features, out_features=num_classes, bias=True\n",
    ")\n",
    "\n",
    "for param in resnet_model.parameters():\n",
    "    param.requires_grad = False\n",
    "\n",
    "for param in resnet_model.fc.parameters():\n",
    "    param.requires_grad = True"
   ]
  },
  {
   "cell_type": "code",
   "execution_count": 246,
   "metadata": {},
   "outputs": [],
   "source": [
    "resnet_model.to(device)\n",
    "class_weights = class_weights.to(device)\n",
    "criterion = nn.CrossEntropyLoss(weight=class_weights)\n",
    "optimizer = optim.Adam(resnet_model.fc.parameters())"
   ]
  },
  {
   "cell_type": "code",
   "execution_count": null,
   "metadata": {},
   "outputs": [],
   "source": [
    "start_time = time.time()\n",
    "epochs = 30\n",
    "\n",
    "train_losses, train_accuracies, validation_losses, validation_accuracies = train(\n",
    "    model=resnet_model,\n",
    "    train_loader=train_loader,\n",
    "    val_loader=val_loader,\n",
    "    optimizer=optimizer,\n",
    "    criterion=criterion,\n",
    "    device=device,\n",
    "    epochs=epochs,\n",
    "    log=True,\n",
    ")\n",
    "\n",
    "end_time = time.time()\n",
    "print(f\"time: {np.round(end_time - start_time, 2)} seconds\")"
   ]
  },
  {
   "cell_type": "markdown",
   "metadata": {},
   "source": [
    "### Plotting Loss and Accuracy"
   ]
  },
  {
   "cell_type": "code",
   "execution_count": null,
   "metadata": {},
   "outputs": [],
   "source": [
    "plot_loss(\n",
    "    train_losses,\n",
    "    validation_losses,\n",
    "    epochs=epochs,\n",
    "    title=\"Cross Entropy Loss vs epoch for ResNet50\",\n",
    ")\n",
    "plot_acc(\n",
    "    train_accuracies,\n",
    "    validation_accuracies,\n",
    "    epochs=epochs,\n",
    "    title=\"Accuracy vs epoch for ResNet50\",\n",
    ")"
   ]
  },
  {
   "cell_type": "markdown",
   "metadata": {},
   "source": [
    "### Testing ResNet50 on Train, Val, Test Datasets"
   ]
  },
  {
   "cell_type": "code",
   "execution_count": null,
   "metadata": {},
   "outputs": [],
   "source": [
    "train_loss, train_accuracy, train_preds, train_labels = test(\n",
    "    model=resnet_model, test_loader=train_loader, criterion=criterion, device=device\n",
    ")\n",
    "print(\"Train Data:\")\n",
    "print(f\"loss= {np.round(train_loss, 3)}, accuracy= {np.round(train_accuracy, 3)}\")\n",
    "\n",
    "val_loss, val_accuracy, val_preds, val_labels = test(\n",
    "    model=resnet_model, test_loader=val_loader, criterion=criterion, device=device\n",
    ")\n",
    "print(\"Val Data:\")\n",
    "print(f\"loss= {np.round(val_loss, 3)}, accuracy= {np.round(val_accuracy, 3)}\")\n",
    "\n",
    "\n",
    "test_loss, test_accuracy, test_preds, test_labels = test(\n",
    "    model=resnet_model, test_loader=test_loader, criterion=criterion, device=device\n",
    ")\n",
    "print(\"Test Data:\")\n",
    "print(f\"loss= {np.round(test_loss, 3)}, accuracy= {np.round(test_accuracy, 3)}\")"
   ]
  },
  {
   "cell_type": "code",
   "execution_count": null,
   "metadata": {},
   "outputs": [],
   "source": [
    "resnet_model.eval()\n",
    "\n",
    "test_output = resnet_model(test_image)\n",
    "top_classes, top_classes_idx = torch.topk(test_output, k=3, dim=1)\n",
    "top_classes, top_classes_idx = top_classes.squeeze(), top_classes_idx.squeeze()\n",
    "\n",
    "top_categories = classes[top_classes_idx.cpu()]\n",
    "print(f\"Top 3 categories: {top_categories}\")"
   ]
  },
  {
   "cell_type": "markdown",
   "metadata": {},
   "source": [
    "# Training MobileNet V2 with random weights"
   ]
  },
  {
   "cell_type": "code",
   "execution_count": null,
   "metadata": {},
   "outputs": [],
   "source": [
    "mobilenet_random_model = mobilenet_v2(weights=None)\n",
    "mobilenet_random_model.classifier"
   ]
  },
  {
   "cell_type": "code",
   "execution_count": 254,
   "metadata": {},
   "outputs": [],
   "source": [
    "num_features = mobilenet_random_model.classifier[1].in_features\n",
    "mobilenet_random_model.classifier[1] = nn.Linear(\n",
    "    in_features=num_features, out_features=num_classes, bias=True\n",
    ")\n",
    "\n",
    "for param in mobilenet_random_model.parameters():\n",
    "    param.requires_grad = True"
   ]
  },
  {
   "cell_type": "code",
   "execution_count": 255,
   "metadata": {},
   "outputs": [],
   "source": [
    "mobilenet_random_model.to(device)\n",
    "class_weights = class_weights.to(device)\n",
    "criterion = nn.CrossEntropyLoss(weight=class_weights)\n",
    "optimizer = optim.Adam(mobilenet_random_model.parameters())"
   ]
  },
  {
   "cell_type": "code",
   "execution_count": null,
   "metadata": {},
   "outputs": [],
   "source": [
    "start_time = time.time()\n",
    "epochs = 30\n",
    "\n",
    "train_losses, train_accuracies, validation_losses, validation_accuracies = train(\n",
    "    model=mobilenet_random_model,\n",
    "    train_loader=train_loader,\n",
    "    val_loader=val_loader,\n",
    "    optimizer=optimizer,\n",
    "    criterion=criterion,\n",
    "    device=device,\n",
    "    epochs=epochs,\n",
    "    log=True,\n",
    ")\n",
    "\n",
    "end_time = time.time()\n",
    "print(f\"time: {np.round(end_time - start_time, 2)} seconds\")"
   ]
  },
  {
   "cell_type": "markdown",
   "metadata": {},
   "source": [
    "### Plotting Loss and Accuracy"
   ]
  },
  {
   "cell_type": "code",
   "execution_count": null,
   "metadata": {},
   "outputs": [],
   "source": [
    "plot_loss(\n",
    "    train_losses,\n",
    "    validation_losses,\n",
    "    epochs=epochs,\n",
    "    title=\"Cross Entropy Loss vs epoch for MobileNet V2 (random weights)\",\n",
    ")\n",
    "plot_acc(\n",
    "    train_accuracies,\n",
    "    validation_accuracies,\n",
    "    epochs=epochs,\n",
    "    title=\"Accuracy vs epoch for MobileNet V2 (random weights)\",\n",
    ")"
   ]
  },
  {
   "cell_type": "markdown",
   "metadata": {},
   "source": [
    "## Testing MoblieNet V2 (random weights) on Train, Val, Test Datasets"
   ]
  },
  {
   "cell_type": "code",
   "execution_count": null,
   "metadata": {},
   "outputs": [],
   "source": [
    "train_loss, train_accuracy, train_preds, train_labels = test(\n",
    "    model=mobilenet_random_model,\n",
    "    test_loader=train_loader,\n",
    "    criterion=criterion,\n",
    "    device=device,\n",
    ")\n",
    "print(\"Train Data:\")\n",
    "print(f\"loss= {np.round(train_loss, 3)}, accuracy= {np.round(train_accuracy, 3)}\")\n",
    "\n",
    "\n",
    "val_loss, val_accuracy, val_preds, val_labels = test(\n",
    "    model=mobilenet_random_model,\n",
    "    test_loader=val_loader,\n",
    "    criterion=criterion,\n",
    "    device=device,\n",
    ")\n",
    "print(\"Val Data:\")\n",
    "print(f\"loss= {np.round(val_loss, 3)}, accuracy= {np.round(val_accuracy, 3)}\")\n",
    "\n",
    "\n",
    "test_loss, test_accuracy, test_preds, test_labels = test(\n",
    "    model=mobilenet_random_model,\n",
    "    test_loader=test_loader,\n",
    "    criterion=criterion,\n",
    "    device=device,\n",
    ")\n",
    "print(\"Test Data:\")\n",
    "print(f\"loss= {np.round(test_loss, 3)}, accuracy= {np.round(test_accuracy, 3)}\")"
   ]
  },
  {
   "cell_type": "code",
   "execution_count": null,
   "metadata": {},
   "outputs": [],
   "source": [
    "mobilenet_random_model.eval()\n",
    "\n",
    "test_output = mobilenet_random_model(test_image)\n",
    "top_classes, top_classes_idx = torch.topk(test_output, k=3, dim=1)\n",
    "top_classes, top_classes_idx = top_classes.squeeze(), top_classes_idx.squeeze()\n",
    "\n",
    "top_categories = classes[top_classes_idx.cpu()]\n",
    "print(f\"Top 3 categories: {top_categories}\")"
   ]
  }
 ],
 "metadata": {
  "kernelspec": {
   "display_name": "Python 3",
   "language": "python",
   "name": "python3"
  },
  "language_info": {
   "codemirror_mode": {
    "name": "ipython",
    "version": 3
   },
   "file_extension": ".py",
   "mimetype": "text/x-python",
   "name": "python",
   "nbconvert_exporter": "python",
   "pygments_lexer": "ipython3",
   "version": "3.12.0"
  }
 },
 "nbformat": 4,
 "nbformat_minor": 2
}
