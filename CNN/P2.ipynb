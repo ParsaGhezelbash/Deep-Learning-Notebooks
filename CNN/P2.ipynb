{
 "cells": [
  {
   "cell_type": "code",
   "execution_count": 1,
   "metadata": {
    "execution": {
     "iopub.execute_input": "2024-12-14T10:15:34.562921Z",
     "iopub.status.busy": "2024-12-14T10:15:34.562561Z",
     "iopub.status.idle": "2024-12-14T10:15:40.321242Z",
     "shell.execute_reply": "2024-12-14T10:15:40.320428Z",
     "shell.execute_reply.started": "2024-12-14T10:15:34.562891Z"
    },
    "trusted": true
   },
   "outputs": [],
   "source": [
    "import numpy as np\n",
    "\n",
    "import matplotlib.pyplot as plt\n",
    "\n",
    "\n",
    "\n",
    "import torch\n",
    "\n",
    "import torch.nn as nn\n",
    "\n",
    "import torch.nn.functional as F\n",
    "\n",
    "import torch.optim as optim\n",
    "\n",
    "from torch.utils.data import Subset\n",
    "\n",
    "from torch.utils.data import DataLoader\n",
    "\n",
    "from torch.utils.data import random_split\n",
    "\n",
    "\n",
    "\n",
    "import torchvision\n",
    "\n",
    "import torchvision.transforms as transforms\n",
    "\n",
    "from torchvision.models import resnet50, ResNet50_Weights\n",
    "\n",
    "\n",
    "\n",
    "from sklearn.metrics import confusion_matrix, ConfusionMatrixDisplay\n",
    "\n",
    "from sklearn.preprocessing import OneHotEncoder\n",
    "\n",
    "\n",
    "\n",
    "import time\n",
    "\n",
    "\n",
    "\n",
    "import importlib\n",
    "\n",
    "import utils.utils as utils\n",
    "\n",
    "\n",
    "\n",
    "importlib.reload(utils)\n",
    "\n",
    "from utils.utils import (\n",
    "\n",
    "    accuracy,\n",
    "\n",
    "    train,\n",
    "\n",
    "    combined_train,\n",
    "\n",
    "    test,\n",
    "\n",
    "    combined_test,\n",
    "\n",
    "    plot_acc,\n",
    "\n",
    "    plot_loss,\n",
    "\n",
    "    plot_confusion_matrix,\n",
    "\n",
    "    save_model,\n",
    "\n",
    "    get_feature_maps,\n",
    "\n",
    "    visualize_feature_maps,\n",
    "\n",
    "    plot_images,\n",
    "\n",
    "    plot_feature_maps,\n",
    "\n",
    ")\n"
   ]
  },
  {
   "cell_type": "markdown",
   "metadata": {},
   "source": [
    "# Loading CIFAR10 + Preprocess"
   ]
  },
  {
   "cell_type": "code",
   "execution_count": 2,
   "metadata": {
    "execution": {
     "iopub.execute_input": "2024-12-14T10:15:40.323964Z",
     "iopub.status.busy": "2024-12-14T10:15:40.323212Z",
     "iopub.status.idle": "2024-12-14T10:15:40.328600Z",
     "shell.execute_reply": "2024-12-14T10:15:40.327638Z",
     "shell.execute_reply.started": "2024-12-14T10:15:40.323922Z"
    },
    "trusted": true
   },
   "outputs": [],
   "source": [
    "class OneHotEncode:\n",
    "\n",
    "    def __init__(self, num_classes):\n",
    "\n",
    "        self.num_classes = num_classes\n",
    "\n",
    "\n",
    "\n",
    "    def __call__(self, label):\n",
    "\n",
    "        return F.one_hot(torch.tensor(label), num_classes=self.num_classes).float()"
   ]
  },
  {
   "cell_type": "code",
   "execution_count": null,
   "metadata": {
    "execution": {
     "iopub.execute_input": "2024-12-14T10:15:40.330382Z",
     "iopub.status.busy": "2024-12-14T10:15:40.329989Z",
     "iopub.status.idle": "2024-12-14T10:15:51.944539Z",
     "shell.execute_reply": "2024-12-14T10:15:51.943821Z",
     "shell.execute_reply.started": "2024-12-14T10:15:40.330346Z"
    },
    "trusted": true
   },
   "outputs": [],
   "source": [
    "train_size = 50000\n",
    "\n",
    "val_size = 10000\n",
    "\n",
    "test_size = 10000\n",
    "\n",
    "mean = [0.485, 0.456, 0.406]\n",
    "\n",
    "std = [0.229, 0.224, 0.225]\n",
    "\n",
    "num_classes = 2\n",
    "\n",
    "\n",
    "\n",
    "torch.manual_seed(13)\n",
    "\n",
    "np.random.seed(13)\n",
    "\n",
    "\n",
    "\n",
    "transform = transforms.Compose(\n",
    "\n",
    "    [transforms.ToTensor(), transforms.Normalize(mean=mean, std=std)]\n",
    "\n",
    ")\n",
    "\n",
    "\n",
    "\n",
    "label_transform = OneHotEncode(num_classes=num_classes)\n",
    "\n",
    "\n",
    "\n",
    "train_dataset = torchvision.datasets.CIFAR10(\n",
    "\n",
    "    root=\"./data\",\n",
    "\n",
    "    train=True,\n",
    "\n",
    "    download=True,\n",
    "\n",
    "    transform=transform,\n",
    "\n",
    "    target_transform=label_transform,\n",
    "\n",
    ")\n",
    "\n",
    "\n",
    "\n",
    "test_dataset = torchvision.datasets.CIFAR10(\n",
    "\n",
    "    root=\"./data\",\n",
    "\n",
    "    train=False,\n",
    "\n",
    "    download=True,\n",
    "\n",
    "    transform=transform,\n",
    "\n",
    "    target_transform=label_transform,\n",
    "\n",
    ")"
   ]
  },
  {
   "cell_type": "markdown",
   "metadata": {},
   "source": [
    "# Extracting <kbd>airplane</kbd> and <kbd>automobile</kbd>"
   ]
  },
  {
   "cell_type": "code",
   "execution_count": null,
   "metadata": {
    "execution": {
     "iopub.execute_input": "2024-12-14T10:15:51.945810Z",
     "iopub.status.busy": "2024-12-14T10:15:51.945538Z",
     "iopub.status.idle": "2024-12-14T10:15:51.951045Z",
     "shell.execute_reply": "2024-12-14T10:15:51.950141Z",
     "shell.execute_reply.started": "2024-12-14T10:15:51.945785Z"
    },
    "trusted": true
   },
   "outputs": [],
   "source": [
    "classes = train_dataset.classes\n",
    "\n",
    "automobile_index = train_dataset.class_to_idx[\"automobile\"]\n",
    "\n",
    "airplane_index = train_dataset.class_to_idx[\"airplane\"]\n",
    "\n",
    "\n",
    "\n",
    "\n",
    "\n",
    "print(classes)\n",
    "\n",
    "print(f\"automobile: {automobile_index}\")\n",
    "\n",
    "print(f\"airplane: {airplane_index}\")"
   ]
  },
  {
   "cell_type": "code",
   "execution_count": 5,
   "metadata": {
    "execution": {
     "iopub.execute_input": "2024-12-14T10:15:51.953092Z",
     "iopub.status.busy": "2024-12-14T10:15:51.952848Z",
     "iopub.status.idle": "2024-12-14T10:15:51.992819Z",
     "shell.execute_reply": "2024-12-14T10:15:51.992095Z",
     "shell.execute_reply.started": "2024-12-14T10:15:51.953069Z"
    },
    "trusted": true
   },
   "outputs": [],
   "source": [
    "indices = [airplane_index, automobile_index]\n",
    "\n",
    "classes = np.array(classes)[indices].tolist()\n",
    "\n",
    "\n",
    "\n",
    "train_indices = np.where(np.isin(train_dataset.targets, indices))[0]\n",
    "\n",
    "test_indices = np.where(np.isin(test_dataset.targets, indices))[0]\n",
    "\n",
    "\n",
    "\n",
    "train_subset = Subset(train_dataset, train_indices)\n",
    "\n",
    "test_subset = Subset(test_dataset, test_indices)\n",
    "\n",
    "\n",
    "\n",
    "train_subset, val_subset = random_split(train_subset, [0.8, 0.2])"
   ]
  },
  {
   "cell_type": "code",
   "execution_count": 6,
   "metadata": {
    "execution": {
     "iopub.execute_input": "2024-12-14T10:15:51.994013Z",
     "iopub.status.busy": "2024-12-14T10:15:51.993761Z",
     "iopub.status.idle": "2024-12-14T10:15:51.998509Z",
     "shell.execute_reply": "2024-12-14T10:15:51.997548Z",
     "shell.execute_reply.started": "2024-12-14T10:15:51.993989Z"
    },
    "trusted": true
   },
   "outputs": [],
   "source": [
    "train_loader = DataLoader(train_subset, batch_size=64, shuffle=True)\n",
    "\n",
    "val_loader = DataLoader(val_subset, batch_size=64, shuffle=True)\n",
    "\n",
    "test_loader = DataLoader(test_subset, batch_size=64, shuffle=True)"
   ]
  },
  {
   "cell_type": "code",
   "execution_count": null,
   "metadata": {
    "execution": {
     "iopub.execute_input": "2024-12-14T10:15:52.000433Z",
     "iopub.status.busy": "2024-12-14T10:15:51.999672Z",
     "iopub.status.idle": "2024-12-14T10:15:52.061347Z",
     "shell.execute_reply": "2024-12-14T10:15:52.060341Z",
     "shell.execute_reply.started": "2024-12-14T10:15:52.000385Z"
    },
    "trusted": true
   },
   "outputs": [],
   "source": [
    "device = torch.device(\"cuda\" if torch.cuda.is_available() else \"cpu\")\n",
    "\n",
    "print(f\"device: {device.type}\")"
   ]
  },
  {
   "cell_type": "markdown",
   "metadata": {},
   "source": [
    "# Defining Model"
   ]
  },
  {
   "cell_type": "code",
   "execution_count": 8,
   "metadata": {
    "execution": {
     "iopub.execute_input": "2024-12-14T10:15:52.062722Z",
     "iopub.status.busy": "2024-12-14T10:15:52.062433Z",
     "iopub.status.idle": "2024-12-14T10:15:52.071965Z",
     "shell.execute_reply": "2024-12-14T10:15:52.071143Z",
     "shell.execute_reply.started": "2024-12-14T10:15:52.062679Z"
    },
    "trusted": true
   },
   "outputs": [],
   "source": [
    "class CombinedModel(nn.Module):\n",
    "\n",
    "    def __init__(self, embedding_size=128, num_classes=10):\n",
    "\n",
    "        super(CombinedModel, self).__init__()\n",
    "\n",
    "        self.backbone = resnet50(weights=ResNet50_Weights.DEFAULT)\n",
    "\n",
    "        num_features = self.backbone.fc.in_features\n",
    "\n",
    "\n",
    "\n",
    "        self.backbone.fc = nn.Identity()\n",
    "\n",
    "        self.embedding = nn.Linear(num_features, embedding_size)\n",
    "\n",
    "        self.classifier = nn.Linear(num_features, num_classes)\n",
    "\n",
    "\n",
    "\n",
    "    def forward(self, x):\n",
    "\n",
    "        features = self.backbone(x)\n",
    "\n",
    "\n",
    "\n",
    "        embeddings = nn.functional.normalize(self.embedding(features), p=2, dim=1)\n",
    "\n",
    "        class_scores = self.classifier(features)\n",
    "\n",
    "        return embeddings, class_scores"
   ]
  },
  {
   "cell_type": "markdown",
   "metadata": {},
   "source": [
    "# 1) Cross Entropy Loss"
   ]
  },
  {
   "cell_type": "markdown",
   "metadata": {},
   "source": [
    "## Loading Pre-Trained Model\n"
   ]
  },
  {
   "cell_type": "code",
   "execution_count": null,
   "metadata": {
    "execution": {
     "iopub.execute_input": "2024-12-14T10:15:52.073284Z",
     "iopub.status.busy": "2024-12-14T10:15:52.072987Z",
     "iopub.status.idle": "2024-12-14T10:15:53.088841Z",
     "shell.execute_reply": "2024-12-14T10:15:53.087903Z",
     "shell.execute_reply.started": "2024-12-14T10:15:52.073258Z"
    },
    "trusted": true
   },
   "outputs": [],
   "source": [
    "model = resnet50(weights=ResNet50_Weights.DEFAULT)\n",
    "\n",
    "num_features = model.fc.in_features\n",
    "\n",
    "model.fc = nn.Linear(num_features, num_classes)\n",
    "\n",
    "\n",
    "\n",
    "for param in model.parameters():\n",
    "\n",
    "    param.requires_grad = False\n",
    "\n",
    "\n",
    "\n",
    "for param in model.fc.parameters():\n",
    "\n",
    "    param.requires_grad = True"
   ]
  },
  {
   "cell_type": "code",
   "execution_count": 10,
   "metadata": {
    "execution": {
     "iopub.execute_input": "2024-12-14T10:15:53.090375Z",
     "iopub.status.busy": "2024-12-14T10:15:53.089995Z",
     "iopub.status.idle": "2024-12-14T10:15:53.282244Z",
     "shell.execute_reply": "2024-12-14T10:15:53.281295Z",
     "shell.execute_reply.started": "2024-12-14T10:15:53.090344Z"
    },
    "trusted": true
   },
   "outputs": [],
   "source": [
    "model.to(device)\n",
    "\n",
    "criterion = nn.CrossEntropyLoss()\n",
    "\n",
    "optimizer = optim.Adam(model.fc.parameters())"
   ]
  },
  {
   "cell_type": "markdown",
   "metadata": {},
   "source": [
    "## Training ResNet50 for Classification"
   ]
  },
  {
   "cell_type": "code",
   "execution_count": null,
   "metadata": {
    "execution": {
     "iopub.execute_input": "2024-12-14T10:15:53.283774Z",
     "iopub.status.busy": "2024-12-14T10:15:53.283421Z",
     "iopub.status.idle": "2024-12-14T10:18:07.531438Z",
     "shell.execute_reply": "2024-12-14T10:18:07.530554Z",
     "shell.execute_reply.started": "2024-12-14T10:15:53.283739Z"
    },
    "trusted": true
   },
   "outputs": [],
   "source": [
    "start_time = time.time()\n",
    "\n",
    "epochs = 30\n",
    "\n",
    "\n",
    "\n",
    "train_losses, train_accuracies, validation_losses, validation_accuracies = train(\n",
    "\n",
    "    model=model,\n",
    "\n",
    "    train_loader=train_loader,\n",
    "\n",
    "    val_loader=val_loader,\n",
    "\n",
    "    optimizer=optimizer,\n",
    "\n",
    "    criterion=criterion,\n",
    "\n",
    "    device=device,\n",
    "\n",
    "    epochs=epochs,\n",
    "\n",
    "    log=True,\n",
    "\n",
    ")\n",
    "\n",
    "\n",
    "\n",
    "end_time = time.time()\n",
    "\n",
    "print(f\"time: {np.round(end_time - start_time, 2)} seconds\")"
   ]
  },
  {
   "cell_type": "markdown",
   "metadata": {},
   "source": [
    "## Plotting Loss and Accuracy"
   ]
  },
  {
   "cell_type": "code",
   "execution_count": null,
   "metadata": {
    "execution": {
     "iopub.execute_input": "2024-12-14T10:18:07.532862Z",
     "iopub.status.busy": "2024-12-14T10:18:07.532571Z",
     "iopub.status.idle": "2024-12-14T10:18:08.106667Z",
     "shell.execute_reply": "2024-12-14T10:18:08.105862Z",
     "shell.execute_reply.started": "2024-12-14T10:18:07.532835Z"
    },
    "trusted": true
   },
   "outputs": [],
   "source": [
    "plot_loss(\n",
    "\n",
    "    train_losses,\n",
    "\n",
    "    validation_losses,\n",
    "\n",
    "    epochs=epochs,\n",
    "\n",
    "    title=\"Cross Entropy Loss vs epoch for Resnet50\",\n",
    "\n",
    ")\n",
    "\n",
    "plot_acc(\n",
    "\n",
    "    train_accuracies,\n",
    "\n",
    "    validation_accuracies,\n",
    "\n",
    "    epochs=epochs,\n",
    "\n",
    "    title=\"Accuracy vs epoch for Resnet50\",\n",
    "\n",
    ")"
   ]
  },
  {
   "cell_type": "code",
   "execution_count": null,
   "metadata": {},
   "outputs": [],
   "source": [
    "loss, acc, preds, labels = test(\n",
    "\n",
    "    model, test_loader, criterion, device\n",
    "\n",
    ")\n",
    "\n",
    "print(f\"loss= {np.round(loss, 3)}, accuracy= {np.round(acc, 3)}\")\n",
    "\n",
    "plot_confusion_matrix(labels, preds, class_names=classes, title=\"Cross Entropy Loss Model\")"
   ]
  },
  {
   "cell_type": "markdown",
   "metadata": {},
   "source": [
    "## Plotting Feature Maps"
   ]
  },
  {
   "cell_type": "code",
   "execution_count": null,
   "metadata": {
    "execution": {
     "iopub.execute_input": "2024-12-14T10:18:08.108343Z",
     "iopub.status.busy": "2024-12-14T10:18:08.107897Z",
     "iopub.status.idle": "2024-12-14T10:18:10.992597Z",
     "shell.execute_reply": "2024-12-14T10:18:10.991654Z",
     "shell.execute_reply.started": "2024-12-14T10:18:08.108304Z"
    },
    "trusted": true
   },
   "outputs": [],
   "source": [
    "images, labels = next(iter(train_loader))\n",
    "\n",
    "image, label = images[0], classes[torch.argmax(labels[0])]\n",
    "\n",
    "plot_images([image], mean, std, [label], title=\"Feature Map Sample\")\n",
    "\n",
    "\n",
    "\n",
    "plot_feature_maps(model, image, device)"
   ]
  },
  {
   "cell_type": "markdown",
   "metadata": {},
   "source": [
    "# 2) Triplet Loss"
   ]
  },
  {
   "cell_type": "markdown",
   "metadata": {},
   "source": [
    "## Preparing Dataset"
   ]
  },
  {
   "cell_type": "code",
   "execution_count": 14,
   "metadata": {
    "execution": {
     "iopub.execute_input": "2024-12-14T10:18:10.996937Z",
     "iopub.status.busy": "2024-12-14T10:18:10.996637Z",
     "iopub.status.idle": "2024-12-14T10:18:11.005516Z",
     "shell.execute_reply": "2024-12-14T10:18:11.004733Z",
     "shell.execute_reply.started": "2024-12-14T10:18:10.996893Z"
    },
    "trusted": true
   },
   "outputs": [],
   "source": [
    "class TripletDataset(torch.utils.data.Dataset):\n",
    "\n",
    "    def __init__(self, dataset, triplets):\n",
    "\n",
    "        self.dataset = dataset\n",
    "\n",
    "        self.triplets = triplets\n",
    "\n",
    "\n",
    "\n",
    "    def __len__(self):\n",
    "\n",
    "        return len(self.triplets)\n",
    "\n",
    "\n",
    "\n",
    "    def __getitem__(self, idx):\n",
    "\n",
    "        anchor_idx, positive_idx, negative_idx = self.triplets[idx]\n",
    "\n",
    "        anchor, label = self.dataset[anchor_idx]\n",
    "\n",
    "        positive, _ = self.dataset[positive_idx]\n",
    "\n",
    "        negative, _ = self.dataset[negative_idx]\n",
    "\n",
    "        return (anchor, positive, negative), label\n",
    "\n",
    "\n",
    "\n",
    "\n",
    "\n",
    "def make_triplets(dataset):\n",
    "\n",
    "    triplets = []\n",
    "\n",
    "    class_indices = {}\n",
    "\n",
    "\n",
    "\n",
    "    for idx, (_, label) in enumerate(dataset):\n",
    "\n",
    "        c = classes[torch.argmax(label)]\n",
    "\n",
    "        if c not in class_indices:\n",
    "\n",
    "            class_indices[c] = []\n",
    "\n",
    "        class_indices[c].append(idx)\n",
    "\n",
    "\n",
    "\n",
    "    for c in class_indices:\n",
    "\n",
    "        for idx in class_indices[c]:\n",
    "\n",
    "            anchor_idx = idx\n",
    "\n",
    "\n",
    "\n",
    "            positive_idx = np.random.choice(\n",
    "\n",
    "                [i for i in class_indices[c] if i != anchor_idx]\n",
    "\n",
    "            )\n",
    "\n",
    "\n",
    "\n",
    "            negative_class = np.random.choice(\n",
    "\n",
    "                [label for label in class_indices.keys() if label != c]\n",
    "\n",
    "            )\n",
    "\n",
    "            negative_idx = np.random.choice(class_indices[negative_class])\n",
    "\n",
    "\n",
    "\n",
    "            triplets.append((anchor_idx, positive_idx, negative_idx))\n",
    "\n",
    "\n",
    "\n",
    "    return triplets"
   ]
  },
  {
   "cell_type": "markdown",
   "metadata": {},
   "source": [
    "## Making Triplets"
   ]
  },
  {
   "cell_type": "code",
   "execution_count": 15,
   "metadata": {
    "execution": {
     "iopub.execute_input": "2024-12-14T10:18:11.006972Z",
     "iopub.status.busy": "2024-12-14T10:18:11.006697Z",
     "iopub.status.idle": "2024-12-14T10:18:19.254308Z",
     "shell.execute_reply": "2024-12-14T10:18:19.253553Z",
     "shell.execute_reply.started": "2024-12-14T10:18:11.006948Z"
    },
    "trusted": true
   },
   "outputs": [],
   "source": [
    "trian_triplets = make_triplets(train_subset)\n",
    "\n",
    "val_triplets = make_triplets(val_subset)\n",
    "\n",
    "test_triplets = make_triplets(test_subset)\n",
    "\n",
    "\n",
    "\n",
    "train_triplet_dataset = TripletDataset(train_subset, trian_triplets)\n",
    "\n",
    "val_triplet_dataset = TripletDataset(val_subset, val_triplets)\n",
    "\n",
    "test_triplet_dataset = TripletDataset(test_subset, test_triplets)"
   ]
  },
  {
   "cell_type": "code",
   "execution_count": 16,
   "metadata": {
    "execution": {
     "iopub.execute_input": "2024-12-14T10:18:19.255908Z",
     "iopub.status.busy": "2024-12-14T10:18:19.255671Z",
     "iopub.status.idle": "2024-12-14T10:18:19.260529Z",
     "shell.execute_reply": "2024-12-14T10:18:19.259571Z",
     "shell.execute_reply.started": "2024-12-14T10:18:19.255886Z"
    },
    "trusted": true
   },
   "outputs": [],
   "source": [
    "train_loader = DataLoader(\n",
    "\n",
    "    train_triplet_dataset, batch_size=64, shuffle=True\n",
    "\n",
    ")\n",
    "\n",
    "val_loader = DataLoader(val_triplet_dataset, batch_size=64, shuffle=True)\n",
    "\n",
    "test_loader = DataLoader(\n",
    "\n",
    "    test_triplet_dataset, batch_size=64, shuffle=True\n",
    "\n",
    ")"
   ]
  },
  {
   "cell_type": "markdown",
   "metadata": {},
   "source": [
    "## Training ResNet50 for Feature Extracting + Feature Maps"
   ]
  },
  {
   "cell_type": "code",
   "execution_count": 17,
   "metadata": {
    "execution": {
     "iopub.execute_input": "2024-12-14T10:18:19.262160Z",
     "iopub.status.busy": "2024-12-14T10:18:19.261789Z",
     "iopub.status.idle": "2024-12-14T10:18:19.803608Z",
     "shell.execute_reply": "2024-12-14T10:18:19.802531Z",
     "shell.execute_reply.started": "2024-12-14T10:18:19.262121Z"
    },
    "trusted": true
   },
   "outputs": [],
   "source": [
    "num_embeddings = 128\n",
    "\n",
    "triplet_model = CombinedModel(embedding_size=num_embeddings, num_classes=num_classes)"
   ]
  },
  {
   "cell_type": "code",
   "execution_count": 18,
   "metadata": {
    "execution": {
     "iopub.execute_input": "2024-12-14T10:18:19.805298Z",
     "iopub.status.busy": "2024-12-14T10:18:19.804891Z",
     "iopub.status.idle": "2024-12-14T10:18:19.847903Z",
     "shell.execute_reply": "2024-12-14T10:18:19.847151Z",
     "shell.execute_reply.started": "2024-12-14T10:18:19.805261Z"
    },
    "trusted": true
   },
   "outputs": [],
   "source": [
    "triplet_model.to(device)\n",
    "\n",
    "criterion = nn.TripletMarginLoss(margin=1, p=2)\n",
    "\n",
    "optimizer = optim.Adam(triplet_model.parameters())"
   ]
  },
  {
   "cell_type": "code",
   "execution_count": null,
   "metadata": {
    "execution": {
     "iopub.execute_input": "2024-12-14T10:18:19.849608Z",
     "iopub.status.busy": "2024-12-14T10:18:19.849140Z",
     "iopub.status.idle": "2024-12-14T10:27:38.675858Z",
     "shell.execute_reply": "2024-12-14T10:27:38.674784Z",
     "shell.execute_reply.started": "2024-12-14T10:18:19.849569Z"
    },
    "trusted": true
   },
   "outputs": [],
   "source": [
    "start_time = time.time()\n",
    "\n",
    "epochs = 30\n",
    "\n",
    "\n",
    "\n",
    "train_losses, train_accuracies, validation_losses, validation_accuracies = (\n",
    "\n",
    "    combined_train(\n",
    "\n",
    "        model=triplet_model,\n",
    "\n",
    "        train_loader=train_loader,\n",
    "\n",
    "        val_loader=val_loader,\n",
    "\n",
    "        optimizer=optimizer,\n",
    "\n",
    "        criterion=criterion,\n",
    "\n",
    "        device=device,\n",
    "\n",
    "        image=image,\n",
    "\n",
    "        epochs=epochs,\n",
    "\n",
    "        log=True,\n",
    "\n",
    "        mode=\"triplet\",\n",
    "\n",
    "    )\n",
    "\n",
    ")\n",
    "\n",
    "\n",
    "\n",
    "end_time = time.time()\n",
    "\n",
    "print(f\"time: {np.round(end_time - start_time, 2)} seconds\")"
   ]
  },
  {
   "cell_type": "markdown",
   "metadata": {},
   "source": [
    "## Plotting Loss"
   ]
  },
  {
   "cell_type": "code",
   "execution_count": null,
   "metadata": {
    "execution": {
     "iopub.execute_input": "2024-12-14T10:27:38.678368Z",
     "iopub.status.busy": "2024-12-14T10:27:38.677692Z",
     "iopub.status.idle": "2024-12-14T10:27:39.023356Z",
     "shell.execute_reply": "2024-12-14T10:27:39.022502Z",
     "shell.execute_reply.started": "2024-12-14T10:27:38.678324Z"
    },
    "trusted": true
   },
   "outputs": [],
   "source": [
    "plot_loss(\n",
    "\n",
    "    train_losses,\n",
    "\n",
    "    validation_losses,\n",
    "\n",
    "    epochs=epochs,\n",
    "\n",
    "    title=\"Triplet Loss vs epoch for Feature Extrator\",\n",
    "\n",
    ")"
   ]
  },
  {
   "cell_type": "markdown",
   "metadata": {},
   "source": [
    "## Training ResNet50 for Classification"
   ]
  },
  {
   "cell_type": "code",
   "execution_count": 21,
   "metadata": {
    "execution": {
     "iopub.execute_input": "2024-12-14T10:27:39.024783Z",
     "iopub.status.busy": "2024-12-14T10:27:39.024510Z",
     "iopub.status.idle": "2024-12-14T10:27:39.029836Z",
     "shell.execute_reply": "2024-12-14T10:27:39.028885Z",
     "shell.execute_reply.started": "2024-12-14T10:27:39.024758Z"
    },
    "trusted": true
   },
   "outputs": [],
   "source": [
    "for param in triplet_model.parameters():\n",
    "\n",
    "    param.requires_grad = False\n",
    "\n",
    "\n",
    "\n",
    "for param in triplet_model.classifier.parameters():\n",
    "\n",
    "    param.requires_grad = True"
   ]
  },
  {
   "cell_type": "code",
   "execution_count": 22,
   "metadata": {
    "execution": {
     "iopub.execute_input": "2024-12-14T10:27:39.031607Z",
     "iopub.status.busy": "2024-12-14T10:27:39.031253Z",
     "iopub.status.idle": "2024-12-14T10:27:39.045988Z",
     "shell.execute_reply": "2024-12-14T10:27:39.045336Z",
     "shell.execute_reply.started": "2024-12-14T10:27:39.031571Z"
    },
    "trusted": true
   },
   "outputs": [],
   "source": [
    "triplet_model.to(device)\n",
    "\n",
    "criterion = nn.CrossEntropyLoss()\n",
    "\n",
    "optimizer = optim.Adam(triplet_model.classifier.parameters())"
   ]
  },
  {
   "cell_type": "code",
   "execution_count": null,
   "metadata": {
    "execution": {
     "iopub.execute_input": "2024-12-14T10:27:39.047281Z",
     "iopub.status.busy": "2024-12-14T10:27:39.047036Z",
     "iopub.status.idle": "2024-12-14T10:31:32.826768Z",
     "shell.execute_reply": "2024-12-14T10:31:32.825685Z",
     "shell.execute_reply.started": "2024-12-14T10:27:39.047258Z"
    },
    "trusted": true
   },
   "outputs": [],
   "source": [
    "start_time = time.time()\n",
    "\n",
    "epochs = 30\n",
    "\n",
    "\n",
    "\n",
    "train_losses, train_accuracies, validation_losses, validation_accuracies = (\n",
    "\n",
    "    combined_train(\n",
    "\n",
    "        model=triplet_model,\n",
    "\n",
    "        train_loader=train_loader,\n",
    "\n",
    "        val_loader=val_loader,\n",
    "\n",
    "        optimizer=optimizer,\n",
    "\n",
    "        criterion=criterion,\n",
    "\n",
    "        device=device,\n",
    "\n",
    "        epochs=epochs,\n",
    "\n",
    "        log=True,\n",
    "\n",
    "        mode=\"default\",\n",
    "\n",
    "    )\n",
    "\n",
    ")\n",
    "\n",
    "\n",
    "\n",
    "end_time = time.time()\n",
    "\n",
    "print(f\"time: {np.round(end_time - start_time, 2)} seconds\")"
   ]
  },
  {
   "cell_type": "markdown",
   "metadata": {},
   "source": [
    "## Plotting Loss and Accuracy"
   ]
  },
  {
   "cell_type": "code",
   "execution_count": null,
   "metadata": {
    "execution": {
     "iopub.execute_input": "2024-12-14T10:31:32.828554Z",
     "iopub.status.busy": "2024-12-14T10:31:32.828222Z",
     "iopub.status.idle": "2024-12-14T10:31:33.478062Z",
     "shell.execute_reply": "2024-12-14T10:31:33.477136Z",
     "shell.execute_reply.started": "2024-12-14T10:31:32.828513Z"
    },
    "trusted": true
   },
   "outputs": [],
   "source": [
    "plot_loss(\n",
    "\n",
    "    train_losses,\n",
    "\n",
    "    validation_losses,\n",
    "\n",
    "    epochs=epochs,\n",
    "\n",
    "    title=\"Cross Entropy Loss vs epoch for Resnet50 + Feature Extractor\",\n",
    "\n",
    ")\n",
    "\n",
    "plot_acc(\n",
    "\n",
    "    train_accuracies,\n",
    "\n",
    "    validation_accuracies,\n",
    "\n",
    "    epochs=epochs,\n",
    "\n",
    "    title=\"Accuracy vs epoch for Resnet50 + Feature Extractor\",\n",
    "\n",
    ")"
   ]
  },
  {
   "cell_type": "markdown",
   "metadata": {},
   "source": [
    "## Testing on Test Dataset"
   ]
  },
  {
   "cell_type": "code",
   "execution_count": null,
   "metadata": {
    "execution": {
     "iopub.execute_input": "2024-12-14T10:31:33.479549Z",
     "iopub.status.busy": "2024-12-14T10:31:33.479244Z",
     "iopub.status.idle": "2024-12-14T10:31:35.379451Z",
     "shell.execute_reply": "2024-12-14T10:31:35.378445Z",
     "shell.execute_reply.started": "2024-12-14T10:31:33.479505Z"
    },
    "trusted": true
   },
   "outputs": [],
   "source": [
    "loss, acc, preds, labels = combined_test(\n",
    "\n",
    "    triplet_model, test_loader, criterion, device, mode=\"default\"\n",
    "\n",
    ")\n",
    "\n",
    "print(f\"loss= {np.round(loss, 3)}, accuracy= {np.round(acc, 3)}\")\n",
    "\n",
    "plot_confusion_matrix(labels, preds, class_names=classes, title=\"triplet model\")"
   ]
  },
  {
   "cell_type": "markdown",
   "metadata": {},
   "source": [
    "#TODO"
   ]
  },
  {
   "cell_type": "markdown",
   "metadata": {},
   "source": [
    "# 3) Conclusion and Comparison"
   ]
  },
  {
   "cell_type": "code",
   "execution_count": null,
   "metadata": {},
   "outputs": [],
   "source": [
    "loss, acc, preds, labels = test(\n",
    "\n",
    "    model, test_loader, criterion, device\n",
    "\n",
    ")\n",
    "\n",
    "print(f\"loss= {np.round(loss, 3)}, accuracy= {np.round(acc, 3)}\")\n",
    "\n",
    "plot_confusion_matrix(labels, preds, class_names=classes, title=\"Cross Entropy Loss Model\")"
   ]
  },
  {
   "cell_type": "code",
   "execution_count": null,
   "metadata": {},
   "outputs": [],
   "source": [
    "loss, acc, preds, labels = combined_test(\n",
    "\n",
    "    triplet_model, test_loader, criterion, device, mode=\"default\"\n",
    "\n",
    ")\n",
    "\n",
    "print(f\"loss= {np.round(loss, 3)}, accuracy= {np.round(acc, 3)}\")\n",
    "\n",
    "plot_confusion_matrix(labels, preds, class_names=classes, title=\"Triplet Loss Model\")"
   ]
  },
  {
   "cell_type": "markdown",
   "metadata": {},
   "source": [
    "* <b>Feature Map:</b> Triplet method constructed better feature maps extracted more specific features.\n",
    "* <b>Accuracy:</b> Using triplet method we will achieve a higher accuracy.\n",
    "* <b>Convergance:</b> triplet method converged faster in 30 epochs than regular method with Cross Entropy."
   ]
  },
  {
   "cell_type": "markdown",
   "metadata": {},
   "source": [
    "# 4) Loss Combination"
   ]
  },
  {
   "cell_type": "code",
   "execution_count": 26,
   "metadata": {
    "execution": {
     "iopub.execute_input": "2024-12-14T10:31:35.381226Z",
     "iopub.status.busy": "2024-12-14T10:31:35.380885Z",
     "iopub.status.idle": "2024-12-14T10:31:35.872154Z",
     "shell.execute_reply": "2024-12-14T10:31:35.871178Z",
     "shell.execute_reply.started": "2024-12-14T10:31:35.381196Z"
    },
    "trusted": true
   },
   "outputs": [],
   "source": [
    "num_embeddings = 128\n",
    "\n",
    "combined_model = CombinedModel(embedding_size=num_embeddings, num_classes=num_classes)"
   ]
  },
  {
   "cell_type": "code",
   "execution_count": 27,
   "metadata": {
    "execution": {
     "iopub.execute_input": "2024-12-14T10:31:35.873641Z",
     "iopub.status.busy": "2024-12-14T10:31:35.873329Z",
     "iopub.status.idle": "2024-12-14T10:31:35.914997Z",
     "shell.execute_reply": "2024-12-14T10:31:35.914030Z",
     "shell.execute_reply.started": "2024-12-14T10:31:35.873612Z"
    },
    "trusted": true
   },
   "outputs": [],
   "source": [
    "combined_model.to(device)\n",
    "\n",
    "criterion = [nn.CrossEntropyLoss(), nn.TripletMarginLoss(margin=1, p=2)]\n",
    "\n",
    "optimizer = optim.Adam(combined_model.parameters())"
   ]
  },
  {
   "cell_type": "code",
   "execution_count": null,
   "metadata": {
    "execution": {
     "iopub.execute_input": "2024-12-14T10:31:35.916472Z",
     "iopub.status.busy": "2024-12-14T10:31:35.916194Z",
     "iopub.status.idle": "2024-12-14T10:40:55.596469Z",
     "shell.execute_reply": "2024-12-14T10:40:55.595426Z",
     "shell.execute_reply.started": "2024-12-14T10:31:35.916447Z"
    },
    "trusted": true
   },
   "outputs": [],
   "source": [
    "start_time = time.time()\n",
    "\n",
    "epochs = 30\n",
    "\n",
    "\n",
    "\n",
    "train_losses, train_accuracies, validation_losses, validation_accuracies = (\n",
    "\n",
    "    combined_train(\n",
    "\n",
    "        model=combined_model,\n",
    "\n",
    "        train_loader=train_loader,\n",
    "\n",
    "        val_loader=val_loader,\n",
    "\n",
    "        optimizer=optimizer,\n",
    "\n",
    "        criterion=criterion,\n",
    "\n",
    "        device=device,\n",
    "\n",
    "        epochs=epochs,\n",
    "\n",
    "        log=True,\n",
    "\n",
    "        mode=\"combined\",\n",
    "\n",
    "    )\n",
    "\n",
    ")\n",
    "\n",
    "\n",
    "\n",
    "end_time = time.time()\n",
    "\n",
    "print(f\"time: {np.round(end_time - start_time, 2)} seconds\")"
   ]
  },
  {
   "cell_type": "markdown",
   "metadata": {},
   "source": [
    "## Testing on Test Dataset"
   ]
  },
  {
   "cell_type": "code",
   "execution_count": null,
   "metadata": {
    "execution": {
     "iopub.execute_input": "2024-12-14T10:40:55.599159Z",
     "iopub.status.busy": "2024-12-14T10:40:55.598212Z",
     "iopub.status.idle": "2024-12-14T10:40:57.441274Z",
     "shell.execute_reply": "2024-12-14T10:40:57.440382Z",
     "shell.execute_reply.started": "2024-12-14T10:40:55.599094Z"
    },
    "trusted": true
   },
   "outputs": [],
   "source": [
    "loss, acc, preds, labels = combined_test(\n",
    "\n",
    "    combined_model, test_loader, criterion, device, mode=\"combined\"\n",
    "\n",
    ")\n",
    "\n",
    "print(f\"loss= {np.round(loss, 3)}, accuracy= {np.round(acc, 3)}\")\n",
    "\n",
    "plot_confusion_matrix(labels, preds, class_names=classes, title=\"combined model\")"
   ]
  },
  {
   "cell_type": "markdown",
   "metadata": {},
   "source": [
    "Training both Feature Extractor and Classifier at the same time leads to higher accuracy becausae the weights of ResNet50 are learning to optimize Feature Extraction and Classificaiton \n",
    "and will lead to better Classifier in Comparison with the model where are optimizing Feature Extraction alone."
   ]
  }
 ],
 "metadata": {
  "kaggle": {
   "accelerator": "gpu",
   "dataSources": [
    {
     "sourceId": 212992881,
     "sourceType": "kernelVersion"
    }
   ],
   "dockerImageVersionId": 30805,
   "isGpuEnabled": true,
   "isInternetEnabled": true,
   "language": "python",
   "sourceType": "notebook"
  },
  "kernelspec": {
   "display_name": "Python 3",
   "language": "python",
   "name": "python3"
  },
  "language_info": {
   "codemirror_mode": {
    "name": "ipython",
    "version": 3
   },
   "file_extension": ".py",
   "mimetype": "text/x-python",
   "name": "python",
   "nbconvert_exporter": "python",
   "pygments_lexer": "ipython3",
   "version": "3.10.14"
  }
 },
 "nbformat": 4,
 "nbformat_minor": 4
}
