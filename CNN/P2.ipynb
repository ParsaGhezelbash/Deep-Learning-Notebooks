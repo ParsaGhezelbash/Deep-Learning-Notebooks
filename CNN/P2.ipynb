{
 "cells": [
  {
   "cell_type": "code",
   "execution_count": 3,
   "metadata": {},
   "outputs": [],
   "source": [
    "import numpy as np\n",
    "\n",
    "import matplotlib.pyplot as plt\n",
    "\n",
    "\n",
    "\n",
    "import torch\n",
    "\n",
    "import torch.nn as nn\n",
    "\n",
    "import torch.nn.functional as F\n",
    "\n",
    "import torch.optim as optim\n",
    "\n",
    "from torch.utils.data import Subset\n",
    "\n",
    "from torch.utils.data import DataLoader\n",
    "\n",
    "from torch.utils.data import random_split\n",
    "\n",
    "\n",
    "\n",
    "import torchvision\n",
    "\n",
    "import torchvision.transforms as transforms\n",
    "\n",
    "\n",
    "from sklearn.metrics import confusion_matrix, ConfusionMatrixDisplay\n",
    "\n",
    "\n",
    "import time"
   ]
  },
  {
   "cell_type": "code",
   "execution_count": 30,
   "metadata": {},
   "outputs": [],
   "source": [
    "class OneHotEncode:\n",
    "\n",
    "    def __init__(self, num_classes):\n",
    "\n",
    "        self.num_classes = num_classes\n",
    "\n",
    "\n",
    "\n",
    "    def __call__(self, label):\n",
    "\n",
    "        return F.one_hot(torch.tensor(label), num_classes=self.num_classes).float()"
   ]
  },
  {
   "cell_type": "code",
<<<<<<< HEAD
   "execution_count": null,
   "metadata": {},
   "outputs": [],
=======
   "execution_count": 31,
   "metadata": {},
   "outputs": [
    {
     "name": "stdout",
     "output_type": "stream",
     "text": [
      "Files already downloaded and verified\n",
      "Files already downloaded and verified\n"
     ]
    }
   ],
>>>>>>> 1304975d4a504ae4dce49f8b0996d30c706ff58c
   "source": [
    "train_size = 50000\n",
    "\n",
    "val_size = 10000\n",
    "\n",
    "test_size = 10000\n",
    "\n",
    "\n",
    "\n",
    "torch.manual_seed(13)\n",
    "np.random.seed(13)\n",
    "\n",
    "\n",
    "\n",
    "transform = transforms.Compose([\n",
    "\n",
    "    transforms.ToTensor(),\n",
    "\n",
    "    transforms.Normalize((0.5, 0.5, 0.5), (0.5, 0.5, 0.5))\n",
    "\n",
    "])\n",
    "\n",
    "\n",
    "\n",
    "label_transform = OneHotEncode(num_classes=10)\n",
    "\n",
    "\n",
    "\n",
    "train_dataset = torchvision.datasets.CIFAR10(\n",
    "\n",
    "    root='./data',\n",
    "\n",
    "    train=True, \n",
    "\n",
    "    download=True, \n",
    "\n",
    "    transform=transform,\n",
    "\n",
    "    target_transform=label_transform\n",
    ")\n",
    "\n",
    "test_dataset = torchvision.datasets.CIFAR10(\n",
    "\n",
    "    root='./data',\n",
    "\n",
    "    train=False, \n",
    "\n",
    "    download=True, \n",
    "\n",
    "    transform=transform,\n",
    "\n",
    "    target_transform=label_transform\n",
    ")\n"
   ]
  },
  {
   "cell_type": "code",
<<<<<<< HEAD
   "execution_count": null,
   "metadata": {},
   "outputs": [],
=======
   "execution_count": 32,
   "metadata": {},
   "outputs": [
    {
     "name": "stdout",
     "output_type": "stream",
     "text": [
      "['airplane', 'automobile', 'bird', 'cat', 'deer', 'dog', 'frog', 'horse', 'ship', 'truck']\n",
      "automobile: 1\n",
      "airplane: 0\n"
     ]
    }
   ],
>>>>>>> 1304975d4a504ae4dce49f8b0996d30c706ff58c
   "source": [
    "classes = train_dataset.classes\n",
    "automobile_index = classes.index('automobile')\n",
    "airplane_index = classes.index('airplane')\n",
    "\n",
    "\n",
    "\n",
    "print(classes)\n",
    "print(f'automobile: {automobile_index}')\n",
    "print(f'airplane: {airplane_index}')"
   ]
  },
  {
   "cell_type": "code",
   "execution_count": 40,
   "metadata": {},
   "outputs": [],
   "source": [
    "indices = [airplane_index, automobile_index]\n",
    "\n",
    "train_indices = np.where(np.isin(train_dataset.targets, indices))[0]\n",
    "test_indices = np.where(np.isin(test_dataset.targets, indices))[0]\n",
    "\n",
    "train_subset = Subset(train_dataset, train_indices)\n",
    "\n",
    "train_subset, val_subset = random_split(train_subset, [0.8, 0.2])\n",
    "\n",
    "test_subset = Subset(test_dataset, test_indices)"
   ]
  },
  {
   "cell_type": "code",
   "execution_count": 42,
   "metadata": {},
   "outputs": [],
   "source": [
    "train_loader = DataLoader(train_subset, batch_size=64, shuffle=True)\n",
    "\n",
    "val_loader = DataLoader(val_subset, batch_size=64, shuffle=True)\n",
    "\n",
    "test_loader = DataLoader(test_subset, batch_size=64, shuffle=True)"
   ]
  },
  {
   "cell_type": "code",
<<<<<<< HEAD
   "execution_count": 1,
   "metadata": {},
   "outputs": [
    {
     "name": "stdout",
     "output_type": "stream",
     "text": [
      "Number of GPU:  1\n",
      "GPU Name:  NVIDIA GeForce GTX 1080 Ti\n",
      "Using device: cuda\n"
     ]
    }
   ],
   "source": [
    "import torch\n",
    "\n",
    "print(\"Number of GPU: \", torch.cuda.device_count())\n",
    "print(\"GPU Name: \", torch.cuda.get_device_name())\n",
    "\n",
    "\n",
    "device = torch.device('cuda' if torch.cuda.is_available() else 'cpu')\n",
    "print('Using device:', device)"
   ]
  },
  {
   "cell_type": "code",
=======
>>>>>>> 1304975d4a504ae4dce49f8b0996d30c706ff58c
   "execution_count": null,
   "metadata": {},
   "outputs": [],
   "source": []
  }
 ],
 "metadata": {
  "kernelspec": {
   "display_name": "Python 3",
   "language": "python",
   "name": "python3"
  },
  "language_info": {
   "codemirror_mode": {
    "name": "ipython",
    "version": 3
   },
   "file_extension": ".py",
   "mimetype": "text/x-python",
   "name": "python",
   "nbconvert_exporter": "python",
   "pygments_lexer": "ipython3",
   "version": "3.12.0"
  }
 },
 "nbformat": 4,
 "nbformat_minor": 2
}
